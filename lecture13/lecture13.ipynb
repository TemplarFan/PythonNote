{
 "cells": [
  {
   "cell_type": "markdown",
   "metadata": {},
   "source": [
    "#### 13）高效数值计算"
   ]
  },
  {
   "cell_type": "markdown",
   "metadata": {},
   "source": [
    "##### 1. Numpy数据结构"
   ]
  },
  {
   "cell_type": "code",
   "execution_count": 2,
   "metadata": {},
   "source": [
    "import  numpy as np\n",
    "\n",
    "data = range(1000000)\n",
    "import time\n",
    "start = time.time()\n",
    "print(sum([i**2 for i in data]))\n",
    "print(time.time() - start)"
   ],
   "outputs": []
  },
  {
   "cell_type": "code",
   "execution_count": 4,
   "metadata": {},
   "source": [
    "data2 = np.array(data,dtype=np.int64)\n",
    "\n",
    "start = time.time()\n",
    "print((data2**2).sum())\n",
    "print(time.time() - start)"
   ],
   "outputs": []
  },
  {
   "cell_type": "code",
   "execution_count": 11,
   "metadata": {},
   "source": [
    "data = np.array([1,2,3,4,5,6])\n",
    "\n",
    "print(data)\n",
    "print([1,2,3,4,5,6])"
   ],
   "outputs": []
  },
  {
   "cell_type": "code",
   "execution_count": 14,
   "metadata": {},
   "source": [
    "data = np.array(range(10))\n",
    "print(data)\n",
    "data.shape,data.ndim"
   ],
   "outputs": []
  },
  {
   "cell_type": "code",
   "execution_count": 18,
   "metadata": {},
   "source": [
    "data.shape = (2, 5)\n",
    "data, data.ndim, data.dtype, data.size, data.itemsize, data.nbytes, data.real, data.imag, data.T"
   ],
   "outputs": []
  },
  {
   "cell_type": "code",
   "execution_count": 25,
   "metadata": {},
   "source": [
    "data = np.zeros((5, 5))\n",
    "data\n",
    "data  = np.ones((5,5))\n",
    "data\n",
    "\n",
    "data = np.eye(5)\n",
    "print(data)"
   ],
   "outputs": []
  },
  {
   "cell_type": "code",
   "execution_count": 34,
   "metadata": {},
   "source": [
    "data = np.array(range(100))\n",
    "data.shape = (10, 10)\n",
    "print(data)\n",
    "print(data[2])\n",
    "print(data[2:5])\n",
    "print(data[3][3])\n",
    "print(data[3,3])\n",
    "print(data[2:6:2, 3:8:2])"
   ],
   "outputs": []
  },
  {
   "cell_type": "code",
   "execution_count": 37,
   "metadata": {},
   "source": [
    "im = data>50\n",
    "data[im]"
   ],
   "outputs": []
  },
  {
   "cell_type": "code",
   "execution_count": 39,
   "metadata": {},
   "source": [
    "datalike = np.ones_like(data)\n",
    "datalike"
   ],
   "outputs": []
  },
  {
   "cell_type": "code",
   "execution_count": 40,
   "metadata": {},
   "source": [
    "np.diag([1,2,3,4,5])"
   ],
   "outputs": []
  },
  {
   "cell_type": "code",
   "execution_count": null,
   "metadata": {},
   "source": [
    "np.matrix"
   ],
   "outputs": []
  },
  {
   "cell_type": "code",
   "execution_count": 41,
   "metadata": {},
   "source": [
    "def f(x,y):\n",
    "    return x*2+y+1\n",
    "\n",
    "data = np.fromfunction(f, (3,3), dtype=np.int32)\n",
    "\n",
    "data"
   ],
   "outputs": []
  },
  {
   "cell_type": "code",
   "execution_count": 43,
   "metadata": {},
   "source": [
    "help(np.array)"
   ],
   "outputs": []
  },
  {
   "cell_type": "markdown",
   "metadata": {},
   "source": [
    "##### 2. Numpy数据计算"
   ]
  },
  {
   "cell_type": "code",
   "execution_count": 50,
   "metadata": {},
   "source": [
    "d = data**2\n",
    "print(d)\n",
    "print(d+3)\n",
    "print(d*d)\n",
    "np.abs(d-25)\n",
    "np.exp(d)"
   ],
   "outputs": []
  },
  {
   "cell_type": "code",
   "execution_count": 52,
   "metadata": {},
   "source": [
    "np.mean(d), np.sin(d)"
   ],
   "outputs": []
  },
  {
   "cell_type": "code",
   "execution_count": 54,
   "metadata": {},
   "source": [
    "np.dot(data, data)"
   ],
   "outputs": []
  },
  {
   "cell_type": "code",
   "execution_count": 55,
   "metadata": {},
   "source": [
    "np.linalg.svd(data)"
   ],
   "outputs": []
  },
  {
   "cell_type": "code",
   "execution_count": 59,
   "metadata": {},
   "source": [
    "np.linalg.inv(np.diag([1,2,3,4]))\n",
    "np.linalg.eig(np.diag([1,2,3]))"
   ],
   "outputs": []
  },
  {
   "cell_type": "code",
   "execution_count": 64,
   "metadata": {},
   "source": [
    "d = np.array([10,5])\n",
    "d.shape = (-1, 1)\n",
    "d"
   ],
   "outputs": []
  },
  {
   "cell_type": "code",
   "execution_count": 66,
   "metadata": {},
   "source": [
    "# 2x+3y = 11\n",
    "# x+y = 5\n",
    "\n",
    "a = np.array([[2,3],[1,1]])\n",
    "b = np.array([[11], [5]])\n",
    "\n",
    "np.linalg.solve(a, b)"
   ],
   "outputs": []
  },
  {
   "cell_type": "code",
   "execution_count": 71,
   "metadata": {},
   "source": [
    "d = np.array([[1,3],[4, 1]])\n",
    "print(d)\n",
    "d.sort(axis=1)\n",
    "print(d)"
   ],
   "outputs": []
  },
  {
   "cell_type": "code",
   "execution_count": 72,
   "metadata": {},
   "source": [
    "d = np.array([[1,3],[4, 1]])\n",
    "\n",
    "np.sort(d, axis=1)"
   ],
   "outputs": []
  },
  {
   "cell_type": "code",
   "execution_count": 73,
   "metadata": {},
   "source": [
    "np.sort(d, axis=None)"
   ],
   "outputs": []
  },
  {
   "cell_type": "code",
   "execution_count": 77,
   "metadata": {},
   "source": [
    "d1 = np.array(range(10))\n",
    "d2 = np.array(range(30,40))\n",
    "d1.shape = (2,5)\n",
    "d2.shape = (2,5)\n",
    "\n",
    "np.vstack((d1, d2, d1)), np.hstack((d1,d2))"
   ],
   "outputs": []
  },
  {
   "cell_type": "code",
   "execution_count": 84,
   "metadata": {},
   "source": [
    "data = \"远看山有色近听水无声春去花还在人来鸟不惊\"\n",
    "\n",
    "import numpy as np\n",
    "\n",
    "ndata = np.array(list(data))\n",
    "ndata.shape = (4, 5)\n",
    "ndata\n",
    "\n",
    "cdata = np.array([\"，\", \"；\", \"，\", \"。\"]).reshape(4, -1)\n",
    "cdata\n",
    "\n",
    "fdata = np.hstack((ndata, cdata))\n",
    "fdata\n",
    "\n",
    "for i in range(fdata.shape[0]):\n",
    "    print(\"\".join(fdata[i]))"
   ],
   "outputs": []
  },
  {
   "cell_type": "markdown",
   "metadata": {},
   "source": [
    "##### 3. Scipy数据结构"
   ]
  },
  {
   "cell_type": "code",
   "execution_count": 87,
   "metadata": {},
   "source": [
    "from scipy import constants as C\n",
    "\n",
    "C.c, C.pi, C.g\n",
    "\n",
    "from scipy import io as spio"
   ],
   "outputs": []
  },
  {
   "cell_type": "markdown",
   "metadata": {},
   "source": [
    "##### 4. Scipy数值计算"
   ]
  },
  {
   "cell_type": "code",
   "execution_count": 129,
   "metadata": {},
   "source": [
    "import numpy as np\n",
    "from scipy import fft\n",
    "\n",
    "x =  np.array([1.0, 2.0, 1.0, -1.0, 1.6])\n",
    "\n",
    "y = fft.fft(x)\n",
    "print(y)\n",
    "xx = fft.ifft(y)\n",
    "print(xx)"
   ],
   "outputs": []
  },
  {
   "cell_type": "code",
   "execution_count": 95,
   "metadata": {},
   "source": [
    "from scipy import integrate\n",
    "\n",
    "\n",
    "def func(x, a, b):\n",
    "    return a*x+b\n",
    "\n",
    "integrate.quad(func, 1, 2, args=(-1, 1))"
   ],
   "outputs": []
  },
  {
   "cell_type": "code",
   "execution_count": 98,
   "metadata": {},
   "source": [
    "a = np.array([[2,3],[1,1]])\n",
    "b = np.array([[11], [5]])\n",
    "\n",
    "import scipy\n",
    "\n",
    "scipy.linalg.solve(a, b)\n",
    "\n",
    "np.dot(scipy.linalg.inv(a), a)"
   ],
   "outputs": []
  },
  {
   "cell_type": "code",
   "execution_count": 99,
   "metadata": {},
   "source": [
    "import numpy as np\n",
    "\n",
    "from scipy import fftpack, signal\n",
    "\n",
    "x = np.array([[1, 1, 0],[1, 1, 0],[0, 0, 0]],dtype=np.float32)\n",
    "h = np.array([[1.0, 0],[0, 1.0]])\n",
    "\n",
    "y = signal.convolve(x, h)\n",
    "print(y)\n"
   ],
   "outputs": []
  },
  {
   "cell_type": "markdown",
   "metadata": {},
   "source": [
    "##### 5. Pandas数据结构"
   ]
  },
  {
   "cell_type": "code",
   "execution_count": 100,
   "metadata": {},
   "source": [
    "#series, dataframe\n",
    "\n",
    "import pandas as pd\n",
    "\n",
    "dic = {\"a\":1, \"b\":2, \"c\":3, \"1\":\"NEU\"}\n",
    "\n",
    "s = pd.Series(dic)\n",
    "print(s, type(s))"
   ],
   "outputs": []
  },
  {
   "cell_type": "code",
   "execution_count": 101,
   "metadata": {},
   "source": [
    "import numpy as np\n",
    "s = pd.Series(np.random.rand(5), index=list(\"abcde\"), name=\"test\")\n",
    "\n",
    "print(s, type(s))"
   ],
   "outputs": []
  },
  {
   "cell_type": "code",
   "execution_count": 102,
   "metadata": {},
   "source": [
    "s = pd.Series(np.random.rand(5), index=range(5))\n",
    "\n",
    "print(s, type(s))"
   ],
   "outputs": []
  },
  {
   "cell_type": "code",
   "execution_count": 104,
   "metadata": {},
   "source": [
    "s = pd.Series(np.random.rand(2))\n",
    "s[3] = 100\n",
    "s[\"a\"] = 200\n",
    "\n",
    "s"
   ],
   "outputs": []
  },
  {
   "cell_type": "code",
   "execution_count": 111,
   "metadata": {},
   "source": [
    "#dataframe\n",
    "\n",
    "data = {\"name\":[\"zhang\", \"li\", \"wang\", \"zhao\", \"zhou\", \"wu\", 'zheng'],\n",
    "        \"age\":[18,19,17,18,19,18,19],\n",
    "        \"gender\":[\"M\",\"F\",\"F\",\"F\",\"M\",\"M\",\"M\"],\n",
    "        \"score\":[90, 87,\"NaN\", 78, 98,\"NaN\",60]}\n",
    "\n",
    "\n",
    "df = pd.DataFrame(data)\n",
    "df, df.head(3), df.tail(2)"
   ],
   "outputs": []
  },
  {
   "cell_type": "code",
   "execution_count": 110,
   "metadata": {},
   "source": [
    "data = pd.read_excel(\"./test.xlsx\")\n",
    "data, data.describe()"
   ],
   "outputs": []
  },
  {
   "cell_type": "markdown",
   "metadata": {},
   "source": [
    "##### 6. 数据统计分析"
   ]
  },
  {
   "cell_type": "code",
   "execution_count": 112,
   "metadata": {},
   "source": [
    "c = avg = 0\n",
    "\n",
    "for ele in df[\"score\"]:\n",
    "    if str(ele).isnumeric():\n",
    "        c += 1\n",
    "        avg += ele\n",
    "\n",
    "avg /= c\n",
    "avg"
   ],
   "outputs": []
  },
  {
   "cell_type": "code",
   "execution_count": 113,
   "metadata": {},
   "source": [
    "df = df.replace(to_replace=\"NaN\", value=avg)\n",
    "df"
   ],
   "outputs": []
  },
  {
   "cell_type": "code",
   "execution_count": 114,
   "metadata": {},
   "source": [
    "df[\"gender\"] = df[\"gender\"].map({\"M\":0, \"F\":1}).astype(float)\n",
    "\n",
    "df"
   ],
   "outputs": []
  },
  {
   "cell_type": "code",
   "execution_count": 115,
   "metadata": {},
   "source": [
    "df = df[df[\"score\"] >= 80]\n",
    "\n",
    "df"
   ],
   "outputs": []
  },
  {
   "cell_type": "code",
   "execution_count": 116,
   "metadata": {},
   "source": [
    "df = df.drop([\"age\"], axis=1)\n",
    "\n",
    "df"
   ],
   "outputs": []
  },
  {
   "cell_type": "code",
   "execution_count": 117,
   "metadata": {},
   "source": [
    "data1 = pd.DataFrame({\"ID\":[100,101,102],\"name\":[\"zhang\",\"li\", \"wang\"]})\n",
    "data1"
   ],
   "outputs": []
  },
  {
   "cell_type": "code",
   "execution_count": 118,
   "metadata": {},
   "source": [
    "data2 = pd.DataFrame({\"ID\":[100,101,102],\"score\":[90, 80, 70]})\n",
    "data2"
   ],
   "outputs": []
  },
  {
   "cell_type": "code",
   "execution_count": 120,
   "metadata": {},
   "source": [
    "datafull = pd.merge(data1, data2, on=\"ID\")\n",
    "datafull"
   ],
   "outputs": []
  },
  {
   "cell_type": "code",
   "execution_count": 122,
   "metadata": {},
   "source": [
    "data = {\"name\":[\"zhang\", \"li\", \"wang\", \"zhao\", \"zhou\", \"wu\", 'zheng'],\n",
    "        \"age\":[18,19,17,18,19,18,19],\n",
    "        \"gender\":[\"M\",\"F\",\"F\",\"F\",\"M\",\"M\",\"M\"],\n",
    "        \"score\":[90, 87,\"NaN\", 78, 98,\"NaN\",60]}\n",
    "\n",
    "\n",
    "df = pd.DataFrame(data)\n",
    "df"
   ],
   "outputs": []
  },
  {
   "cell_type": "code",
   "execution_count": 124,
   "metadata": {},
   "source": [
    "grouped = df.groupby(\"gender\")\n",
    "grouped.get_group(\"F\")"
   ],
   "outputs": []
  }
 ],
 "metadata": {
  "kernelspec": {
   "display_name": "Python 3.9.7 64-bit",
   "language": "python",
   "name": "python3"
  },
  "language_info": {
   "codemirror_mode": {
    "name": "ipython",
    "version": 3
   },
   "file_extension": ".py",
   "mimetype": "text/x-python",
   "name": "python",
   "nbconvert_exporter": "python",
   "pygments_lexer": "ipython3",
   "version": "3.9.7"
  },
  "orig_nbformat": 4,
  "vscode": {
   "interpreter": {
    "hash": "2f1a0965c75aec8e4a2a9df4a3184abea607daea749e4ec45412662d9328f429"
   }
  }
 },
 "nbformat": 4,
 "nbformat_minor": 2
}
