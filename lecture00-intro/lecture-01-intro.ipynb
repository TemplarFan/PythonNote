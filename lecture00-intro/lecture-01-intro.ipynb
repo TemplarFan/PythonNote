{
 "cells": [
  {
   "cell_type": "markdown",
   "metadata": {},
   "source": [
    "<h1>Welcome to Python world！</h1>"
   ]
  },
  {
   "cell_type": "markdown",
   "metadata": {},
   "source": [
    "Pythonista"
   ]
  },
  {
   "cell_type": "code",
   "execution_count": 17,
   "metadata": {},
   "source": [
    "from selenium import webdriver\n",
    "from time import sleep\n",
    "from selenium.webdriver.common.by import By\n",
    "\n",
    "option = webdriver.ChromeOptions()\n",
    "driver = webdriver.Chrome(options=option)\n",
    "driver.get(\"http://www.baidu.com\")\n",
    "\n",
    "driver.find_element(By.ID,\"kw\").send_keys(\"清华大学\")\n",
    "sleep(2)\n",
    "driver.find_element(By.ID,\"su\").click()\n",
    "sleep(2)\n",
    "\n",
    "driver.quit()"
   ],
   "outputs": []
  },
  {
   "cell_type": "code",
   "execution_count": 6,
   "metadata": {},
   "source": [
    "# import required libraries\n",
    "import requests\n",
    "from bs4 import BeautifulSoup\n",
    "from win10toast import ToastNotifier\n",
    "  \n",
    "# create an object to ToastNotifier class\n",
    "n = ToastNotifier()\n",
    "  \n",
    "# define a function\n",
    "def getdata(url):\n",
    "    r = requests.get(url)#, timeout=30)\n",
    "    r.encoding = \"utf-8\"\n",
    "    return r.text\n",
    "    \n",
    "# htmldata = getdata(\"https://weather.cma.cn/web/weather/54342.html\")\n",
    "\n",
    "htmldata = getdata(\"https://weather.cma.cn/web/weather/54662.html\")\n",
    "\n",
    "# print(htmldata)\n",
    "soup = BeautifulSoup(htmldata, 'html.parser')\n",
    "  \n",
    "current_temp_high = soup.find_all(\"div\", class_ = \"high\")\n",
    "current_temp_low = soup.find_all(\"div\", class_ = \"low\")\n",
    "# print(current_temp_high, current_temp_low)\n",
    "# print(repr(current_temp_low[0].text))\n",
    "chances_rain = soup.find_all(\"div\", class_= \"day-item\")\n",
    "# print(chances_rain)\n",
    "   \n",
    "result = chances_rain[2].text.strip() + \": current_temp \" + current_temp_low[0].text.strip() + \"--\"+ current_temp_high[0].text.strip()+\" in Shenyang\"\n",
    "n.show_toast(\"live Weather update\", result, duration = 10)"
   ],
   "outputs": []
  },
  {
   "cell_type": "code",
   "execution_count": 8,
   "metadata": {},
   "source": [
    "import xlwt\n",
    "import random\n",
    "\n",
    "wb = xlwt.Workbook()\n",
    "\n",
    "style = xlwt.XFStyle()\n",
    "font = xlwt.Font()\n",
    "font.name = 'Times New Roman'\n",
    "font.height = 20*25\n",
    "style.font = font\n",
    "\n",
    "alignment = xlwt.Alignment()\n",
    "alignment.vert = 0x01\n",
    "style.alignment = alignment\n",
    "\n",
    "for sh in range(100):\n",
    "    sheet = wb.add_sheet(str(sh))\n",
    "    \n",
    "    for i in range(4):\n",
    "        sheet.col(i).width = 5300\n",
    "        for j in range(19):\n",
    "            sheet.row(j).height_mismatch = True\n",
    "            sheet.row(j).height = 20*40\n",
    "            sheet.write(j,i, \"%d x %d =     \" % (random.randint(1,9), random.randint(1,9)), style)\n",
    "            \n",
    "wb.save(\"lizi.xls\")\n",
    "\n",
    "\n",
    "\n",
    "\n",
    "\n",
    "\n",
    "\n"
   ],
   "outputs": []
  },
  {
   "cell_type": "code",
   "execution_count": 11,
   "metadata": {},
   "source": [
    "import numpy as np\n",
    "import pandas as pd\n",
    "import matplotlib.pyplot as plt\n",
    " \n",
    "data = pd.read_csv('case_time_series.csv')\n",
    " \n",
    "Y = data.iloc[61:,1].values\n",
    "R = data.iloc[61:,3].values\n",
    "D = data.iloc[61:,5].values\n",
    "X = data.iloc[61:,0]\n",
    " \n",
    "plt.figure(figsize=(25,8))\n",
    " \n",
    "ax = plt.axes()\n",
    "ax.grid(linewidth=0.4, color='#8f8f8f')\n",
    " \n",
    "ax.set_facecolor(\"black\")\n",
    "ax.set_xlabel('\\nDate',size=25,color='#4bb4f2')\n",
    "ax.set_ylabel('Number of Confirmed Cases\\n',\n",
    "              size=25,color='#4bb4f2')\n",
    " \n",
    "plt.xticks(rotation='vertical',size='20',color='white')\n",
    "plt.yticks(size=20,color='white')\n",
    "plt.tick_params(size=20,color='white')\n",
    " \n",
    "for i,j in zip(X,Y):\n",
    "    ax.annotate(str(j),xy=(i,j+100),color='white',size='13')\n",
    "     \n",
    "ax.annotate('Second Lockdown 15th April',\n",
    "            xy=(15.2, 860),\n",
    "            xytext=(19.9,500),\n",
    "            color='white',\n",
    "            size='25',\n",
    "            arrowprops=dict(color='white',\n",
    "                            linewidth=0.025))\n",
    " \n",
    "plt.title(\"COVID-19 IN : Daily Confirmed\\n\",\n",
    "          size=50,color='#28a9ff')\n",
    " \n",
    "ax.plot(X,Y,\n",
    "        color='#1F77B4',\n",
    "        marker='o',\n",
    "        linewidth=4,\n",
    "        markersize=15,\n",
    "        markeredgecolor='#035E9B')"
   ],
   "outputs": []
  },
  {
   "cell_type": "code",
   "execution_count": 23,
   "metadata": {},
   "source": [
    "## MSE\n",
    "# 导包\n",
    "import numpy as np\n",
    "import matplotlib.pyplot as plt\n",
    "import seaborn; seaborn.set()  # 设置图样为seaborn风格\n",
    "import pandas as pd\n",
    "import sympy as sp\n",
    "\n",
    "\n",
    "# 导入数据\n",
    "train_data = pd.read_excel(r'./traindata.xlsx')\n",
    "test_data = pd.read_excel(r'./testdata.xlsx')\n",
    "\n",
    "# 预处理数据\n",
    "X = np.ones([100,3])\n",
    "X[:,1:3] = train_data.iloc[:,1:3]\n",
    "y = np.array(train_data['gender'])\n",
    "\n",
    "# 伪逆法求解\n",
    "theta = ((np.linalg.inv((X.T).dot(X))).dot(X.T)).dot(y)\n",
    "print(theta)\n",
    "\n",
    "# 绘制测试数据散点图和决策面\n",
    "xmin = test_data['height'].min() - 20\n",
    "xmax = test_data['height'].max() + 20\n",
    "ymin = test_data['weight'].min() - 20\n",
    "ymax = test_data['weight'].max() + 20\n",
    "fig,ax = plt.subplots(1,1)\n",
    "ax.scatter(test_data['height'][0:50],test_data['weight'][0:50],c='b',label='men')\n",
    "ax.scatter(test_data['height'][50:100],test_data['weight'][50:100],c='r',label='women')\n",
    "x = sp.Symbol('x')\n",
    "y = sp.Symbol('y')\n",
    "fin = theta[0]+theta[1]*x+theta[2]*y\n",
    "print(sp.simplify(fin))\n",
    "xx,yy = np.linspace(xmin,xmax,15),np.linspace(ymin,ymax,15)\n",
    "x,y = np.meshgrid(xx,yy)\n",
    "ax.legend()\n",
    "ax.contour(x,y,(0.0783155197575863*x + 0.0300815202467307*y - 14.9075641152825),[0])\n",
    "plt.show()\n",
    "\n",
    "# 对测试集计算错误率\n",
    "scores = 0\n",
    "for i in range(100):\n",
    "    t1 = 0.0783155197575863*test_data.iloc[i,1] + 0.0300815202467307*test_data.iloc[i,2] - 14.9075641152825\n",
    "    if ((t1 > 0)&(test_data.iloc[i,0]==1))|((t1 < 0)&(test_data.iloc[i,0]==-1)):\n",
    "        scores += 1\n",
    "print('errorRate:',1-scores/100)"
   ],
   "outputs": []
  },
  {
   "cell_type": "markdown",
   "metadata": {},
   "source": [
    "### 1.1 Python介绍\n",
    "\n",
    "1. Python是一门计算机编程高级语言，由Guido Van Rossum开发的。\n",
    "\n",
    "2. Python: 开源、易用、......\n",
    "\n",
    "3. Python版本：2.x；3.x\n",
    "\n",
    "4. Python应用：1) data science; 2) machine learning; 3) web developement; ...\n",
    "\n",
    "\n",
    "- GUI based desktop applications\n",
    "- Graphic design, image processing applications, Games, and Scientific/ computational - Applications\n",
    "- Web frameworks and applications \n",
    "- Enterprise and Business applications \n",
    "- Operating Systems \n",
    "- Education\n",
    "- Database Access\n",
    "- Language Development \n",
    "- Prototyping \n",
    "- Software Development"
   ]
  },
  {
   "cell_type": "markdown",
   "metadata": {},
   "source": [
    "### 1.2 开发环境配置\n",
    "1. windows/mac/linux\n",
    "2. www.python.org, download and install python on your system \n",
    "3. step by step and coding. \n",
    "\n",
    "### 1.3 开发工具选择\n",
    "0. IDLE of Python (together with python release)\n",
    "1. **<font color=\"#f00\">pycharm</font>** (recommended for beginners)\n",
    "2. vscode (Used for this class/me)，sublime, VIM\n",
    "3. ipython/jupyter\n",
    "4. conda/spider,Python(x,y), xxx\n",
    "5. ...\n",
    "\n",
    "### 1.4 两种运行Python方式\n",
    "1. interactive\n",
    "2. script"
   ]
  },
  {
   "cell_type": "code",
   "execution_count": 24,
   "metadata": {},
   "source": [
    "print(\"hello NEU\")"
   ],
   "outputs": []
  },
  {
   "cell_type": "markdown",
   "metadata": {},
   "source": [
    "### NEU\n",
    "\n",
    "1. abc\n",
    "2. bcd\n",
    "3. cde"
   ]
  },
  {
   "cell_type": "markdown",
   "metadata": {},
   "source": [
    "### 1.5 软件包安装\n",
    "* pip\n",
    "* source"
   ]
  },
  {
   "cell_type": "code",
   "execution_count": 5,
   "metadata": {},
   "source": [
    "import test\n",
    "test.sayhello()"
   ],
   "outputs": []
  },
  {
   "cell_type": "markdown",
   "metadata": {},
   "source": [
    "### 1.6 环境隔离手段\n",
    "\n",
    "* virtualenv\n",
    "* docker\n",
    "* ..."
   ]
  },
  {
   "cell_type": "code",
   "execution_count": 3,
   "metadata": {},
   "source": [
    "# 第一个程序\n",
    "\n",
    "#coding=utf-8\n",
    "'''Just for fun.'''\n",
    "import sys\n",
    "print(\"Welcome %s\" % \"all of you.\")\n",
    "has_question = input(\"Enter your message:\")\n",
    "def please_feel_free(message):\n",
    "    print(\"You typed:\", message)\n",
    "\n",
    "while has_question:\n",
    "    please_feel_free(has_question)\n",
    "    has_question = input(\"Enter your message:\")\n",
    "else:\n",
    "    print(\"Thanks for your attention\")\n"
   ],
   "outputs": []
  },
  {
   "cell_type": "code",
   "execution_count": 4,
   "metadata": {},
   "source": [
    "import this"
   ],
   "outputs": []
  },
  {
   "cell_type": "markdown",
   "metadata": {},
   "source": [
    "#### env/pip, numpy, scipy,matplotlib, scikit-learn, pandas....\n",
    "\n",
    "#### run process above."
   ]
  }
 ],
 "metadata": {
  "kernelspec": {
   "display_name": "Python 3.10.6 64-bit",
   "language": "python",
   "name": "python3"
  },
  "language_info": {
   "codemirror_mode": {
    "name": "ipython",
    "version": 3
   },
   "file_extension": ".py",
   "mimetype": "text/x-python",
   "name": "python",
   "nbconvert_exporter": "python",
   "pygments_lexer": "ipython3",
   "version": "3.10.6"
  },
  "orig_nbformat": 4,
  "vscode": {
   "interpreter": {
    "hash": "ed4cccc5cc02f3fdc2d6faa9ad2d9c225cf2e2cb7eda9eb3163a17a7f943c2e9"
   }
  }
 },
 "nbformat": 4,
 "nbformat_minor": 2
}
