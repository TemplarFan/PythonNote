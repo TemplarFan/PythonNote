{
 "cells": [
  {
   "cell_type": "markdown",
   "metadata": {},
   "source": [
    "# 第一章  基本语法\n",
    "cmd 中 python 绝对目录 运行.py程序\n",
    "\n"
   ]
  },
  {
   "metadata": {},
   "cell_type": "markdown",
   "source": [
    "## 基本类型\n",
    "1. 字面量： 固定的值  \n",
    "数字 ：整数  浮点  复数   布尔  \n",
    "字符  \n",
    "列表：有序可变序列  \n",
    "元组：无序不可变序列  \n",
    "集合：无序不重复  \n",
    "字典：无序K-V集合\n",
    "    \n",
    "\n",
    "2. 注释：单行：‘#’  段落：\"\"\" ....\"\"\" \n",
    "  \n",
    "   \n",
    "3. 变量  \n",
    "输出print(变量名1,变量名2)  \n",
    "type(变量名) 输出变量存储的数据类型  \n",
    "  \n",
    "    \n",
    "4. 数据类型转换  int(变量名) float(x) str(x)：任何类型都可以转str  \n",
    "  \n",
    "  \n",
    "5. 标识符：不能以数字开头，但是'_'开头可以    \n",
    "  \n",
    "    \n",
    "6. 运算符   \n",
    "字符串 a*b 返回一个被重复若干次的字符串  \n",
    "/ 除 （结果为浮点）  \n",
    "// 取整除 （浮点 // 浮点 结果仍为浮点）  \n",
    "% 取余  \n",
    "**指数  "
   ]
  },
  {
   "metadata": {},
   "cell_type": "markdown",
   "source": [
    "## 字符串\n",
    "- 单引号'...' 里面可包含双引号为字符本身 或用 \\' 表示单引号本身  \n",
    "- 双引号\"\"...\"\" 里面可包含单引号为字符本身  转义字符：\\\"   \n",
    "- 三引号\"\"\"...\"\"\" ： 支持换行操作，使用变量接收它（name = \"\"\"xxx\"\"\")，就是字符串，不使用变量，则是注释  \n",
    "  \n",
    "\n",
    "字符串拼接+ : print(\"xxx\"+字符串变量名+\"yyy\") 不能字符串和别的类型直接用+  \n",
    "  \n",
    "字符串格式化  %s字符串 %d整数 %f浮点  \n",
    "1. 例： message = \"%s xxx %s\" %(name,age) 括号里为变量名或表达式  \n",
    "(name,age变量前后替换%s，%s可以是str，也可以是数字类型(数字变字符串,多个变量','隔开），也可以是表达式  \n",
    "\n",
    "2. print(f\"xxx{变量名1},yyy{表达式}\")   \n",
    "f\"内容{变量或表达式}\"的格式来快速格式化  \n",
    "不做精度控制也 不理会类型 适用于快速格式化字符串  \n",
    "\n",
    "## 数字精度控制\n",
    "1. 使用辅助符号\"m.n\"来控制数据的宽度（左空格）和精度（四舍五入）  \n",
    "2. m，控制宽度，要求是数字（很少使用）,设置的宽度小于数字自身，不生效  \n",
    "3. .n，控制小数点精度，要求是数字，会进行小数的四舍五入  \n",
    "4. 示例：  \n",
    "%5d：表示将整数的宽度控制在5位，如数字11，被设置为5d，就会变成：[空格][空格][空格]11，用三个空格补足宽度。  \n",
    "%5.2f：表示将宽度控制为5，将小数点精度设置为2  \n",
    "      小数点和小数部分也算入宽度计算。如，对11.345设置了%7.2f 后，结果是：[空格][空格]11.35。2个空格补足宽度，小数部分限制2位精度后,四舍五入为 .35  \n",
    "%.2f：表示不限制宽度，只设置小数点精度为2，如11.345设置%.2f后，结果是11.35  \n",
    "\n"
   ]
  },
  {
   "metadata": {},
   "cell_type": "markdown",
   "source": ""
  },
  {
   "metadata": {
    "ExecuteTime": {
     "end_time": "2024-05-22T13:26:59.695714Z",
     "start_time": "2024-05-22T13:26:59.691748Z"
    }
   },
   "cell_type": "code",
   "source": [
    "var1 = \"world\"\n",
    "var2 = \"1.\"\n",
    "message =\"%s Hello %s\" %(var2,var1)\n",
    "print(message)\n",
    "\n",
    "print(f\"{var2} Hello {var1}\")\n",
    "\n"
   ],
   "outputs": [
    {
     "name": "stdout",
     "output_type": "stream",
     "text": [
      "1. Hello world\n",
      "1. Hello world\n"
     ]
    }
   ],
   "execution_count": 6
  },
  {
   "metadata": {},
   "cell_type": "markdown",
   "source": [
    "## 数据输入 \n",
    "- 变量名 = input(\"要输出的提示语句\")\n",
    "- 变量赋值为输入的内容（字符串类型）\n",
    "- 可用强制类型转换为其他类型"
   ]
  },
  {
   "metadata": {
    "ExecuteTime": {
     "end_time": "2024-05-22T13:34:12.355698Z",
     "start_time": "2024-05-22T13:34:09.112079Z"
    }
   },
   "cell_type": "code",
   "source": [
    "say = input(\"hello world\")\n",
    "print(say,type(say))"
   ],
   "outputs": [
    {
     "name": "stdout",
     "output_type": "stream",
     "text": [
      "123 <class 'str'>\n"
     ]
    }
   ],
   "execution_count": 8
  },
  {
   "metadata": {},
   "cell_type": "markdown",
   "source": [
    "\n",
    "## 判断语句\n",
    "if 表达式：或 if not 表达式:  \n",
    "（4个空格）执行语句  \n",
    "elif 表达式2： 表达式可以是int(input())>3这种  \n",
    "（4个空格）执行语句  \n",
    "else：  \n",
    "（4个空格）执行语句  \n",
    "\n",
    "\n",
    "\n",
    "   "
   ]
  },
  {
   "metadata": {},
   "cell_type": "markdown",
   "source": [
    "## 循环语句\n",
    "1. while 表达式：  \n",
    "缩进 执行语句    \n",
    "  \n",
    "\n",
    "2. for 循环(循环体外能访问到临时变量）  \n",
    "for 临时变量 in 待处理数据集:   \n",
    "循环满足条件时执行的代码  \n",
    "for循环是无法定义循环条件的。只能从被处理的数据集中，依次取出内容进行处理  \n",
    "   \n",
    " \n",
    "3. range  \n",
    "range语句的语法格式：  \n",
    "语法1：range(num)：从0开始，到num结束（不含num本身）  \n",
    "语法2：range(num1,num2)：从num1开始，到num2结束（不含num2本身）  \n",
    "语法3：rang(num1,num2,step):num1开始，到num2结束（不含num2本身），步长以step值为准  \n",
    "\n",
    "\n"
   ]
  },
  {
   "metadata": {
    "ExecuteTime": {
     "end_time": "2024-05-23T11:16:58.477108Z",
     "start_time": "2024-05-23T11:16:58.471449Z"
    }
   },
   "cell_type": "code",
   "source": [
    "name = \"itheima\"\n",
    "\n",
    "for x in name:\n",
    "    # 将name的内容，挨个取出赋予x临时变量\n",
    "    # 就可以在循环体内对x进行处理\n",
    "    print(x)"
   ],
   "outputs": [
    {
     "name": "stdout",
     "output_type": "stream",
     "text": [
      "i\n",
      "t\n",
      "h\n",
      "e\n",
      "i\n",
      "m\n",
      "a\n"
     ]
    }
   ],
   "execution_count": 1
  },
  {
   "metadata": {
    "ExecuteTime": {
     "end_time": "2024-05-23T11:23:22.494810Z",
     "start_time": "2024-05-23T11:23:22.490726Z"
    }
   },
   "cell_type": "code",
   "source": [
    "# range 语法3 range(num1, num2, step)\n",
    "for x in range(5, 10, 2):\n",
    "    # 从5开始，到10结束（不包含10本身）的一个数字序列，数字之间的间隔是2\n",
    "    print(x)"
   ],
   "outputs": [
    {
     "name": "stdout",
     "output_type": "stream",
     "text": [
      "5\n",
      "7\n",
      "9\n"
     ]
    }
   ],
   "execution_count": 2
  },
  {
   "metadata": {
    "ExecuteTime": {
     "end_time": "2024-05-23T11:25:49.880739Z",
     "start_time": "2024-05-23T11:25:49.877058Z"
    }
   },
   "cell_type": "code",
   "source": [
    "# (循环体外能访问到临时变量）\n",
    "i = 0\n",
    "for i in range(5):\n",
    "    print(i)\n",
    "\n",
    "print(i)"
   ],
   "outputs": [
    {
     "name": "stdout",
     "output_type": "stream",
     "text": [
      "0\n",
      "1\n",
      "2\n",
      "3\n",
      "4\n",
      "4\n"
     ]
    }
   ],
   "execution_count": 3
  },
  {
   "metadata": {},
   "cell_type": "markdown",
   "source": ""
  },
  {
   "metadata": {},
   "cell_type": "markdown",
   "source": "# 第二章  函数"
  },
  {
   "metadata": {},
   "cell_type": "markdown",
   "source": [
    "## 函数\n",
    "\n",
    "1. 函数的定义  \n",
    "def 函数名 (参数,参数)：  \n",
    "函数体  \n",
    "return 返回值  \n",
    "  \n",
    "\n",
    "2. 函数必须先定义后使用  \n",
    "  \n",
    "\n",
    "3. 函数调用：函数名（参数,参数）  \n",
    "  \n",
    "  \n",
    "4. 如果函数没有使用return语句返回数据：     \n",
    "Python中有一个特殊的字面量：None，其类型是：<class 'NoneType'>  \n",
    "无返回值的函数，实际上就是返回了：None这个字面量 return None  \n",
    "\n",
    "## None\n",
    "None作为一个特殊的字面量，用于表示：空、无意义，其有非常多的应用场景。  \n",
    "1. 用在函数无返回值上  \n",
    "  \n",
    "\n",
    "2. 用在if判断上    \n",
    "在if判断中，None等同于False  \n",
    "一般用于在函数中主动返回None，配合if判断做相关处理  \n",
    "  \n",
    "\n",
    "3. 用于声明无内容的变量上 变量 = None  \n",
    "定义变量，但暂时不需要变量有具体值，可以用None来代替     \n",
    "  \n",
    "\n",
    "## 函数说明文档\n"
   ]
  },
  {
   "metadata": {},
   "cell_type": "code",
   "outputs": [],
   "execution_count": null,
   "source": [
    "# 函数说明文档\n",
    "\n",
    "# 定义函数，进行文档说明\n",
    "def add(x, y):\n",
    "    \"\"\"\n",
    "    add函数可以接收2个参数，进行2数相加的功能\n",
    "    :param x: 形参x表示相加的其中一个数字\n",
    "    :param y: 形参y表示相加的另一个数字\n",
    "    :return: 返回值是2数相加的结果\n",
    "    \n",
    "    \"\"\"\n",
    "    result = x + y\n",
    "    print(f\"2数相加的结果是：{result}\")\n",
    "    return result\n",
    "\n",
    "add(5, 6)"
   ]
  },
  {
   "metadata": {},
   "cell_type": "markdown",
   "source": [
    "## 作用域\n",
    "\n",
    "1. 局部变量是定义在函数体内部的变量，即只在函数体内部生效  \n",
    "在函数体内部，临时保存数据，即当函数调用完成后，则销毁局部变量  \n",
    "  \n",
    "\n",
    "2. 全局变量，指的是在函数体内、外都能生效的变量  \n",
    "  \n",
    "\n",
    "3. global 可以在函数内部声明变量为全局变量  \n",
    "global 变量名 (声明该变量是个全局变量,该变量不一定事先就有)  "
   ]
  },
  {
   "metadata": {
    "ExecuteTime": {
     "end_time": "2024-05-23T11:54:07.755883Z",
     "start_time": "2024-05-23T11:54:07.737671Z"
    }
   },
   "cell_type": "code",
   "source": [
    "# 在函数内修改全局变量\n",
    "num = 200\n",
    "\n",
    "def test_a():\n",
    "    print(f\"test_a: {num}\")\n",
    "\n",
    "def test_b():\n",
    "    num = 500       # 局部变量\n",
    "    print(f\"test_b: {num}\")\n",
    "\n",
    "test_a()\n",
    "test_b()\n",
    "print(num)"
   ],
   "outputs": [
    {
     "name": "stdout",
     "output_type": "stream",
     "text": [
      "test_a: 500\n",
      "test_b: 500\n",
      "500\n"
     ]
    }
   ],
   "execution_count": 7
  },
  {
   "metadata": {
    "ExecuteTime": {
     "end_time": "2024-05-23T11:53:01.862814Z",
     "start_time": "2024-05-23T11:53:01.845186Z"
    }
   },
   "cell_type": "code",
   "source": [
    "# global关键字，在函数内声明变量为全局变量\n",
    "num = 200\n",
    "\n",
    "def test_a():\n",
    "    print(f\"test_a: {num}\")\n",
    "\n",
    "def test_b():\n",
    "    global num      # 设置内部定义的变量为全局变量\n",
    "    num = 500\n",
    "    print(f\"test_b: {num}\")\n",
    "\n",
    "test_a()\n",
    "test_b()\n",
    "print(num)"
   ],
   "outputs": [
    {
     "name": "stdout",
     "output_type": "stream",
     "text": [
      "test_a: 200\n",
      "test_b: 500\n",
      "500\n"
     ]
    }
   ],
   "execution_count": 6
  },
  {
   "metadata": {},
   "cell_type": "markdown",
   "source": [
    "## 函数进阶\n",
    "\n",
    "### 多返回值\n",
    "\n",
    "- 按照返回值的顺序，写对应顺序的多个变量接收即可  \n",
    "- 变量之间用逗号隔开  \n",
    "- 支持不同类型的数据return  \n"
   ]
  },
  {
   "metadata": {
    "ExecuteTime": {
     "end_time": "2024-05-26T07:25:14.611054Z",
     "start_time": "2024-05-26T07:25:14.604633Z"
    }
   },
   "cell_type": "code",
   "source": [
    "def test_return():\n",
    "    return 1, \"hello\", True\n",
    "\n",
    "\n",
    "x, y, z = test_return()\n",
    "print(x)\n",
    "print(y)\n",
    "print(z)"
   ],
   "outputs": [
    {
     "name": "stdout",
     "output_type": "stream",
     "text": [
      "1\n",
      "hello\n",
      "True\n"
     ]
    }
   ],
   "execution_count": 1
  },
  {
   "metadata": {},
   "cell_type": "markdown",
   "source": [
    "### 函数多种传参方式\n",
    "1. **位置参数 （函数调用）**\n",
    "- 传递的参数和定义的参数的顺序及个数必须一致  \n"
   ]
  },
  {
   "metadata": {
    "ExecuteTime": {
     "end_time": "2024-05-26T07:32:30.887584Z",
     "start_time": "2024-05-26T07:32:30.881902Z"
    }
   },
   "cell_type": "code",
   "source": [
    "def user_info(name, age, gender):\n",
    "    print(f\"姓名是:{name}, 年龄是:{age}, 性别是:{gender}\")\n",
    "# 位置参数 - 默认使用形式\n",
    "user_info('小明', 20, '男')"
   ],
   "outputs": [
    {
     "name": "stdout",
     "output_type": "stream",
     "text": [
      "姓名是:小明, 年龄是:20, 性别是:男\n"
     ]
    }
   ],
   "execution_count": 2
  },
  {
   "metadata": {},
   "cell_type": "markdown",
   "source": [
    "2. **关键字参数 （函数调用）** \n",
    "- 函数调用时通过“键=值”形式传递参数  \n",
    "- 函数调用时，如果有位置参数时，位置参数必须在关键字参数的前面，但关键字参数之间不存在先后顺序  "
   ]
  },
  {
   "metadata": {
    "ExecuteTime": {
     "end_time": "2024-05-26T07:33:00.538544Z",
     "start_time": "2024-05-26T07:33:00.522089Z"
    }
   },
   "cell_type": "code",
   "source": [
    "# 关键字参数\n",
    "user_info(name='小王', age=11, gender='女')\n",
    "user_info(age=10, gender='女', name='潇潇')    # 可以不按照参数的定义顺序传参\n",
    "user_info('甜甜', gender='女', age=9)"
   ],
   "outputs": [
    {
     "name": "stdout",
     "output_type": "stream",
     "text": [
      "姓名是:小王, 年龄是:11, 性别是:女\n",
      "姓名是:潇潇, 年龄是:10, 性别是:女\n",
      "姓名是:甜甜, 年龄是:9, 性别是:女\n"
     ]
    }
   ],
   "execution_count": 3
  },
  {
   "metadata": {},
   "cell_type": "markdown",
   "source": [
    "  3. **缺省参数  （函数定义）**\n",
    "- 缺省参数也叫默认参数，用于定义函数，为参数提供默认值，调用函数时可不传该默认参数的值  \n",
    "- 注意：所有位置参数必须出现在默认参数前，包括函数定义和调用）  "
   ]
  },
  {
   "metadata": {
    "ExecuteTime": {
     "end_time": "2024-05-26T07:34:58.971123Z",
     "start_time": "2024-05-26T07:34:58.964939Z"
    }
   },
   "cell_type": "code",
   "source": [
    "# 缺省参数（默认值）\n",
    "def user_info(name, age= 18, gender= '男'):\n",
    "    print(f\"姓名是:{name}, 年龄是:{age}, 性别是:{gender}\")\n",
    "\n",
    "user_info('小天')\n",
    "user_info('小花',17)"
   ],
   "outputs": [
    {
     "name": "stdout",
     "output_type": "stream",
     "text": [
      "姓名是:小天, 年龄是:18, 性别是:男\n",
      "姓名是:小花, 年龄是:17, 性别是:男\n"
     ]
    }
   ],
   "execution_count": 6
  },
  {
   "metadata": {},
   "cell_type": "markdown",
   "source": [
    "4. **不定长参数(函数定义)**   \n",
    "- 不定长参数也叫可变参数. 用于不确定调用的时候会传递多少个参数(不传参也可以)的场景.  \n",
    "- 位置传递：传进的所有参数都会被args变量收集，它会根据传进参数的位置合并为一个元组(tuple)，args是元组类型  \n",
    "- 关键字传递： 参数是“键=值”形式的形式的情况下, 所有的“键=值”都会被kwargs接受, 同时会根据“键=值”组成字典.  \n"
   ]
  },
  {
   "metadata": {
    "ExecuteTime": {
     "end_time": "2024-05-26T07:35:56.146413Z",
     "start_time": "2024-05-26T07:35:56.139848Z"
    }
   },
   "cell_type": "code",
   "source": [
    "# 不定长 - 位置不定长, *号\n",
    "# 不定长定义的形式参数会作为元组存在，接收不定长数量的参数传入\n",
    "def user_info(*args):\n",
    "    print(f\"args参数的类型是：{type(args)}，内容是:{args}\")\n",
    "\n",
    "user_info(1, 2, 3, '小明', '男孩')"
   ],
   "outputs": [
    {
     "name": "stdout",
     "output_type": "stream",
     "text": [
      "args参数的类型是：<class 'tuple'>，内容是:(1, 2, 3, '小明', '男孩')\n"
     ]
    }
   ],
   "execution_count": 7
  },
  {
   "metadata": {
    "ExecuteTime": {
     "end_time": "2024-05-26T07:37:59.278094Z",
     "start_time": "2024-05-26T07:37:59.271117Z"
    }
   },
   "cell_type": "code",
   "source": [
    "# 不定长 - 关键字不定长, **号\n",
    "def user_info(*args,**kwargs): # args要在kwargs前面\n",
    "    print(f\"args参数的类型是：{type(args)}，内容是:{args}\")\n",
    "    print(f\"kwargs参数的类型是：{type(kwargs)}，内容是:{kwargs}\")\n",
    "user_info(1, 2, 3, '小明', '男孩',name='小王', age=11, gender='男孩')"
   ],
   "outputs": [
    {
     "name": "stdout",
     "output_type": "stream",
     "text": [
      "args参数的类型是：<class 'tuple'>，内容是:(1, 2, 3, '小明', '男孩')\n",
      "kwargs参数的类型是：<class 'dict'>，内容是:{'name': '小王', 'age': 11, 'gender': '男孩'}\n"
     ]
    }
   ],
   "execution_count": 13
  },
  {
   "metadata": {},
   "cell_type": "markdown",
   "source": [
    "### 匿名函数\n",
    "1. **函数本身作为参数传递**  \n",
    "- 函数本身是可以作为参数，传入另一个函数中进行使用的  \n",
    "- 将函数传入的作用在于：传入计算逻辑，而非传入数据  \n",
    "- 任何逻辑都可以自行定义并作为函数传入"
   ]
  },
  {
   "metadata": {
    "ExecuteTime": {
     "end_time": "2024-05-26T08:00:07.591289Z",
     "start_time": "2024-05-26T08:00:07.586208Z"
    }
   },
   "cell_type": "code",
   "source": [
    "# 定义一个函数，接收另一个函数作为传入参数\n",
    "def test_func(compute):\n",
    "    result = compute(1, 2)  # 确定compute是函数\n",
    "    print(f\"compute参数的类型是:{type(compute)}\")\n",
    "    print(f\"计算结果：{result}\")\n",
    "\n",
    "# 定义一个函数，准备作为参数传入另一个函数\n",
    "def compute(x, y):\n",
    "    return x + y\n",
    "# 调用，并传入函数\n",
    "test_func(compute)"
   ],
   "outputs": [
    {
     "name": "stdout",
     "output_type": "stream",
     "text": [
      "compute参数的类型是:<class 'function'>\n",
      "计算结果：3\n"
     ]
    }
   ],
   "execution_count": 20
  },
  {
   "metadata": {},
   "cell_type": "markdown",
   "source": [
    "2. **lambda匿名函数**  \n",
    "\n",
    "> 函数的定义中  \n",
    "- def关键字，可以定义带有名称的函数，可以基于名称重复使用  \n",
    "- lambda关键字，可以定义匿名函数（无名称）， 只可临时使用一次  \n",
    "  \n",
    "***\n",
    "\n",
    "> 匿名函数定义语法：  \n",
    "- **lambda 传入参数: 函数体（一行代码）**    \n",
    "- lambda 是关键字，表示定义匿名函数  \n",
    "- 传入参数表示匿名函数的形式参数，如：x, y 表示接收2个形式参数  \n",
    "- 函数体，就是函数的执行逻辑，要注意：只能写一行，无法写多行代码  \n"
   ]
  },
  {
   "metadata": {
    "ExecuteTime": {
     "end_time": "2024-05-26T08:00:38.274357Z",
     "start_time": "2024-05-26T08:00:38.266837Z"
    }
   },
   "cell_type": "code",
   "source": [
    "# 定义一个函数，接受其它函数输入\n",
    "def test_func(compute):\n",
    "    result = compute(1, 2)\n",
    "    print(f\"结果是:{result}\")\n",
    "\n",
    "# 通过lambda匿名函数的形式，将匿名函数作为参数传入\n",
    "def add(x, y):\n",
    "    return x + y\n",
    "\n",
    "test_func(add)\n",
    "test_func(lambda x, y: x + y)"
   ],
   "outputs": [
    {
     "name": "stdout",
     "output_type": "stream",
     "text": [
      "结果是:3\n",
      "结果是:3\n"
     ]
    }
   ],
   "execution_count": 22
  },
  {
   "metadata": {},
   "cell_type": "markdown",
   "source": [
    "# 第三章 数据容器 \n",
    "**1. 分类**  \n",
    "  \n",
    "\n",
    "是否支持下标索引  \n",
    "- 支持：列表、元组、字符串 - 序列类型  \n",
    "- 不支持：集合、字典 - 非序列类型  \n",
    "  \n",
    "\n",
    "是否支持重复元素：  \n",
    "- 支持：列表、元组、字符串 - 序列类型  \n",
    "- 不支持：集合、字典 - 非序列类型  \n",
    "  \n",
    "  \n",
    "  \n",
    "是否可以修改  \n",
    "- 支持：列表、集合、字典  \n",
    "- 不支持：元组、字符串  \n",
    "\n",
    "\n",
    "**2. 各类数据容器的特点**\n",
    "- 列表：一批数据，可修改、可重复 \n",
    "- 元组：一批数据，不可修改、可重复 \n",
    "- 字符串：一串字符串  \n",
    "- 集合：一批数据，去重  \n",
    "- 字典：一批数据，可用Key检索Value\n",
    "\n"
   ]
  },
  {
   "metadata": {},
   "cell_type": "markdown",
   "source": [
    "##  列表  list\n",
    "- 可以容纳多个元素（上限为2**63-1个）  \n",
    "- 可以容纳不同类型的元素（混装）  \n",
    "- 数据是有序存储的（有下标序号）  \n",
    "- 允许重复数据存在  \n",
    "- 可以修改（增加或删除元素等）  \n",
    "\n",
    "\n",
    "**1. 定义**  \n",
    "变量名 = [ 元素1,元素2,...]  可嵌套定义 [[,],...,]  \n",
    "my_list = [ [1, 2, 3], [4, 5, 6]]  \n",
    "空列表：  \n",
    "变量名 = []  \n",
    "变量名 = list()    \n",
    "  \n",
    "  \n",
    "**2. 索引 （从0开始）**  \n",
    "反向索引 从后往前递减：-1为最后一个，-2为倒数第二个...  \n",
    "嵌套索引 list[][] （my_list[1][1]）\n",
    "  \n",
    "\n",
    "**3. 操作**   \n",
    " - 查询：查找某元素下标（不存在该元素则会报错）  \n",
    "列表.index(元素)"
   ]
  },
  {
   "metadata": {},
   "cell_type": "code",
   "source": [
    "mylist = [\"itcast\", \"itheima\", \"python\"]\n",
    "# 1.1 查找某元素在列表内的下标索引\n",
    "index = mylist.index(\"itheima\")\n",
    "print(f\"itheima在列表中的下标索引值是：{index}\")\n",
    "# 1.2如果被查找的元素不存在，会报错\n",
    "# index = mylist.index(\"hello\")\n",
    "# print(f\"hello在列表中的下标索引值是：{index}\")"
   ],
   "outputs": [],
   "execution_count": null
  },
  {
   "metadata": {},
   "cell_type": "markdown",
   "source": [
    "- 修改 ： 修改特定位置（索引）的元素值  \n",
    "列表[下标] = 值 （ 正向、反向下标均可 ）\n",
    "  \n",
    "\n",
    "- 插入元素  \n",
    "语法：列表.insert(下标, 元素)，在指定的下标位置，插入指定的元素\n",
    "  \n",
    "\n",
    "- 追加元素  \n",
    "语法1：列表.append(元素)，将指定元素，追加到列表的尾部  \n",
    "语法2：列表.extend(其它数据容器)，将其它数据容器的内容取出，依次追加到列表尾部  \n"
   ]
  },
  {
   "metadata": {
    "ExecuteTime": {
     "end_time": "2024-05-24T12:49:55.017958Z",
     "start_time": "2024-05-24T12:49:55.001557Z"
    }
   },
   "cell_type": "code",
   "source": [
    "mylist2 = [1, 2, 3]\n",
    "mylist.extend(mylist2)\n",
    "print(f\"列表在追加了一个新的列表后，结果是：{mylist}\")"
   ],
   "outputs": [
    {
     "name": "stdout",
     "output_type": "stream",
     "text": [
      "列表在追加了一个新的列表后，结果是：['itcast', 'itheima', 'python', 1, 2, 3]\n"
     ]
    }
   ],
   "execution_count": 2
  },
  {
   "metadata": {},
   "cell_type": "markdown",
   "source": [
    "- 删除元素：  \n",
    "语法1： del 列表[下标]  \n",
    "语法2：列表.pop(下标)   \n",
    "   \n",
    "\n",
    "- 删除某元素在列表中的第一个匹配项  \n",
    "语法：列表.remove(元素)  \n",
    "    \n",
    "\n",
    "- 清空列表内容  \n",
    "语法：列表.clear()\n",
    "    \n",
    "\n",
    "- 统计某元素在列表内的数量  \n",
    "语法：列表.count(元素)  \n",
    "  \n",
    "  \n",
    "- 统计列表内，有多少元素（返回 int）  \n",
    "语法：len(列表)  \n",
    "  \n",
    "  \n",
    "   "
   ]
  },
  {
   "metadata": {},
   "cell_type": "markdown",
   "source": [
    "- **排序**  \n",
    "1. 列表.**sort**(key=选择排序依据的函数, reverse=True|False)  (直接修改原列表)  \n",
    "2. 列表.**sorted**(key=选择排序依据的函数, reverse=True|False) (不修改列表，生成新的列表)  \n",
    "`key` ：（可选）传入一个函数，表示将列表的每一个元素都传入函数中，返回排序的依据       \n",
    "`reverse` ：（可选）结果升序or降序，默认升序  \n",
    "**sort()** 只能对列表排序  \n",
    "**sorted()** 能对可迭代对象排序（字符串、元组、字典等类型）  \n",
    "字符串、元组、字典返回列表；字典只对键排序，不对值排序 "
   ]
  },
  {
   "metadata": {
    "ExecuteTime": {
     "end_time": "2024-05-29T13:18:06.825465Z",
     "start_time": "2024-05-29T13:18:06.822011Z"
    }
   },
   "cell_type": "code",
   "source": [
    "# 按字符串长度排序 元素全是字符串 但如果有int类型这种会报错\n",
    "list1 = ['aaaaa', 'aa', 'aaaa', 'a']\n",
    "list1.sort(key=len)\n",
    "print(list1)"
   ],
   "outputs": [
    {
     "name": "stdout",
     "output_type": "stream",
     "text": [
      "['a', 'aa', 'aaaa', 'aaaaa']\n",
      "['fa', 'cb', 'ec', 'zd']\n"
     ]
    }
   ],
   "execution_count": 34
  },
  {
   "metadata": {
    "ExecuteTime": {
     "end_time": "2024-05-29T13:18:15.756626Z",
     "start_time": "2024-05-29T13:18:15.750722Z"
    }
   },
   "cell_type": "code",
   "source": [
    "# 按第二个字符排序 元素全是字符串，可以按照元素的第几个「字符」排序。\n",
    "# 如果有元素只有一个字符，则报错\n",
    "list1 = ['cb', 'fa', 'zd', 'ec']\n",
    "list1.sort(key=lambda x: x[1])\n",
    "print(list1)"
   ],
   "outputs": [
    {
     "name": "stdout",
     "output_type": "stream",
     "text": [
      "['fa', 'cb', 'ec', 'zd']\n"
     ]
    }
   ],
   "execution_count": 35
  },
  {
   "metadata": {
    "ExecuteTime": {
     "end_time": "2024-05-29T13:09:00.163631Z",
     "start_time": "2024-05-29T13:09:00.159250Z"
    }
   },
   "cell_type": "code",
   "source": [
    "# 列表sort方法 + lambda\n",
    "\n",
    "# 准备列表\n",
    "my_list = [[\"a\", 33], [\"b\", 55], [\"c\", 11]]\n",
    "\n",
    "# 排序，基于带名函数\n",
    "# def choose_sort_key(element):\n",
    "#     return element[1]\n",
    "#\n",
    "# my_list.sort(key=choose_sort_key, reverse=True)\n",
    "# 排序，基于lambda匿名函数\n",
    "my_list.sort(key=lambda element: element[0], reverse=True)#按照第二个元素排序\n",
    "\n",
    "print(my_list)"
   ],
   "outputs": [
    {
     "name": "stdout",
     "output_type": "stream",
     "text": [
      "[['a', 33], ['b', 55], ['c', 11]]\n"
     ]
    }
   ],
   "execution_count": 31
  },
  {
   "metadata": {
    "ExecuteTime": {
     "end_time": "2024-05-29T13:20:24.314243Z",
     "start_time": "2024-05-29T13:20:24.307905Z"
    }
   },
   "cell_type": "code",
   "source": [
    "# 字符串、元组、字典返回列表；字典只对键排序，不对值排序\n",
    "str1 = \"312\"\n",
    "print(sorted(str1))\n",
    "\n",
    "tuple1 = (5, 1, 3)\n",
    "print(sorted(tuple1))\n",
    "\n",
    "dict1 = {\"key1\": 1, \"key2\": 2}\n",
    "print(sorted(dict1))\n"
   ],
   "outputs": [
    {
     "name": "stdout",
     "output_type": "stream",
     "text": [
      "['1', '2', '3']\n",
      "[1, 3, 5]\n",
      "['key1', 'key2']\n"
     ]
    }
   ],
   "execution_count": 36
  },
  {
   "metadata": {},
   "cell_type": "markdown",
   "source": [
    "## 元组  tuple  \n",
    "\n",
    "- 可以容纳多个数据\n",
    "- 可以容纳不同类型的数据（混装）\n",
    "- 数据是有序存储的（下标索引）\n",
    "- 允许重复数据存在\n",
    "- 不可以修改（增加或删除元素等）  \n",
    "可以修改元组内的list的内容（修改元素、增加、删除、反转等））  \n",
    "不可以把元组内的list元素替换为其它list或其它类型\n",
    "\n",
    "- 支持for循环\n",
    "\n",
    "1. 定义\n"
   ]
  },
  {
   "metadata": {
    "ExecuteTime": {
     "end_time": "2024-05-24T13:09:51.115902Z",
     "start_time": "2024-05-24T13:09:51.110179Z"
    }
   },
   "cell_type": "code",
   "source": [
    "# 定义元组\n",
    "t1 = (1, \"Hello\", True)\n",
    "t2 = ()\n",
    "t3 = tuple()\n",
    "print(f\"t1的类型是：{type(t1)}, 内容是：{t1}\")\n",
    "print(f\"t2的类型是：{type(t2)}, 内容是：{t2}\")\n",
    "print(f\"t3的类型是：{type(t3)}, 内容是：{t3}\")\n",
    "\n",
    "# 定义单个元素的元素\n",
    "t4 = (\"hello\", )\n",
    "print(f\"t4的类型是：{type(t4)}, t4的内容是：{t4}\")\n",
    "\n",
    "# 元组的嵌套\n",
    "t5 = ( (1, 2, 3), (4, 5, 6) )\n",
    "print(f\"t5的类型是：{type(t5)}, 内容是：{t5}\")\n",
    "\n",
    "# 下标索引去取出内容\n",
    "num = t5[1][2]\n",
    "print(f\"从嵌套元组中取出的数据是：{num}\")"
   ],
   "outputs": [
    {
     "name": "stdout",
     "output_type": "stream",
     "text": [
      "t1的类型是：<class 'tuple'>, 内容是：(1, 'Hello', True)\n",
      "t2的类型是：<class 'tuple'>, 内容是：()\n",
      "t3的类型是：<class 'tuple'>, 内容是：()\n",
      "t4的类型是：<class 'tuple'>, t4的内容是：('hello',)\n"
     ]
    }
   ],
   "execution_count": 3
  },
  {
   "metadata": {},
   "cell_type": "markdown",
   "source": [
    "2. 操作  \n",
    "- index\n",
    "- count\n",
    "- len"
   ]
  },
  {
   "metadata": {},
   "cell_type": "code",
   "outputs": [],
   "execution_count": null,
   "source": [
    "# 元组的操作：index查找方法\n",
    "t6 = (\"传智教育\", \"黑马程序员\", \"Python\")\n",
    "index = t6.index(\"黑马程序员\")\n",
    "print(f\"在元组t6中查找黑马程序员，的下标是：{index}\")\n",
    "\n",
    "# 元组的操作：count统计方法\n",
    "t7 = (\"传智教育\", \"黑马程序员\", \"黑马程序员\", \"黑马程序员\", \"Python\")\n",
    "num = t7.count(\"黑马程序员\")\n",
    "print(f\"在元组t7中统计黑马程序员的数量有：{num}个\")\n",
    "\n",
    "# 元组的操作：len函数统计元组元素数量\n",
    "t8 = (\"传智教育\", \"黑马程序员\", \"黑马程序员\", \"黑马程序员\", \"Python\")\n",
    "num = len(t8)\n",
    "print(f\"t8元组中的元素有：{num}个\")"
   ]
  },
  {
   "metadata": {},
   "cell_type": "markdown",
   "source": [
    "## 字符串 str\n",
    "- 只可以存储字符串（容纳的类型单一）\n",
    "- 长度任意（取决于内存大小）\n",
    "- 支持下标索引\n",
    "- 允许重复字符串存在\n",
    "- 不可以修改（增加或删除元素等） 不能my_str[2] = \"H\"   \n",
    "- 支持for循环  \n",
    "- 可以直接比大小 'abd' > 'abc'  \n",
    "\n",
    "1. 下标进行访问  \n",
    "从前向后，下标从0开始  \n",
    "从后向前，下标从-1开始  \n",
    "\n"
   ]
  },
  {
   "metadata": {},
   "cell_type": "code",
   "source": [
    "my_str = \"itheima and itcast\"\n",
    "# 通过下标索引取值\n",
    "value = my_str[2]\n",
    "value2 = my_str[-16]\n",
    "print(f\"从字符串{my_str}取下标为2的元素，。值是：{value},取下标为-16的元素。值是：{value2}\")\n"
   ],
   "outputs": [],
   "execution_count": null
  },
  {
   "metadata": {},
   "cell_type": "markdown",
   "source": [
    "2. 操作  \n",
    "- 查找：查找特定字符串的下标索引值  \n",
    "语法：字符串.index(字符串)  \n",
    "   \n",
    " \n",
    "- 字符串的替换  （不是修改字符串本身，而是得到了一个**新字符串**）  \n",
    "语法：字符串.replace(字符串1，字符串2）   （后面替换前面）  \n",
    "功能：将字符串内的全部：字符串1，替换为字符串2  \n",
    "  \n",
    "  \n",
    "- 字符串的分割 （字符串本身不变，而是得到了一个列表对象）  \n",
    "语法：字符串.split(分隔符字符串)    \n",
    "功能：按照指定的分隔符字符串，将字符串划分为多个字符串，并存入列表对象中  \n",
    "  \n",
    "\n",
    "- 字符串的规整操作（去前后空格）  \n",
    "语法：字符串.strip()  \n",
    "  \n",
    "  \n",
    "- 字符串的规整操作（去前后指定字符串） （从头和从尾）   \n",
    "该方法只能删除开头或是结尾的字符，不能删除中间部分的字符\n",
    "语法：字符串.strip(字符串)  \n",
    "  \n",
    "  \n",
    "- 统计字符串中某字符串的出现次数  \n",
    "语法：字符串.count(字符串)  \n",
    "\n",
    "  \n",
    "- 统计字符串的长度  （数字、字母、符号、中文 均算作1个字符）   \n",
    "语法：len(字符串)  "
   ]
  },
  {
   "metadata": {},
   "cell_type": "code",
   "outputs": [],
   "execution_count": null,
   "source": [
    "my_str = \"itheima and itcast\"\n",
    "# index方法\n",
    "value = my_str.index(\"and\")\n",
    "print(f\"在字符串{my_str}中查找and，其起始下标是：{value}\")"
   ]
  },
  {
   "metadata": {},
   "cell_type": "code",
   "outputs": [],
   "execution_count": null,
   "source": [
    "# replace方法\n",
    "new_my_str = my_str.replace(\"it\", \"程序\")\n",
    "print(f\"将字符串{my_str}，进行替换后得到：{new_my_str}\")"
   ]
  },
  {
   "metadata": {},
   "cell_type": "code",
   "outputs": [],
   "execution_count": null,
   "source": [
    "# split方法\n",
    "my_str = \"hello python itheima itcast\"\n",
    "my_str_list = my_str.split(\" \")\n",
    "print(f\"将字符串{my_str}进行split切分后得到：{my_str_list}, 类型是：{type(my_str_list)}\")"
   ]
  },
  {
   "metadata": {
    "ExecuteTime": {
     "end_time": "2024-05-26T07:47:14.912602Z",
     "start_time": "2024-05-26T07:47:14.907475Z"
    }
   },
   "cell_type": "code",
   "source": [
    "# strip方法\n",
    "my_str = \"  itheima and itcast  \"\n",
    "new_my_str = my_str.strip() # 不传入参数，去除首尾空格\n",
    "print(f\"字符串{my_str}被strip后，结果：{new_my_str}\")\n",
    "\n",
    "my_str = \"12itheima and itcast12\"\n",
    "new_my_str = my_str.strip(\"12\")\n",
    "print(f\"字符串{my_str}被strip('12')后，结果：{new_my_str}\")\n",
    "# 传入的是“12” 其实就是：”1”和”2”都会移除，是按照单个字符。\n",
    "# 只匹配头和尾"
   ],
   "outputs": [
    {
     "name": "stdout",
     "output_type": "stream",
     "text": [
      "字符串  itheima and itcast  被strip后，结果：itheima and itcast\n",
      "字符串12itheima and itcast12被strip('12')后，结果：itheima and itcas\n"
     ]
    }
   ],
   "execution_count": 18
  },
  {
   "metadata": {},
   "cell_type": "code",
   "outputs": [],
   "execution_count": null,
   "source": [
    "# 统计字符串中某字符串的出现次数, count\n",
    "my_str = \"itheima and itcast\"\n",
    "count = my_str.count(\"it\")\n",
    "print(f\"字符串{my_str}中it出现的次数是：{count}\")"
   ]
  },
  {
   "metadata": {
    "ExecuteTime": {
     "end_time": "2024-05-24T14:45:07.463799Z",
     "start_time": "2024-05-24T14:45:07.457988Z"
    }
   },
   "cell_type": "code",
   "source": [
    "# 统计字符串的长度, len()\n",
    "num = len(my_str)\n",
    "print(f\"字符串{my_str}的长度是：{num}\")\n"
   ],
   "outputs": [
    {
     "name": "stdout",
     "output_type": "stream",
     "text": [
      "在字符串itheima and itcast中查找and，其起始下标是：8\n",
      "将字符串itheima and itcast，进行替换后得到：程序heima and 程序cast\n",
      "将字符串hello python itheima itcast进行split切分后得到：['hello', 'python', 'itheima', 'itcast'], 类型是：<class 'list'>\n",
      "字符串  itheima and itcast  被strip后，结果：itheima and itcast\n",
      "字符串12itheima and itcast21被strip('12')后，结果：itheima and itcas\n",
      "字符串itheima and itcast中it出现的次数是：2\n",
      "字符串itheima and itcast的长度是：18\n"
     ]
    }
   ],
   "execution_count": 22
  },
  {
   "metadata": {},
   "cell_type": "markdown",
   "source": [
    "## 切片\n",
    "\n",
    "序列：内容连续、有序，可使用下标索引的一类数据容器  （列表、元组、字符串）  \n",
    "\n",
    "- 切片：从一个序列中，取出一个子序列  （不会影响序列本身，而是会得到一个新的序列）  \n",
    "语法：`序列[起始下标:结束下标:步长]`  \n",
    "从指定位置开始，依次取出元素，到指定位置结束，得到一个新序列   \n",
    "\n",
    " \n",
    "- 起始下标：从何处开始，可以留空，留空视作从头开始  \n",
    "  \n",
    " \n",
    "- 结束下标：何处结束（不含），可以留空，留空视作截取到结尾  \n",
    "  \n",
    "\n",
    "- 步长：依次取元素的间隔  \n",
    "步长1：一个个取元素（省略步长为1）    \n",
    "步长2：每次跳过1个元素取  \n",
    "步长N：每次跳过N-1个元素取  \n",
    "步长负数：反向取（起始下标和结束下标也要反向标记）  \n",
    "\n"
   ]
  },
  {
   "metadata": {
    "ExecuteTime": {
     "end_time": "2024-05-24T13:46:43.627172Z",
     "start_time": "2024-05-24T13:46:43.615126Z"
    }
   },
   "cell_type": "code",
   "source": [
    "# 对list进行切片，从1开始，4结束，步长1\n",
    "my_list = [0, 1, 2, 3, 4, 5, 6]\n",
    "result1 = my_list[1:4]      # 步长默认是1，所以可以省略不写\n",
    "print(f\"结果1：{result1}\")\n",
    "\n",
    "# 对列表进行切片，从3开始，到1结束，步长-1\n",
    "my_list = [0, 1, 2, 3, 4, 5, 6]\n",
    "result5 = my_list[3:1:-1]\n",
    "print(f\"结果5：{result5}\")"
   ],
   "outputs": [
    {
     "name": "stdout",
     "output_type": "stream",
     "text": [
      "结果1：[1, 2, 3]\n",
      "结果5：[3, 2]\n"
     ]
    }
   ],
   "execution_count": 7
  },
  {
   "metadata": {},
   "cell_type": "code",
   "outputs": [],
   "execution_count": null,
   "source": [
    "# 切片排序\n",
    "# 将原列表「切片」复制给新列表，再对新列表排序，同样可以实现排序且不改变原列表\n",
    "list1 = [1, 3, 2, 5]\n",
    "list2 = list1[:]\n",
    "# list2 = sorted(list1) 也可以\n",
    "list2.sort()\n",
    "print(list1)\n",
    "print(list2)\n"
   ]
  },
  {
   "metadata": {},
   "cell_type": "code",
   "outputs": [],
   "execution_count": null,
   "source": [
    "# 直接「赋值」的方式是不行的，因为赋值的话，两个列表会指向同一个内存地址，原列表会同步变化\n",
    "list1 = [1, 3, 2, 5]\n",
    "list2 = list1\n",
    "list2.sort()\n",
    "print(list1)\n",
    "print(list2)\n"
   ]
  },
  {
   "metadata": {
    "ExecuteTime": {
     "end_time": "2024-05-24T13:49:18.203179Z",
     "start_time": "2024-05-24T13:49:18.198058Z"
    }
   },
   "cell_type": "code",
   "source": [
    "# 对tuple进行切片，从头开始，到最后结束，步长1\n",
    "my_tuple = (0, 1, 2, 3, 4, 5, 6)\n",
    "result2 = my_tuple[:]     # 起始和结束不写表示从头到尾，步长为1可以省略\n",
    "print(f\"结果2：{result2}\")\n",
    "\n",
    "# 对元组进行切片，从尾到头，步长-2\n",
    "my_tuple = (0, 1, 2, 3, 4, 5, 6)\n",
    "result6 = my_tuple[::-2]\n",
    "print(f\"结果6：{result6}\")\n"
   ],
   "outputs": [
    {
     "name": "stdout",
     "output_type": "stream",
     "text": [
      "结果2：(0, 1, 2, 3, 4, 5, 6)\n",
      "结果6：(5, 3)\n"
     ]
    }
   ],
   "execution_count": 9
  },
  {
   "metadata": {
    "ExecuteTime": {
     "end_time": "2024-05-24T13:50:30.363038Z",
     "start_time": "2024-05-24T13:50:30.351891Z"
    }
   },
   "cell_type": "code",
   "source": [
    "# 对str进行切片，从头开始，到最后结束，步长2\n",
    "my_str = \"01234567\"\n",
    "result3 = my_str[::2]\n",
    "print(f\"结果3：{result3}\")\n",
    "\n",
    "\n",
    "# 对str进行切片，从头开始，到最后结束，步长-1\n",
    "my_str = \"01234567\"\n",
    "result4 = my_str[::-1]          # 等同于将序列反转了\n",
    "print(f\"结果4：{result4}\")\n",
    "\n"
   ],
   "outputs": [
    {
     "name": "stdout",
     "output_type": "stream",
     "text": [
      "结果3：0246\n",
      "结果4：76543210\n"
     ]
    }
   ],
   "execution_count": 10
  },
  {
   "metadata": {},
   "cell_type": "markdown",
   "source": [
    "## 集合 set\n",
    "- 可以容纳多个数据\n",
    "- 可以容纳不同类型的数据（混装）\n",
    "- 数据是无序存储的（不支持下标索引）\n",
    "- 不允许重复数据存在（自带去重功能）\n",
    "- 可以修改（增加或删除元素等）\n",
    "- 支持for循环\n",
    "\n",
    "1. 定义   \n",
    "因为要对元素做去重处理，所以无法保证顺序和创建的时候一致"
   ]
  },
  {
   "metadata": {
    "ExecuteTime": {
     "end_time": "2024-05-24T13:56:18.895260Z",
     "start_time": "2024-05-24T13:56:18.890585Z"
    }
   },
   "cell_type": "code",
   "source": [
    "# 定义集合\n",
    "my_set = {\"传智教育\", \"黑马程序员\", \"itheima\", \"传智教育\", \"黑马程序员\", \"itheima\", \"传智教育\", \"黑马程序员\", \"itheima\"}\n",
    "my_set_empty = set()        # 定义空集合\n",
    "print(f\"my_set的内容是：{my_set}, 类型是：{type(my_set)}\")\n",
    "print(f\"my_set_empty的内容是：{my_set_empty}, 类型是：{type(my_set_empty)}\")"
   ],
   "outputs": [
    {
     "name": "stdout",
     "output_type": "stream",
     "text": [
      "my_set的内容是：{'传智教育', 'itheima', '黑马程序员'}, 类型是：<class 'set'>\n",
      "my_set_empty的内容是：set(), 类型是：<class 'set'>\n"
     ]
    }
   ],
   "execution_count": 11
  },
  {
   "metadata": {},
   "cell_type": "markdown",
   "source": [
    "2. 修改  （不支持下标索引访问）  \n",
    "- 添加新元素：  集合.add(元素)  \n",
    "  \n",
    "    \n",
    "- 移除元素：  集合.remove(元素)    \n",
    "  \n",
    "\n",
    "- 从集合中随机取出元素：集合.pop() （元素被移除）     \n",
    "  \n",
    "\n",
    "- 清空集合：集合.clear()      \n",
    "  \n",
    "\n",
    "- 取出2个集合的差集：集合1.difference(集合2)     \n",
    "(得到一个新集合，集合1和集合2不变)  \n",
    "结果：集合1 - 集合2    \n",
    "  \n",
    "\n",
    "- 消除2个集合的差集：集合1.difference_update(集合2)  \n",
    "功能：对比集合1和集合2，在集合1内，删除和集合2相同的元素。  \n",
    "结果：集合1被修改，集合2不变    \n",
    "  \n",
    "\n",
    "- 2个集合合并：集合1.union(集合2)  \n",
    "结果：得到新集合（s1 + s2），集合1和集合2不变    \n",
    "  \n",
    "\n",
    "- 查看集合的元素数量：len(集合)  \n",
    "\n",
    "\n",
    "\n",
    "\n"
   ]
  },
  {
   "metadata": {
    "ExecuteTime": {
     "end_time": "2024-05-24T14:04:44.429928Z",
     "start_time": "2024-05-24T14:04:44.408511Z"
    }
   },
   "cell_type": "code",
   "source": [
    "# 添加新元素\n",
    "my_set.add(\"Python\")\n",
    "my_set.add(\"传智教育\")      #\n",
    "print(f\"my_set添加元素后结果是：{my_set}\")\n",
    "\n",
    "# 移除元素\n",
    "my_set.remove(\"黑马程序员\")\n",
    "print(f\"my_set移除黑马程序员后，结果是：{my_set}\")\n",
    "\n",
    "# 随机取出一个元素\n",
    "my_set = {\"传智教育\", \"黑马程序员\", \"itheima\"}\n",
    "element = my_set.pop()\n",
    "print(f\"集合被取出元素是：{element}, 取出元素后：{my_set}\")\n",
    "\n",
    "# 清空集合, clear\n",
    "my_set.clear()\n",
    "print(f\"集合被清空啦，结果是：{my_set}\")\n",
    "\n",
    "# 取2个集合的差集\n",
    "set1 = {1, 2, 3}\n",
    "set2 = {1, 5, 6}\n",
    "set3 = set1.difference(set2)\n",
    "print(f\"取出差集后的结果是：{set3}\")\n",
    "print(f\"取差集后，原有set1的内容：{set1}\")\n",
    "print(f\"取差集后，原有set2的内容：{set2}\")\n",
    "\n",
    "\n",
    "# 消除2个集合的差集\n",
    "set1 = {1, 2, 3}\n",
    "set2 = {1, 5, 6}\n",
    "set1.difference_update(set2)\n",
    "print(f\"消除差集后，集合1结果：{set1}\")\n",
    "print(f\"消除差集后，集合2结果：{set2}\")\n",
    "\n",
    "# 2个集合合并为1个\n",
    "set1 = {1, 2, 3}\n",
    "set2 = {1, 5, 6}\n",
    "set3 = set1.union(set2)\n",
    "print(f\"2集合合并结果：{set3}\")\n",
    "print(f\"合并后集合1：{set1}\")\n",
    "print(f\"合并后集合2：{set2}\")\n",
    "\n",
    "# 统计集合元素数量len()\n",
    "set1 = {1, 2, 3, 4, 5, 1, 2, 3, 4, 5}\n",
    "num = len(set1)\n",
    "print(f\"集合内的元素数量有：{num}个\")\n",
    "\n",
    "\n",
    "\n"
   ],
   "outputs": [
    {
     "name": "stdout",
     "output_type": "stream",
     "text": [
      "my_set添加元素后结果是：{'传智教育', 'itheima', '黑马程序员', 'Python'}\n",
      "my_set移除黑马程序员后，结果是：{'传智教育', 'itheima', 'Python'}\n",
      "集合被取出元素是：传智教育, 取出元素后：{'itheima', '黑马程序员'}\n",
      "集合被清空啦，结果是：set()\n",
      "取出差集后的结果是：{2, 3}\n",
      "取差集后，原有set1的内容：{1, 2, 3}\n",
      "取差集后，原有set2的内容：{1, 5, 6}\n",
      "消除差集后，集合1结果：{2, 3}\n",
      "消除差集后，集合2结果：{1, 5, 6}\n",
      "2集合合并结果：{1, 2, 3, 5, 6}\n",
      "合并后集合1：{1, 2, 3}\n",
      "合并后集合2：{1, 5, 6}\n",
      "集合内的元素数量有：5个\n",
      "集合的元素有：1\n",
      "集合的元素有：2\n",
      "集合的元素有：3\n",
      "集合的元素有：4\n",
      "集合的元素有：5\n"
     ]
    }
   ],
   "execution_count": 12
  },
  {
   "metadata": {},
   "cell_type": "markdown",
   "source": "3. 遍历"
  },
  {
   "metadata": {},
   "cell_type": "code",
   "outputs": [],
   "execution_count": null,
   "source": [
    "# 集合的遍历\n",
    "# 集合不支持下标索引，不能用while循环\n",
    "# 可以用for循环\n",
    "set1 = {1, 2, 3, 4, 5}\n",
    "for element in set1:\n",
    "    print(f\"集合的元素有：{element}\")"
   ]
  },
  {
   "metadata": {},
   "cell_type": "markdown",
   "source": [
    "## 字典 dict\n",
    "- 可以容纳多个数据  \n",
    "- 可以容纳不同类型的数据  \n",
    "- 每一份数据是KeyValue键值对  \n",
    "- 可以通过Key获取到Value，Key不可重复（重复会覆盖）  \n",
    "- 不支持下标索引  \n",
    "- 可以修改（增加或删除更新元素等）  \n",
    "- 支持for循环，不支持while循环  \n",
    "\n",
    "\n",
    "1. **定义**  \n",
    "使用{}存储原始，每一个元素是一个键值对  \n",
    "每一个键值对包含Key和Value（用冒号分隔）  \n",
    "键值对之间使用逗号分隔  \n",
    "Key和Value可以是任意类型的数据（key不可为字典）  \n",
    "Key不可重复，重复会对原有数据覆盖  \n",
    "\n"
   ]
  },
  {
   "metadata": {
    "ExecuteTime": {
     "end_time": "2024-05-24T14:16:56.054360Z",
     "start_time": "2024-05-24T14:16:56.050416Z"
    }
   },
   "cell_type": "code",
   "source": [
    "# 定义字典\n",
    "my_dict1 = {\"王力鸿\": 99, \"周杰轮\": 88, \"林俊节\": 77}\n",
    "# 定义空字典\n",
    "my_dict2 = {}\n",
    "my_dict3 = dict()\n",
    "print(f\"字典1的内容是：{my_dict1}, 类型：{type(my_dict1)}\")\n",
    "print(f\"字典2的内容是：{my_dict2}, 类型：{type(my_dict2)}\")\n",
    "print(f\"字典3的内容是：{my_dict3}, 类型：{type(my_dict3)}\")\n",
    "\n",
    "# 定义重复Key的字典\n",
    "my_dict1 = {\"王力鸿\": 99, \"王力鸿\": 88, \"林俊节\": 77}\n",
    "print(f\"重复key的字典的内容是：{my_dict1}\")\n"
   ],
   "outputs": [
    {
     "name": "stdout",
     "output_type": "stream",
     "text": [
      "字典1的内容是：{'王力鸿': 99, '周杰轮': 88, '林俊节': 77}, 类型：<class 'dict'>\n",
      "字典2的内容是：{}, 类型：<class 'dict'>\n",
      "字典3的内容是：{}, 类型：<class 'dict'>\n",
      "重复key的字典的内容是：{'王力鸿': 88, '林俊节': 77}\n"
     ]
    }
   ],
   "execution_count": 13
  },
  {
   "metadata": {},
   "cell_type": "markdown",
   "source": [
    "2. 字典数据的获取  \n",
    "通过Key值来取得对应的Value"
   ]
  },
  {
   "metadata": {},
   "cell_type": "code",
   "outputs": [],
   "execution_count": null,
   "source": [
    "# 从字典中基于Key获取Value\n",
    "my_dict1 = {\"王力鸿\": 99, \"周杰轮\": 88, \"林俊节\": 77}\n",
    "score = my_dict1[\"王力鸿\"]\n",
    "print(f\"王力鸿的考试分数是：{score}\")\n",
    "score = my_dict1[\"周杰轮\"]\n",
    "print(f\"周杰轮的考试分数是：{score}\")"
   ]
  },
  {
   "metadata": {},
   "cell_type": "markdown",
   "source": "3. 字典的嵌套\n"
  },
  {
   "metadata": {
    "ExecuteTime": {
     "end_time": "2024-05-24T14:18:34.028041Z",
     "start_time": "2024-05-24T14:18:34.023428Z"
    }
   },
   "cell_type": "code",
   "source": [
    "# 定义嵌套字典\n",
    "stu_score_dict = {\n",
    "    \"王力鸿\": {\n",
    "        \"语文\": 77,\n",
    "        \"数学\": 66,\n",
    "        \"英语\": 33\n",
    "    }, \"周杰轮\": {\n",
    "        \"语文\": 88,\n",
    "        \"数学\": 86,\n",
    "        \"英语\": 55\n",
    "    }, \"林俊节\": {\n",
    "        \"语文\": 99,\n",
    "        \"数学\": 96,\n",
    "        \"英语\": 66\n",
    "    }\n",
    "}\n",
    "print(f\"学生的考试信息是：{stu_score_dict}\")\n",
    "\n",
    "# 从嵌套字典中获取数据\n",
    "# 看一下周杰轮的语文信息\n",
    "score = stu_score_dict[\"周杰轮\"][\"语文\"]\n",
    "print(f\"周杰轮的语文分数是：{score}\")\n",
    "score = stu_score_dict[\"林俊节\"][\"英语\"]\n",
    "print(f\"林俊节的英语分数是：{score}\")\n"
   ],
   "outputs": [
    {
     "name": "stdout",
     "output_type": "stream",
     "text": [
      "学生的考试信息是：{'王力鸿': {'语文': 77, '数学': 66, '英语': 33}, '周杰轮': {'语文': 88, '数学': 86, '英语': 55}, '林俊节': {'语文': 99, '数学': 96, '英语': 66}}\n",
      "周杰轮的语文分数是：88\n",
      "林俊节的英语分数是：66\n"
     ]
    }
   ],
   "execution_count": 14
  },
  {
   "metadata": {},
   "cell_type": "markdown",
   "source": [
    "4. 字典的常用操作  \n",
    "- 新增: 原先无该键值对     \n",
    "- 修改：通过key修改value （Key不可以重复，只会覆盖）     \n",
    "- 删除: .pop()  \n",
    "- 清空: .clear()\n",
    "- 获取全部的key：.keys()  \n",
    "- 统计字典内的元素数量 len(集合名)"
   ]
  },
  {
   "metadata": {
    "ExecuteTime": {
     "end_time": "2024-05-24T14:23:07.179776Z",
     "start_time": "2024-05-24T14:23:07.170152Z"
    }
   },
   "cell_type": "code",
   "source": [
    "my_dict = {\"周杰轮\": 99, \"林俊节\": 88, \"张学油\": 77}\n",
    "# 新增元素\n",
    "my_dict[\"张信哲\"] = 66\n",
    "print(f\"字典经过新增元素后，结果：{my_dict}\")\n",
    "# 更新元素\n",
    "my_dict[\"周杰轮\"] = 33\n",
    "print(f\"字典经过更新后，结果：{my_dict}\")\n",
    "# 删除元素\n",
    "score = my_dict.pop(\"周杰轮\")\n",
    "print(f\"字典中被移除了一个元素，结果：{my_dict}, 周杰轮的考试分数是：{score}\")\n",
    "\n",
    "# 清空元素, clear\n",
    "my_dict.clear()\n",
    "print(f\"字典被清空了，内容是：{my_dict}\")\n",
    "\n",
    "# 获取全部的key\n",
    "my_dict = {\"周杰轮\": 99, \"林俊节\": 88, \"张学油\": 77}\n",
    "keys = my_dict.keys()\n",
    "print(f\"字典的全部keys是：{keys}\")\n",
    "\n",
    "\n",
    "# 统计字典内的元素数量, len()函数\n",
    "num = len(my_dict)\n",
    "print(f\"字典中的元素数量有：{num}个\")\n",
    "\n"
   ],
   "outputs": [
    {
     "name": "stdout",
     "output_type": "stream",
     "text": [
      "字典经过新增元素后，结果：{'周杰轮': 99, '林俊节': 88, '张学油': 77, '张信哲': 66}\n",
      "字典经过更新后，结果：{'周杰轮': 33, '林俊节': 88, '张学油': 77, '张信哲': 66}\n",
      "字典中被移除了一个元素，结果：{'林俊节': 88, '张学油': 77, '张信哲': 66}, 周杰轮的考试分数是：33\n",
      "字典被清空了，内容是：{}\n",
      "字典的全部keys是：dict_keys(['周杰轮', '林俊节', '张学油'])\n",
      "字典中的元素数量有：3个\n"
     ]
    }
   ],
   "execution_count": 15
  },
  {
   "metadata": {},
   "cell_type": "markdown",
   "source": "5. 遍历"
  },
  {
   "metadata": {},
   "cell_type": "code",
   "outputs": [],
   "execution_count": null,
   "source": [
    "# 遍历字典\n",
    "# 方式1：通过获取到全部的key来完成遍历\n",
    "for key in keys:\n",
    "    print(f\"字典的key是:{key}\")\n",
    "    print(f\"字典的value是：{my_dict[key]}\")\n",
    "\n",
    "# 方式2：直接对字典进行for循环，每一次循环都是直接得到key\n",
    "for key in my_dict:\n",
    "    print(f\"2字典的key是:{key}\")\n",
    "    print(f\"2字典的value是：{my_dict[key]}\")"
   ]
  },
  {
   "metadata": {},
   "cell_type": "markdown",
   "source": [
    "## 容器通用操作\n",
    "\n",
    "- 通用for循环\t遍历容器（字典是遍历key）\n",
    "- 函数(对象)  \n",
    "- max()：\t容器内最大元素  \n",
    "- min()：\t容器内最小元素  \n",
    "- len()：\t容器元素个数  \n",
    "- list()：\t转换为列表  \n",
    "- tuple()：\t转换为元组  \n",
    "- str()\t：转换为字符串  \n",
    "- set()：\t转换为集合  \n",
    "- sorted(序列, [reverse=True])：排序，reverse=True表示降序，得到一个排好序的列表  "
   ]
  },
  {
   "metadata": {
    "ExecuteTime": {
     "end_time": "2024-05-24T14:30:30.740731Z",
     "start_time": "2024-05-24T14:30:30.734556Z"
    }
   },
   "cell_type": "code",
   "source": [
    "my_list = [1, 2, 3, 4, 5]\n",
    "my_tuple = (1, 2, 3, 4, 5)\n",
    "my_str = \"abcdefg\"\n",
    "my_set = {1, 2, 3, 4, 5}\n",
    "my_dict = {\"key1\": 1, \"key2\": 2, \"key3\": 3, \"key4\": 4, \"key5\": 5}"
   ],
   "outputs": [],
   "execution_count": 17
  },
  {
   "metadata": {},
   "cell_type": "markdown",
   "source": "### len 元素个数 "
  },
  {
   "metadata": {},
   "cell_type": "code",
   "outputs": [],
   "execution_count": null,
   "source": [
    "# len元素个数\n",
    "print(f\"列表 元素个数有：{len(my_list)}\")\n",
    "print(f\"元组 元素个数有：{len(my_tuple)}\")\n",
    "print(f\"字符串元素个数有：{len(my_str)}\")\n",
    "print(f\"集合 元素个数有：{len(my_set)}\")\n",
    "print(f\"字典 元素个数有：{len(my_dict)}\")"
   ]
  },
  {
   "metadata": {},
   "cell_type": "markdown",
   "source": "### max 最大元素"
  },
  {
   "metadata": {},
   "cell_type": "code",
   "source": [
    "# max最大元素\n",
    "print(f\"列表 最大的元素是：{max(my_list)}\")\n",
    "print(f\"元组 最大的元素是：{max(my_tuple)}\")\n",
    "print(f\"字符串最大的元素是：{max(my_str)}\")\n",
    "print(f\"集合 最大的元素是：{max(my_set)}\")\n",
    "print(f\"字典 最大的元素是：{max(my_dict)}\")"
   ],
   "outputs": [],
   "execution_count": null
  },
  {
   "metadata": {},
   "cell_type": "markdown",
   "source": "### min  最小元素"
  },
  {
   "metadata": {},
   "cell_type": "code",
   "outputs": [],
   "execution_count": null,
   "source": [
    "# min最小元素\n",
    "print(f\"列表 最小的元素是：{min(my_list)}\")\n",
    "print(f\"元组 最小的元素是：{min(my_tuple)}\")\n",
    "print(f\"字符串最小的元素是：{min(my_str)}\")\n",
    "print(f\"集合 最小的元素是：{min(my_set)}\")\n",
    "print(f\"字典 最小的元素是：{min(my_dict)}\")"
   ]
  },
  {
   "metadata": {},
   "cell_type": "markdown",
   "source": "### 类型转换"
  },
  {
   "metadata": {},
   "cell_type": "code",
   "outputs": [],
   "execution_count": null,
   "source": [
    "# 类型转换: 容器转列表\n",
    "print(f\"列表转列表的结果是：{list(my_list)}\")\n",
    "print(f\"元组转列表的结果是：{list(my_tuple)}\")\n",
    "print(f\"字符串转列表结果是：{list(my_str)}\")\n",
    "print(f\"集合转列表的结果是：{list(my_set)}\")\n",
    "print(f\"字典转列表的结果是：{list(my_dict)}\")"
   ]
  },
  {
   "metadata": {},
   "cell_type": "code",
   "outputs": [],
   "execution_count": null,
   "source": [
    "# 类型转换: 容器转元组\n",
    "print(f\"列表转元组的结果是：{tuple(my_list)}\")\n",
    "print(f\"元组转元组的结果是：{tuple(my_tuple)}\")\n",
    "print(f\"字符串转元组结果是：{tuple(my_str)}\")\n",
    "print(f\"集合转元组的结果是：{tuple(my_set)}\")\n",
    "print(f\"字典转元组的结果是：{tuple(my_dict)}\")"
   ]
  },
  {
   "metadata": {},
   "cell_type": "code",
   "outputs": [],
   "execution_count": null,
   "source": [
    "# 类型转换: 容器转字符串\n",
    "print(f\"列表转字符串的结果是：{str(my_list)}\")\n",
    "print(f\"元组转字符串的结果是：{str(my_tuple)}\")\n",
    "print(f\"字符串转字符串结果是：{str(my_str)}\")\n",
    "print(f\"集合转字符串的结果是：{str(my_set)}\")\n",
    "print(f\"字典转字符串的结果是：{str(my_dict)}\")"
   ]
  },
  {
   "metadata": {},
   "cell_type": "code",
   "outputs": [],
   "execution_count": null,
   "source": [
    "# 类型转换: 容器转集合\n",
    "print(f\"列表转集合的结果是：{set(my_list)}\")\n",
    "print(f\"元组转集合的结果是：{set(my_tuple)}\")\n",
    "print(f\"字符串转集合结果是：{set(my_str)}\")\n",
    "print(f\"集合转集合的结果是：{set(my_set)}\")\n",
    "print(f\"字典转集合的结果是：{set(my_dict)}\")"
   ]
  },
  {
   "metadata": {},
   "cell_type": "markdown",
   "source": "### sorted 排序"
  },
  {
   "metadata": {
    "ExecuteTime": {
     "end_time": "2024-05-24T14:34:51.408856Z",
     "start_time": "2024-05-24T14:34:51.400549Z"
    }
   },
   "cell_type": "code",
   "source": [
    "# 进行容器的排序\n",
    "my_list = [3, 1, 2, 5, 4]\n",
    "my_tuple = (3, 1, 2, 5, 4)\n",
    "my_str = \"bdcefga\"\n",
    "my_set = {3, 1, 2, 5, 4}\n",
    "my_dict = {\"key3\": 1, \"key1\": 2, \"key2\": 3, \"key5\": 4, \"key4\": 5}\n",
    "\n",
    "print(f\"列表对象的排序结果：{sorted(my_list)}\")\n",
    "print(f\"元组对象的排序结果：{sorted(my_tuple)}\")\n",
    "print(f\"字符串对象的排序结果：{sorted(my_str)}\")\n",
    "print(f\"集合对象的排序结果：{sorted(my_set)}\")\n",
    "print(f\"字典对象的排序结果：{sorted(my_dict)}\")\n",
    "\n",
    "print(f\"列表对象的反向排序结果：{sorted(my_list, reverse=True)}\")\n",
    "print(f\"元组对象的反向排序结果：{sorted(my_tuple, reverse=True)}\")\n",
    "print(f\"字符串对象反向的排序结果：{sorted(my_str, reverse=True)}\")\n",
    "print(f\"集合对象的反向排序结果：{sorted(my_set, reverse=True)}\")\n",
    "print(f\"字典对象的反向排序结果：{sorted(my_dict, reverse=True)}\")\n"
   ],
   "outputs": [
    {
     "name": "stdout",
     "output_type": "stream",
     "text": [
      "列表对象的排序结果：[1, 2, 3, 4, 5]\n",
      "元组对象的排序结果：[1, 2, 3, 4, 5]\n",
      "字符串对象的排序结果：['a', 'b', 'c', 'd', 'e', 'f', 'g']\n",
      "集合对象的排序结果：[1, 2, 3, 4, 5]\n",
      "字典对象的排序结果：['key1', 'key2', 'key3', 'key4', 'key5']\n",
      "列表对象的反向排序结果：[5, 4, 3, 2, 1]\n",
      "元组对象的反向排序结果：[5, 4, 3, 2, 1]\n",
      "字符串对象反向的排序结果：['g', 'f', 'e', 'd', 'c', 'b', 'a']\n",
      "集合对象的反向排序结果：[5, 4, 3, 2, 1]\n",
      "字典对象的反向排序结果：['key5', 'key4', 'key3', 'key2', 'key1']\n"
     ]
    }
   ],
   "execution_count": 19
  },
  {
   "metadata": {},
   "cell_type": "markdown",
   "source": "# 第四章 文件操作"
  },
  {
   "metadata": {},
   "cell_type": "markdown",
   "source": [
    "## 打开文件\n",
    "\n",
    "**open(name, mode, encoding)**    \n",
    "+ 文件对象 = open(file, mode, encoding)  \n",
    "+ name：是要打开的目标文件名的字符串(可以包含文件所在的具体路径)。  \n",
    "+ mode：设置打开文件的模式(访问模式)：只读、写入、追加等。    \n",
    "    + **r**：只读。文件的指针将会放在文件的开头（默认模式）  \n",
    "    + **w**：写。若文件已存在：从开头开始编辑，原有内容会被删除；若文件不存在，创建新文件。  \n",
    "    + **a**：追加。若文件已存在，新的内容将会被写入到已有内容之后；若文件不存在，创建新文件进行写入。  \n",
    "+ encoding:编码格式（推荐使用UTF-8）    \n",
    "\n",
    "\n"
   ]
  },
  {
   "metadata": {
    "ExecuteTime": {
     "end_time": "2024-05-26T08:24:57.646788Z",
     "start_time": "2024-05-26T08:24:57.641519Z"
    }
   },
   "cell_type": "code",
   "source": [
    "f = open(\"helloworld.py\", \"r\", encoding=\"UTF-8\")#encoding的顺序不是第三位，必须用关键字参数直接指定\n",
    "print(type(f))\n",
    "# 此时的`f`是`open`函数的文件对象，对象是Python中一种特殊的数据类型，拥有属性和方法"
   ],
   "outputs": [
    {
     "name": "stdout",
     "output_type": "stream",
     "text": [
      "<class '_io.TextIOWrapper'>\n"
     ]
    }
   ],
   "execution_count": 39
  },
  {
   "metadata": {},
   "cell_type": "markdown",
   "source": [
    "## 读文件\n",
    "\n",
    "1. **read()方法** \n",
    "- 文件对象.read(num)\n",
    "- num表示要从文件中读取的数据的长度（单位是字节），如果没有传入num，则读取文件中所有的数据。  \n",
    "  "
   ]
  },
  {
   "metadata": {
    "ExecuteTime": {
     "end_time": "2024-05-26T08:20:48.793929Z",
     "start_time": "2024-05-26T08:20:48.788921Z"
    }
   },
   "cell_type": "code",
   "source": [
    "# 读取文件 - read()\n",
    "#print(f\"读取10个字节的结果：{f.read(10)}\")\n",
    "print(f\"read方法读取全部内容的结果是：{f.read()}\")"
   ],
   "outputs": [
    {
     "name": "stdout",
     "output_type": "stream",
     "text": [
      "read方法读取全部内容的结果是：print(\"hello\")\n"
     ]
    }
   ],
   "execution_count": 29
  },
  {
   "metadata": {},
   "cell_type": "markdown",
   "source": [
    "\n",
    "2. **readlines()方法**\n",
    "- 文件对象.readlines()  \n",
    "- 按照行的方式把整个文件中的内容进行一次性读取，返回一个列表，每一行的数据为一个元素\n",
    "\n"
   ]
  },
  {
   "metadata": {
    "ExecuteTime": {
     "end_time": "2024-05-26T08:22:08.130664Z",
     "start_time": "2024-05-26T08:22:08.125134Z"
    }
   },
   "cell_type": "code",
   "source": [
    "# 读取文件 - readLines()\n",
    "lines = f.readlines()   # 读取文件的全部行，封装到列表中\n",
    "print(f\"lines对象的类型：{type(lines)}\")\n",
    "print(f\"lines对象的内容是：{lines}\")"
   ],
   "outputs": [
    {
     "name": "stdout",
     "output_type": "stream",
     "text": [
      "lines对象的类型：<class 'list'>\n",
      "lines对象的内容是：['print(\"hello\")\\n', 'print(\"world\")']\n"
     ]
    }
   ],
   "execution_count": 35
  },
  {
   "metadata": {},
   "cell_type": "markdown",
   "source": [
    "3. **readline()方法**  \n",
    "- 文件对象.readline()  \n",
    "- 一次读取一行内容\n"
   ]
  },
  {
   "metadata": {
    "ExecuteTime": {
     "end_time": "2024-05-26T08:24:23.379871Z",
     "start_time": "2024-05-26T08:24:23.369982Z"
    }
   },
   "cell_type": "code",
   "source": [
    "# 读取文件 - readline()\n",
    "line1 = f.readline()\n",
    "line2 = f.readline()\n",
    "\n",
    "print(f\"第一行数据是：{line1}\")\n",
    "print(f\"第二行数据是：{line2}\")\n"
   ],
   "outputs": [
    {
     "name": "stdout",
     "output_type": "stream",
     "text": [
      "第一行数据是：print(\"hello\")\n",
      "\n",
      "第二行数据是：print(\"world\")\n"
     ]
    }
   ],
   "execution_count": 37
  },
  {
   "metadata": {},
   "cell_type": "markdown",
   "source": [
    "4. **for循环读取文件行**  \n",
    "- for line in 文件对象  \n",
    "- 一次循环得到一行数据\n"
   ]
  },
  {
   "metadata": {
    "ExecuteTime": {
     "end_time": "2024-05-26T08:25:02.713106Z",
     "start_time": "2024-05-26T08:25:02.703327Z"
    }
   },
   "cell_type": "code",
   "source": [
    "# for循环读取文件行\n",
    "for line in f: # 每一个line临时变量，就记录了文件的一行数据\n",
    "    print(f\"每一行数据是:{line}\")"
   ],
   "outputs": [
    {
     "name": "stdout",
     "output_type": "stream",
     "text": [
      "每一行数据是:print(\"hello\")\n",
      "\n",
      "每一行数据是:print(\"world\")\n"
     ]
    }
   ],
   "execution_count": 40
  },
  {
   "metadata": {},
   "cell_type": "markdown",
   "source": [
    "## 关闭文件\n",
    "\n",
    "**close() 关闭文件对象**  \n",
    "- 文件对象.close()  \n",
    "- 最后通过close，关闭文件对象，也就是关闭对文件的占用  \n",
    "- 如果不调用close,同时程序没有停止运行，那么这个文件将一直被Python程序占用  "
   ]
  },
  {
   "metadata": {
    "ExecuteTime": {
     "end_time": "2024-05-26T08:26:17.959709Z",
     "start_time": "2024-05-26T08:26:17.952572Z"
    }
   },
   "cell_type": "code",
   "source": "f.close()",
   "outputs": [],
   "execution_count": 41
  },
  {
   "metadata": {},
   "cell_type": "markdown",
   "source": [
    "## with open 语法\n",
    "\n",
    "- with open() as f\n",
    "- 通过在with open的语句块中对文件进行操作  \n",
    "- 可以在操作完成后自动关闭close文件，避免遗忘掉close方法  \n"
   ]
  },
  {
   "metadata": {},
   "cell_type": "code",
   "outputs": [],
   "execution_count": null,
   "source": [
    "with open(\"helloworld.py\", \"r\", encoding=\"UTF-8\") as f:\n",
    "    for line in f:\n",
    "        print(f\"每一行数据是：{line}\")"
   ]
  },
  {
   "metadata": {},
   "cell_type": "markdown",
   "source": [
    "## 文件写入\n",
    "\n",
    "- **wirte()：写入内容**   \n",
    "  + 直接调用write，内容并未真正写入文件，而是会积攒在程序的内存中，称之为缓冲区\n",
    "- **flush()：刷新内容到硬盘中**  \n",
    "  + 当调用flush的时候，内容会真正写入文件 \n",
    "  + 这样做是避免频繁的操作硬盘，导致效率下降（攒一堆，一次性写磁盘）   \n",
    "  \n",
    "  \n",
    "\n",
    "- 写入文件使用open函数的 **\"w\"** 模式进行写入  \n",
    "- w模式:文件不存在，会创建新文件  \n",
    "- w模式:文件存在，会清空原有内容  \n",
    "- close()方法，带有flush()方法的功能"
   ]
  },
  {
   "metadata": {
    "ExecuteTime": {
     "end_time": "2024-05-26T08:59:30.951563Z",
     "start_time": "2024-05-26T08:59:30.943729Z"
    }
   },
   "cell_type": "code",
   "source": [
    "f = open(\"./word.txt\", \"w\", encoding=\"UTF-8\")\n",
    "# write写入、flush刷新\n",
    "f.write(\"hello\\nworld\\n\")\n",
    "# close关闭\n",
    "f.close()"
   ],
   "outputs": [],
   "execution_count": 44
  },
  {
   "metadata": {},
   "cell_type": "markdown",
   "source": [
    "## 文件追加\n",
    "\n",
    "- 追加写入的方法（和w模式一致）  \n",
    "  - **wirte():写入内容**\n",
    "  - **flush():刷新内容到硬盘中**    \n",
    "  \n",
    "  \n",
    "\n",
    "- 追加写入文件使用open函数的 **\"a\"** 模式进行写入  \n",
    "\n",
    "- a模式:文件不存在，会创建新文件\n",
    "- a模式:文件存在，会在原有内容后面继续写入\n",
    "- 可以使用\"\\n\"来写出换行符\n"
   ]
  },
  {
   "metadata": {
    "ExecuteTime": {
     "end_time": "2024-05-26T09:00:10.811360Z",
     "start_time": "2024-05-26T09:00:10.806882Z"
    }
   },
   "cell_type": "code",
   "source": [
    "f = open(\"./word.txt\", \"a\", encoding=\"UTF-8\")\n",
    "# write写入、flush刷新\n",
    "f.write(\"\\n你好\")\n",
    "# close关闭\n",
    "f.close()"
   ],
   "outputs": [],
   "execution_count": 48
  },
  {
   "metadata": {},
   "cell_type": "markdown",
   "source": [
    "# 第五章 异常、模块、包\n",
    "\n",
    "## 捕获异常\n",
    "\n",
    "1.基本语法   \n",
    "\n",
    "> try:  \n",
    "    可能发生错误的代码  \n",
    "except:  \n",
    "    如果出现异常执行的代码 "
   ]
  },
  {
   "metadata": {
    "ExecuteTime": {
     "end_time": "2024-05-26T09:05:27.267681Z",
     "start_time": "2024-05-26T09:05:27.260678Z"
    }
   },
   "cell_type": "code",
   "source": [
    "# 基本捕获语法\n",
    "try:\n",
    "    f = open(\"./abc.txt\", \"r\", encoding=\"UTF-8\")\n",
    "except:\n",
    "    print(\"出现异常了，因为文件不存在，我将open的模式，改为w模式去打开\")\n",
    "    f = open(\"./abc.txt\", \"w\", encoding=\"UTF-8\")"
   ],
   "outputs": [
    {
     "name": "stdout",
     "output_type": "stream",
     "text": [
      "出现异常了，因为文件不存在，我将open的模式，改为w模式去打开\n"
     ]
    }
   ],
   "execution_count": 49
  },
  {
   "metadata": {},
   "cell_type": "markdown",
   "source": [
    "**捕获指定异常并输出描述信息** \n",
    "> try:  \n",
    "    print(name)  \n",
    "except **NameError as e**:  \n",
    "    print('name变量名称未定义错误')  \n",
    " \n",
    "- 如果尝试执行的代码的异常类型和要捕获的异常类型不一致，则无法捕获异常。  \n",
    "- 一般try下方只放一行尝试执行的代码。"
   ]
  },
  {
   "metadata": {
    "ExecuteTime": {
     "end_time": "2024-05-26T09:13:37.596955Z",
     "start_time": "2024-05-26T09:13:37.588906Z"
    }
   },
   "cell_type": "code",
   "source": [
    "# 捕获指定的异常\n",
    "try:\n",
    "    print(name)\n",
    "    # 1 / 0\n",
    "except NameError as e:\n",
    "    print(\"出现了变量未定义的异常\")\n",
    "    print(e)"
   ],
   "outputs": [
    {
     "name": "stdout",
     "output_type": "stream",
     "text": [
      "出现了变量未定义的异常\n",
      "name 'name' is not defined\n"
     ]
    }
   ],
   "execution_count": 58
  },
  {
   "metadata": {},
   "cell_type": "markdown",
   "source": [
    "**捕获多个异常**  \n",
    "- 把要捕获的异常类型的名字放到except 后，并使用元组的方式进行书写。  \n"
   ]
  },
  {
   "metadata": {
    "ExecuteTime": {
     "end_time": "2024-05-26T09:11:26.165037Z",
     "start_time": "2024-05-26T09:11:26.157794Z"
    }
   },
   "cell_type": "code",
   "source": [
    "# 捕获多个异常\n",
    "try:\n",
    "    1 / 0\n",
    "    print(name)\n",
    "except (NameError, ZeroDivisionError) as e:\n",
    "    print(\"出现了变量未定义 或者 除以0的异常错误\")\n",
    "    print(e)"
   ],
   "outputs": [
    {
     "name": "stdout",
     "output_type": "stream",
     "text": [
      "出现了变量未定义 或者 除以0的异常错误\n",
      "division by zero\n"
     ]
    }
   ],
   "execution_count": 56
  },
  {
   "metadata": {},
   "cell_type": "markdown",
   "source": [
    "**捕获所有异常**\n",
    "> try:  \n",
    "    print(name)  \n",
    "except **Exception** as e:  \n",
    "    print(e)  \n",
    "    \n",
    "- 异常的种类多种多样，如果想要不管什么类型的异常都能捕获到，那么使用:      \n",
    "- **except:**  \n",
    "- **except Exception:**  \n",
    "- 两种方式捕获全部的异常  \n",
    "  \n",
    "  \n",
    "\n",
    "**异常else**  \n",
    "- else表示的是如果没有异常要执行的代码\n",
    "\n",
    "**finally**  \n",
    "- finally表示的是无论是否异常都要执行的代码，例如关闭文件"
   ]
  },
  {
   "metadata": {
    "ExecuteTime": {
     "end_time": "2024-05-26T09:14:33.953990Z",
     "start_time": "2024-05-26T09:14:33.945746Z"
    }
   },
   "cell_type": "code",
   "source": [
    "# 捕获所有异常\n",
    "try:\n",
    "    f = open(\"./abc.txt\", \"r\", encoding=\"UTF-8\")\n",
    "except Exception as e:\n",
    "    print(\"出现异常了\")\n",
    "    f = open(\"./abc.txt\", \"w\", encoding=\"UTF-8\")\n",
    "else:\n",
    "    print(\"好高兴，没有异常。\")\n",
    "finally:\n",
    "    print(\"我是finally，有没有异常我都要执行\")\n",
    "    f.close()"
   ],
   "outputs": [
    {
     "name": "stdout",
     "output_type": "stream",
     "text": [
      "好高兴，没有异常。\n",
      "我是finally，有没有异常我都要执行\n"
     ]
    }
   ],
   "execution_count": 59
  },
  {
   "metadata": {},
   "cell_type": "markdown",
   "source": [
    "## 异常的传递性\n",
    "\n",
    "- 当函数func01中发生异常, 并且没有捕获处理这个异常的时候, 异常会传递到函数func02  \n",
    "- 当func02也没有捕获处理这个异常的时候，main函数会捕获这个异常，这就是异常的传递性  \n",
    "- 当所有函数都没有捕获异常的时候，程序就会报错  \n",
    "- 可以在main函数中设置异常捕获： \n",
    "  - 由于无论在整个程序哪里发生异常，最终都会传递到main函数中，这样就可以确保所有的异常都会被捕获  \n"
   ]
  },
  {
   "metadata": {
    "ExecuteTime": {
     "end_time": "2024-05-26T09:21:34.025112Z",
     "start_time": "2024-05-26T09:21:34.015593Z"
    }
   },
   "cell_type": "code",
   "source": [
    "# 定义一个出现异常的方法\n",
    "def func1():\n",
    "    print(\"func1 开始执行\")\n",
    "    num = 1 / 0     # 肯定有异常，除以0的异常\n",
    "    print(\"func1 结束执行\")\n",
    "# 定义一个无异常的方法，调用上面的方法\n",
    "\n",
    "def func2():\n",
    "    print(\"func2 开始执行\")\n",
    "    func1()\n",
    "    print(\"func2 结束执行\")\n",
    "# 定义一个方法，调用上面的方法\n",
    "\n",
    "def main():\n",
    "    try:\n",
    "        func2()\n",
    "    except Exception as e:\n",
    "        print(f\"出现异常了，异常的信息是：{e}\")\n",
    "\n",
    "main()\n"
   ],
   "outputs": [
    {
     "name": "stdout",
     "output_type": "stream",
     "text": [
      "func2 开始执行\n",
      "func1 开始执行\n",
      "出现异常了，异常的信息是：division by zero\n"
     ]
    }
   ],
   "execution_count": 60
  },
  {
   "metadata": {},
   "cell_type": "markdown",
   "source": [
    "##  模块导入\n",
    "\n",
    "\n",
    "\n",
    "\n",
    "- 模块在使用前的导入语法:  \n",
    "**[from 模块名] import [模块 | 类 | 变量 | 函数 | * ] [ as 别名 ]**  \n",
    "   \n",
    "  \n",
    " \n",
    "- from可以省略，直接import即可  \n",
    "- as别名可以省略  \n",
    "- 通过\".\"来确定层级关系  \n",
    "- 模块的导入一般写在代码文件的开头位置  \n",
    "  \n",
    "\n",
    "- 常用的组合形式如：  \n",
    "  - import 模块名\n",
    "    - **使用:** 模块名.功能名()     \n",
    "  - from 模块名 import 类、变量、方法等\n",
    "    - **使用:**  功能名()  \n",
    "  - from 模块名 import *  \n",
    "    - **使用:** 功能名()  \n",
    "  - import 模块名 as 别名  （模块别名）\n",
    "    - **使用:** 别名.功能名()   \n",
    "  - from 模块名 import 功能名 as 别名 （功能别名）\n",
    "    - **使用:** 别名()\n"
   ]
  },
  {
   "metadata": {},
   "cell_type": "markdown",
   "source": [
    "## 自定义模块\n",
    "\n",
    "**if __name__ == '__main__':**  \n",
    "- 只有当程序是直接执行的才会进入if内部，如果是被导入的，则if无法进入    "
   ]
  },
  {
   "metadata": {},
   "cell_type": "code",
   "outputs": [],
   "execution_count": null,
   "source": [
    "def test(a, b):\n",
    "    print(a + b)\n",
    "\n",
    "# 只在当前文件中调用该函数，其他导入的文件内不符合该条件，则不执行test函数调用\n",
    "if __name__ == '__main__':\n",
    "    test (1, 1) # 测试模块 测试代码test(1,1) 但当该模块被引用时，不会自动执行test()"
   ]
  },
  {
   "metadata": {},
   "cell_type": "markdown",
   "source": [
    "**导入多个模块**  \n",
    "- 不同模块，同名的功能，如果都被导入，那么后导入的会覆盖先导入的"
   ]
  },
  {
   "metadata": {
    "ExecuteTime": {
     "end_time": "2024-05-26T11:39:51.034767Z",
     "start_time": "2024-05-26T11:39:51.018594Z"
    }
   },
   "cell_type": "code",
   "source": [
    "# 导入不同模块的同名功能\n",
    "from helloworld import hello_world\n",
    "from world import hello_world\n",
    "\n",
    "hello_world() # 调用的时后面导入的 world模块的函数"
   ],
   "outputs": [
    {
     "name": "stdout",
     "output_type": "stream",
     "text": [
      "World!\n"
     ]
    }
   ],
   "execution_count": 1
  },
  {
   "metadata": {},
   "cell_type": "markdown",
   "source": [
    "`__all__`    \n",
    "- 可以控制import *的时候哪些功能可以被导入  \n",
    "- 如果一个模块文件中有`__all__`变量，当使用`from xxx import *`导入时，只能导入这个列表中的元素  \n",
    "- 例： __all__ = ['函数名1','元素2']，引入该模块时，只能导入这两个元素\n",
    "- `__all__`针对的是 `from ... import * ` 这种方式，对 `import xxx` 这种方式无效\n"
   ]
  },
  {
   "metadata": {},
   "cell_type": "code",
   "outputs": [],
   "execution_count": null,
   "source": [
    "# import_test.py\n",
    "# __all__ = ['printA']\n",
    "# \n",
    "# def printA():\n",
    "#     print(\"A\")\n",
    "# \n",
    "# def printB():\n",
    "#     print(\"B\")\n"
   ]
  },
  {
   "metadata": {
    "ExecuteTime": {
     "end_time": "2024-05-26T12:05:37.249275Z",
     "start_time": "2024-05-26T12:05:37.243643Z"
    }
   },
   "cell_type": "code",
   "source": [
    "from import_test import *\n",
    "\n",
    "printA()\n",
    "# printB() 无法导入\n"
   ],
   "outputs": [
    {
     "name": "stdout",
     "output_type": "stream",
     "text": [
      "A\n"
     ]
    }
   ],
   "execution_count": 9
  },
  {
   "metadata": {},
   "cell_type": "markdown",
   "source": [
    "## python 包 \n",
    "(一个文件夹)  \n",
    "  \n",
    "  \n",
    "\n",
    "- **新建包**  \n",
    "  - `[New]`      `[Python Package]`    `输入包名`    `[OK]`     `新建功能模块`(有联系的模块)  \n",
    "  - 新建包后，包内部会自动创建`__init__.py`文件，这个文件控制着包的导入行为\n",
    "\n",
    "- **导入包**\n",
    "  - 方式一： \n",
    "    - import 包名.模块名  \n",
    "    - 包名.模块名.目标  \n",
    "  - 方式二：（必须在`__init__.py`文件中添加`__all__ = []`，控制允许导入的模块列表）  \n",
    "    - from 包名 import   *      \n",
    "    - 模块名.目标\n",
    "\n",
    "-  **__init__.py**作用：  \n",
    "    - 创建包会默认自动创建的文件，通过这个文件来表示一个文件夹是Python的包，而非普通的文件夹。\n",
    "    - 在里面写入`__all__ = []`，控制允许导入的模块列表\n",
    "  \n",
    "  \n",
    "\n",
    "- **安装包**\n",
    "  - pip install -i https://pypi.tuna.tsinghua.edu.cn/simple 包名称"
   ]
  },
  {
   "metadata": {},
   "cell_type": "markdown",
   "source": [
    "# 案例一  数据可视化\n",
    "\n",
    "## json\n",
    "  \n",
    "- 是一种轻量级的数据交互格式,，采用完全独立于编程语言的文本格式来存储和表示数据（字符串）    \n",
    "- 主要功能：json就是一种在各个编程语言中流通的数据格式，负责不同编程语言中的数据传递和交互  \n",
    "- JSON可以直接和Python的**字典**或**列表**进行无缝转换  \n",
    "  \n",
    "  \n",
    "\n",
    "**json数据的格式**：   \n",
    "`{\"name\":\"admin\",\"age\":18}` 字典   \n",
    "`[{\"name\":\"admin\",\"age\":18},{\"name\":\"root\",\"age\":16},{\"name\":\"张三\",\"age\":20}] ` 元素都为字典的列表  \n",
    "  \n",
    "\n",
    "**Python数据和Json数据的相互转化**  \n",
    "- json.dumps(data)：python转json  \n",
    "- json.loads(data)：json转python  \n",
    "\n",
    " \n"
   ]
  },
  {
   "metadata": {
    "ExecuteTime": {
     "end_time": "2024-05-28T12:19:25.649868Z",
     "start_time": "2024-05-28T12:19:25.639556Z"
    }
   },
   "cell_type": "code",
   "source": [
    "# 列表内每一个元素都是字典，将其转换为JSON\n",
    "import json\n",
    "data = [{\"name\": \"张大山\", \"age\": 11}, {\"name\": \"王大锤\", \"age\": 13}, {\"name\": \"赵小虎\", \"age\": 16}]\n",
    "json_str = json.dumps(data, ensure_ascii=False) # ensure_ascii=False解决中文问题,表示不适用ASCII码转换，而是将内容直接输出，\n",
    "print(type(json_str))\n",
    "print(json_str)"
   ],
   "outputs": [
    {
     "name": "stdout",
     "output_type": "stream",
     "text": [
      "<class 'str'>\n",
      "[{\"name\": \"张大山\", \"age\": 11}, {\"name\": \"王大锤\", \"age\": 13}, {\"name\": \"赵小虎\", \"age\": 16}]\n"
     ]
    }
   ],
   "execution_count": 1
  },
  {
   "metadata": {
    "ExecuteTime": {
     "end_time": "2024-05-28T12:23:16.441073Z",
     "start_time": "2024-05-28T12:23:16.434368Z"
    }
   },
   "cell_type": "code",
   "source": [
    "# 准备字典，将字典转换为JSON\n",
    "\n",
    "d = {\"name\":\"周杰轮\", \"addr\":\"台北\"}\n",
    "json_str = json.dumps(d, ensure_ascii=False) \n",
    "print(type(json_str))\n",
    "print(json_str)"
   ],
   "outputs": [
    {
     "name": "stdout",
     "output_type": "stream",
     "text": [
      "<class 'str'>\n",
      "{\"name\": \"周杰轮\", \"addr\": \"台北\"}\n"
     ]
    }
   ],
   "execution_count": 4
  },
  {
   "metadata": {
    "ExecuteTime": {
     "end_time": "2024-05-28T12:20:11.310301Z",
     "start_time": "2024-05-28T12:20:11.303977Z"
    }
   },
   "cell_type": "code",
   "source": [
    "# 将JSON字符串转换为Python数据类型[{k: v, k: v}, {k: v, k: v}]\n",
    "s = '[{\"name\": \"张大山\", \"age\": 11}, {\"name\": \"王大锤\", \"age\": 13}, {\"name\": \"赵小虎\", \"age\": 16}]'\n",
    "l = json.loads(s)\n",
    "print(type(l))\n",
    "print(l)"
   ],
   "outputs": [
    {
     "name": "stdout",
     "output_type": "stream",
     "text": [
      "<class 'list'>\n",
      "[{'name': '张大山', 'age': 11}, {'name': '王大锤', 'age': 13}, {'name': '赵小虎', 'age': 16}]\n"
     ]
    }
   ],
   "execution_count": 2
  },
  {
   "metadata": {
    "ExecuteTime": {
     "end_time": "2024-05-28T12:20:28.752315Z",
     "start_time": "2024-05-28T12:20:28.747270Z"
    }
   },
   "cell_type": "code",
   "source": [
    "#将JSON字符串转换为Python数据类型{k: v, k: v}\n",
    "s = '{\"name\": \"周杰轮\", \"addr\": \"台北\"}'\n",
    "d = json.loads(s)\n",
    "print(type(d))\n",
    "print(d)"
   ],
   "outputs": [
    {
     "name": "stdout",
     "output_type": "stream",
     "text": [
      "<class 'dict'>\n",
      "{'name': '周杰轮', 'addr': '台北'}\n"
     ]
    }
   ],
   "execution_count": 3
  },
  {
   "metadata": {},
   "cell_type": "markdown",
   "source": [
    "## pyecharts模块  \n",
    "\n",
    "**系列配置**：针对具体的轴数据进行配置   \n",
    "**全局配置选项**:`set_global_opts`针对整个图像进行设置（通用配置设置，如标题、图例、工具箱等）  \n",
    "https://pyecharts.org/  网页中可查看详细   "
   ]
  },
  {
   "metadata": {},
   "cell_type": "markdown",
   "source": "### 基础折线图"
  },
  {
   "metadata": {
    "ExecuteTime": {
     "end_time": "2024-05-28T12:55:17.302964Z",
     "start_time": "2024-05-28T12:55:17.288387Z"
    }
   },
   "cell_type": "code",
   "source": [
    "# 导包\n",
    "from pyecharts.charts import Line\n",
    "from pyecharts.options import TitleOpts, LegendOpts, ToolboxOpts, VisualMapOpts #全局控制项\n",
    "# 创建一个折线图对象\n",
    "line = Line() # 空的二维坐标系\n",
    "# 给折线图对象添加x轴的数据\n",
    "line.add_xaxis([\"中国\", \"美国\", \"英国\"])\n",
    "# 给折线图对象添加y轴的数据\n",
    "line.add_yaxis(\"GDP\", [30, 20, 10]) # y轴数据名称GDP\n",
    "\n",
    "# 设置全局配置项set_global_opts来设置,\n",
    "line.set_global_opts(\n",
    "    title_opts=TitleOpts(title=\"GDP展示\", pos_left=\"center\", pos_bottom=\"1%\"),\n",
    "    # 标题居住 距离底部1%\n",
    "    legend_opts=LegendOpts(is_show=True),\n",
    "    toolbox_opts=ToolboxOpts(is_show=True),\n",
    "    visualmap_opts=VisualMapOpts(is_show=True),\n",
    ")\n",
    "\n",
    "# 通过render方法，将代码生成为图像\n",
    "line.render()"
   ],
   "outputs": [
    {
     "data": {
      "text/plain": [
       "'D:\\\\CodeProgram\\\\python\\\\Alearn\\\\render.html'"
      ]
     },
     "execution_count": 13,
     "metadata": {},
     "output_type": "execute_result"
    }
   ],
   "execution_count": 13
  },
  {
   "metadata": {},
   "cell_type": "markdown",
   "source": "#### 折线图案例"
  },
  {
   "metadata": {
    "ExecuteTime": {
     "end_time": "2024-05-28T13:33:44.202193Z",
     "start_time": "2024-05-28T13:33:44.184803Z"
    }
   },
   "cell_type": "code",
   "source": [
    "\"\"\"\n",
    "演示可视化需求1：折线图开发\n",
    "\"\"\"\n",
    "import json\n",
    "from pyecharts.charts import Line\n",
    "from pyecharts.options import TitleOpts, LabelOpts\n",
    "\n",
    "# 处理数据\n",
    "f_us = open(\"美国.txt\", \"r\", encoding=\"UTF-8\")\n",
    "us_data = f_us.read()   # 美国的全部内容\n",
    "\n",
    "f_jp = open(\"日本.txt\", \"r\", encoding=\"UTF-8\")\n",
    "jp_data = f_jp.read()   # 日本的全部内容\n",
    "\n",
    "f_in = open(\"印度.txt\", \"r\", encoding=\"UTF-8\")\n",
    "in_data = f_in.read()   # 印度的全部内容\n",
    "\n",
    "# 去掉不合JSON规范的开头\n",
    "us_data = us_data.replace(\"jsonp_1629344292311_69436(\", \"\")\n",
    "jp_data = jp_data.replace(\"jsonp_1629350871167_29498(\", \"\")\n",
    "in_data = in_data.replace(\"jsonp_1629350745930_63180(\", \"\")\n",
    "\n",
    "# 去掉不合JSON规范的结尾\n",
    "us_data = us_data[:-2]\n",
    "jp_data = jp_data[:-2]\n",
    "in_data = in_data[:-2]\n",
    "\n",
    "# JSON转Python字典\n",
    "us_dict = json.loads(us_data)\n",
    "jp_dict = json.loads(jp_data)\n",
    "in_dict = json.loads(in_data)\n",
    "\n",
    "# 获取trend key\n",
    "us_trend_data = us_dict['data'][0]['trend'] # data为一个列表只有一个元素\n",
    "jp_trend_data = jp_dict['data'][0]['trend']\n",
    "in_trend_data = in_dict['data'][0]['trend']\n",
    "\n",
    "# 获取日期数据，用于x轴，取2020年（到314下标结束）\n",
    "us_x_data = us_trend_data['updateDate'][:314]\n",
    "jp_x_data = jp_trend_data['updateDate'][:314]\n",
    "in_x_data = in_trend_data['updateDate'][:314]\n",
    "\n",
    "# 获取确认数据，用于y轴，取2020年（到314下标结束）\n",
    "us_y_data = us_trend_data['list'][0]['data'][:314]\n",
    "jp_y_data = jp_trend_data['list'][0]['data'][:314]\n",
    "in_y_data = in_trend_data['list'][0]['data'][:314]\n",
    "\n",
    "# 生成图表\n",
    "line = Line()       # 构建折线图对象\n",
    "# 添加x轴数据\n",
    "line.add_xaxis(us_x_data)   # x轴是公用的，所以使用一个国家的数据即可\n",
    "# 添加y轴数据\n",
    "line.add_yaxis(\"美国确诊人数\", us_y_data, label_opts=LabelOpts(is_show=False))     # 添加美国的y轴数据\n",
    "line.add_yaxis(\"日本确诊人数\", jp_y_data, label_opts=LabelOpts(is_show=False))     # 添加日本的y轴数据\n",
    "line.add_yaxis(\"印度确诊人数\", in_y_data, label_opts=LabelOpts(is_show=False))     # 添加印度的y轴数据,数据不显示\n",
    "\n",
    "# 设置全局选项\n",
    "line.set_global_opts(\n",
    "    # 标题设置\n",
    "    title_opts=TitleOpts(title=\"2020年美日印三国确诊人数对比折线图\", pos_left=\"center\", pos_bottom=\"1%\")\n",
    ")\n",
    "\n",
    "# 调用render方法，生成图表\n",
    "line.render()\n",
    "# 关闭文件对象\n",
    "f_us.close()\n",
    "f_jp.close()\n",
    "f_in.close()\n"
   ],
   "outputs": [],
   "execution_count": 24
  },
  {
   "metadata": {},
   "cell_type": "markdown",
   "source": "### 基础地图"
  },
  {
   "metadata": {
    "ExecuteTime": {
     "end_time": "2024-05-29T11:58:53.865495Z",
     "start_time": "2024-05-29T11:58:53.855828Z"
    }
   },
   "cell_type": "code",
   "source": [
    "\"\"\"\n",
    "地图可视化的基本使用\n",
    "\"\"\"\n",
    "from pyecharts.charts import Map\n",
    "from pyecharts.options import VisualMapOpts\n",
    "\n",
    "# 准备地图对象\n",
    "map = Map()\n",
    "# 准备数据\n",
    "data = [\n",
    "    (\"北京市\", 99),\n",
    "    (\"上海市\", 199),\n",
    "    (\"湖南省\", 299),\n",
    "    (\"台湾省\", 399),\n",
    "    (\"广东省\", 499)\n",
    "]\n",
    "# 添加数据\n",
    "map.add(\"测试地图\", data, \"china\") # 名称 数据 地图类型\n",
    "\n",
    "# 设置全局选项\n",
    "map.set_global_opts(\n",
    "    visualmap_opts=VisualMapOpts(\n",
    "        is_show=True,\n",
    "        is_piecewise=True, # 开启手动校准范围\n",
    "        pieces=[ # 具体范围\n",
    "            {\"min\": 1, \"max\": 9, \"label\": \"1-9\", \"color\": \"#CCFFFF\"}, # 1-9是这个颜色\n",
    "            {\"min\": 10, \"max\": 99, \"label\": \"10-99\", \"color\": \"#FF6666\"},\n",
    "            {\"min\": 100, \"max\": 500, \"label\": \"100-500\", \"color\": \"#990033\"}\n",
    "        ]\n",
    "    )\n",
    ")\n",
    "\n",
    "# 绘图\n",
    "map.render()\n"
   ],
   "outputs": [
    {
     "data": {
      "text/plain": [
       "'D:\\\\CodeProgram\\\\python\\\\Alearn\\\\render.html'"
      ]
     },
     "execution_count": 10,
     "metadata": {},
     "output_type": "execute_result"
    }
   ],
   "execution_count": 10
  },
  {
   "metadata": {},
   "cell_type": "markdown",
   "source": "#### 地图案例"
  },
  {
   "metadata": {
    "ExecuteTime": {
     "end_time": "2024-05-29T12:09:19.217234Z",
     "start_time": "2024-05-29T12:09:19.209605Z"
    }
   },
   "cell_type": "code",
   "source": [
    "\"\"\"\n",
    "河南省疫情地图开发\n",
    "\"\"\"\n",
    "import json\n",
    "from pyecharts.charts import Map\n",
    "from pyecharts.options import *\n",
    "\n",
    "# 读取文件\n",
    "f = open(\"疫情.txt\", \"r\", encoding=\"UTF-8\")\n",
    "data = f.read()\n",
    "# 关闭文件\n",
    "f.close()\n",
    "# 获取河南省数据\n",
    "# json数据转换为python字典\n",
    "data_dict = json.loads(data)\n",
    "# 取到河南省数据\n",
    "cities_data = data_dict[\"areaTree\"][0][\"children\"][3][\"children\"]\n",
    "\n",
    "# 准备数据为元组并放入list\n",
    "data_list = []\n",
    "for city_data in cities_data:\n",
    "    city_name = city_data[\"name\"] + \"市\"\n",
    "    city_confirm = city_data[\"total\"][\"confirm\"]\n",
    "    data_list.append((city_name, city_confirm)) # 把名字和确诊人数打包成 元组加入列表中\n",
    "\n",
    "# 手动添加济源市的数据\n",
    "data_list.append((\"济源市\", 5))\n",
    "\n",
    "# 构建地图\n",
    "map = Map()\n",
    "map.add(\"河南省疫情分布\", data_list, \"河南\") #河南省地图模式\n",
    "# 设置全局选项\n",
    "map.set_global_opts(\n",
    "    title_opts=TitleOpts(title=\"河南省疫情地图\"),\n",
    "    visualmap_opts=VisualMapOpts(\n",
    "        is_show=True,           # 是否显示\n",
    "        is_piecewise=True,      # 是否分段\n",
    "        pieces=[\n",
    "            {\"min\": 1, \"max\": 99, \"lable\": \"1~99人\", \"color\": \"#CCFFFF\"},\n",
    "            {\"min\": 100, \"max\": 999, \"lable\": \"100~9999人\", \"color\": \"#FFFF99\"},\n",
    "            {\"min\": 1000, \"max\": 4999, \"lable\": \"1000~4999人\", \"color\": \"#FF9966\"},\n",
    "            {\"min\": 5000, \"max\": 9999, \"lable\": \"5000~99999人\", \"color\": \"#FF6666\"},\n",
    "            {\"min\": 10000, \"max\": 99999, \"lable\": \"10000~99999人\", \"color\": \"#CC3333\"},\n",
    "            {\"min\": 100000, \"lable\": \"100000+\", \"color\": \"#990033\"},\n",
    "        ]\n",
    "    )\n",
    ")\n",
    "\n",
    "# 绘图\n",
    "map.render(\"河南省疫情地图.html\") # 生成的图重命名\n"
   ],
   "outputs": [
    {
     "name": "stdout",
     "output_type": "stream",
     "text": [
      "[('郑州市', 295), ('境外输入市', 79), ('商丘市', 106), ('开封市', 33), ('驻马店市', 143), ('安阳市', 54), ('许昌市', 40), ('三门峡市', 7), ('漯河市', 36), ('周口市', 76), ('南阳市', 156), ('信阳市', 274), ('济源示范区市', 5), ('新乡市', 57), ('焦作市', 32), ('平顶山市', 58), ('洛阳市', 31), ('濮阳市', 17), ('鹤壁市', 19), ('地区待确认市', 0), ('济源市', 5), ('台湾', 15880), ('江苏', 1576), ('云南', 982), ('河南', 1518), ('上海', 2408), ('湖南', 1181), ('湖北', 68286), ('广东', 2978), ('香港', 12039), ('福建', 773), ('浙江', 1417), ('山东', 923), ('四川', 1179), ('天津', 445), ('北京', 1107), ('陕西', 668), ('广西', 289), ('辽宁', 441), ('重庆', 603), ('澳门', 63), ('甘肃', 199), ('山西', 255), ('海南', 190), ('内蒙古', 410), ('吉林', 574), ('黑龙江', 1613), ('宁夏', 77), ('青海', 18), ('江西', 937), ('贵州', 147), ('西藏', 1), ('安徽', 1008), ('河北', 1317), ('新疆', 980), ('台湾', 15880), ('江苏', 1576), ('云南', 982), ('河南', 1518), ('上海', 2408), ('湖南', 1181), ('湖北', 68286), ('广东', 2978), ('香港', 12039), ('福建', 773), ('浙江', 1417), ('山东', 923), ('四川', 1179), ('天津', 445), ('北京', 1107), ('陕西', 668), ('广西', 289), ('辽宁', 441), ('重庆', 603), ('澳门', 63), ('甘肃', 199), ('山西', 255), ('海南', 190), ('内蒙古', 410), ('吉林', 574), ('黑龙江', 1613), ('宁夏', 77), ('青海', 18), ('江西', 937), ('贵州', 147), ('西藏', 1), ('安徽', 1008), ('河北', 1317), ('新疆', 980), ('台湾', 15880), ('江苏', 1576), ('云南', 982), ('河南', 1518), ('上海', 2408), ('湖南', 1181), ('湖北', 68286), ('广东', 2978), ('香港', 12039), ('福建', 773), ('浙江', 1417), ('山东', 923), ('四川', 1179), ('天津', 445), ('北京', 1107), ('陕西', 668), ('广西', 289), ('辽宁', 441), ('重庆', 603), ('澳门', 63), ('甘肃', 199), ('山西', 255), ('海南', 190), ('内蒙古', 410), ('吉林', 574), ('黑龙江', 1613), ('宁夏', 77), ('青海', 18), ('江西', 937), ('贵州', 147), ('西藏', 1), ('安徽', 1008), ('河北', 1317), ('新疆', 980)]\n"
     ]
    }
   ],
   "execution_count": 17
  },
  {
   "metadata": {},
   "cell_type": "markdown",
   "source": [
    "### 基础柱状图构建  \n",
    "- 同基础折线图"
   ]
  },
  {
   "metadata": {
    "ExecuteTime": {
     "end_time": "2024-05-29T12:48:54.702875Z",
     "start_time": "2024-05-29T12:48:54.695650Z"
    }
   },
   "cell_type": "code",
   "source": [
    "\"\"\"\n",
    "基础柱状图的开发\n",
    "\"\"\"\n",
    "from pyecharts.charts import Bar\n",
    "from pyecharts.options import LabelOpts\n",
    "# 使用Bar构建基础柱状图\n",
    "bar = Bar()\n",
    "# 添加x轴的数据\n",
    "bar.add_xaxis([\"中国\", \"美国\", \"英国\"])\n",
    "# 添加y轴数据\n",
    "bar.add_yaxis(\"GDP\", [30, 20, 10], label_opts=LabelOpts(position=\"right\")) \n",
    "#名字 数据 设置数值标签在右侧\n",
    "# 反转x和y轴\n",
    "bar.reversal_axis()\n",
    "# 绘图\n",
    "bar.render()\n"
   ],
   "outputs": [
    {
     "data": {
      "text/plain": [
       "'D:\\\\CodeProgram\\\\python\\\\Alearn\\\\render.html'"
      ]
     },
     "execution_count": 26,
     "metadata": {},
     "output_type": "execute_result"
    }
   ],
   "execution_count": 26
  },
  {
   "metadata": {},
   "cell_type": "markdown",
   "source": [
    "#### 基础时间线柱状图  \n",
    "\n",
    "**Timeline()**：时间线  \n",
    "动态的描述一个趋势性的数据，轴上每一个点就是一个图表对象"
   ]
  },
  {
   "metadata": {
    "ExecuteTime": {
     "end_time": "2024-05-29T13:32:12.654490Z",
     "start_time": "2024-05-29T13:32:12.643807Z"
    }
   },
   "cell_type": "code",
   "source": [
    "\"\"\"\n",
    "带有时间线的柱状图开发\n",
    "\"\"\"\n",
    "from pyecharts.charts import Bar, Timeline\n",
    "from pyecharts.options import LabelOpts\n",
    "from pyecharts.globals import ThemeType\n",
    "\n",
    "bar1 = Bar()\n",
    "bar1.add_xaxis([\"中国\", \"美国\", \"英国\"])\n",
    "bar1.add_yaxis(\"GDP\", [30, 30, 20], label_opts=LabelOpts(position=\"right\"))\n",
    "bar1.reversal_axis()\n",
    "\n",
    "bar2 = Bar()\n",
    "bar2.add_xaxis([\"中国\", \"美国\", \"英国\"])\n",
    "bar2.add_yaxis(\"GDP\", [50, 50, 50], label_opts=LabelOpts(position=\"right\"))\n",
    "bar2.reversal_axis()\n",
    "\n",
    "bar3 = Bar()\n",
    "bar3.add_xaxis([\"中国\", \"美国\", \"英国\"])\n",
    "bar3.add_yaxis(\"GDP\", [70, 60, 60], label_opts=LabelOpts(position=\"right\"))\n",
    "bar3.reversal_axis()\n",
    "\n",
    "# 构建时间线对象\n",
    "timeline = Timeline({\"theme\": ThemeType.LIGHT}) # 设置主题\n",
    "# 在时间线内添加柱状图对象\n",
    "timeline.add(bar1, \"点1\") # 第一个点显示bar1图像\n",
    "timeline.add(bar2, \"点2\")\n",
    "timeline.add(bar3, \"点3\")\n",
    "\n",
    "# 自动播放设置\n",
    "timeline.add_schema(\n",
    "    play_interval=1000, # 自动播放的时间间隔，单位ms\n",
    "    is_timeline_show=True, # 是否在自动播放的时候显示时间线\n",
    "    is_auto_play=True, # 是否自动播放\n",
    "    is_loop_play=True # 是否循环播放\n",
    ")\n",
    "\n",
    "# 绘图是用时间线对象绘图，而不是bar对象了\n",
    "timeline.render()\n",
    "\n"
   ],
   "outputs": [
    {
     "data": {
      "text/plain": [
       "'D:\\\\CodeProgram\\\\python\\\\Alearn\\\\render.html'"
      ]
     },
     "execution_count": 43,
     "metadata": {},
     "output_type": "execute_result"
    }
   ],
   "execution_count": 43
  },
  {
   "metadata": {},
   "cell_type": "markdown",
   "source": "#### 动态柱状图案例"
  },
  {
   "metadata": {
    "ExecuteTime": {
     "end_time": "2024-05-29T14:11:41.310802Z",
     "start_time": "2024-05-29T14:11:41.233497Z"
    }
   },
   "cell_type": "code",
   "source": [
    "\"\"\"\n",
    "GDP动态柱状图开发 1960-2019全球GDP前8国家\n",
    "\"\"\"\n",
    "from pyecharts.charts import Bar, Timeline\n",
    "from pyecharts.options import *\n",
    "from pyecharts.globals import ThemeType\n",
    "\n",
    "# 读取数据\n",
    "f = open(\"1960-2019全球GDP数据.csv\", \"r\", encoding=\"GB2312\")\n",
    "data_lines = f.readlines() #一次性读取，返回一个列表，每一行的数据为一个元素\n",
    "# 关闭文件\n",
    "f.close()\n",
    "# 删除第一条数据\n",
    "data_lines.pop(0)\n",
    "# 将数据转换为字典存储，格式为：\n",
    "# { 年份: [ [国家, gdp], [国家,gdp], ......  ], 年份: [ [国家, gdp], [国家,gdp], ......  ], ...... }\n",
    "# { 1960: [ [美国, 123], [中国,321], ......  ], 1961: [ [美国, 123], [中国,321], ......  ], ...... }\n",
    "# 先定义一个字典对象\n",
    "data_dict = {}\n",
    "for line in data_lines: # 原本都是字符串\n",
    "    year = int(line.split(\",\")[0])      # 年份\n",
    "    country = line.split(\",\")[1]        # 国家\n",
    "    gdp = float(line.split(\",\")[2])     # gdp数据 科学计数法可以强制转换成float变正常数字\n",
    "    # 如何判断字典里面有没有指定的key呢？\n",
    "    try:\n",
    "        data_dict[year].append([country, gdp]) \n",
    "        # 先前添加过这个年份，则在对应的年份列表里添加[country, gdp]元素\n",
    "    except KeyError: #第一次添加这个年份信息\n",
    "        data_dict[year] = [] #让key为year的值为一个列表\n",
    "        data_dict[year].append([country, gdp])\n",
    "\n",
    "# print(data_dict[1960]) #没有对应1960会报错\n",
    "# 创建时间线对象\n",
    "timeline = Timeline({\"theme\": ThemeType.LIGHT})\n",
    "# 排序年份\n",
    "sorted_year_list = sorted(data_dict.keys()) #把字典的key：year排序\n",
    "for year in sorted_year_list: # 再把每个year对应的值排序\n",
    "    data_dict[year].sort(key=lambda element: element[1], reverse=True) \n",
    "    # 排序依据为列表的第二个元素，高到低排序\n",
    "    # 取出本年份前8名的国家\n",
    "    year_data = data_dict[year][0:8]\n",
    "    x_data = []\n",
    "    y_data = []\n",
    "    for country_gdp in year_data:\n",
    "        x_data.append(country_gdp[0])   # x轴添加国家\n",
    "        y_data.append(country_gdp[1] / 100000000)   # y轴添加gdp数据\n",
    "\n",
    "    # 构建柱状图\n",
    "    bar = Bar()\n",
    "    x_data.reverse() # 把轴的数据顺序反正，最大值的放上面\n",
    "    y_data.reverse() # y的数据也要对应反转\n",
    "    bar.add_xaxis(x_data)\n",
    "    bar.add_yaxis(\"GDP(亿)\", y_data, label_opts=LabelOpts(position=\"right\"))\n",
    "    # 反转x轴和y轴\n",
    "    bar.reversal_axis()\n",
    "    # 设置每一年的图表的标题\n",
    "    bar.set_global_opts(\n",
    "        title_opts=TitleOpts(title=f\"{year}年全球前8GDP数据\")\n",
    "    )\n",
    "    timeline.add(bar, str(year))\n",
    "\n",
    "\n",
    "# for循环每一年的数据，基于每一年的数据，创建每一年的bar对象\n",
    "# 在for中，将每一年的bar对象添加到时间线中\n",
    "\n",
    "# 设置时间线自动播放\n",
    "timeline.add_schema(\n",
    "    play_interval=1000,\n",
    "    is_timeline_show=True,\n",
    "    is_auto_play=True,\n",
    "    is_loop_play=False\n",
    ")\n",
    "# 绘图\n",
    "timeline.render()\n"
   ],
   "outputs": [
    {
     "data": {
      "text/plain": [
       "'D:\\\\CodeProgram\\\\python\\\\Alearn\\\\render.html'"
      ]
     },
     "execution_count": 44,
     "metadata": {},
     "output_type": "execute_result"
    }
   ],
   "execution_count": 44
  },
  {
   "metadata": {},
   "cell_type": "markdown",
   "source": "# 第六章面向对象  \n"
  },
  {
   "metadata": {},
   "cell_type": "markdown",
   "source": [
    "## 定义 \n",
    " ### 定义类    \n",
    ">```python \n",
    "> class 类名称（参数列表）：    \n",
    ">   成员变量 = 值    \n",
    ">   def 成员方法名称（self, 参数列表）：    \n",
    ">       方法体 \n",
    "> ```\n",
    "  \n",
    "   \n",
    "  \n",
    "  \n",
    "  \n",
    "\n",
    "### 成员方法的定义 \n",
    "> `__def 方法名称（self, 参数列表）__:`  \n",
    "> **self**关键字是成员方法定义的时候，必须填写   \n",
    "> 表示类对象本身的意思  \n",
    "> 只有通过self，成员方法才能访问类的成员变量  \n",
    "> self出现在形参列表中，但是不占用参数位置，无需理会  \n",
    "  \n",
    "  \n",
    "\n",
    "## 创建类\n",
    "`对象 = 类名称（）` \n",
    "  \n"
   ]
  },
  {
   "metadata": {
    "ExecuteTime": {
     "end_time": "2024-07-15T02:40:00.657992Z",
     "start_time": "2024-07-15T02:40:00.649341Z"
    }
   },
   "cell_type": "code",
   "source": [
    "\"\"\"\n",
    "演示面向对象类中的成员方法定义和使用\n",
    "\"\"\"\n",
    "\n",
    "# 定义一个带有成员方法的类\n",
    "class Student:\n",
    "    name = None     # 学生的姓名\n",
    "\n",
    "    def say_hi(self):\n",
    "        print(f\"大家好呀，我是{self.name}，欢迎大家多多关照\")\n",
    "\n",
    "\n",
    "    def say_hi2(self, msg):\n",
    "        print(f\"大家好，我是：{self.name}，{msg}\")\n",
    "\n",
    "\n",
    "stu = Student()\n",
    "stu.name = \"周杰轮\"\n",
    "stu.say_hi2(\"哎哟不错哟\")\n",
    "\n"
   ],
   "outputs": [
    {
     "name": "stdout",
     "output_type": "stream",
     "text": [
      "大家好，我是：周杰轮，哎哟不错哟\n"
     ]
    }
   ],
   "execution_count": 1
  },
  {
   "metadata": {},
   "cell_type": "markdown",
   "source": ""
  },
  {
   "metadata": {},
   "cell_type": "markdown",
   "source": [
    " ## 构造方法\n",
    "> `def __init__(self, 参数列表):`    \n",
    "> 构建类对象的时候会自动运行  \n",
    "> 构建类对象的传参会传递给构造方法，借此特性可以给成员变量赋值  \n",
    "> 构造方法不要忘记self关键字  \n",
    "> init前后都有2个下划线  "
   ]
  },
  {
   "metadata": {
    "ExecuteTime": {
     "end_time": "2024-07-15T02:59:40.020382Z",
     "start_time": "2024-07-15T02:59:40.015379Z"
    }
   },
   "cell_type": "code",
   "source": [
    "# 使用构造方法对成员变量进行赋值\n",
    "# 构造方法的名称：__init__\n",
    "\n",
    "class Student:\n",
    "\n",
    "    def __init__(self, name, age ,tel):\n",
    "        self.name = name\n",
    "        self.age = age\n",
    "        self.tel = tel\n",
    "        print(\"Student类创建了一个类对象\")\n",
    "\n",
    "stu = Student(\"周杰轮\", 31, \"18500006666\")\n",
    "print(stu.name)\n",
    "print(stu.age)\n",
    "print(stu.tel)\n",
    "\n"
   ],
   "outputs": [
    {
     "name": "stdout",
     "output_type": "stream",
     "text": [
      "Student类创建了一个类对象\n",
      "周杰轮\n",
      "31\n",
      "18500006666\n"
     ]
    }
   ],
   "execution_count": 2
  },
  {
   "metadata": {},
   "cell_type": "markdown",
   "source": [
    "## 内置方法\n",
    " \n",
    "1. `__str__()`:实现类对象转字符串 \n",
    "> 返回值：字符串    \n",
    "> 内容：自行定义    \n",
    "  \n",
    "  \n",
    "\n",
    "2. `__lt__()`:小于或大于比较  \n",
    "> 传入参数：other，另一个类对象  \n",
    "> 返回值：True 或 False  \n",
    "> 内容：自行定义  \n",
    "  \n",
    "  \n",
    "\n",
    "3. `__le__()`:小于等于或大于等于比较 \n",
    "> 传入参数：other，另一个类对象  \n",
    "> 返回值：True 或 False  \n",
    "> 内容：自行定义  \n",
    "  \n",
    "  \n",
    " \n",
    "4. `__eq__()`:相等比较\n",
    "> 传入参数：other，另一个类对象  \n",
    "> 返回值：True 或 False  \n",
    "> 内容：自行定义  \n"
   ]
  },
  {
   "metadata": {
    "ExecuteTime": {
     "end_time": "2024-07-16T01:41:01.840179Z",
     "start_time": "2024-07-16T01:41:01.832631Z"
    }
   },
   "cell_type": "code",
   "source": [
    "\"\"\"\n",
    "演示Python内置的各类魔术方法\n",
    "\"\"\"\n",
    "\n",
    "\n",
    "class Student:\n",
    "    def __init__(self, name, age):\n",
    "        self.name = name        # 学生姓名\n",
    "        self.age = age          # 学生年龄\n",
    "\n",
    "    # __str__魔术方法\n",
    "    def __str__(self):\n",
    "        return f\"Student类对象，name:{self.name}, age:{self.age}\"\n",
    "\n",
    "    # __lt__魔术方法\n",
    "    def __lt__(self, other):\n",
    "        return self.age < other.age\n",
    "\n",
    "    # __le__魔术方法\n",
    "    def __le__(self, other):\n",
    "        return self.age <= other.age\n",
    "\n",
    "    # __eq__魔术方法\n",
    "    def __eq__(self, other):\n",
    "        return self.age == other.age\n",
    "\n",
    "\n",
    "stu1 = Student(\"周杰轮\", 31)\n",
    "stu2 = Student(\"林俊节\", 36)\n",
    "print(stu1 == stu2)\n"
   ],
   "outputs": [
    {
     "name": "stdout",
     "output_type": "stream",
     "text": [
      "False\n"
     ]
    }
   ],
   "execution_count": 1
  },
  {
   "metadata": {},
   "cell_type": "markdown",
   "source": [
    "## 封装 \n",
    "- **私有成员变量**：变量名以__开头（2个下划线）\n",
    "- **私有成员方法**：方法名以__开头（2个下划线）\n"
   ]
  },
  {
   "metadata": {},
   "cell_type": "code",
   "outputs": [],
   "execution_count": null,
   "source": [
    "\"\"\"\n",
    "演示面向对象封装思想中私有成员的使用\n",
    "\"\"\"\n",
    "\n",
    "# 定义一个类，内含私有成员变量和私有成员方法\n",
    "class Phone:\n",
    "    __current_voltage = 0.5        # 当前手机运行电压\n",
    "\n",
    "\n",
    "    def __keep_single_core(self):\n",
    "        print(\"让CPU以单核模式运行\")\n",
    "\n",
    "\n",
    "    def call_by_5g(self):\n",
    "        if self.__current_voltage >= 1:\n",
    "            print(\"5g通话已开启\")\n",
    "        else:\n",
    "            self.__keep_single_core()\n",
    "            print(\"电量不足，无法使用5g通话，并已设置为单核运行进行省电。\")\n",
    "\n",
    "\n",
    "phone = Phone()\n",
    "phone.call_by_5g()\n",
    "\n"
   ]
  },
  {
   "metadata": {},
   "cell_type": "markdown",
   "source": [
    "### 继承  \n",
    "不含私有  \n",
    "1. **单继承**  \n",
    "> ```\n",
    "> class 子类名称（父类名称）:  \n",
    "> 类内容体    \n",
    "> ``` \n",
    ">    \n",
    "2. **多继承**  \n",
    "> ```\n",
    "> class 子类名称（父类名称1，父类名称2，父类名称3）：  \n",
    "> 类内容体   \n",
    "> ```  \n",
    "> 多个父类中，如果有同名的成员，那么默认以继承顺序（从左到右）为优先级。  \n",
    "> 先继承的保留，后继承的被覆盖\n",
    "  \n",
    "\n",
    "3. **pass**  \n",
    "> 占位语句，用来保证函数（方法）或类定义的完整性，表示无内容，空的意思\n"
   ]
  },
  {
   "metadata": {},
   "cell_type": "code",
   "outputs": [],
   "execution_count": null,
   "source": [
    "# 演示单继承\n",
    "class Phone:\n",
    "    IMEI = None     # 序列号\n",
    "    producer = \"ITCAST\" # 厂商\n",
    "\n",
    "\n",
    "    def call_by_4g(self):\n",
    "        print(\"4g通话\")\n",
    "\n",
    "\n",
    "class Phone2022(Phone):\n",
    "    face_id = \"10001\"       # 面部识别ID\n",
    "\n",
    "\n",
    "    def call_by_5g(self):\n",
    "        print(\"2022年新功能：5g通话\")\n",
    "\n",
    "\n",
    "phone = Phone2022()\n",
    "print(phone.producer)\n",
    "phone.call_by_4g()\n",
    "phone.call_by_5g()\n",
    "# 演示多继承\n",
    "class NFCReader:\n",
    "    nfc_type = \"第五代\"\n",
    "    producer = \"HM\"\n",
    "\n",
    "    def read_card(self):\n",
    "        print(\"NFC读卡\")\n",
    "\n",
    "    def write_card(self):\n",
    "        print(\"NFC写卡\")\n",
    "\n",
    "\n",
    "class RemoteControl:\n",
    "    rc_type = \"红外遥控\"\n",
    "\n",
    "    def control(self):\n",
    "        print(\"红外遥控开启了\")\n",
    "\n",
    "\n",
    "class MyPhone(Phone, NFCReader, RemoteControl):\n",
    "    pass\n",
    "\n",
    "\n",
    "phone = MyPhone()\n",
    "phone.call_by_4g()\n",
    "phone.read_card()\n",
    "phone.write_card()\n",
    "phone.control()\n",
    "\n",
    "print(phone.producer)\n",
    "\n",
    "\n",
    "\n",
    "# 演示多继承下，父类成员名一致的场景\n"
   ]
  },
  {
   "metadata": {},
   "cell_type": "markdown",
   "source": [
    "## 重写  \n",
    "> 子类中定义和父类中同名的方法，称为重写  \n",
    "> 重写的时候，子类方法的名称和参数列表必须和父类方法一致  \n",
    "> 重写的时候，子类方法必须使用`super`关键字调用父类方法\n",
    "\n",
    "**在子类中调用被复写的父类**：\n",
    "> 只可以在子类内部调用父类的同名成员  \n",
    "> 子类的实体类对象调用默认是调用子类复写的\n",
    ">   \n",
    "> 1.**父类名**  \n",
    "> 使用成员变量：`父类名.成员变量`  \n",
    "> 使用成员方法：`父类名.成员方法(self)` \n",
    ">    \n",
    "> 2.**super()**  \n",
    "> 使用成员变量：`super().成员变量`  \n",
    "> 使用成员方法：`super().成员方法()` "
   ]
  },
  {
   "metadata": {},
   "cell_type": "code",
   "outputs": [],
   "execution_count": null,
   "source": [
    "class Phone:\n",
    "    IMEI = None             # 序列号\n",
    "    producer = \"ITCAST\"     # 厂商\n",
    "\n",
    "    def call_by_5g(self):\n",
    "        print(\"使用5g网络进行通话\")\n",
    "\n",
    "\n",
    "# 定义子类，复写父类成员\n",
    "class MyPhone(Phone):\n",
    "    producer = \"ITHEIMA\"        # 复写父类的成员属性\n",
    "\n",
    "    def call_by_5g(self):\n",
    "        print(\"开启CPU单核模式，确保通话的时候省电\")\n",
    "        # 方式1\n",
    "        # print(f\"父类的厂商是：{Phone.producer}\")\n",
    "        # Phone.call_by_5g(self)\n",
    "        # 方式2\n",
    "        print(f\"父类的厂商是：{super().producer}\")\n",
    "        super().call_by_5g()\n",
    "        print(\"关闭CPU单核模式，确保性能\")\n",
    "\n",
    "phone = MyPhone()\n",
    "phone.call_by_5g()\n",
    "print(phone.producer)\n",
    "\n",
    "# 在子类中，调用父类成员"
   ]
  },
  {
   "metadata": {},
   "cell_type": "markdown",
   "source": [
    "## 注解  \n",
    "1. **类型注解**：ctrl + p弹出提示   并不会真正的对类型做验证和判断  \n",
    "> 元组类型设置类型详细注解，需要将每一个元素都标记出来  \n",
    "> 字典类型设置类型详细注解，需要2个类型，第一个是key第二个是value  \n",
    "> 可以在注释中进行类型注解  \n",
    "> 为变量设置注解，显示的变量定义，一般无需注解  \n"
   ]
  },
  {
   "metadata": {
    "ExecuteTime": {
     "end_time": "2024-07-16T02:06:20.395027Z",
     "start_time": "2024-07-16T02:06:20.390514Z"
    }
   },
   "cell_type": "code",
   "source": [
    "\n",
    "import json\n",
    "import random\n",
    "\n",
    "# 基础数据类型注解\n",
    "var_1: int = 10\n",
    "var_2: str = \"itheima\"\n",
    "var_3: bool = True\n",
    "\n",
    "# 类对象类型注解\n",
    "class Student:\n",
    "    pass\n",
    "stu: Student = Student()\n",
    "\n",
    "# 基础容器类型简易注解\n",
    "# my_list: list = [1, 2, 3]\n",
    "# my_tuple: tuple = (1, 2, 3)\n",
    "# my_dict: dict = {\"itheima\": 666}\n",
    "# 容器类型详细注解\n",
    "my_list: list[int] = [1, 2, 3]\n",
    "my_tuple: tuple[int, str, bool] = (1, \"itheima\", True)\n",
    "my_dict: dict[str, int] = {\"itheima\": 666}\n",
    "\n",
    "# 在注释中进行类型注解\n",
    "var_1 = random.randint(1, 10)   # type: int\n",
    "var_2 = json.loads('{\"name\": \"zhangsan\"}')  # type: dict[str, str]\n",
    "def func():\n",
    "    return 10\n",
    "var_3 = func()  # type: int\n",
    "\n",
    "# 类型注解的限制\n",
    "var_4: int = \"itheima\"\n",
    "var_5: str = 123\n"
   ],
   "outputs": [],
   "execution_count": 2
  },
  {
   "metadata": {},
   "cell_type": "markdown",
   "source": [
    "2. **函数注解**  \n",
    "- **形参注解**\n",
    "- **返回值注解**\n",
    "> "
   ]
  },
  {
   "metadata": {},
   "cell_type": "code",
   "outputs": [],
   "execution_count": null,
   "source": [
    "# 对形参进行类型注解\n",
    "def add(x: int, y: int):\n",
    "    return x + y\n",
    "\n",
    "# 对返回值进行类型注解\n",
    "def func(data: list) -> list:\n",
    "    return data\n",
    "\n",
    "print(func(1))\n"
   ]
  },
  {
   "metadata": {},
   "cell_type": "markdown",
   "source": [
    "3. **Union类型**\n",
    "> `Union[类型, ......, 类型]` 可以定义联合类型注解   \n",
    "> 变量注解、函数（方法）形参和返回值注解中，均可使用       \n",
    "> 注解混合类型\n"
   ]
  },
  {
   "metadata": {},
   "cell_type": "code",
   "outputs": [],
   "execution_count": null,
   "source": [
    "from typing import Union\n",
    "\n",
    "\n",
    "my_list: list[Union[int, str]] = [1, 2, \"itheima\", \"itcast\"]\n",
    "\n",
    "def func(data: Union[int, str]) -> Union[int, str]:\n",
    "    pass"
   ]
  },
  {
   "metadata": {},
   "cell_type": "markdown",
   "source": [
    "## 多态\n",
    "\n",
    "  \n",
    "> 同样的行为（函数），传入不同的对象，得到不同的状态   \n",
    "> 以父类做定义声明  \n",
    "> 以子类做实际工作  \n",
    "> 用以获得同一行为, 不同状态  \n",
    " "
   ]
  },
  {
   "metadata": {},
   "cell_type": "code",
   "outputs": [],
   "execution_count": null,
   "source": [
    "# 演示多态，使用2个子类对象来调用函数\n",
    "class Animal:\n",
    "    def speak(self):\n",
    "        pass\n",
    "\n",
    "\n",
    "class Dog(Animal):\n",
    "    def speak(self):\n",
    "        print(\"汪汪汪\")\n",
    "\n",
    "\n",
    "class Cat(Animal):\n",
    "    def speak(self):\n",
    "        print(\"喵喵喵\")\n",
    "\n",
    "\n",
    "def make_noise(animal: Animal):\n",
    "    \"\"\"制造点噪音，需要传入Animal对象\"\"\"\n",
    "    animal.speak()\n",
    "    \n",
    "\n",
    "dog = Dog()\n",
    "cat = Cat()\n",
    "\n",
    "make_noise(dog)\n",
    "make_noise(cat)\n"
   ]
  },
  {
   "metadata": {},
   "cell_type": "markdown",
   "source": [
    "### 抽象类  \n",
    "> 没有具体实现的方法（pass）    \n",
    "> 配合多态  \n",
    "> 抽象的父类设计（设计标准）    \n",
    "> 具体的子类实现（实现标准）  \n"
   ]
  },
  {
   "metadata": {},
   "cell_type": "code",
   "outputs": [],
   "execution_count": null,
   "source": [
    "# 演示抽象类\n",
    "class AC:\n",
    "    def cool_wind(self):\n",
    "        \"\"\"制冷\"\"\"\n",
    "        pass\n",
    "\n",
    "    def hot_wind(self):\n",
    "        \"\"\"制热\"\"\"\n",
    "        pass\n",
    "\n",
    "    def swing_l_r(self):\n",
    "        \"\"\"左右摆风\"\"\"\n",
    "        pass\n",
    "\n",
    "\n",
    "class Midea_AC(AC):\n",
    "    def cool_wind(self):\n",
    "        print(\"美的空调制冷\")\n",
    "\n",
    "    def hot_wind(self):\n",
    "        print(\"美的空调制热\")\n",
    "\n",
    "    def swing_l_r(self):\n",
    "        print(\"美的空调左右摆风\")\n",
    "\n",
    "\n",
    "class GREE_AC(AC):\n",
    "    def cool_wind(self):\n",
    "        print(\"格力空调制冷\")\n",
    "\n",
    "    def hot_wind(self):\n",
    "        print(\"格力空调制热\")\n",
    "\n",
    "    def swing_l_r(self):\n",
    "        print(\"格力空调左右摆风\")\n",
    "\n",
    "\n",
    "def make_cool(ac: AC):\n",
    "    ac.cool_wind()\n",
    "\n",
    "\n",
    "midea_ac = Midea_AC()\n",
    "gree_ac = GREE_AC()\n",
    "\n",
    "\n",
    "make_cool(midea_ac)\n",
    "make_cool(gree_ac)\n"
   ]
  },
  {
   "metadata": {},
   "cell_type": "markdown",
   "source": [
    "# 第七章 python&mysql\n",
    "\n",
    "## 链接数据库\n",
    "> `from pymysql import Connection` 导包  \n",
    "> `Connection(主机,端口,账户,密码)` 得到链接对象  \n",
    "> `链接对象.close()` 关闭和MySQL数据库的连接  \n",
    "\n"
   ]
  },
  {
   "metadata": {
    "ExecuteTime": {
     "end_time": "2024-07-18T01:59:59.089146Z",
     "start_time": "2024-07-18T01:59:59.082469Z"
    }
   },
   "cell_type": "code",
   "source": [
    "#创建mysql数据库的连接\n",
    "\n",
    "from pymysql import Connection\n",
    "\n",
    "conn = Connection(\n",
    "    host = 'localhost',\n",
    "    port = 3306,\n",
    "    user = 'root',\n",
    "    password = '123456'\n",
    ")\n",
    "#打印mysql数据库软件信息\n",
    "print(conn.get_server_info())\n",
    "conn.close()\n"
   ],
   "outputs": [
    {
     "name": "stdout",
     "output_type": "stream",
     "text": [
      "8.0.30\n"
     ]
    }
   ],
   "execution_count": 5
  },
  {
   "metadata": {},
   "cell_type": "markdown",
   "source": [
    "## 执行SQL查询\n",
    "> 通过连接对象调用`cursor()`方法，得到游标对象  \n",
    "> `游标对象.execute()`执行SQL语句  \n",
    "> `游标对象.fetchall()`得到全部的查询结果封装入元组内  \n",
    "### 建表"
   ]
  },
  {
   "metadata": {
    "ExecuteTime": {
     "end_time": "2024-07-18T02:01:57.776672Z",
     "start_time": "2024-07-18T02:01:57.706627Z"
    }
   },
   "cell_type": "code",
   "source": [
    "#执行非查询性质的sql语句\n",
    "\n",
    "from pymysql import Connection\n",
    "\n",
    "# 构建到MySQL数据库的链接\n",
    "conn = Connection(\n",
    "    host=\"localhost\",   # 主机名（IP）\n",
    "    port=3306,          # 端口\n",
    "    user=\"root\",        # 账户\n",
    "    password=\"123456\",  # 密码\n",
    "    autocommit=True     # 设置自动提交\n",
    ")\n",
    "\n",
    "\n",
    "# 执行非查询性质SQL\n",
    "cursor = conn.cursor()      # 获取到游标对象\n",
    "# 选择数据库\n",
    "conn.select_db(\"testdb\")\n",
    "# 执行sql\n",
    "cursor.execute(\"create table test_mysql(id int, info varchar(255))\")\n",
    "# 关闭链接\n",
    "conn.close()\n",
    "\n"
   ],
   "outputs": [],
   "execution_count": 6
  },
  {
   "metadata": {},
   "cell_type": "markdown",
   "source": [
    "### 插入\n",
    "> pymysql在执行数据插入或其它产生数据更改的SQL语句时，默认是需要提交更改的  \n",
    "> 需要通过代码“确认”这种更改行为  \n",
    "> 通过`链接对象.commit()` 即可确认此行为  \n",
    "    \n",
    "> 可以在**构建链接对象**的时候，设置自动commit的属性  \n",
    "> **设置自动提交**  \n",
    "> `autocommit=True`\n"
   ]
  },
  {
   "metadata": {
    "ExecuteTime": {
     "end_time": "2024-07-18T02:21:44.994632Z",
     "start_time": "2024-07-18T02:21:44.974815Z"
    }
   },
   "cell_type": "code",
   "source": [
    "#执行插入\n",
    "from pymysql import Connection\n",
    "\n",
    "# 构建到MySQL数据库的链接\n",
    "conn = Connection(\n",
    "    host=\"localhost\",   # 主机名（IP）\n",
    "    port=3306,          # 端口\n",
    "    user=\"root\",        # 账户\n",
    "    password=\"123456\",  # 密码\n",
    "    autocommit=True     # 设置自动提交\n",
    ")\n",
    "\n",
    "# print(conn.get_server_info())\n",
    "# 执行非查询性质SQL\n",
    "cursor = conn.cursor()      # 获取到游标对象\n",
    "# 选择数据库\n",
    "conn.select_db(\"testdb\")\n",
    "# 执行sql\n",
    "cursor.execute(\"insert into student values(10002, '帆', 18, '女')\")\n",
    "# 关闭链接\n",
    "conn.close()\n"
   ],
   "outputs": [],
   "execution_count": 7
  },
  {
   "metadata": {},
   "cell_type": "markdown",
   "source": [
    "### 查询\n",
    "> 游标对象使用`fetchall()`方法，得到的是全部的查询结果，是一个元组  \n",
    "> 这个元组内部嵌套了元组，嵌套的元组就是一行查询结果  \n"
   ]
  },
  {
   "metadata": {
    "ExecuteTime": {
     "end_time": "2024-07-18T02:21:50.016149Z",
     "start_time": "2024-07-18T02:21:50.008686Z"
    }
   },
   "cell_type": "code",
   "source": [
    "#执行查询\n",
    "\n",
    "\n",
    "from pymysql import Connection\n",
    "\n",
    "# 构建到MySQL数据库的链接\n",
    "conn = Connection(\n",
    "    host=\"localhost\",   # 主机名（IP）\n",
    "    port=3306,          # 端口\n",
    "    user=\"root\",        # 账户\n",
    "    password=\"123456\",  # 密码\n",
    "    autocommit=True     # 设置自动提交\n",
    ")\n",
    "\n",
    "\n",
    "# 执行非查询性质SQL\n",
    "cursor = conn.cursor()      # 获取到游标对象\n",
    "# 选择数据库\n",
    "conn.select_db(\"testdb\")\n",
    "# 执行sql\n",
    "cursor.execute(\"select * from student\")\n",
    "\n",
    "results :tuple = cursor.fetchall()\n",
    "#游标对象使用fetchall()方法，得到的是全部的查询结果，是一个元组\n",
    "#这个元组内部嵌套了元组，嵌套的元组就是一行查询结果\n",
    "\n",
    "for r in results:\n",
    "    print(r)\n",
    "# 关闭链接\n",
    "conn.close()\n",
    "\n"
   ],
   "outputs": [
    {
     "name": "stdout",
     "output_type": "stream",
     "text": [
      "(10001, '周杰轮', 31, '男')\n",
      "(10002, '帆', 18, '女')\n"
     ]
    }
   ],
   "execution_count": 8
  },
  {
   "metadata": {},
   "cell_type": "markdown",
   "source": [
    "# 第八章 高阶技巧\n",
    "\n",
    "## 闭包\n",
    "> 定义双层嵌套函数， 内层函数可以访问外层函数的变量  \n",
    "> 将内存函数作为外层函数的返回，此内层函数就是闭包函数  \n",
    "  \n",
    "- **nonlocal关键字**  \n",
    "> 在内部函数中想要修改外部函数的变量值需要用`nonlocal`声明这个外部变量  \n",
    "\n",
    "\n",
    "- **优点**  \n",
    "> 无需定义全局变量即可实现通过函数，持续的访问、修改某个值  \n",
    "> 闭包使用的变量的所用于在函数内，难以被错误的调用修改\n",
    "\n",
    "- **缺点**  \n",
    "> 由于内部函数持续引用外部函数的值，所以会导致这一部分内存空间不被释放，一直占用内存  \n",
    "  \n",
    "\n"
   ]
  },
  {
   "metadata": {
    "ExecuteTime": {
     "end_time": "2024-07-18T06:56:07.517309Z",
     "start_time": "2024-07-18T06:56:07.511306Z"
    }
   },
   "cell_type": "code",
   "source": [
    "\n",
    "def account_create(initial_amount=0):\n",
    "\n",
    "    def atm(num, deposit=True):\n",
    "        nonlocal initial_amount#修改initial_amount的值\n",
    "        if deposit:\n",
    "            initial_amount += num\n",
    "            print(f\"存款：+{num}， 账户余额：{initial_amount}\")\n",
    "        else:\n",
    "            initial_amount -= num\n",
    "            print(f\"取款：-{num}， 账户余额：{initial_amount}\")\n",
    "\n",
    "    return atm #内层返回的是atm函数\n",
    "\n",
    "#传入initial_amount参数，得到atm函数\n",
    "print(\"atm1\")\n",
    "atm = account_create()\n",
    "print(\"初始存款：0\")\n",
    "atm(100)#相当于直接调用atm内部函数\n",
    "atm(200)#基于initial_amount的值变化\n",
    "atm(100, deposit=False)\n",
    "\n",
    "print(\"atm2\")\n",
    "#传入initial_amount参数100，得到initial_amount固定为100的atm函数\n",
    "atm2 = account_create(100)\n",
    "atm2(100,False)"
   ],
   "outputs": [
    {
     "name": "stdout",
     "output_type": "stream",
     "text": [
      "atm1\n",
      "初始存款：0\n",
      "存款：+100， 账户余额：100\n",
      "存款：+200， 账户余额：300\n",
      "取款：-100， 账户余额：200\n",
      "atm2\n",
      "取款：-100， 账户余额：0\n"
     ]
    }
   ],
   "execution_count": 5
  },
  {
   "metadata": {},
   "cell_type": "markdown",
   "source": "## 装饰器"
  }
 ],
 "metadata": {
  "language_info": {
   "name": "python"
  },
  "kernelspec": {
   "name": "python3",
   "language": "python",
   "display_name": "Python 3 (ipykernel)"
  }
 },
 "nbformat": 4,
 "nbformat_minor": 2
}
