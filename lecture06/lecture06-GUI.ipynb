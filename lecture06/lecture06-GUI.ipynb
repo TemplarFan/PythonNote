{
 "cells": [
  {
   "cell_type": "markdown",
   "metadata": {},
   "source": [
    "#### 6) GUI"
   ]
  },
  {
   "cell_type": "code",
   "execution_count": 79,
   "metadata": {},
   "outputs": [],
   "source": [
    "# tkinter/wxwidgets/pyQT... pySimpleUI\n",
    "\n",
    "# Tool Command Language (Tcl)\n",
    "import tkinter as tk\n",
    "\n",
    "# tkinter --> Tk ---> local(window/linux/mac)"
   ]
  },
  {
   "cell_type": "markdown",
   "metadata": {},
   "source": [
    "Button\n",
    "Canvas\n",
    "Checkbutton\n",
    "Entry\n",
    "Frame\n",
    "Label\n",
    "LabelFrame\n",
    "Listbox\n",
    "Menu\n",
    "Menubutton\n",
    "Message\n",
    "OptionMenu\n",
    "PanedWindow\n",
    "Radiobutton\n",
    "Scale\n",
    "Scrollbar\n",
    "Spinbox\n",
    "Text\n",
    "Toplevel\n",
    "Messagebox"
   ]
  },
  {
   "cell_type": "markdown",
   "metadata": {},
   "source": [
    "##### widgets\n"
   ]
  },
  {
   "cell_type": "code",
   "execution_count": 1,
   "metadata": {},
   "outputs": [],
   "source": [
    "import tkinter as tk\n",
    "tk.Tk().mainloop()"
   ]
  },
  {
   "cell_type": "code",
   "execution_count": 5,
   "metadata": {},
   "outputs": [],
   "source": [
    "root = tk.Tk()\n",
    "\n",
    "label = tk.Label(root, text=\"Hello World!\")\n",
    "label.pack(expand=tk.YES,fill=tk.BOTH)\n",
    "\n",
    "root.mainloop()"
   ]
  },
  {
   "cell_type": "code",
   "execution_count": 81,
   "metadata": {},
   "outputs": [],
   "source": [
    "tk.Label(text=\"Hello NEU.\").pack()\n",
    "tk.mainloop()"
   ]
  },
  {
   "cell_type": "code",
   "execution_count": 12,
   "metadata": {},
   "outputs": [],
   "source": [
    "root = tk.Tk() # main window\n",
    "root.geometry(\"600x400\")\n",
    "\n",
    "labelfont = (\"times\", 20, \"bold\")\n",
    "\n",
    "label = tk.Label(root, text=\"东北大学-Northeastern University!\")\n",
    "# label.config(bg=\"yellow\", fg=\"blue\")\n",
    "label.config(background=\"yellow\", foreground=\"blue\")\n",
    "label.config(font=labelfont)\n",
    "label.config(height=3, width=40)\n",
    "label.pack(expand=tk.YES, fill=tk.BOTH)\n",
    "label2 = tk.Label(root, text=\"A .....\")\n",
    "label2.config(font=labelfont)\n",
    "label2.pack()\n",
    "label2 = tk.Label(root, text=\"A .....\")\n",
    "label2.config(font=labelfont)\n",
    "label2.pack()\n",
    "label2 = tk.Label(root, text=\"A .....\")\n",
    "label2.config(font=labelfont)\n",
    "label2.pack()\n",
    "\n",
    "root.mainloop()"
   ]
  },
  {
   "cell_type": "code",
   "execution_count": 19,
   "metadata": {},
   "outputs": [],
   "source": [
    "root = tk.Tk()\n",
    "\n",
    "btn = tk.Button(root, text=\"Hello NEU.\")\n",
    "# btn.config(width=100, height=40)\n",
    "# btn.pack(expand=tk.YES, fill=tk.BOTH)\n",
    "btn.pack(expand=tk.FALSE)\n",
    "label = tk.Label(root, text=\"Label\")\n",
    "label.pack()\n",
    "\n",
    "root.mainloop()"
   ]
  },
  {
   "cell_type": "code",
   "execution_count": 22,
   "metadata": {},
   "outputs": [
    {
     "name": "stdout",
     "output_type": "stream",
     "text": [
      "quit function\n",
      "quit function\n",
      "quit function\n",
      "quit function\n",
      "quit function\n",
      "quit function\n"
     ]
    }
   ],
   "source": [
    "root = tk.Tk()\n",
    "\n",
    "def quit():\n",
    "    print(\"quit function\")\n",
    "    label = tk.Label(root, text=\"add a new label\")\n",
    "    label.pack()\n",
    "\n",
    "btn = tk.Button(root, text=\"Hello NEU.\")#, command=quit)\n",
    "btn.config(command=quit)\n",
    "btn.pack(expand=tk.YES, fill=tk.BOTH)\n",
    "\n",
    "root.title(\"NEU Window\")\n",
    "root.geometry(\"500x300\")\n",
    "\n",
    "root.mainloop()"
   ]
  },
  {
   "cell_type": "code",
   "execution_count": 24,
   "metadata": {},
   "outputs": [],
   "source": [
    "root = tk.Tk()\n",
    "\n",
    "class HelloButton(tk.Button):\n",
    "    def __init__(self, parent=None, **config):\n",
    "        tk.Button.__init__(self, parent, **config)\n",
    "        self.pack()\n",
    "        self.config(command=self.sayhello)\n",
    "\n",
    "    def sayhello(self):\n",
    "        print(\"hello in my button.\")\n",
    "\n",
    "hbtn = HelloButton(root, text=\"Hello NEU.\")\n",
    "hbtn.pack()\n",
    "\n",
    "root.mainloop()"
   ]
  },
  {
   "cell_type": "code",
   "execution_count": 25,
   "metadata": {},
   "outputs": [
    {
     "name": "stdout",
     "output_type": "stream",
     "text": [
      "my hello, not hello in hellobutton.\n",
      "my hello, not hello in hellobutton.\n",
      "my hello, not hello in hellobutton.\n"
     ]
    }
   ],
   "source": [
    "class MyButton(HelloButton):\n",
    "    def sayhello(self):\n",
    "        print(\"my hello, not hello in hellobutton.\")\n",
    "\n",
    "MyButton(None, text=\"hello NEU\").mainloop()"
   ]
  },
  {
   "cell_type": "code",
   "execution_count": 29,
   "metadata": {},
   "outputs": [],
   "source": [
    "from tkinter.messagebox import *\n",
    "root = tk.Tk()\n",
    "\n",
    "def quit():\n",
    "    ans = askokcancel(\"confirm\", \"really quit?\")\n",
    "    if ans:\n",
    "        # showwarning(\"ans=\"+str(ans), \"you select quit\")\n",
    "        showerror(\"ans=\"+str(ans), \"you select quit\")\n",
    "    else:\n",
    "        showinfo(\"ans=\"+str(ans), \"See you again.\")\n",
    "\n",
    "btn = tk.Button(root, text=\"HELLO NEU.\")\n",
    "btn.config(bg=\"yellow\", fg=\"blue\")\n",
    "\n",
    "btn.config(command=quit)\n",
    "\n",
    "btn.pack(expand=tk.YES, fill=tk.BOTH)\n",
    "\n",
    "root.mainloop()"
   ]
  },
  {
   "cell_type": "code",
   "execution_count": 31,
   "metadata": {},
   "outputs": [
    {
     "name": "stderr",
     "output_type": "stream",
     "text": [
      "Exception in Tkinter callback\n",
      "Traceback (most recent call last):\n",
      "  File \"c:\\Users\\Liwei\\AppData\\Local\\Programs\\Python\\Python39\\lib\\tkinter\\__init__.py\", line 1892, in __call__\n",
      "    return self.func(*args)\n",
      "  File \"C:\\Users\\Liwei\\AppData\\Local\\Temp/ipykernel_2508/3753381475.py\", line 8, in quit\n",
      "    if ans:\n",
      "NameError: name 'ans' is not defined\n"
     ]
    }
   ],
   "source": [
    "from tkinter.filedialog import *\n",
    "\n",
    "root = tk.Tk()\n",
    "\n",
    "def quit():\n",
    "    ans = askopenfilename()\n",
    "    # askopenfilenames()\n",
    "    if ans:\n",
    "        print(ans)\n",
    "        tk.messagebox.showinfo(\"file path\", ans)\n",
    "    else:\n",
    "        print(\"cancel the file selection.\")\n",
    "\n",
    "btn = tk.Button(root, text=\"HELLO NEU.\")\n",
    "btn.config(bg=\"yellow\", fg=\"blue\")\n",
    "\n",
    "btn.config(command=quit)\n",
    "\n",
    "btn.pack(expand=tk.YES, fill=tk.BOTH)\n",
    "\n",
    "root.mainloop()"
   ]
  },
  {
   "cell_type": "code",
   "execution_count": 34,
   "metadata": {},
   "outputs": [
    {
     "name": "stdout",
     "output_type": "stream",
     "text": [
      "((128, 186, 69), '#80ba45')\n"
     ]
    }
   ],
   "source": [
    "from tkinter.colorchooser import *\n",
    "\n",
    "root = tk.Tk()\n",
    "\n",
    "def quit():\n",
    "    ans = askcolor(title=\"choose color.\", color=\"#fff000\")\n",
    "    if ans:\n",
    "        print(ans)\n",
    "        btn.config(bg=ans[1])\n",
    "    else:\n",
    "        print(\"cancel the color selection.\")\n",
    "\n",
    "btn = tk.Button(root, text=\"HELLO NEU.\")\n",
    "btn.config(bg=\"yellow\", fg=\"blue\")\n",
    "\n",
    "btn.config(command=quit)\n",
    "\n",
    "btn.pack(expand=tk.YES, fill=tk.BOTH)\n",
    "root.geometry(\"500x300\")\n",
    "root.mainloop()"
   ]
  },
  {
   "cell_type": "code",
   "execution_count": 33,
   "metadata": {},
   "outputs": [
    {
     "data": {
      "text/plain": [
       "'#ff172d'"
      ]
     },
     "execution_count": 33,
     "metadata": {},
     "output_type": "execute_result"
    }
   ],
   "source": [
    "\"#%2x%2x%2x\" % (255,23,45)"
   ]
  },
  {
   "cell_type": "code",
   "execution_count": null,
   "metadata": {},
   "outputs": [],
   "source": [
    "#label/button/messagebox,filedialog/......"
   ]
  },
  {
   "cell_type": "code",
   "execution_count": 97,
   "metadata": {},
   "outputs": [],
   "source": [
    "root = tk.Tk()\n",
    "\n",
    "img = tk.PhotoImage(file=\"./logo.gif\")\n",
    "tk.Label(root, image=img).pack()\n",
    "\n",
    "root.mainloop()"
   ]
  },
  {
   "cell_type": "markdown",
   "metadata": {},
   "source": [
    "##### canvas"
   ]
  },
  {
   "cell_type": "code",
   "execution_count": 5,
   "metadata": {},
   "outputs": [
    {
     "name": "stdout",
     "output_type": "stream",
     "text": [
      "[10.0, 50.0, 140.0, 180.0]\n"
     ]
    }
   ],
   "source": [
    "import tkinter as tk\n",
    "\n",
    "root = tk.Tk()\n",
    "root.geometry(\"900x400\")\n",
    "\n",
    "canvas = tk.Canvas(root)\n",
    "canvas.pack(fill=tk.BOTH, expand=tk.YES)\n",
    "\n",
    "# img = tk.PhotoImage(file=\"./logo.gif\")\n",
    "# width = img.width()\n",
    "# height = img.height()\n",
    "\n",
    "# canvas.config(width=width+20, height=height+20)\n",
    "# canvas.create_image(10, 10, image=img, anchor=\"nw\")\n",
    "\n",
    "################################################\n",
    "\n",
    "# canvas.create_line(10, 60, 300,300)\n",
    "\n",
    "pacman = canvas.create_arc(10, 50, 140, 180, fill=\"yellow\", extent=270, start=45)\n",
    "pacman2 = canvas.create_arc(10, 50, 140, 180, fill=\"yellow\", extent=340, start=10)\n",
    "\n",
    "coords = canvas.coords(pacman)\n",
    "print(coords)\n",
    "\n",
    "import time\n",
    "\n",
    "for i in range(50):\n",
    "    canvas.itemconfig([pacman,pacman2][not i%2], state=\"hidden\")\n",
    "    canvas.itemconfig([pacman,pacman2][i%2], state=\"normal\")\n",
    "    canvas.coords([pacman,pacman2][i%2], 10+(i*10), 50, 140+(i*10), 180)\n",
    "    root.update()\n",
    "    time.sleep(0.1)\n",
    "\n",
    "\n",
    "root.mainloop()"
   ]
  },
  {
   "cell_type": "markdown",
   "metadata": {},
   "source": [
    "##### layout\n"
   ]
  },
  {
   "cell_type": "code",
   "execution_count": 127,
   "metadata": {},
   "outputs": [],
   "source": [
    "#pack/grid/place\n",
    "\n",
    "root = tk.Tk()\n",
    "root.geometry(\"500x300\")\n",
    "\n",
    "for i in range(3):\n",
    "    for j in range(3):\n",
    "        tk.Label(root, text=\"NEU\"+str(i)+str(j), bg=\"yellow\").grid(row=i,column=j, padx=10, pady=10,ipadx=5, ipady=5)\n",
    "\n",
    "root.mainloop()"
   ]
  },
  {
   "cell_type": "code",
   "execution_count": 126,
   "metadata": {},
   "outputs": [],
   "source": [
    "#pack\n",
    "root = tk.Tk()\n",
    "root.geometry(\"500x300\")\n",
    "\n",
    "tk.Label(root, text=\"North\", fg=\"red\").pack(side=\"top\")\n",
    "tk.Label(root, text=\"North2\", fg=\"red\").pack(side=\"top\")\n",
    "tk.Label(root, text=\"South\", fg=\"green\").pack(side=\"bottom\")\n",
    "tk.Label(root, text=\"West\", fg=\"green\").pack(side=\"left\")\n",
    "tk.Label(root, text=\"East\", fg=\"green\").pack(side=\"right\")\n",
    "root.mainloop()\n"
   ]
  },
  {
   "cell_type": "code",
   "execution_count": 125,
   "metadata": {},
   "outputs": [],
   "source": [
    "#place\n",
    "root = tk.Tk()\n",
    "root.geometry(\"500x300\")\n",
    "\n",
    "tk.Label(root, text=\"NEU\", bg=\"yellow\").place(x=100, y=200, anchor=\"nw\")\n",
    "\n",
    "root.mainloop()"
   ]
  },
  {
   "cell_type": "markdown",
   "metadata": {},
   "source": [
    "##### partial application"
   ]
  },
  {
   "cell_type": "code",
   "execution_count": 129,
   "metadata": {},
   "outputs": [
    {
     "name": "stdout",
     "output_type": "stream",
     "text": [
      "btn1.pack()\n",
      "btn2.pack()\n",
      "btn3.pack()\n",
      "btn4.pack()\n",
      "btn5.pack()\n",
      "btn6.pack()\n",
      "btn7.pack()\n"
     ]
    }
   ],
   "source": [
    "#partial\n",
    "from functools import partial\n",
    "\n",
    "root = tk.Tk()\n",
    "\n",
    "MyButton = partial(tk.Button, root, fg=\"white\")\n",
    "\n",
    "rButton = partial(MyButton, bg=\"red\")\n",
    "gButton = partial(MyButton, bg=\"green\")\n",
    "bButton = partial(MyButton, bg=\"blue\")\n",
    "\n",
    "\n",
    "btn1 = rButton(text=\"btn1\")\n",
    "btn2 = rButton(text=\"btn2\")\n",
    "\n",
    "btn3 = gButton(text=\"btn3\")\n",
    "btn4 = gButton(text=\"btn4\")\n",
    "btn5 = gButton(text=\"btn5\")\n",
    "\n",
    "btn6 = bButton(text=\"btn6\")\n",
    "btn7 = bButton(text=\"btn7\")\n",
    "\n",
    "for i in range(1, 8):\n",
    "    print(\"btn\"+str(i)+\".pack()\")\n",
    "    eval(\"btn\"+str(i)+\".pack()\")\n",
    "\n",
    "\n",
    "root.mainloop()"
   ]
  },
  {
   "cell_type": "markdown",
   "metadata": {},
   "source": [
    "##### pyinstaller GUI"
   ]
  },
  {
   "cell_type": "code",
   "execution_count": null,
   "metadata": {},
   "outputs": [],
   "source": [
    "pyinstaller -w xxx.py"
   ]
  }
 ],
 "metadata": {
  "kernelspec": {
   "display_name": "Python 3.9.7 64-bit",
   "language": "python",
   "name": "python3"
  },
  "language_info": {
   "codemirror_mode": {
    "name": "ipython",
    "version": 3
   },
   "file_extension": ".py",
   "mimetype": "text/x-python",
   "name": "python",
   "nbconvert_exporter": "python",
   "pygments_lexer": "ipython3",
   "version": "3.9.7"
  },
  "orig_nbformat": 4,
  "vscode": {
   "interpreter": {
    "hash": "2f1a0965c75aec8e4a2a9df4a3184abea607daea749e4ec45412662d9328f429"
   }
  }
 },
 "nbformat": 4,
 "nbformat_minor": 2
}
