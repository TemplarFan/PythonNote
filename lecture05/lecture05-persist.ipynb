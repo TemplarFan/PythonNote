{
 "cells": [
  {
   "cell_type": "markdown",
   "metadata": {},
   "source": [
    "#### 5. 数据持久化 data persistence"
   ]
  },
  {
   "cell_type": "markdown",
   "metadata": {},
   "source": [
    "##### 5.1 对象序列化"
   ]
  },
  {
   "cell_type": "code",
   "execution_count": null,
   "metadata": {},
   "source": [
    "#pickle\n",
    "import pickle\n",
    "\n",
    "data = [1,2,3,4, \"Northeastern University\", {\"name\":\"NEU\", \"age\":100}]\n",
    "\n",
    "sdata = pickle.dumps(data)\n",
    "print(sdata)"
   ],
   "outputs": []
  },
  {
   "cell_type": "code",
   "execution_count": null,
   "metadata": {},
   "source": [
    "ddata = pickle.loads(sdata)\n",
    "print(ddata, type(ddata))\n",
    "print(ddata[-1][\"name\"])"
   ],
   "outputs": []
  },
  {
   "cell_type": "code",
   "execution_count": null,
   "metadata": {},
   "source": [
    "with open(\"pdata.pkl\", \"wb\") as fw:\n",
    "    pickle.dump(data, fw)\n",
    "    print(\"saved.\")"
   ],
   "outputs": []
  },
  {
   "cell_type": "code",
   "execution_count": null,
   "metadata": {},
   "source": [
    "with open(\"pdata.pkl\", \"rb\") as fr:\n",
    "    pdata = pickle.load(fr)\n",
    "    print(pdata, type(pdata))"
   ],
   "outputs": []
  },
  {
   "cell_type": "code",
   "execution_count": 5,
   "metadata": {},
   "source": [
    "def myfun(s):\n",
    "    print(s)\n",
    "\n",
    "data = [12,34, myfun]\n",
    "\n",
    "fdata = pickle.dumps(data)\n",
    "print(fdata)"
   ],
   "outputs": []
  },
  {
   "cell_type": "code",
   "execution_count": 1,
   "metadata": {},
   "source": [
    "myfun(\"hello\")"
   ],
   "outputs": []
  },
  {
   "cell_type": "code",
   "execution_count": 6,
   "metadata": {},
   "source": [
    "import pickle\n",
    "pdata = b'\\x80\\x04\\x95\\x1e\\x00\\x00\\x00\\x00\\x00\\x00\\x00]\\x94(K\\x0cK\"\\x8c\\x08__main__\\x94\\x8c\\x05myfun\\x94\\x93\\x94e.'\n",
    "\n",
    "dpdata = pickle.loads(pdata)\n",
    "print(dpdata,type(dpdata))"
   ],
   "outputs": []
  },
  {
   "cell_type": "code",
   "execution_count": 7,
   "metadata": {},
   "source": [
    "dpdata[-1](\"hello NEU.\")"
   ],
   "outputs": []
  },
  {
   "cell_type": "code",
   "execution_count": 11,
   "metadata": {},
   "source": [
    "#json\n",
    "import json  #simplejson\n",
    "\n",
    "# SGML/HTML/XML/JSON\n",
    "# <name>NEU</name>\n",
    "# <age> 100 </age>\n",
    "data = [1,2,3,4, \"Northeastern University\", {\"name\":\"NEU\", \"age\":100}]\n",
    "\n",
    "jdata = json.dumps(data)\n",
    "print(repr(jdata), type(jdata), type(data))\n",
    "jdata[::-1]"
   ],
   "outputs": []
  },
  {
   "cell_type": "code",
   "execution_count": 13,
   "metadata": {},
   "source": [
    "ojdata = json.loads(jdata)\n",
    "print(ojdata, type(ojdata))\n",
    "print(ojdata[::-1])"
   ],
   "outputs": []
  },
  {
   "cell_type": "code",
   "execution_count": 14,
   "metadata": {},
   "source": [
    "with open(\"data.json\", \"w\") as fw:\n",
    "    json.dump(data, fw)\n",
    "    print(\"saved.\")"
   ],
   "outputs": []
  },
  {
   "cell_type": "code",
   "execution_count": 20,
   "metadata": {},
   "source": [
    "with open(\"data.json\", \"r\") as fr:\n",
    "    d = fr.readlines()\n",
    "    print(d)\n",
    "    fr.seek(0)\n",
    "    ojfdata = json.load(fr)\n",
    "    print(ojfdata, type(ojfdata))"
   ],
   "outputs": []
  },
  {
   "cell_type": "markdown",
   "metadata": {},
   "source": [
    "##### 5.2 关系数据库存储"
   ]
  },
  {
   "cell_type": "code",
   "execution_count": null,
   "metadata": {},
   "source": [
    "#1. api xxxx\n",
    "#2. module/JDBC/ODBC -- sql\n",
    "#3. ORM-Oject Relation Mapping"
   ],
   "outputs": []
  },
  {
   "cell_type": "code",
   "execution_count": 22,
   "metadata": {},
   "source": [
    "#sqlite  mysql, sqlserver,oracle,db2,psql...... Access\n",
    "import sqlite3\n",
    "\n",
    "connect = sqlite3.connect(\"user.db\")\n",
    "cur = connect.cursor()\n",
    "\n",
    "sql = \"create table user(id int, name text)\"\n",
    "cur.execute(sql)\n",
    "connect.commit()\n",
    "cur.close()\n",
    "connect.close()\n"
   ],
   "outputs": []
  },
  {
   "cell_type": "code",
   "execution_count": 29,
   "metadata": {},
   "source": [
    "connect = sqlite3.connect(\"user.db\")\n",
    "cur = connect.cursor()\n",
    "\n",
    "sql = \"select * from user\"\n",
    "res = cur.execute(sql)\n",
    "for u in res.fetchall():\n",
    "    print(u)\n",
    "# cur.close()\n"
   ],
   "outputs": []
  },
  {
   "cell_type": "code",
   "execution_count": 28,
   "metadata": {},
   "source": [
    "sql = \"insert into user values(45, 'Zhang')\"\n",
    "cur.execute(sql)\n",
    "connect.commit()"
   ],
   "outputs": []
  },
  {
   "cell_type": "code",
   "execution_count": 30,
   "metadata": {},
   "source": [
    "#sqlalchemy\n",
    "# pip install xxx\n",
    "import sqlalchemy\n",
    "\n",
    "sqlalchemy.__version__"
   ],
   "outputs": []
  },
  {
   "cell_type": "code",
   "execution_count": 32,
   "metadata": {},
   "source": [
    "from sqlalchemy import create_engine\n",
    "\n",
    "engine = create_engine(\"sqlite:///user.db\")\n",
    "engine"
   ],
   "outputs": []
  },
  {
   "cell_type": "code",
   "execution_count": 33,
   "metadata": {},
   "source": [
    "res = engine.execute(\"select * from user\")\n",
    "for r in res.fetchall():\n",
    "    print(r)"
   ],
   "outputs": []
  },
  {
   "cell_type": "code",
   "execution_count": 34,
   "metadata": {},
   "source": [
    "engine = create_engine(\"sqlite:///test.db\")\n",
    "engine"
   ],
   "outputs": []
  },
  {
   "cell_type": "code",
   "execution_count": 35,
   "metadata": {},
   "source": [
    "from sqlalchemy.ext.declarative import declarative_base\n",
    "\n",
    "MyBase = declarative_base()\n",
    "\n",
    "from sqlalchemy import Integer, String, Column\n",
    "\n",
    "class UserNew(MyBase):\n",
    "    __tablename__ = \"usernew\"\n",
    "    ids = Column(Integer, primary_key=True)\n",
    "    name = Column(String(length=30))\n",
    "\n",
    "    def __repr__(self):\n",
    "        return \"UserNew[ids={0},name={1}]\".format(self.ids, self.name)\n",
    "\n",
    "UserNew"
   ],
   "outputs": []
  },
  {
   "cell_type": "code",
   "execution_count": 36,
   "metadata": {},
   "source": [
    "MyBase.metadata.create_all(bind=engine, checkfirst=True)"
   ],
   "outputs": []
  },
  {
   "cell_type": "code",
   "execution_count": 41,
   "metadata": {},
   "source": [
    "res = engine.execute(\"select * from usernew\")\n",
    "for r in res.fetchall():\n",
    "    print(r)"
   ],
   "outputs": []
  },
  {
   "cell_type": "code",
   "execution_count": 39,
   "metadata": {},
   "source": [
    "u1 = UserNew(ids = 100, name=\"NEU\")\n",
    "\n",
    "from sqlalchemy.orm import sessionmaker\n",
    "Session = sessionmaker(engine)\n",
    "\n",
    "session = Session()\n",
    "session"
   ],
   "outputs": []
  },
  {
   "cell_type": "code",
   "execution_count": 40,
   "metadata": {},
   "source": [
    "session.add(u1)\n",
    "session.commit()"
   ],
   "outputs": []
  },
  {
   "cell_type": "code",
   "execution_count": 45,
   "metadata": {},
   "source": [
    "res = session.query(UserNew).all()\n",
    "for r in res:\n",
    "    print(r)"
   ],
   "outputs": []
  },
  {
   "cell_type": "code",
   "execution_count": 43,
   "metadata": {},
   "source": [
    "data = [UserNew(ids=40,name=\"wei\"), UserNew(ids=16, name=\"ye\")]\n",
    "data"
   ],
   "outputs": []
  },
  {
   "cell_type": "code",
   "execution_count": 44,
   "metadata": {},
   "source": [
    "session.add_all(data)\n",
    "session.commit()"
   ],
   "outputs": []
  },
  {
   "cell_type": "markdown",
   "metadata": {},
   "source": [
    "##### 5.3 普通格式文件存储\n"
   ]
  },
  {
   "cell_type": "code",
   "execution_count": 48,
   "metadata": {},
   "source": [
    "#excel\n",
    "import xlrd, xlwt\n",
    "\n",
    "wb = xlwt.Workbook()\n",
    "\n",
    "sheet = wb.add_sheet(\"hello\")\n",
    "sheet.write(1, 1, \"hello NEU.\")\n",
    "\n",
    "sheet2 = wb.add_sheet(\"add\")\n",
    "for i in range(1,10):\n",
    "    for j in range(1,10):\n",
    "        if i>=j:\n",
    "            sheet2.write(i,j,\"%d+%d=%d\" % (j,i, i+j))\n",
    "\n",
    "wb.save(\"hello.xls\")\n"
   ],
   "outputs": []
  },
  {
   "cell_type": "code",
   "execution_count": 54,
   "metadata": {},
   "source": [
    "import xlrd\n",
    "\n",
    "wb = xlrd.open_workbook(\"hello.xls\")\n",
    "\n",
    "wb.sheet_names()\n",
    "sheet = wb.sheet_by_name(\"hello\")\n",
    "\n",
    "sheet.nrows, sheet.ncols, sheet.row(1), sheet.col(1)\n",
    "\n",
    "sheet.cell(1,1), sheet.cell_type(1,1), sheet.cell_value(1,1)"
   ],
   "outputs": []
  },
  {
   "cell_type": "code",
   "execution_count": 55,
   "metadata": {},
   "source": [
    "#csv/XML\n",
    "import csv\n",
    "import xml\n",
    "\n",
    "#stream struct\n",
    "\n",
    "import struct"
   ],
   "outputs": []
  },
  {
   "cell_type": "markdown",
   "metadata": {},
   "source": [
    "##### 5.4 系统文件批处理操作"
   ]
  },
  {
   "cell_type": "code",
   "execution_count": 56,
   "metadata": {},
   "source": [
    "#import os\n",
    "#os.path\n",
    "\n",
    "import os\n",
    "\n",
    "os.system(\"control\")"
   ],
   "outputs": []
  },
  {
   "cell_type": "code",
   "execution_count": 65,
   "metadata": {},
   "source": [
    "#os.listdir\n",
    "os.listdir(\".\")\n",
    "[n for n in os.listdir(\".\") if n.endswith(\".db\")]\n",
    "# os.mkdir(\"Test\")\n",
    "# os.makedirs(\"test/test1/test2/test3\")\n",
    "# os.path.isfile/isdir\n",
    "for f in os.listdir(\".\"):\n",
    "    if os.path.isfile(f):\n",
    "        print(\"file:\", f)\n",
    "    else:\n",
    "        print(\"dir:\", f)\n",
    "\n"
   ],
   "outputs": []
  },
  {
   "cell_type": "code",
   "execution_count": 69,
   "metadata": {},
   "source": [
    "path = \"C:/abc/cde/cddfe/test.txt\"\n",
    "\n",
    "os.path.abspath(path)\n",
    "os.path.basename(path)\n",
    "os.path.dirname(path)\n",
    "os.path.splitext(path)"
   ],
   "outputs": []
  },
  {
   "cell_type": "code",
   "execution_count": 74,
   "metadata": {},
   "source": [
    "pname = os.path.dirname(path)\n",
    "fname = os.path.basename(path)\n",
    "pname +\"/\"+ fname\n",
    "pname+ os.path.sep + fname\n",
    "os.path.join(pname, fname)"
   ],
   "outputs": []
  },
  {
   "cell_type": "code",
   "execution_count": null,
   "metadata": {},
   "source": [
    "os.path.join(\"C:/abc\", \"bcd\")"
   ],
   "outputs": []
  },
  {
   "cell_type": "code",
   "execution_count": null,
   "metadata": {},
   "source": [
    "os.path.sep"
   ],
   "outputs": []
  },
  {
   "cell_type": "code",
   "execution_count": 75,
   "metadata": {},
   "source": [
    "#walk\n",
    "for c, d, f in os.walk(\".\"):\n",
    "    print(c, d, f)\n"
   ],
   "outputs": []
  }
 ],
 "metadata": {
  "kernelspec": {
   "display_name": "Python 3.9.7 64-bit",
   "language": "python",
   "name": "python3"
  },
  "language_info": {
   "codemirror_mode": {
    "name": "ipython",
    "version": 3
   },
   "file_extension": ".py",
   "mimetype": "text/x-python",
   "name": "python",
   "nbconvert_exporter": "python",
   "pygments_lexer": "ipython3",
   "version": "3.9.7"
  },
  "orig_nbformat": 4,
  "vscode": {
   "interpreter": {
    "hash": "2f1a0965c75aec8e4a2a9df4a3184abea607daea749e4ec45412662d9328f429"
   }
  }
 },
 "nbformat": 4,
 "nbformat_minor": 2
}
