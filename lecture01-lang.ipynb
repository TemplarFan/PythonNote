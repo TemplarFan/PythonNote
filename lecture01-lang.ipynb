{
 "cells": [
  {
   "cell_type": "markdown",
   "metadata": {},
   "source": [
    "#### 成绩评定方法"
   ]
  },
  {
   "cell_type": "markdown",
   "metadata": {},
   "source": [
    "| 序号 | 类型 | 分值 | 内容 | 时间 | 说明 |\n",
    "|-----|------|------|------|------|-----|\n",
    "|1    |项目/实验| 40 |Project 1 |00-08学时|1. 项目延迟提交扣分，提交代码文件和报告；|\n",
    "|&nbsp;    |&nbsp;| &nbsp; |Project 2|09-16学时|2. 两次实验课时间用于做项目（即：P2和P3项目），不另外设立实验题目；|\t\n",
    "|&nbsp;    |&nbsp;| &nbsp; |Project 3|17-24学时|3. 学时开始发布任务，结束当周周日提交；|\n",
    "|&nbsp;    |&nbsp;| &nbsp; |Project 4|25-32学时|\t\n",
    "|2\t|随堂测试|\t20\t|1-2次闭卷|\t随堂||\t\n",
    "|3\t|期末考试|\t40\t|1次闭卷|\t随堂/另外时间||\t"
   ]
  },
  {
   "cell_type": "markdown",
   "metadata": {},
   "source": [
    "#### 七个基本问题"
   ]
  },
  {
   "cell_type": "markdown",
   "metadata": {},
   "source": [
    "1. 如何写程序注释及输出信息到终端？\n",
    "2. 如何定义变量及对变量赋值？\n",
    "3. 如何对定义的变量进行计算？\n",
    "4. 如何组织程序语句和编排代码块？\n",
    "5. 如何控制程序语句执行逻辑？\n",
    "6. 如何定义函数/类等对象？\n",
    "7. 如何封装和使用代码模块/包/库？"
   ]
  },
  {
   "cell_type": "markdown",
   "metadata": {},
   "source": [
    "#####################################sep line#########################################"
   ]
  },
  {
   "cell_type": "markdown",
   "metadata": {},
   "source": [
    "1. 如何写程序注释及输出信息到终端？\n"
   ]
  },
  {
   "cell_type": "code",
   "execution_count": 1,
   "metadata": {},
   "source": [
    "##\n",
    "\n",
    "# this is comment.\n",
    "\n",
    "a = 1.0 # var. \n",
    "a = 2.0\n",
    "# /* */\n",
    "s = \"# this is not comment.\"\n"
   ],
   "outputs": []
  },
  {
   "cell_type": "code",
   "execution_count": 33,
   "metadata": {},
   "source": [
    "'''docstring'''\n",
    "\"\"\"docstring\"\"\"\n",
    "\n",
    "def fun():\n",
    "    '''\n",
    "    comment to this function.\n",
    "    test case\n",
    "    '''\n",
    "    pass #this is comment too.\n",
    "\n",
    "help(fun)"
   ],
   "outputs": []
  },
  {
   "cell_type": "code",
   "execution_count": null,
   "metadata": {},
   "source": [
    "#coding=utf-8\n",
    "\n",
    "#!/usr/bin/python"
   ],
   "outputs": []
  },
  {
   "cell_type": "code",
   "execution_count": 3,
   "metadata": {},
   "source": [
    "help(print)\n",
    "print(\"Hello NEU.\", \"HELLO WEI\")"
   ],
   "outputs": []
  },
  {
   "cell_type": "code",
   "execution_count": 8,
   "metadata": {},
   "source": [
    "print(1, 2, sep=\"%\", end=\" \", file=\"???\")\n",
    "print(\"hello\")"
   ],
   "outputs": []
  },
  {
   "cell_type": "code",
   "execution_count": 2,
   "metadata": {},
   "source": [
    "for i  in range(1, 10):\n",
    "    for j in range(1, 10):\n",
    "        if i>=j:\n",
    "            print(\"%d+%d=%d\" % (i, j, i+j), end=\" \")\n",
    "    print()"
   ],
   "outputs": []
  },
  {
   "cell_type": "code",
   "execution_count": 16,
   "metadata": {},
   "source": [
    "s = input(\"Input a number\")\n",
    "t = input(\"input a number,too .\")\n",
    "print(s+t)"
   ],
   "outputs": []
  },
  {
   "cell_type": "markdown",
   "metadata": {},
   "source": [
    "2. 如何定义变量及对变量赋值？\n"
   ]
  },
  {
   "cell_type": "code",
   "execution_count": 17,
   "metadata": {},
   "source": [
    "#var name\n",
    "# a-z,A-Z,0-9,_\n",
    "#0-9 startup!!!!\n",
    "\n",
    "# abc, abc9, abc_, _abc, 9abc\n",
    "\n",
    "# 东北大学 = 100\n",
    "# print(东北大学)\n",
    "\n",
    "#not recom.\n",
    "\n",
    "# help = 1.0\n",
    "\n"
   ],
   "outputs": []
  },
  {
   "cell_type": "code",
   "execution_count": 18,
   "metadata": {},
   "source": [
    "import keyword;print(keyword.kwlist)\n",
    "print(len(keyword.kwlist))\n",
    "\n"
   ],
   "outputs": []
  },
  {
   "cell_type": "code",
   "execution_count": 20,
   "metadata": {},
   "source": [
    "del print"
   ],
   "outputs": []
  },
  {
   "cell_type": "code",
   "execution_count": 21,
   "metadata": {},
   "source": [
    "# print = 1.0\n",
    "print(\"hello\")"
   ],
   "outputs": []
  },
  {
   "cell_type": "code",
   "execution_count": 22,
   "metadata": {},
   "source": [
    "print(\"OK\")\n",
    "abc\n",
    "\n",
    "abc = 1.0"
   ],
   "outputs": []
  },
  {
   "cell_type": "code",
   "execution_count": null,
   "metadata": {},
   "source": [
    "\n",
    "\n",
    "# 1. var name\n",
    "# 2. var value\n",
    "# 3. var type\n",
    "\n",
    "#unvar\n",
    "#var\n",
    "\n",
    "a = 1\n",
    "a = 2\n",
    "\n",
    "a = list([1,2,3])\n",
    "a[0] = 100\n",
    "print(a)"
   ],
   "outputs": []
  },
  {
   "cell_type": "code",
   "execution_count": 32,
   "metadata": {},
   "source": [
    "a = 1\n",
    "b = 1.0\n",
    "a, b = 1, 1.0\n",
    "a = b = c = 1\n",
    "d = 1.0\n",
    "\n",
    "id(a), id(b), id(c), id(d)\n",
    "\n",
    "c = 2 + 3j\n",
    "c**2\n",
    "\n",
    "s = \"neu\" #'neu', '''neu''', \"\"\"neu\"\"\"\n",
    "print(s)\n",
    "\n",
    "a = 1\n",
    "print(id(a))\n",
    "a = 2\n",
    "print(id(a))"
   ],
   "outputs": []
  },
  {
   "cell_type": "code",
   "execution_count": 37,
   "metadata": {},
   "source": [
    "#list\n",
    "# dict\n",
    "# set\n",
    "\n",
    "l = [1,2,3,4,\"neu\", 1.0, 1+2j, fun, print, [1,2,3, [1,2,3]]]\n",
    "print(l)\n",
    "\n",
    "d = {\"li\":100, \"zhang\":99}\n",
    "print(d)\n",
    "\n",
    "s = {1,2,4,5,2,3,4,5}\n",
    "print(s)"
   ],
   "outputs": []
  },
  {
   "cell_type": "code",
   "execution_count": 38,
   "metadata": {},
   "source": [
    "t = (1,2,4) #tuple\n",
    "\n",
    "# True/False\n",
    "flag = True\n",
    "0, 0.0, 0+0j, \"\", False, [], {}, (), None"
   ],
   "outputs": []
  },
  {
   "cell_type": "code",
   "execution_count": null,
   "metadata": {},
   "source": [],
   "outputs": []
  },
  {
   "cell_type": "code",
   "execution_count": null,
   "metadata": {},
   "source": [
    "#int\n",
    "#float\n",
    "a = 1.0\n",
    "#complex\n",
    "a = 1+2j\n",
    "#string\n",
    "a = \"string\"\n",
    "a = 'string'\n",
    "a = '''string'''\n",
    "#bool\n",
    "a = True/False\n",
    "a = 0/0.0/0+0j/None/False/[]/()/{}/set()\n",
    "\n",
    "#可变\n",
    "#list\n",
    "a = []/list()\n",
    "a = [0,1,2,3,[1,2,3], \"string\", 1.0]\n",
    "#tuple 不可变\n",
    "a = ()/tuple()\n",
    "a = (1,2,3)\n",
    "a[0] = 100\n",
    "a = (100,2,3)\n",
    "#dict\n",
    "a = {}/dict()\n",
    "a = {\"neu\":100,\"cn\":100}\n",
    "#set\n",
    "a = {1,2,3, 2,3,3,1}\n",
    "a = set()\n",
    "a = {} #!!!!!!!!"
   ],
   "outputs": []
  },
  {
   "cell_type": "code",
   "execution_count": null,
   "metadata": {},
   "source": [
    "#reference object/value\n",
    "a = b = 1\n",
    "a = 2\n",
    "c = 2\n",
    "print(id(a), id(c))\n",
    "c = 2.0\n",
    "print(id(c))"
   ],
   "outputs": []
  },
  {
   "cell_type": "markdown",
   "metadata": {},
   "source": [
    "3. 如何对定义的变量进行计算？\n"
   ]
  },
  {
   "cell_type": "code",
   "execution_count": 39,
   "metadata": {},
   "source": [
    "2**0.5"
   ],
   "outputs": []
  },
  {
   "cell_type": "code",
   "execution_count": 3,
   "metadata": {},
   "source": [
    "#arithmetic\n",
    "a = 5\n",
    "b = 2\n",
    "\n",
    "a+b\n",
    "a-b\n",
    "a*b\n",
    "a/b\n",
    "\n",
    "a//b\n",
    "a%b\n",
    "a**b\n",
    "\n",
    "\n",
    "#logic\n",
    "\n",
    "#> < >= <= != ==, not, and, or\n",
    "print(a>b, a==b, not a, a and b, not a or b)\n",
    "\n",
    "l = [1,2,3]\n",
    "print(1 not in l)\n",
    "\n",
    "a = \"\"\n",
    "\n",
    "print(a and \"LI\", a or \"LI\")\n",
    "\n",
    "(a and \"LI\") == False"
   ],
   "outputs": []
  },
  {
   "cell_type": "code",
   "execution_count": 4,
   "metadata": {},
   "source": [
    "#bit wise\n",
    "a, b = 5, 2\n",
    "a & b, a|b"
   ],
   "outputs": []
  },
  {
   "cell_type": "code",
   "execution_count": 53,
   "metadata": {},
   "source": [
    "#ab exchange\n",
    "a = 5\n",
    "b = 2\n",
    "a, b = b, a\n",
    "print(a, b)\n",
    "#m\n",
    "\n",
    "a = 100\n",
    "f = 1.1\n",
    "\n",
    "a*1.1**10"
   ],
   "outputs": []
  },
  {
   "cell_type": "markdown",
   "metadata": {},
   "source": [
    "4. 如何组织程序语句和编排代码块？\n"
   ]
  },
  {
   "cell_type": "code",
   "execution_count": 61,
   "metadata": {},
   "source": [
    "a = 1.0\n",
    "b = 2.0\n",
    "if a >= 1:\n",
    "      print(\"Hello\")\n",
    "    print(\"LI\")"
   ],
   "outputs": []
  },
  {
   "cell_type": "code",
   "execution_count": 62,
   "metadata": {},
   "source": [
    "a =1;b =2\n",
    "a = 1\n",
    "b = 2\n",
    "\n",
    "print(a, b)"
   ],
   "outputs": []
  },
  {
   "cell_type": "code",
   "execution_count": 65,
   "metadata": {},
   "source": [
    "d = 100\n",
    "    a = 1\n",
    "    b = 2\n",
    "    print(a, b)\n",
    "c = 2.5"
   ],
   "outputs": []
  },
  {
   "cell_type": "code",
   "execution_count": 66,
   "metadata": {},
   "source": [
    "s = \"hello NEU.\"\n",
    "def fun(s):\n",
    "    print(s.lower())\n",
    "\n",
    "    def fun_in(s):\n",
    "        print(s.upper())\n",
    "\n",
    "        return s[0]\n",
    "    return fun_in\n",
    "\n",
    "pass\n",
    "\n",
    "fun(s)(s)"
   ],
   "outputs": []
  },
  {
   "cell_type": "markdown",
   "metadata": {},
   "source": [
    "5. 如何控制程序语句执行逻辑？\n"
   ]
  },
  {
   "cell_type": "code",
   "execution_count": 67,
   "metadata": {},
   "source": [
    "#if/elif/else\n",
    "a , b = 5, 2\n",
    "if a>b:\n",
    "    print(a)\n",
    "elif a == b:\n",
    "    print(\"eq\")\n",
    "else:\n",
    "    print(b)"
   ],
   "outputs": []
  },
  {
   "cell_type": "code",
   "execution_count": 71,
   "metadata": {},
   "source": [
    "a, b = 4, 2\n",
    "if a>b:\n",
    "    print(a)\n",
    "else:\n",
    "    print(b)\n",
    "\n",
    "a if a>b else b\n",
    "[a, b][a<b]\n",
    "\n",
    "max(a, b)"
   ],
   "outputs": []
  },
  {
   "cell_type": "code",
   "execution_count": 73,
   "metadata": {},
   "source": [
    "#while/else\n",
    "c = 5\n",
    "while c>0:\n",
    "    print(c)\n",
    "    c = c-1   #c -= 1\n",
    "    if c==3:\n",
    "        break\n",
    "else:\n",
    "    print(\"finished.\")"
   ],
   "outputs": []
  },
  {
   "cell_type": "code",
   "execution_count": 74,
   "metadata": {},
   "source": [
    "for i in [print]:\n",
    "    i(\"hello\")"
   ],
   "outputs": []
  },
  {
   "cell_type": "code",
   "execution_count": 80,
   "metadata": {},
   "source": [
    "#for/else\n",
    "for i in [1,2,3,4, 5]:    \n",
    "    if i == 3:\n",
    "        continue\n",
    "    if i == 4:\n",
    "        break\n",
    "    print(i)\n",
    "else:\n",
    "    print(\"finished.\")\n",
    "#range\n",
    "\n",
    "list(range(1, 10, 3))\n",
    "for i in range(1,10):\n",
    "    print(i, end=\" \")"
   ],
   "outputs": []
  },
  {
   "cell_type": "code",
   "execution_count": null,
   "metadata": {},
   "source": [
    "for i in range(100, 200, 3):\n",
    "    print(i, sep=\" \", end = \"  \")"
   ],
   "outputs": []
  },
  {
   "cell_type": "code",
   "execution_count": 81,
   "metadata": {},
   "source": [
    "#break/continue/try/except/finally\n",
    "# 1/0\n",
    "try:\n",
    "    1/0\n",
    "except:\n",
    "    print(\"error.\")\n",
    "\n",
    "finally:\n",
    "    print(\"finished.\")\n",
    "\n",
    "# raise\n",
    "# assert\n"
   ],
   "outputs": []
  },
  {
   "cell_type": "markdown",
   "metadata": {},
   "source": [
    "6. 如何定义函数/类等对象？\n"
   ]
  },
  {
   "cell_type": "code",
   "execution_count": 87,
   "metadata": {},
   "source": [
    "def func(s:str):\n",
    "   print(s)\n",
    "   return True, s\n",
    "\n",
    "func(\"NEU\"), func(123)\n",
    "# help(func)"
   ],
   "outputs": []
  },
  {
   "cell_type": "code",
   "execution_count": 90,
   "metadata": {},
   "source": [
    "class myclass(object):\n",
    "    def __init__(self):\n",
    "        self.a = 100\n",
    "\n",
    "    b = 100\n",
    "\n",
    "    def sayhello(self):\n",
    "        print(\"HLLL\")\n",
    "\n",
    "mc = myclass()\n",
    "mc, mc.a, mc.b, myclass.b#, myclass.a\n",
    "mc.sayhello()"
   ],
   "outputs": []
  },
  {
   "cell_type": "markdown",
   "metadata": {},
   "source": [
    "7. 如何封装和使用代码模块/包/库？"
   ]
  },
  {
   "cell_type": "code",
   "execution_count": 94,
   "metadata": {},
   "source": [
    "#import \n",
    "#from\n",
    "#as\n",
    "#*\n",
    "\n",
    "import math\n",
    "math.pow(100,2)\n",
    "from math import pow\n",
    "pow(100, 2)\n",
    "\n",
    "from math import pow  as mypow\n",
    "mypow(100, 2)\n",
    "\n",
    "from math import *\n",
    "pow(100, 2)"
   ],
   "outputs": []
  },
  {
   "cell_type": "code",
   "execution_count": 96,
   "metadata": {},
   "source": [
    "import hello\n",
    "\n",
    "hello.myfun()\n",
    "\n",
    "from hello import myfun\n",
    "myfun()"
   ],
   "outputs": []
  },
  {
   "cell_type": "code",
   "execution_count": 5,
   "metadata": {},
   "source": [
    "from liwei import hello\n",
    "hello.myfun()"
   ],
   "outputs": []
  },
  {
   "cell_type": "code",
   "execution_count": null,
   "metadata": {},
   "source": [
    "#__init__.py\n",
    "\n",
    "from hello import myfunc\n",
    "\n",
    "myfunc()\n",
    "\n",
    "from liwei import hello\n",
    "hello.myfunc()\n",
    "\n",
    "from liwei.hello import myfunc as mf\n",
    "mf()\n"
   ],
   "outputs": []
  },
  {
   "cell_type": "markdown",
   "metadata": {},
   "source": [
    "#### 文件读写\n"
   ]
  },
  {
   "cell_type": "code",
   "execution_count": 1,
   "metadata": {},
   "source": [
    "#open with 'rwba'\n",
    "f = open(\"hello.py\", \"r\")\n",
    "f.readlines()"
   ],
   "outputs": []
  },
  {
   "cell_type": "code",
   "execution_count": 100,
   "metadata": {},
   "source": [
    "f = open(\"helllo-2.txt\", \"w\")\n",
    "f.write(\"HELLO NEU>\")\n",
    "f.close()"
   ],
   "outputs": []
  },
  {
   "cell_type": "code",
   "execution_count": 101,
   "metadata": {},
   "source": [
    "flog = open(\"logging.txt\", \"w\")\n",
    "\n",
    "print(\"HELLLO A.\", file = flog)\n",
    "\n",
    "flog.close()"
   ],
   "outputs": []
  },
  {
   "cell_type": "code",
   "execution_count": 103,
   "metadata": {},
   "source": [
    "#with\n",
    "with open(\"hello.py\") as f:\n",
    "    print(f.readlines())"
   ],
   "outputs": []
  },
  {
   "cell_type": "markdown",
   "metadata": {},
   "source": [
    "#### 代码风格"
   ]
  },
  {
   "cell_type": "code",
   "execution_count": null,
   "metadata": {},
   "source": [
    "#PEP8\n",
    "#indent 4\n",
    "#line length\n",
    "#blank line/space\n",
    "#import a, b\n",
    "#:()= with space"
   ],
   "outputs": []
  },
  {
   "cell_type": "code",
   "execution_count": null,
   "metadata": {},
   "source": [
    "#bad ones\n",
    "def make_dict_test(*args):\n",
    "    x, y = args\n",
    "    print(x); print(y)\n",
    "    if x == 'Wei': print(y)\n",
    "    return dict(**locals())"
   ],
   "outputs": []
  },
  {
   "cell_type": "code",
   "execution_count": null,
   "metadata": {},
   "source": [
    "#good ones\n",
    "from platform import python_implementation\n",
    "\n",
    "\n",
    "def make_dict_test(x, y):\n",
    "    print(x)\n",
    "    print(y)\n",
    "    if x == 'wei':\n",
    "        print(y)\n",
    "    return {'first name' : x, 'last name' : y}\n",
    "\n",
    "pylint"
   ],
   "outputs": []
  },
  {
   "cell_type": "code",
   "execution_count": 104,
   "metadata": {},
   "source": [
    "import this"
   ],
   "outputs": []
  }
 ],
 "metadata": {
  "kernelspec": {
   "display_name": "Python 3.10.6 64-bit",
   "language": "python",
   "name": "python3"
  },
  "language_info": {
   "codemirror_mode": {
    "name": "ipython",
    "version": 3
   },
   "file_extension": ".py",
   "mimetype": "text/x-python",
   "name": "python",
   "nbconvert_exporter": "python",
   "pygments_lexer": "ipython3",
   "version": "3.10.6"
  },
  "orig_nbformat": 4,
  "vscode": {
   "interpreter": {
    "hash": "ed4cccc5cc02f3fdc2d6faa9ad2d9c225cf2e2cb7eda9eb3163a17a7f943c2e9"
   }
  }
 },
 "nbformat": 4,
 "nbformat_minor": 2
}
