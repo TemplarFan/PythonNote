{
 "cells": [
  {
   "cell_type": "markdown",
   "metadata": {},
   "source": [
    "#### 12)并发执行优化"
   ]
  },
  {
   "cell_type": "code",
   "execution_count": 3,
   "metadata": {},
   "outputs": [
    {
     "name": "stdout",
     "output_type": "stream",
     "text": [
      "sleet......\n",
      "current process id: 2996\n",
      "over.\n"
     ]
    }
   ],
   "source": [
    "# concurrency 并发-------Parallelism  并行\n",
    "\n",
    "import os, sys\n",
    "\n",
    "import time\n",
    "print(\"sleet......\")\n",
    "print(\"current process id:\", os.getpid())\n",
    "time.sleep(5)\n",
    "print(\"over.\")\n",
    "\n",
    "\n",
    "#PCB --prcess control block 0"
   ]
  },
  {
   "cell_type": "code",
   "execution_count": null,
   "metadata": {},
   "outputs": [],
   "source": [
    "os.system(\"chrome\")\n",
    "# os.fork()\n",
    "\n",
    "# fork/popen/system \n",
    "# subprocess/popen"
   ]
  },
  {
   "cell_type": "code",
   "execution_count": 4,
   "metadata": {},
   "outputs": [
    {
     "name": "stdout",
     "output_type": "stream",
     "text": [
      " 驱动器 D 中的卷是 数据\n",
      " 卷的序列号是 524A-6710\n",
      "\n",
      " d:\\Rootdir\\01教学相关\\2022秋季课程\\Python-人工智能\\lecture12 的目录\n",
      "\n",
      "2022/12/03  11:48    <DIR>          .\n",
      "2022/12/03  09:11    <DIR>          ..\n",
      "2022/12/03  11:49             2,236 lecture12.ipynb\n",
      "2022/12/03  11:49               125 ospid.py\n",
      "               2 个文件          2,361 字节\n",
      "               2 个目录 309,249,052,672 可用字节\n",
      "\n"
     ]
    }
   ],
   "source": [
    "import os\n",
    "\n",
    "p = os.popen(\"dir .\")\n",
    "print(p.read())"
   ]
  },
  {
   "cell_type": "markdown",
   "metadata": {},
   "source": [
    "##### 1. 多进程执行"
   ]
  },
  {
   "cell_type": "code",
   "execution_count": 10,
   "metadata": {},
   "outputs": [],
   "source": [
    "# subprocess module\n",
    "import subprocess\n",
    "\n",
    "p = subprocess.run(\"dir .\", shell=True, stdout=subprocess.PIPE)"
   ]
  },
  {
   "cell_type": "code",
   "execution_count": 13,
   "metadata": {},
   "outputs": [
    {
     "name": "stdout",
     "output_type": "stream",
     "text": [
      " 驱动器 D 中的卷是 数据\n",
      " 卷的序列号是 524A-6710\n",
      "\n",
      " d:\\Rootdir\\01教学相关\\2022秋季课程\\Python-人工智能\\lecture12 的目录\n",
      "\n",
      "2022/12/03  11:48    <DIR>          .\n",
      "2022/12/03  09:11    <DIR>          ..\n",
      "2022/12/03  11:49             2,236 lecture12.ipynb\n",
      "2022/12/03  11:49               125 ospid.py\n",
      "               2 个文件          2,361 字节\n",
      "               2 个目录 309,249,052,672 可用字节\n",
      "\n"
     ]
    }
   ],
   "source": [
    "print(p.stdout.decode(\"cp936\"))"
   ]
  },
  {
   "cell_type": "code",
   "execution_count": 14,
   "metadata": {},
   "outputs": [],
   "source": [
    "#多个进程  #multiprocessing\n",
    "import multiprocessing \n",
    "\n",
    "#Process class"
   ]
  },
  {
   "cell_type": "code",
   "execution_count": null,
   "metadata": {},
   "outputs": [],
   "source": [
    "from multiprocessing import Process\n",
    "import time\n",
    "\n",
    "def tfunc():\n",
    "    t = 10\n",
    "    while True:\n",
    "        print(\"invoking this func.\")\n",
    "        time.sleep(1)\n",
    "        t = t-1\n",
    "        if t<0: break\n",
    "\n",
    "\n",
    "if __name__ == \"__main__\":\n",
    "    p = Process(target=tfunc)\n",
    "    p.start()"
   ]
  },
  {
   "cell_type": "code",
   "execution_count": null,
   "metadata": {},
   "outputs": [],
   "source": [
    "#pool 进程池\n",
    "\n",
    "from multiprocessing import Pool\n",
    "import time\n",
    "import os\n",
    "\n",
    "def tfunc():\n",
    "    for i in range(3):\n",
    "        print(i)\n",
    "        time.sleep(1)\n",
    "\n",
    "\n",
    "\n",
    "if __name__ == \"__main__\":\n",
    "    pool = Pool(2)\n",
    "    for i in range(3):\n",
    "        pool.apply_async(tfunc)\n",
    "\n",
    "\n",
    "    pool.close()\n",
    "    pool.join()"
   ]
  },
  {
   "cell_type": "code",
   "execution_count": null,
   "metadata": {},
   "outputs": [],
   "source": [
    "# 进程通讯 --- 信号量/管道/共享内存/套接字socket\n",
    "\n",
    "import multiprocessing\n",
    "\n",
    "def tfun(queue, name):\n",
    "    print(\"put data:\", name)\n",
    "    queue.put(name)\n",
    "\n",
    "\n",
    "if __name__ == \"__main__\":\n",
    "    queue = multiprocessing.Queue()\n",
    "    p = multiprocessing.Process(target=tfun, args=(queue, \"NEU, 100\"))\n",
    "    p.start()\n",
    "    p.join()\n",
    "\n",
    "    print(\"get data:\", queue.get())"
   ]
  },
  {
   "cell_type": "code",
   "execution_count": null,
   "metadata": {},
   "outputs": [],
   "source": [
    "import multiprocessing\n",
    "\n",
    "conn1, conn2 = multiprocessing.Pipe(duplex=True)\n",
    "\n",
    "# os.popen"
   ]
  },
  {
   "cell_type": "markdown",
   "metadata": {},
   "source": [
    "##### 2. 多线程执行"
   ]
  },
  {
   "cell_type": "code",
   "execution_count": null,
   "metadata": {},
   "outputs": [],
   "source": [
    "# thread start\n",
    "\n",
    "#threading----Thread\n",
    "\n",
    "\n",
    "import threading\n",
    "import time\n",
    "\n",
    "def tfunc(*num):\n",
    "    for i in num:\n",
    "        print(\"New thread \", threading.current_thread().getName(), i)\n",
    "        time.sleep(1)\n",
    "\n",
    "if __name__ == \"__main__\":\n",
    "    thread = threading.Thread(target=tfunc, args=(10, 9))\n",
    "    thread.start()\n",
    "\n",
    "    for i in range(2):\n",
    "        print(threading.current_thread().getName(), i)\n",
    "        time.sleep(1)\n",
    "\n",
    "\n"
   ]
  },
  {
   "cell_type": "code",
   "execution_count": null,
   "metadata": {},
   "outputs": [],
   "source": [
    "from concurrent.futures import ThreadPoolExecutor"
   ]
  },
  {
   "cell_type": "code",
   "execution_count": null,
   "metadata": {},
   "outputs": [],
   "source": [
    "# threading Condition / Lock"
   ]
  },
  {
   "cell_type": "markdown",
   "metadata": {},
   "source": [
    "##### 3. 协程 asyncio"
   ]
  },
  {
   "cell_type": "code",
   "execution_count": null,
   "metadata": {},
   "outputs": [],
   "source": [
    "#GIL \n",
    "\n",
    "#Python 3.4 协程 ----> 3.5 语法 asyncio/torando\n",
    "\n",
    "#coroutine, async\n"
   ]
  },
  {
   "cell_type": "code",
   "execution_count": 3,
   "metadata": {},
   "outputs": [
    {
     "name": "stdout",
     "output_type": "stream",
     "text": [
      "hello, NEU,100\n",
      "next value:  NEU,100\n",
      "get value: AI Class\n"
     ]
    },
    {
     "ename": "StopIteration",
     "evalue": "",
     "output_type": "error",
     "traceback": [
      "\u001b[1;31m---------------------------------------------------------------------------\u001b[0m",
      "\u001b[1;31mStopIteration\u001b[0m                             Traceback (most recent call last)",
      "\u001b[1;32m~\\AppData\\Local\\Temp/ipykernel_16044/3021460307.py\u001b[0m in \u001b[0;36m<module>\u001b[1;34m\u001b[0m\n\u001b[0;32m      6\u001b[0m \u001b[0mc\u001b[0m \u001b[1;33m=\u001b[0m \u001b[0mcoroutine_sayhello\u001b[0m\u001b[1;33m(\u001b[0m\u001b[1;34m\"NEU,100\"\u001b[0m\u001b[1;33m)\u001b[0m\u001b[1;33m\u001b[0m\u001b[1;33m\u001b[0m\u001b[0m\n\u001b[0;32m      7\u001b[0m \u001b[0mprint\u001b[0m\u001b[1;33m(\u001b[0m\u001b[1;34m\"next value: \"\u001b[0m\u001b[1;33m,\u001b[0m \u001b[0mnext\u001b[0m\u001b[1;33m(\u001b[0m\u001b[0mc\u001b[0m\u001b[1;33m)\u001b[0m\u001b[1;33m)\u001b[0m\u001b[1;33m\u001b[0m\u001b[1;33m\u001b[0m\u001b[0m\n\u001b[1;32m----> 8\u001b[1;33m \u001b[0mprint\u001b[0m\u001b[1;33m(\u001b[0m\u001b[1;34m\"send vlaue: \"\u001b[0m\u001b[1;33m,\u001b[0m \u001b[0mc\u001b[0m\u001b[1;33m.\u001b[0m\u001b[0msend\u001b[0m\u001b[1;33m(\u001b[0m\u001b[1;34m\"AI Class\"\u001b[0m\u001b[1;33m)\u001b[0m\u001b[1;33m)\u001b[0m\u001b[1;33m\u001b[0m\u001b[1;33m\u001b[0m\u001b[0m\n\u001b[0m",
      "\u001b[1;31mStopIteration\u001b[0m: "
     ]
    }
   ],
   "source": [
    "def coroutine_sayhello(name):\n",
    "    print(\"hello, %s\" % name)\n",
    "    x = yield name\n",
    "    print(\"get value:\", x)\n",
    "\n",
    "c = coroutine_sayhello(\"NEU,100\")\n",
    "print(\"next value: \", next(c))\n",
    "print(\"send vlaue: \", c.send(\"AI Class\"))\n"
   ]
  },
  {
   "cell_type": "code",
   "execution_count": null,
   "metadata": {},
   "outputs": [],
   "source": [
    "import asyncio\n",
    "\n",
    "async def main():\n",
    "    print(\"hello....\")\n",
    "    await asyncio.sleep(1)\n",
    "    print(\"....NEU\")\n",
    "\n",
    "\n",
    "asyncio.run(main())\n"
   ]
  },
  {
   "cell_type": "code",
   "execution_count": null,
   "metadata": {},
   "outputs": [],
   "source": [
    "loop = asyncio.get_event_loop()\n",
    "loop.run_until_complete(process)\n",
    "\n",
    "\n",
    "loop.call_soon(process)"
   ]
  },
  {
   "cell_type": "markdown",
   "metadata": {},
   "source": [
    "##### 4. 优化 cProfile"
   ]
  },
  {
   "cell_type": "code",
   "execution_count": null,
   "metadata": {},
   "outputs": [],
   "source": [
    "#cProfile/ profile   ---lsprof\n",
    "\n",
    "#pstats\n",
    "\n",
    "#gprof2dot"
   ]
  }
 ],
 "metadata": {
  "kernelspec": {
   "display_name": "Python 3.9.7 64-bit",
   "language": "python",
   "name": "python3"
  },
  "language_info": {
   "codemirror_mode": {
    "name": "ipython",
    "version": 3
   },
   "file_extension": ".py",
   "mimetype": "text/x-python",
   "name": "python",
   "nbconvert_exporter": "python",
   "pygments_lexer": "ipython3",
   "version": "3.9.7"
  },
  "orig_nbformat": 4,
  "vscode": {
   "interpreter": {
    "hash": "2f1a0965c75aec8e4a2a9df4a3184abea607daea749e4ec45412662d9328f429"
   }
  }
 },
 "nbformat": 4,
 "nbformat_minor": 2
}
