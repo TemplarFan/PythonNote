{
 "cells": [
  {
   "cell_type": "markdown",
   "metadata": {},
   "source": [
    "##### 8）一切皆是对象"
   ]
  },
  {
   "cell_type": "code",
   "execution_count": 11,
   "metadata": {},
   "source": [
    "#class type/isinstance\n",
    "class MyClass:\n",
    "    pass\n",
    "\n",
    "c = MyClass()\n",
    "print(c)\n",
    "print(type(c))\n",
    "print(MyClass)\n",
    "print(type(MyClass))\n",
    "print(type(type))\n",
    "\n",
    "isinstance(c, MyClass), isinstance(MyClass, type)\n",
    "\n",
    "# print(type(c),type(MyClass))\n",
    "# print(c)\n",
    "# print(MyClass)\n",
    "\n",
    "# # c isinstance(MyClass); MyClass isinstance(type)\n",
    "\n",
    "# print(type(type))"
   ],
   "outputs": []
  },
  {
   "cell_type": "code",
   "execution_count": 14,
   "metadata": {},
   "source": [
    "print(type(1.0))\n",
    "print(type(1))\n",
    "print(type(\"NEU\"))\n",
    "print(type([1,2,3]))\n",
    "def func():pass\n",
    "print(type(func))\n",
    "import os\n",
    "print(type(os))\n",
    "print(type(lambda:None))\n",
    "print(type(None))"
   ],
   "outputs": []
  },
  {
   "cell_type": "markdown",
   "metadata": {},
   "source": [
    "##### 再说类定义"
   ]
  },
  {
   "cell_type": "code",
   "execution_count": 17,
   "metadata": {},
   "source": [
    "# method def \n",
    "# __init__\n",
    "class Myclass(object):\n",
    "    def __init__(self, s):\n",
    "        self.s = s\n",
    "    def sayhello(self):\n",
    "        print(\"Hello %s\" % self.s)\n",
    "\n",
    "c = Myclass(\"NEU\")\n",
    "c.sayhello()"
   ],
   "outputs": []
  },
  {
   "cell_type": "code",
   "execution_count": 18,
   "metadata": {},
   "source": [
    "c = Myclass()\n"
   ],
   "outputs": []
  },
  {
   "cell_type": "code",
   "execution_count": 21,
   "metadata": {},
   "source": [
    "class MyclassTwo(object):\n",
    "    def sayhello(self, s):\n",
    "        print(\"Hello %s\" % s)\n",
    "\n",
    "c2 = MyclassTwo()\n",
    "c2.sayhello(\"NEU\")\n",
    "\n",
    "c3 = MyclassTwo(\"NEU\")\n",
    "c3 = MyclassTwo(\"NEU\", \"100\")"
   ],
   "outputs": []
  },
  {
   "cell_type": "code",
   "execution_count": 22,
   "metadata": {},
   "source": [
    "print(dir(Myclass))\n",
    "print(dir(c))"
   ],
   "outputs": []
  },
  {
   "cell_type": "code",
   "execution_count": 24,
   "metadata": {},
   "source": [
    "# super class method\n",
    "class PClass():\n",
    "    def sayhello(self, s):\n",
    "        print(\"Hello in parent, %s\" % s)\n",
    "\n",
    "\n",
    "class CClass(PClass):\n",
    "    def sayhello2(self, s):\n",
    "        print(\"hello in child, %s\" % s)\n",
    "        PClass.sayhello(self, s)\n",
    "\n",
    "c = CClass()\n",
    "c.sayhello2(\"NEU\")\n",
    "CClass.sayhello(c, \"NEU\")\n",
    "# class method replace"
   ],
   "outputs": []
  },
  {
   "cell_type": "code",
   "execution_count": 26,
   "metadata": {},
   "source": [
    "class A:\n",
    "    def m(self):\n",
    "        print(\"Hello world.\")\n",
    "\n",
    "a = A()\n",
    "a.m()\n",
    "A.m(a)"
   ],
   "outputs": []
  },
  {
   "cell_type": "code",
   "execution_count": 30,
   "metadata": {},
   "source": [
    "class PClass():\n",
    "    def sayhello(self, s):\n",
    "        print(\"Hello in parent, %s\" % s)\n",
    "\n",
    "\n",
    "class CClass(PClass):\n",
    "    def sayhello(self, s):\n",
    "        print(\"hello in child, %s\" % s)\n",
    "        super().sayhello(s)\n",
    "\n",
    "c = CClass()\n",
    "c.sayhello(\"NEU\")"
   ],
   "outputs": []
  },
  {
   "cell_type": "code",
   "execution_count": 31,
   "metadata": {},
   "source": [
    "def sayhelloworld(s):\n",
    "    print(s, \"in sayhello function\")\n",
    "\n",
    "c.sayhello = sayhelloworld\n",
    "c.sayhello(\"NEU 100\")\n"
   ],
   "outputs": []
  },
  {
   "cell_type": "code",
   "execution_count": 39,
   "metadata": {},
   "source": [
    "# class method @classmethod/classmethod\n",
    "\n",
    "class Myclass(object):\n",
    "    def sayhello(self, s):\n",
    "        print(\"hello, %s\" % s)\n",
    "\n",
    "    def sayhello_class(cls):\n",
    "        print(\"in class sayhello\")\n",
    "\n",
    "    sayhelloclass = classmethod(sayhello_class)\n",
    "\n",
    "    @classmethod\n",
    "    def sayhello_class(cls):\n",
    "        print(\"in class sayhello\")\n",
    "\n",
    "c = Myclass()\n",
    "c.sayhello(\"NEU\")\n",
    "Myclass.sayhello(c, \"NEU\")\n",
    "Myclass.sayhello_class()"
   ],
   "outputs": []
  },
  {
   "cell_type": "code",
   "execution_count": 40,
   "metadata": {},
   "source": [
    "c.sayhello_class(\"NEU\")"
   ],
   "outputs": []
  },
  {
   "cell_type": "code",
   "execution_count": 44,
   "metadata": {},
   "source": [
    "# print(dir(c))\n",
    "# print(dir(Myclass))\n",
    "print(c.__dict__)\n",
    "print(Myclass.__dict__)"
   ],
   "outputs": []
  },
  {
   "cell_type": "code",
   "execution_count": 35,
   "metadata": {},
   "source": [
    "# static method @staticmethod/staticmethod\n",
    "class Myclass(object):\n",
    "    def sayhello(self, s):\n",
    "        print(\"hello, %s\" % s)\n",
    "\n",
    "        \n",
    "    def sayhello_static(s):\n",
    "        print(s, \"in class sayhello\")\n",
    "    sayhello_static = staticmethod(sayhello_static)\n",
    "\n",
    "    @staticmethod\n",
    "    def sayhello_static(s):\n",
    "        print(s, \"in class sayhello\")\n",
    "\n",
    "c = Myclass()\n",
    "c.sayhello_static(\"NEU\")\n",
    "Myclass.sayhello_static(\"NEU\")\n"
   ],
   "outputs": []
  },
  {
   "cell_type": "code",
   "execution_count": 52,
   "metadata": {},
   "source": [
    "# attribute def\n",
    "# class attr/object attr\n",
    "class Myclass(object):\n",
    "    def __init__(self, s):\n",
    "        self.s = s\n",
    "    def say(self):\n",
    "        print(\"hello, \", self.s)\n",
    "\n",
    "c = Myclass(\"NEU\")\n",
    "c.say()\n",
    "print(c.s)\n",
    "c.s = \"100\"\n",
    "\n",
    "c.say()\n",
    "# Myclass.s"
   ],
   "outputs": []
  },
  {
   "cell_type": "code",
   "execution_count": 47,
   "metadata": {},
   "source": [
    "print(dir(c))\n",
    "print(dir(Myclass))"
   ],
   "outputs": []
  },
  {
   "cell_type": "code",
   "execution_count": null,
   "metadata": {},
   "source": [
    "print(dir(Myclass))\n",
    "print(dir(c))"
   ],
   "outputs": []
  },
  {
   "cell_type": "code",
   "execution_count": 61,
   "metadata": {},
   "source": [
    "class Myclass(object):\n",
    "    s = 100\n",
    "    # def __init__(self, s):\n",
    "    #     self.s = s\n",
    "\n",
    "    def say(self, s):\n",
    "        print(s, \"in say.\")\n",
    "\n",
    "    def change(self):\n",
    "        Myclass.s = 200\n",
    "\n",
    "c = Myclass()\n",
    "c2 = Myclass()\n",
    "c2.s = 200\n",
    "c2.t = 300\n",
    "print(c.s, c2.s)#, c2.t)\n",
    "\n",
    "c.change()\n",
    "print(c.s, c2.s)\n",
    "\n",
    "\n",
    "print(dir(c))\n",
    "print(dir(c2))\n",
    "print(dir(Myclass))"
   ],
   "outputs": []
  },
  {
   "cell_type": "code",
   "execution_count": 62,
   "metadata": {},
   "source": [
    "print(c.__dict__)"
   ],
   "outputs": []
  },
  {
   "cell_type": "code",
   "execution_count": 64,
   "metadata": {},
   "source": [
    "cc = c\n",
    "print(id(cc), id(c))"
   ],
   "outputs": []
  },
  {
   "cell_type": "markdown",
   "metadata": {},
   "source": [
    "##### 了解对象"
   ]
  },
  {
   "cell_type": "code",
   "execution_count": 65,
   "metadata": {},
   "source": [
    "# reference object /copy\n",
    "l = [1,2,3, []]\n",
    "lc = l\n",
    "print(id(lc), id(l))\n",
    "\n",
    "c3 = c\n",
    "\n",
    "# print(id(c3), id(c))\n",
    "\n",
    "# import copy\n",
    "# copy.deepcopy()\n",
    "del c3"
   ],
   "outputs": []
  },
  {
   "cell_type": "code",
   "execution_count": 69,
   "metadata": {},
   "source": [
    "c.say(\"NEU\")\n",
    "del c\n",
    "c.say(\"NEU\")"
   ],
   "outputs": []
  },
  {
   "cell_type": "code",
   "execution_count": 72,
   "metadata": {},
   "source": [
    "#重载=参数类型和个数\n",
    "\n",
    "def func(a, b=0, c=0, d=0):\n",
    "    pass\n",
    "\n",
    "func(1)\n",
    "func(1,2)\n",
    "func(1,2,3)\n",
    "func(1,2,3,4)\n",
    "\n",
    "#inherence\n",
    "class A:\n",
    "    def m(self):\n",
    "        print(\"A\")\n",
    "\n",
    "class B(A):\n",
    "    '''doc for class'''\n",
    "    def m(self):\n",
    "        print(\"B\")\n",
    "\n",
    "b = B()\n",
    "b.m()\n",
    "\n",
    "#overwrite magic method/eq\n",
    "print(dir(B))\n",
    "print(B.__doc__)"
   ],
   "outputs": []
  },
  {
   "cell_type": "code",
   "execution_count": 78,
   "metadata": {},
   "source": [
    "class A(object):\n",
    "    # pass\n",
    "    def __eq__(self, o):\n",
    "        if type(self) == type(o):\n",
    "            return True\n",
    "        else:\n",
    "            return False\n",
    "\n",
    "o1 = A()\n",
    "o2 = A()\n",
    "print(o1 == o2)\n",
    "print(o1 == type(1))\n",
    "print(type(o1) == type(A))\n",
    "print(type(o1) == A)\n",
    "# o1.__class__\n",
    "# b.__doc__"
   ],
   "outputs": []
  },
  {
   "cell_type": "code",
   "execution_count": 83,
   "metadata": {},
   "source": [
    "#getitem/len\n",
    "\n",
    "class A(object):\n",
    "    def __init__(self):\n",
    "        self.data = []\n",
    "\n",
    "\n",
    "    def append(self, d):\n",
    "        self.data.append(d)\n",
    "\n",
    "\n",
    "    def __len__(self):\n",
    "        return len(self.data)\n",
    "\n",
    "    def __getitem__(self, i):\n",
    "        return self.data[i]\n",
    "\n",
    "\n",
    "    \n",
    "a = A()\n",
    "a.append(10)\n",
    "a.append(20)\n",
    "a.append(30)\n",
    "a.append(40)\n",
    "print(a,a.data)\n",
    "\n",
    "len(a), a[1:3], a[::-1]\n",
    "\n",
    "\n",
    "\n",
    "#dict/class attr/object attr"
   ],
   "outputs": []
  },
  {
   "cell_type": "code",
   "execution_count": 85,
   "metadata": {},
   "source": [
    "print(dir(a))\n",
    "print(a.__dict__)\n",
    "print(A.__dict__)"
   ],
   "outputs": []
  },
  {
   "cell_type": "code",
   "execution_count": 86,
   "metadata": {},
   "source": [
    "class A(object):\n",
    "    s = 100\n",
    "    \n",
    "a = A()\n",
    "class B(A):\n",
    "    pass\n",
    "b = B()\n",
    "b.s = 1000\n",
    "b.say = lambda :\"hell9\"\n",
    "\n",
    "print(A.__dict__)\n",
    "print(a.__dict__)\n",
    "print(B.__dict__)\n",
    "print(b.__dict__)\n",
    "b.say()"
   ],
   "outputs": []
  },
  {
   "cell_type": "code",
   "execution_count": 88,
   "metadata": {},
   "source": [
    "#__slots__ = (\"\")\n",
    "class A(object):\n",
    "    __slots__ = (\"funca\", \"funcb\")\n",
    "\n",
    "def funca():\n",
    "    print(\"hello in funca\")\n",
    "\n",
    "a = A()\n",
    "a.funca = funca\n",
    "a.funca()\n",
    "\n",
    "def func():\n",
    "    print(\"in funcc\")\n",
    "\n",
    "a.funcb = func\n",
    "a.funcc = func\n",
    "#inerent new method / class.__dict__[\"method\"](o, \"p\")"
   ],
   "outputs": []
  },
  {
   "cell_type": "code",
   "execution_count": 89,
   "metadata": {},
   "source": [
    "class B(A):\n",
    "    def funcc(self):\n",
    "        print(\"in funcc\")\n",
    "\n",
    "b = B()\n",
    "b.funcc()"
   ],
   "outputs": []
  },
  {
   "cell_type": "code",
   "execution_count": 90,
   "metadata": {},
   "source": [
    "print(dir(A))\n",
    "print(dir(B))"
   ],
   "outputs": []
  },
  {
   "cell_type": "code",
   "execution_count": 91,
   "metadata": {},
   "source": [
    "print(A.__dict__)\n",
    "print(B.__dict__)"
   ],
   "outputs": []
  },
  {
   "cell_type": "code",
   "execution_count": 95,
   "metadata": {},
   "source": [
    "class A(object):\n",
    "    def m(self):\n",
    "        print(\"in m\")\n",
    "\n",
    "a = A()\n",
    "a.m()\n",
    "A.m(a)\n",
    "\n",
    "A.__dict__[\"m\"](a)"
   ],
   "outputs": []
  },
  {
   "cell_type": "code",
   "execution_count": 93,
   "metadata": {},
   "source": [
    "print(A.__dict__)"
   ],
   "outputs": []
  },
  {
   "cell_type": "code",
   "execution_count": 96,
   "metadata": {},
   "source": [
    "# with\n",
    "\n",
    "class MyFile(object):\n",
    "    def __init__(self, file, t):\n",
    "        self.file = file\n",
    "        self.t = t\n",
    "\n",
    "    def __enter__(self):\n",
    "        self.f = open(self.file, self.t)\n",
    "\n",
    "        return self.f\n",
    "\n",
    "    def __exit__(self, ex_type, ex_value, ex_tb):\n",
    "        self.f.close()\n",
    "\n",
    "with MyFile(\"./neu.txt\", \"w\") as fw:\n",
    "    fw.write(\"HELLO WOLRD!\")\n",
    "\n"
   ],
   "outputs": []
  },
  {
   "cell_type": "markdown",
   "metadata": {},
   "source": [
    "##### 描述符协议"
   ]
  },
  {
   "cell_type": "code",
   "execution_count": 99,
   "metadata": {},
   "source": [
    "# __get__/__set__\n",
    "\n",
    "class Value(object):\n",
    "    def __init__(self, m, n=\"math\"):\n",
    "        self.math = m\n",
    "        self.name = n\n",
    "\n",
    "    def __get__(self, inst, owner):\n",
    "        print(\"get\")\n",
    "        print(\"inst:\", inst)\n",
    "        print(\"owner:\",owner)\n",
    "        return self.math\n",
    "\n",
    "    def __set__(self, inst, value):\n",
    "        print(\"set\")\n",
    "        print(\"inst:\", inst)\n",
    "        self.math = value\n",
    "\n",
    "class stu(object):\n",
    "    m = Value(80,\"math\")\n",
    "\n",
    "s = stu()\n",
    "print(s.m)\n",
    "s.m = 100\n",
    "\n"
   ],
   "outputs": []
  },
  {
   "cell_type": "code",
   "execution_count": 108,
   "metadata": {},
   "source": [
    "# __secret\n",
    "\n",
    "class A(object):\n",
    "    __x = 100\n",
    "\n",
    "    def getx(self):\n",
    "        return A.__x\n",
    "\n",
    "a = A()\n",
    "# a.__x\n",
    "a.getx()\n",
    "\n",
    "# print(A.__dict__)\n",
    "# print(A._A__x)\n"
   ],
   "outputs": []
  },
  {
   "cell_type": "code",
   "execution_count": 112,
   "metadata": {},
   "source": [
    "#property(getx,setx,delx,\"desc\")\n",
    "class A(object):\n",
    "    def __init__(self, x):\n",
    "        self.__x = x\n",
    "\n",
    "    def getx(self):\n",
    "        print(\"get\")\n",
    "        return self.__x\n",
    "\n",
    "    def setx(self, nx):\n",
    "        print(\"set\")\n",
    "        self.__x = nx\n",
    "\n",
    "    def delx(self):\n",
    "        print(\"del\")\n",
    "        del self.__x\n",
    "\n",
    "    x = property(getx, setx, delx, \"x data\")\n",
    "\n",
    "\n",
    "a = A(10)\n",
    "print(a.x)\n",
    "# a.getx()\n",
    "a.x = 100\n",
    "print(a.x)\n",
    "\n",
    "del a.x\n"
   ],
   "outputs": []
  },
  {
   "cell_type": "code",
   "execution_count": 113,
   "metadata": {},
   "source": [
    "#@property method/@method.setter/deleter\n",
    "\n",
    "class A(object):\n",
    "    def __init__(self, m):\n",
    "        self.__math = m\n",
    "    \n",
    "    @property\n",
    "    def math(self):\n",
    "        print(\"get\")\n",
    "        return self.__math\n",
    "    \n",
    "    @math.setter\n",
    "    def math(self, nvalue):\n",
    "        print(\"set\")\n",
    "        self.__math = nvalue\n",
    "\n",
    "    @math.deleter\n",
    "    def math(self):\n",
    "        del self.__math\n",
    "\n",
    "m = A(90)\n",
    "print(m.math)\n",
    "m.math = 100\n",
    "print(m.math)"
   ],
   "outputs": []
  },
  {
   "cell_type": "code",
   "execution_count": 115,
   "metadata": {},
   "source": [
    "# class decorator\n",
    "\n",
    "def shortname(cls):\n",
    "    cls.__repr__ = lambda self:super(cls, self).__repr__()[3:7]\n",
    "    return cls\n",
    "\n",
    "@shortname\n",
    "class nameislonglonglllllllllong(object):\n",
    "    pass\n",
    "\n",
    "n = nameislonglonglllllllllong()\n",
    "print(repr(n))"
   ],
   "outputs": []
  },
  {
   "cell_type": "code",
   "execution_count": null,
   "metadata": {},
   "source": [
    "# meta class\n",
    "class Myclasswithmetaclass(metaclass=type):\n",
    "    pass\n",
    "\n",
    "print(Myclasswithmetaclass)\n",
    "c = Myclasswithmetaclass()\n",
    "print(c,type(c))\n",
    "# cinst = c()\n",
    "\n"
   ],
   "outputs": []
  },
  {
   "cell_type": "code",
   "execution_count": null,
   "metadata": {},
   "source": [
    "def testing(inst):\n",
    "    print(inst.x, inst.y)\n",
    "    print(inst.method())"
   ],
   "outputs": []
  },
  {
   "cell_type": "code",
   "execution_count": null,
   "metadata": {},
   "source": [
    "def mymethod(self):\n",
    "    print(\"hello\")\n"
   ],
   "outputs": []
  },
  {
   "cell_type": "code",
   "execution_count": null,
   "metadata": {},
   "source": [
    "instclass = type(\"test\", (), {\n",
    "    \"x\":10,\n",
    "    \"y\":100,\n",
    "    \"method\": mymethod,\n",
    "})#()\n",
    "inst = instclass()\n",
    "\n",
    "testing(inst)"
   ],
   "outputs": []
  },
  {
   "cell_type": "code",
   "execution_count": null,
   "metadata": {},
   "source": [
    "# abstract class\n",
    "import abc\n",
    "\n",
    "class student(abc.ABC):\n",
    "    @abc.abstractmethod\n",
    "    def say_hello(self):\n",
    "        pass\n",
    "    \n",
    "class graduate(student):\n",
    "    def say_hello(self):\n",
    "        pass\n",
    "    \n",
    "class doctor(student):\n",
    "    pass\n",
    "\n",
    "g = graduate()\n",
    "print(g)\n",
    "d = doctor() #error\n",
    "# can't be instantiated  \n",
    "# s = student() \n"
   ],
   "outputs": []
  },
  {
   "cell_type": "markdown",
   "metadata": {},
   "source": [
    "#### 设计模式"
   ]
  },
  {
   "cell_type": "code",
   "execution_count": null,
   "metadata": {},
   "source": [
    "#单例模式\n",
    "def singleton(cls):\n",
    "    instances = {}\n",
    "    def wrapper(*args, **kwargs):\n",
    "        if cls in instances:\n",
    "            return  instances[cls]\n",
    "        else:\n",
    "            obj = cls(*args, **kwargs)\n",
    "            instances[cls] = obj\n",
    "            return obj\n",
    "    return  wrapper\n",
    "\n",
    "@singleton\n",
    "class Student(object):\n",
    "    pass\n",
    "\n",
    "@singleton\n",
    "class Teacher(object):\n",
    "    pass\n",
    "\n",
    "s1 = Student()\n",
    "s2 = Student()\n",
    "print(s1, s2, sep=\"\\n\")\n",
    "\n",
    "t1 = Teacher()\n",
    "t2 = Teacher()\n",
    "print(t1, t2, t1 is t2)\n"
   ],
   "outputs": []
  }
 ],
 "metadata": {
  "kernelspec": {
   "display_name": "Python 3.9.7 64-bit",
   "language": "python",
   "name": "python3"
  },
  "language_info": {
   "codemirror_mode": {
    "name": "ipython",
    "version": 3
   },
   "file_extension": ".py",
   "mimetype": "text/x-python",
   "name": "python",
   "nbconvert_exporter": "python",
   "pygments_lexer": "ipython3",
   "version": "3.9.7"
  },
  "orig_nbformat": 4,
  "vscode": {
   "interpreter": {
    "hash": "2f1a0965c75aec8e4a2a9df4a3184abea607daea749e4ec45412662d9328f429"
   }
  }
 },
 "nbformat": 4,
 "nbformat_minor": 2
}
