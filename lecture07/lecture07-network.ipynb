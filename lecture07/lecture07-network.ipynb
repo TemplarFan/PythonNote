{
 "cells": [
  {
   "cell_type": "markdown",
   "metadata": {},
   "source": [
    "#### 7）网络数据获取"
   ]
  },
  {
   "cell_type": "markdown",
   "metadata": {},
   "source": [
    "##### 7.1 socket网络数据读写"
   ]
  },
  {
   "cell_type": "code",
   "execution_count": 1,
   "metadata": {},
   "source": [
    "import socket\n",
    "\n",
    "#server side\n",
    "server = socket.socket()\n",
    "\n",
    "server.bind((\"localhost\", 50000))\n",
    "server.listen()\n",
    "print(\"waiting for clinet...\")\n",
    "\n",
    "# while True:\n",
    "conn, addr = server.accept()\n",
    "print(addr)\n",
    "data = conn.recv(1024)\n",
    "\n",
    "print(\"infor:\",data)\n",
    "server.close()\n"
   ],
   "outputs": []
  },
  {
   "cell_type": "code",
   "execution_count": null,
   "metadata": {},
   "source": [
    "import socket\n",
    "\n",
    "client = socket.socket()\n",
    "client.connect((\"localhost\", 50000))\n",
    "client.send(b\"Hello NEU!\")\n",
    "client.close()"
   ],
   "outputs": []
  },
  {
   "cell_type": "markdown",
   "metadata": {},
   "source": [
    "##### 7.2 HTTP网络数据读写"
   ]
  },
  {
   "cell_type": "code",
   "execution_count": 8,
   "metadata": {},
   "source": [
    "import urllib\n",
    "# import requests\n",
    "\n",
    "link = \"http://www.neu.edu.cn\"\n",
    "link = \"http://www.neu.edu.cn/2019/0125/c14a1/page.htm\"\n",
    "\n",
    "con = urllib.request.urlopen(link)\n",
    "\n",
    "data = con.read()\n",
    "\n",
    "print(type(data),len(data))"
   ],
   "outputs": []
  },
  {
   "cell_type": "code",
   "execution_count": null,
   "metadata": {},
   "source": [
    "print(data)"
   ],
   "outputs": []
  },
  {
   "cell_type": "code",
   "execution_count": 10,
   "metadata": {},
   "source": [
    "datacn = data.decode(\"utf-8\")\n",
    "print(len(datacn),type(datacn))\n",
    "print(datacn[20000:30000])"
   ],
   "outputs": []
  },
  {
   "cell_type": "code",
   "execution_count": 13,
   "metadata": {},
   "source": [
    "import requests\n",
    "\n",
    "req = requests.get(link)\n",
    "req.encoding = \"utf-8\"\n",
    "req.text\n",
    "\n",
    "with open(\"neu.txt\", \"w\", encoding=\"utf-8\") as fw:\n",
    "    fw.write(req.text)\n",
    "\n",
    "dataf = req.text"
   ],
   "outputs": []
  },
  {
   "cell_type": "code",
   "execution_count": 21,
   "metadata": {},
   "source": [
    "start = dataf.find(\"meta content=\\\"\")\n",
    "end = dataf.find(\"name=\\\"description\\\"\")\n",
    "dataf[start+len(\"meta content=\\\"\"):end]"
   ],
   "outputs": []
  },
  {
   "cell_type": "code",
   "execution_count": null,
   "metadata": {},
   "source": [
    "res = requests.get('https://sy.lianjia.com/ershoufang/')\n",
    "res.encoding = \"UTF-8\"\n",
    "res.text"
   ],
   "outputs": []
  },
  {
   "cell_type": "markdown",
   "metadata": {},
   "source": [
    "##### 7.3 字符串处理再认识"
   ]
  },
  {
   "cell_type": "code",
   "execution_count": 42,
   "metadata": {},
   "source": [
    "# BeautifulSoup -- html/xml\n",
    "\n",
    "from bs4 import BeautifulSoup as bs\n",
    "\n",
    "bsp = bs(data)\n",
    "\n",
    "# print(dir(bsp))\n",
    "\n",
    "\n",
    "all_a_tag = bsp.findAll(\"a\")\n",
    "# print(all_a_tag)\n",
    "atext = [l.text for l in all_a_tag]\n",
    "\n",
    "print(atext)"
   ],
   "outputs": []
  },
  {
   "cell_type": "code",
   "execution_count": 43,
   "metadata": {},
   "source": [
    "import jieba\n",
    "\n",
    "word = [list(jieba.cut(t)) for t in atext]\n",
    "print(word)"
   ],
   "outputs": []
  },
  {
   "cell_type": "code",
   "execution_count": 44,
   "metadata": {},
   "source": [
    "words = [w for wl in word for w in wl if len(w)>=2]\n",
    "print(words)"
   ],
   "outputs": []
  },
  {
   "cell_type": "code",
   "execution_count": 34,
   "metadata": {},
   "source": [
    "worddict = {}\n",
    "for w in words:\n",
    "    if w in worddict:\n",
    "        worddict[w] += 1 \n",
    "    else:\n",
    "        worddict[w] = 1\n",
    "\n",
    "print(worddict)"
   ],
   "outputs": []
  },
  {
   "cell_type": "code",
   "execution_count": 35,
   "metadata": {},
   "source": [
    "sworddict = sorted(worddict.items(), key=lambda t:t[1], reverse=True)\n",
    "print(sworddict)"
   ],
   "outputs": []
  },
  {
   "cell_type": "code",
   "execution_count": 47,
   "metadata": {},
   "source": [
    "from wordcloud import WordCloud\n",
    "\n",
    "# print(help(wordc))\n",
    "\n",
    "wordc = WordCloud(font_path=\"C:\\\\Windows\\\\Fonts\\\\msyh.ttc\", background_color=\"white\")\n",
    "wordc.generate_from_text(\" \".join(words))\n",
    "# print(dir(wordc))\n",
    "wordc.to_image()"
   ],
   "outputs": []
  },
  {
   "cell_type": "markdown",
   "metadata": {},
   "source": [
    "##### 7.4 网络数据抓取"
   ]
  },
  {
   "cell_type": "code",
   "execution_count": null,
   "metadata": {},
   "source": [
    "# 1. 基于scrapy  pip\n",
    "\n",
    "scrapy startproject Test\n",
    "\n",
    "scrpy genspider "
   ],
   "outputs": []
  },
  {
   "cell_type": "code",
   "execution_count": 48,
   "metadata": {},
   "source": [
    "# 2. 基于selenium pip install se\n",
    "\n",
    "from selenium import webdriver\n",
    "from selenium.webdriver.support import expected_conditions as EC\n",
    "from selenium.webdriver.common.by import By\n",
    "from selenium.webdriver.support.wait import WebDriverWait\n",
    "from pyquery import PyQuery as pq\n",
    "import time\n",
    "\n",
    "option = webdriver.ChromeOptions()\n",
    "#option.add_argument('--User-Agent = Mozilla/5.0 (Windows NT 6.1; WOW64) AppleWebKit/537.36 (KHTML, like Gecko) Chrome/73.0.3683.86 Safari/537.36')\n",
    "browser = webdriver.Chrome(options=option)\n",
    "url = 'https://read.douban.com/ebooks/?dcs=book-nav&dcm=douban'\n",
    "browser.get(url)\n",
    "\n",
    "browser.find_element_by_css_selector('body > div.wrapper > div.main > aside > section.kinds.tabs-container > div.bd > ul > li:nth-child(1) > a').click()\n",
    "\n",
    "\n",
    "\n",
    "wait = WebDriverWait(browser, 5)\n",
    "wait.until(EC.presence_of_element_located((By.CLASS_NAME, 'section-works')))\n",
    "time.sleep(1)\n",
    "doc = pq(browser.page_source)\n",
    "lis = doc('.works-list li').items()\n",
    "for li in lis:\n",
    "    print(li.find('h4').text())\n",
    "    print(li.find('.author').text())\n",
    "    print(li.find('.intro').text())\n",
    "    print(li.find('.extra-info .sticky-info.rating .score').text())\n",
    "    print('\\n')\n",
    "    time.sleep(1)\n",
    "\n",
    "browser.close()\n"
   ],
   "outputs": []
  }
 ],
 "metadata": {
  "kernelspec": {
   "display_name": "Python 3.9.7 64-bit",
   "language": "python",
   "name": "python3"
  },
  "language_info": {
   "codemirror_mode": {
    "name": "ipython",
    "version": 3
   },
   "file_extension": ".py",
   "mimetype": "text/x-python",
   "name": "python",
   "nbconvert_exporter": "python",
   "pygments_lexer": "ipython3",
   "version": "3.9.7"
  },
  "orig_nbformat": 4,
  "vscode": {
   "interpreter": {
    "hash": "2f1a0965c75aec8e4a2a9df4a3184abea607daea749e4ec45412662d9328f429"
   }
  }
 },
 "nbformat": 4,
 "nbformat_minor": 2
}
