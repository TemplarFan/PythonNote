{
 "cells": [
  {
   "cell_type": "markdown",
   "metadata": {},
   "source": [
    "#### 14）数据可视化"
   ]
  },
  {
   "cell_type": "code",
   "execution_count": null,
   "metadata": {},
   "source": [
    "# matplotlib: pylab, matplotlib backend, matplotlib client.\n",
    "# Seaborn ggplot/plotnine, Bokeh, ....."
   ],
   "outputs": []
  },
  {
   "cell_type": "markdown",
   "metadata": {},
   "source": [
    "##### 1. 画图元素及设置"
   ]
  },
  {
   "cell_type": "code",
   "execution_count": 1,
   "metadata": {},
   "source": [
    "# container, 显示，图像；\n",
    "import matplotlib.pyplot as plt\n",
    "\n",
    "plt.plot(range(10))\n",
    "plt.show()"
   ],
   "outputs": []
  },
  {
   "cell_type": "code",
   "execution_count": 2,
   "metadata": {},
   "source": [
    "import numpy as np\n",
    "\n",
    "t1 = np.arange(0, 5, 0.1)\n",
    "t2 = np.arange(0, 5, 0.02)\n",
    "\n",
    "plt.subplot(221)\n",
    "plt.plot(t1, np.exp(-t1)*np.cos(2*np.pi*t1))\n",
    "plt.subplot(222)\n",
    "plt.plot(t2, np.cos(2*np.pi*t2))\n",
    "plt.subplot(212)\n",
    "plt.plot([1,2,3,4], [1,2,4,16])\n",
    "\n",
    "plt.show()\n"
   ],
   "outputs": []
  },
  {
   "cell_type": "code",
   "execution_count": 4,
   "metadata": {},
   "source": [
    "fig, faxes = plt.subplots(nrows=2, ncols=2)\n",
    "fig.tight_layout()\n",
    "plt.show()"
   ],
   "outputs": []
  },
  {
   "cell_type": "code",
   "execution_count": null,
   "metadata": {},
   "source": [
    "# gridspec/grid\n",
    "# plt.SubplotSpec"
   ],
   "outputs": []
  },
  {
   "cell_type": "code",
   "execution_count": 5,
   "metadata": {},
   "source": [
    "x = np.arange(10)\n",
    "plt.plot(x, x*1.5, \"go\", x, x*2.5, \"rx\", x, x*4.5, \"b-\")\n",
    "plt.show()"
   ],
   "outputs": []
  },
  {
   "cell_type": "code",
   "execution_count": 7,
   "metadata": {},
   "source": [
    "a = b = np.arange(0, 3, 0.02)\n",
    "c = np.exp(a)\n",
    "d = c[::-1]\n",
    "\n",
    "fig, ax = plt.subplots()\n",
    "ax.plot(a, c, \"k--\", label=\"xxx\")\n",
    "ax.plot(a, d, \"k:\", label=\"yyy\")\n",
    "ax.plot(a, c+d, \"k\", label=\"total\")\n",
    "legend = ax.legend(loc=\"upper center\", fontsize=\"x-large\")\n",
    "plt.title(\"Just test in NEU 100.\")\n",
    "plt.show()"
   ],
   "outputs": []
  },
  {
   "cell_type": "code",
   "execution_count": 8,
   "metadata": {},
   "source": [
    "fig, ax = plt.subplots()\n",
    "\n",
    "t = np.arange(1, 5.0, 0.01)\n",
    "s = np.cos(2*np.pi*t)\n",
    "line, = ax.plot(t, s, lw=2)\n",
    "\n",
    "ax.annotate(\"local max\", xy = (2,1), xytext=(3, 1.5), arrowprops=dict(facecolor=\"black\", shrink=0.05),)\n",
    "ax.set_ylim(-2, 2)\n",
    "plt.show()"
   ],
   "outputs": []
  },
  {
   "cell_type": "code",
   "execution_count": 11,
   "metadata": {},
   "source": [
    "from matplotlib import animation\n",
    "\n",
    "fig, ax = plt.subplots()\n",
    "\n",
    "x = np.arange(0, 2*np.pi, 0.01)\n",
    "line, = ax.plot(x, np.sin(x))\n",
    "\n",
    "def animate(i):\n",
    "    line.set_ydata(np.sin(x+i/100))\n",
    "    return line\n",
    "\n",
    "def init():\n",
    "    line.set_ydata(np.sin(x))\n",
    "    return line\n",
    "\n",
    "ani = animation.FuncAnimation(fig=fig, func=animate, frames=100, init_func=init, interval=20, blit=False)\n",
    "plt.show()"
   ],
   "outputs": []
  },
  {
   "cell_type": "markdown",
   "metadata": {},
   "source": [
    "##### 2. 常用图形类型"
   ]
  },
  {
   "cell_type": "code",
   "execution_count": 17,
   "metadata": {},
   "source": [
    "x = [1,2,3,4]\n",
    "y = [10, 15, 13, 14]\n",
    "\n",
    "plt.rcParams['font.sans-serif'] = [\"SimHei\"]\n",
    "plt.rcParams[\"axes.unicode_minus\"] = False\n",
    "\n",
    "plt.xlabel(\"X\", fontsize=15)\n",
    "plt.ylabel(\"Y\", fontsize=15)\n",
    "\n",
    "# plt.plot(x, y, \"r--\", linewidth=3)\n",
    "plt.scatter(x, y)\n",
    "plt.title(\"折线图\")\n",
    "plt.show()"
   ],
   "outputs": []
  },
  {
   "cell_type": "code",
   "execution_count": 18,
   "metadata": {},
   "source": [
    "np.random.seed(198772)\n",
    "data = np.random.randn(2,100)\n",
    "plt.scatter(data[0], data[1])\n",
    "plt.show()"
   ],
   "outputs": []
  },
  {
   "cell_type": "code",
   "execution_count": 21,
   "metadata": {},
   "source": [
    "data = [10, 20, 30, 40]\n",
    "names = [\"A\", \"B\", \"C\", \"D\"]\n",
    "explode = [0,0,0.2, 0]\n",
    "plt.pie(x = data, explode=explode, labels=names, autopct=\"%1.2f%%\", shadow=True)\n",
    "plt.show()"
   ],
   "outputs": []
  },
  {
   "cell_type": "code",
   "execution_count": null,
   "metadata": {},
   "source": [
    "#hist\n",
    "#boxplot"
   ],
   "outputs": []
  },
  {
   "cell_type": "code",
   "execution_count": 25,
   "metadata": {},
   "source": [
    "from pylab import *\n",
    "\n",
    "from mpl_toolkits.mplot3d import Axes3D\n",
    "\n",
    "fig = plt.figure()\n",
    "ax = fig.add_subplot(1,1,1, projection=\"3d\")\n",
    "# ax = Axes3D(fig)\n",
    "\n",
    "x = np.arange(1,10, 1)\n",
    "y = np.arange(1,10, 1)\n",
    "X, Y = np.meshgrid(x, y)\n",
    "Z = 3*X+2*Y+30\n",
    "\n",
    "surf = ax.plot_surface(X, Y, Z, rstride=1, cstride=1, cmap=cm.jet, linewidth=0, antialiased=True)\n",
    "ax.set_zlim3d(0,100)\n",
    "fig.colorbar(surf, shrink=0.5, aspect=5)\n",
    "plt.show()"
   ],
   "outputs": []
  },
  {
   "cell_type": "markdown",
   "metadata": {},
   "source": [
    "##### 3. 图像数据绘制"
   ]
  },
  {
   "cell_type": "code",
   "execution_count": 30,
   "metadata": {},
   "source": [
    "#image, pixels(0-255)[r,g, b, gammar] 512*512*3\n",
    "\n",
    "data = np.random.rand(125*125).reshape(125,125)\n",
    "print(data)\n",
    "plt.imshow(data)\n",
    "plt.colorbar()\n",
    "plt.show()\n"
   ],
   "outputs": []
  },
  {
   "cell_type": "code",
   "execution_count": 35,
   "metadata": {},
   "source": [
    "from PIL import Image\n",
    "\n",
    "image = Image.open(\"./neu.png\")\n",
    "\n",
    "plt.imshow(image)"
   ],
   "outputs": []
  },
  {
   "cell_type": "code",
   "execution_count": 36,
   "metadata": {},
   "source": [
    "idata = np.array(image)\n",
    "print(idata)\n",
    "\n",
    "idata  = 255 - idata\n",
    "\n",
    "plt.imshow(idata)"
   ],
   "outputs": []
  },
  {
   "cell_type": "code",
   "execution_count": 34,
   "metadata": {},
   "source": [
    "idata = np.array(image)\n",
    "print(idata)\n",
    "\n",
    "idata[idata>128]  = 255\n",
    "\n",
    "plt.imshow(idata)"
   ],
   "outputs": []
  },
  {
   "cell_type": "markdown",
   "metadata": {},
   "source": [
    "##### 4. 增强优化工具"
   ]
  },
  {
   "cell_type": "code",
   "execution_count": null,
   "metadata": {},
   "source": [
    "# seaborn\n",
    "# plotnine\n",
    "# Bokeh"
   ],
   "outputs": []
  }
 ],
 "metadata": {
  "kernelspec": {
   "display_name": "Python 3.9.7 64-bit",
   "language": "python",
   "name": "python3"
  },
  "language_info": {
   "codemirror_mode": {
    "name": "ipython",
    "version": 3
   },
   "file_extension": ".py",
   "mimetype": "text/x-python",
   "name": "python",
   "nbconvert_exporter": "python",
   "pygments_lexer": "ipython3",
   "version": "3.9.7"
  },
  "orig_nbformat": 4,
  "vscode": {
   "interpreter": {
    "hash": "2f1a0965c75aec8e4a2a9df4a3184abea607daea749e4ec45412662d9328f429"
   }
  }
 },
 "nbformat": 4,
 "nbformat_minor": 2
}
