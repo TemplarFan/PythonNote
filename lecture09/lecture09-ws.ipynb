{
 "cells": [
  {
   "cell_type": "markdown",
   "metadata": {},
   "source": [
    "#### Web服务"
   ]
  },
  {
   "cell_type": "markdown",
   "metadata": {},
   "source": [
    "##### Web开发基础"
   ]
  },
  {
   "cell_type": "code",
   "execution_count": null,
   "metadata": {},
   "outputs": [],
   "source": [
    "#html/css/js\n"
   ]
  },
  {
   "cell_type": "markdown",
   "metadata": {},
   "source": [
    "##### 再识C/S架构"
   ]
  },
  {
   "cell_type": "code",
   "execution_count": 3,
   "metadata": {},
   "outputs": [
    {
     "name": "stdout",
     "output_type": "stream",
     "text": [
      "recv: b'GET / HTTP/1.1\\r\\nHost: localhost:8080\\r\\nConnection: keep-alive\\r\\nsec-ch-ua: \"Microsoft Edge\";v=\"107\", \"Chromium\";v=\"107\", \"Not=A?Brand\";v=\"24\"\\r\\nsec-ch-ua-mobile: ?0\\r\\nsec-ch-ua-platform: \"Windows\"\\r\\nUpgrade-Insecure-Requests: 1\\r\\nUser-Agent: Mozilla/5.0 (Windows NT 10.0; Win64; x64) AppleWebKit/537.36 (KHTML, like Gecko) Chrome/107.0.0.0 Safari/537.36 Edg/107.0.1418.26\\r\\nAccept: text/html,application/xhtml+xml,application/xml;q=0.9,image/webp,image/apng,*/*;q=0.8,application/signed-exchange;v=b3;q=0.9\\r\\nSec-Fetch-Site: none\\r\\nSec-Fetch-Mode: navigate\\r\\nSec-Fetch-User: ?1\\r\\nSec-Fetch-Dest: document\\r\\nAccept-Encoding: gzip, deflate, br\\r\\nAccept-Language: zh-CN,zh;q=0.9,en;q=0.8,en-GB;q=0.7,en-US;q=0.6,zh-TW;q=0.5\\r\\nCookie: _xsrf=2|21fbeb9a|7acd7019c5a705cdbdbc5ebdcf2bdf42|1666416044; username-localhost-8888=\"2|1:0|10:1666434470|23:username-localhost-8888|44:ZTAwNWRkYTIzYjExNGZjZDkxYzA1M2MzYTg3YzhmNzY=|aaf618ba1abf24bb821a7d32824ea02ab5661ecb37bb9d7010195d06182f8039\"\\r\\nIf-Modified-Since: Sun, 20 Nov 2022 03:46:47 GMT\\r\\n\\r\\n'\n",
      "recv: b'GET / HTTP/1.1\\r\\nHost: localhost:8080\\r\\nConnection: keep-alive\\r\\nCache-Control: max-age=0\\r\\nsec-ch-ua: \"Microsoft Edge\";v=\"107\", \"Chromium\";v=\"107\", \"Not=A?Brand\";v=\"24\"\\r\\nsec-ch-ua-mobile: ?0\\r\\nsec-ch-ua-platform: \"Windows\"\\r\\nUpgrade-Insecure-Requests: 1\\r\\nUser-Agent: Mozilla/5.0 (Windows NT 10.0; Win64; x64) AppleWebKit/537.36 (KHTML, like Gecko) Chrome/107.0.0.0 Safari/537.36 Edg/107.0.1418.26\\r\\nAccept: text/html,application/xhtml+xml,application/xml;q=0.9,image/webp,image/apng,*/*;q=0.8,application/signed-exchange;v=b3;q=0.9\\r\\nSec-Fetch-Site: none\\r\\nSec-Fetch-Mode: navigate\\r\\nSec-Fetch-User: ?1\\r\\nSec-Fetch-Dest: document\\r\\nAccept-Encoding: gzip, deflate, br\\r\\nAccept-Language: zh-CN,zh;q=0.9,en;q=0.8,en-GB;q=0.7,en-US;q=0.6,zh-TW;q=0.5\\r\\nCookie: _xsrf=2|21fbeb9a|7acd7019c5a705cdbdbc5ebdcf2bdf42|1666416044; username-localhost-8888=\"2|1:0|10:1666434470|23:username-localhost-8888|44:ZTAwNWRkYTIzYjExNGZjZDkxYzA1M2MzYTg3YzhmNzY=|aaf618ba1abf24bb821a7d32824ea02ab5661ecb37bb9d7010195d06182f8039\"\\r\\n\\r\\n'\n"
     ]
    }
   ],
   "source": [
    "#socket\n",
    "#recv for url\n",
    "#b'HTTP/1.1 200 OK\\r\\n\\r\\n'\n",
    "#open file for response\n",
    "\n",
    "import socket\n",
    "\n",
    "server = socket.socket()\n",
    "server.bind((\"localhost\", 8080))\n",
    "server.listen()\n",
    "\n",
    "while True:\n",
    "    con, port = server.accept()\n",
    "    data = con.recv(1024)\n",
    "    print(\"recv:\", data)\n",
    "\n",
    "    con.send(b\"HTTP/1.1 200 OK\\r\\n\\r\\n\")\n",
    "\n",
    "    with open(\"index.html\", \"rb\") as fr:\n",
    "        con.send(fr.read())\n",
    "\n",
    "    con.close()"
   ]
  },
  {
   "cell_type": "code",
   "execution_count": 2,
   "metadata": {},
   "outputs": [],
   "source": [
    "#httpserver\n",
    "# python -m http.server port"
   ]
  },
  {
   "cell_type": "code",
   "execution_count": 3,
   "metadata": {},
   "outputs": [],
   "source": [
    "#cgi\n",
    "#python -m http.server --cgi 8080\n",
    "\n",
    "# -*- coding: UTF-8 -*-\n",
    "\n",
    "print('Content-type:text/html \\n\\n')\n"
   ]
  },
  {
   "cell_type": "markdown",
   "metadata": {},
   "source": [
    "##### Python Web框架"
   ]
  },
  {
   "cell_type": "code",
   "execution_count": 4,
   "metadata": {},
   "outputs": [],
   "source": [
    "#/django\n",
    "\n",
    "# django-admin startproject MyTest\n",
    "\n",
    "# python manage.py runserver\n",
    "\n",
    "# python manage.py startapp sayhello\n",
    "# django-admin.py startapp sayhello\n",
    "\n",
    "# create new view\n",
    "\n",
    "#setting.py for new module\n",
    "\n",
    "#urls for rout.1)path for include new module; 2)path for view"
   ]
  },
  {
   "cell_type": "markdown",
   "metadata": {},
   "source": [
    "##### Python Web服务"
   ]
  },
  {
   "cell_type": "code",
   "execution_count": 30,
   "metadata": {},
   "outputs": [
    {
     "name": "stdout",
     "output_type": "stream",
     "text": [
      "{\"001\": \"Python\", \"002\": \"introduction of AI\", \"003\": \"Software Engineering\"}\n",
      "introduction of AI\n"
     ]
    }
   ],
   "source": [
    "#RESTFul\n",
    "#tornado for get/post/put/delete\n",
    "\n",
    "import requests\n",
    "import json\n",
    "\n",
    "data = requests.get(\"http://localhost:8888/course\")\n",
    "print(data.text)\n",
    "course = json.loads(data.text)\n",
    "print(course[\"002\"])"
   ]
  },
  {
   "cell_type": "code",
   "execution_count": 24,
   "metadata": {},
   "outputs": [
    {
     "data": {
      "text/plain": [
       "'success'"
      ]
     },
     "execution_count": 24,
     "metadata": {},
     "output_type": "execute_result"
    }
   ],
   "source": [
    "data = requests.post(\"http://localhost:8888/course?cid=004&cname=Clang\")\n",
    "\n",
    "data.text"
   ]
  },
  {
   "cell_type": "code",
   "execution_count": 26,
   "metadata": {},
   "outputs": [
    {
     "data": {
      "text/plain": [
       "'update successfull'"
      ]
     },
     "execution_count": 26,
     "metadata": {},
     "output_type": "execute_result"
    }
   ],
   "source": [
    "data = requests.put(\"http://localhost:8888/course?cid=004&cname=Ruby\")\n",
    "data.text"
   ]
  },
  {
   "cell_type": "code",
   "execution_count": 29,
   "metadata": {},
   "outputs": [
    {
     "data": {
      "text/plain": [
       "'Not exist.'"
      ]
     },
     "execution_count": 29,
     "metadata": {},
     "output_type": "execute_result"
    }
   ],
   "source": [
    "data = requests.delete(\"http://localhost:8888/course?cid=004\")\n",
    "data.text"
   ]
  },
  {
   "cell_type": "code",
   "execution_count": 6,
   "metadata": {},
   "outputs": [],
   "source": [
    "#microservice\n",
    "#fastAPI\n",
    "from fastapi import FastAPI\n",
    "\n",
    "app = FastAPI()\n",
    "\n",
    "@app.get(\"/\")\n",
    "def read_root():\n",
    "    return {\"Hello\": \"World\"}\n",
    "\n",
    "@app.get(\"/items/{item_id}\")\n",
    "def read_item(item_id: int, q: str = None):\n",
    "    return {\"item_id\": item_id, \"q\": q}\n",
    "\n",
    "\n",
    "#uvicorn main:app --reload\n"
   ]
  }
 ],
 "metadata": {
  "kernelspec": {
   "display_name": "Python 3.9.7 64-bit",
   "language": "python",
   "name": "python3"
  },
  "language_info": {
   "codemirror_mode": {
    "name": "ipython",
    "version": 3
   },
   "file_extension": ".py",
   "mimetype": "text/x-python",
   "name": "python",
   "nbconvert_exporter": "python",
   "pygments_lexer": "ipython3",
   "version": "3.9.7"
  },
  "orig_nbformat": 4,
  "vscode": {
   "interpreter": {
    "hash": "2f1a0965c75aec8e4a2a9df4a3184abea607daea749e4ec45412662d9328f429"
   }
  }
 },
 "nbformat": 4,
 "nbformat_minor": 2
}
