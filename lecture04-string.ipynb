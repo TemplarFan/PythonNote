{
 "cells": [
  {
   "cell_type": "markdown",
   "metadata": {},
   "source": [
    "#### 4）文本处理"
   ]
  },
  {
   "cell_type": "markdown",
   "metadata": {},
   "source": [
    "##### 4.1 重新认识字符串"
   ]
  },
  {
   "cell_type": "code",
   "execution_count": null,
   "metadata": {},
   "outputs": [],
   "source": [
    "s = \"Northeastern university\"\n",
    "s = 'Northeastern \" university'\n",
    "\n",
    "s = \"Northeastern \\\" university\"\n",
    "s"
   ]
  },
  {
   "cell_type": "code",
   "execution_count": null,
   "metadata": {},
   "outputs": [],
   "source": [
    "s = \"Northeastern university\"\n",
    "s = \"\"\"Northeastern \\\"abc\" university's 100 A.\"\"\"\n",
    "repr(s)"
   ]
  },
  {
   "cell_type": "code",
   "execution_count": null,
   "metadata": {},
   "outputs": [],
   "source": [
    "s = \"Northeastern university!\"\n",
    "print(s[1:5],type(s[1:5]),type(s[1]))\n",
    "print(s[::2], s[::-1])\n",
    "\n",
    "for c in s:\n",
    "    print(c, end=\" \")\n",
    "print()\n",
    "# print(list(s))\n",
    "data = list(s)\n",
    "print(data)\n",
    "\n",
    "res = \"\"\n",
    "for c in data:\n",
    "    res += c\n",
    "print(res)\n",
    "\n",
    "# print(\"\".join(data))\n",
    "\n",
    "from functools import reduce\n",
    "reduce(lambda x,y:x+y, data)"
   ]
  },
  {
   "cell_type": "code",
   "execution_count": null,
   "metadata": {},
   "outputs": [],
   "source": [
    "s = u\"东北大学-NEU\"\n",
    "print(s, s.encode(\"utf-8\"))"
   ]
  },
  {
   "cell_type": "code",
   "execution_count": null,
   "metadata": {},
   "outputs": [],
   "source": [
    "import sys\n",
    "\n",
    "print(sys.stdout.encoding)\n",
    "print(sys.getdefaultencoding())\n",
    "\n",
    "sys.argv"
   ]
  },
  {
   "cell_type": "code",
   "execution_count": 37,
   "metadata": {},
   "outputs": [
    {
     "name": "stdout",
     "output_type": "stream",
     "text": [
      "abcdefghijklmnopqrstuvwxyzABCDEFGHIJKLMNOPQRSTUVWXYZ 0123456789\n",
      "[('a', 97), ('b', 98), ('c', 99), ('d', 100), ('e', 101), ('f', 102), ('g', 103), ('h', 104), ('i', 105), ('j', 106), ('k', 107), ('l', 108), ('m', 109), ('n', 110), ('o', 111), ('p', 112), ('q', 113), ('r', 114), ('s', 115), ('t', 116), ('u', 117), ('v', 118), ('w', 119), ('x', 120), ('y', 121), ('z', 122), ('A', 65), ('B', 66), ('C', 67), ('D', 68), ('E', 69), ('F', 70), ('G', 71), ('H', 72), ('I', 73), ('J', 74), ('K', 75), ('L', 76), ('M', 77), ('N', 78), ('O', 79), ('P', 80), ('Q', 81), ('R', 82), ('S', 83), ('T', 84), ('U', 85), ('V', 86), ('W', 87), ('X', 88), ('Y', 89), ('Z', 90), ('0', 48), ('1', 49), ('2', 50), ('3', 51), ('4', 52), ('5', 53), ('6', 54), ('7', 55), ('8', 56), ('9', 57)]\n"
     ]
    }
   ],
   "source": [
    "import string\n",
    "\n",
    "print(string.ascii_letters, string.digits)\n",
    "data = [(c, ord(c)) for c in string.ascii_letters+string.digits]\n",
    "print(data)"
   ]
  },
  {
   "cell_type": "code",
   "execution_count": 50,
   "metadata": {},
   "outputs": [
    {
     "data": {
      "text/plain": [
       "['g', '7', 'g', '6']"
      ]
     },
     "execution_count": 50,
     "metadata": {},
     "output_type": "execute_result"
    }
   ],
   "source": [
    "import random\n",
    "\n",
    "data = string.ascii_letters+string.digits\n",
    "random.sample(data, k=4)\n",
    "\n",
    "[random.choice(data) for i in range(4)]"
   ]
  },
  {
   "cell_type": "code",
   "execution_count": 52,
   "metadata": {},
   "outputs": [
    {
     "name": "stdout",
     "output_type": "stream",
     "text": [
      "\u0000 \u0001 \u0002 \u0003 \u0004 \u0005 \u0006 \u0007 \t \n",
      " \u000e \u000f \u0010 \u0011 \u0012 \u0013 \u0014 \u0015 \u0016 \u0017 \u0018 \u0019 \u001a \u001b \u001c \u001d \u001e \u001f   ! \" # $ % & ' ( ) * + , - . / 0 1 2 3 4 5 6 7 8 9 : ; < = > ? @ A B C D E F G H I J K L M N O P Q R S T U V W X Y Z [ \\ ] ^ _ ` a b c d e f g h i j k l m n o p q r s t u v w x y z { | } ~                                    ¡ ¢ £ ¤ ¥ ¦ § ¨ © ª « ¬ ­ ® ¯ ° ± ² ³ ´ µ ¶ · ¸ ¹ º » ¼ ½ ¾ ¿ À Á Â Ã Ä Å Æ Ç È É Ê Ë Ì Í Î Ï Ð Ñ Ò Ó Ô Õ Ö × Ø Ù Ú Û Ü Ý Þ ß à á â ã ä å æ ç è é ê ë ì í î ï ð ñ ò ó ô õ ö ÷ ø ù ú û ü ý þ ÿ "
     ]
    },
    {
     "data": {
      "text/plain": [
       "'0b1100100'"
      ]
     },
     "execution_count": 52,
     "metadata": {},
     "output_type": "execute_result"
    }
   ],
   "source": [
    "for i in range(256):\n",
    "    print(chr(i), end= \" \")\n",
    "\n",
    "bin(100)"
   ]
  },
  {
   "cell_type": "code",
   "execution_count": 54,
   "metadata": {},
   "outputs": [
    {
     "name": "stdout",
     "output_type": "stream",
     "text": [
      "<class 'str'>\n",
      "<class 'bytes'>\n"
     ]
    }
   ],
   "source": [
    "s = \"东北大学neu\"\n",
    "print(type(s))\n",
    "\n",
    "s = b\"abc\"\n",
    "print(type(s))\n",
    "\n",
    "\n"
   ]
  },
  {
   "cell_type": "code",
   "execution_count": 61,
   "metadata": {},
   "outputs": [
    {
     "name": "stdout",
     "output_type": "stream",
     "text": [
      "b'\\xe4\\xb8\\x9c\\xe5\\x8c\\x97\\xe5\\xa4\\xa7\\xe5\\xad\\xa6neu'\n",
      "b'\\xe4\\xb8\\x9c\\xe5\\x8c\\x97\\xe5\\xa4\\xa7\\xe5\\xad\\xa6neu'\n"
     ]
    }
   ],
   "source": [
    "s = \"东北大学neu\"\n",
    "\n",
    "sbin = s.encode(\"utf-8\")\n",
    "print(sbin)\n",
    "\n",
    "sbin = bytes(s, encoding=\"utf-8\")\n",
    "print(sbin)"
   ]
  },
  {
   "cell_type": "code",
   "execution_count": 65,
   "metadata": {},
   "outputs": [
    {
     "name": "stdout",
     "output_type": "stream",
     "text": [
      "东北大学neu\n",
      "东北大学neu\n"
     ]
    }
   ],
   "source": [
    "sbin = b'\\xe4\\xb8\\x9c\\xe5\\x8c\\x97\\xe5\\xa4\\xa7\\xe5\\xad\\xa6neu'\n",
    "sstr = sbin.decode(\"utf-8\")\n",
    "print(sstr)\n",
    "\n",
    "sstr = str(sbin, encoding=\"utf-8\")\n",
    "print(sstr)"
   ]
  },
  {
   "cell_type": "code",
   "execution_count": null,
   "metadata": {},
   "outputs": [],
   "source": [
    "\n",
    "open(\"abc\", \"r\", encoding=\"utf-8\")\n"
   ]
  },
  {
   "cell_type": "code",
   "execution_count": null,
   "metadata": {},
   "outputs": [],
   "source": []
  },
  {
   "cell_type": "code",
   "execution_count": null,
   "metadata": {},
   "outputs": [],
   "source": [
    "import sys\n",
    "\n",
    "sys.stdout.encoding\n",
    "sys.getdefaultencoding()"
   ]
  },
  {
   "cell_type": "code",
   "execution_count": null,
   "metadata": {},
   "outputs": [],
   "source": [
    "s = \"东北大学-Northeastern university!\"\n",
    "print(type(s), str(10))\n",
    "\n",
    "#bytes\n",
    "sb = b'abc'\n",
    "print(type(sb))\n",
    "\n",
    "sbytes = bytes(s, encoding='utf-8')\n",
    "print(sbytes)\n",
    "sstr = str(sbytes, encoding=\"utf-8\")\n",
    "print(sstr)"
   ]
  },
  {
   "cell_type": "code",
   "execution_count": null,
   "metadata": {},
   "outputs": [],
   "source": [
    "s.encode(\"utf-8\"), sbytes.decode(\"utf-8\")"
   ]
  },
  {
   "cell_type": "code",
   "execution_count": null,
   "metadata": {},
   "outputs": [],
   "source": [
    "#code/index/ord/chr\n",
    "\n",
    "#sys coding/args\n",
    "\n",
    "#bytes/str decode/encode\n",
    "\n",
    "#\\rn"
   ]
  },
  {
   "cell_type": "markdown",
   "metadata": {},
   "source": [
    "##### 4.2 基本处理"
   ]
  },
  {
   "cell_type": "code",
   "execution_count": 73,
   "metadata": {},
   "outputs": [
    {
     "data": {
      "text/plain": [
       "True"
      ]
     },
     "execution_count": 73,
     "metadata": {},
     "output_type": "execute_result"
    }
   ],
   "source": [
    "s = \"Northeastern university!\"\n",
    "s + s\n",
    "s*2\n",
    "# {1,2,3}*2\n",
    "\"*\"*100\n",
    "\n",
    "# s - \"Nor\"\n",
    "\n",
    "\"Nor\" in s"
   ]
  },
  {
   "cell_type": "code",
   "execution_count": 83,
   "metadata": {},
   "outputs": [
    {
     "name": "stdout",
     "output_type": "stream",
     "text": [
      "['N', 'o', 'R', 't', 'H', 'e', 'A', 's', 'T', 'e', 'R', 'n', ' ', 'u', 'N', 'i', 'V', 'e', 'R', 's', 'I', 't', 'Y', '!']\n"
     ]
    },
    {
     "data": {
      "text/plain": [
       "'NoRtHeAsTeRn uNiVeRsItY!'"
      ]
     },
     "execution_count": 83,
     "metadata": {},
     "output_type": "execute_result"
    }
   ],
   "source": [
    "s = \"Northeastern university!\"\n",
    "# print(dir(s))\n",
    "s.upper(), s.lower(), s.swapcase()\n",
    "\n",
    "s[:12].lower()+s[12:].upper()\n",
    "\n",
    "slist = list(s)\n",
    "slist[::2] = list(s[::2].upper())\n",
    "print(slist)\n",
    "reduce(lambda x,y:x+y, slist)"
   ]
  },
  {
   "cell_type": "code",
   "execution_count": 84,
   "metadata": {},
   "outputs": [
    {
     "name": "stdout",
     "output_type": "stream",
     "text": [
      "['__add__', '__class__', '__contains__', '__delattr__', '__dir__', '__doc__', '__eq__', '__format__', '__ge__', '__getattribute__', '__getitem__', '__getnewargs__', '__gt__', '__hash__', '__init__', '__init_subclass__', '__iter__', '__le__', '__len__', '__lt__', '__mod__', '__mul__', '__ne__', '__new__', '__reduce__', '__reduce_ex__', '__repr__', '__rmod__', '__rmul__', '__setattr__', '__sizeof__', '__str__', '__subclasshook__', 'capitalize', 'casefold', 'center', 'count', 'encode', 'endswith', 'expandtabs', 'find', 'format', 'format_map', 'index', 'isalnum', 'isalpha', 'isascii', 'isdecimal', 'isdigit', 'isidentifier', 'islower', 'isnumeric', 'isprintable', 'isspace', 'istitle', 'isupper', 'join', 'ljust', 'lower', 'lstrip', 'maketrans', 'partition', 'removeprefix', 'removesuffix', 'replace', 'rfind', 'rindex', 'rjust', 'rpartition', 'rsplit', 'rstrip', 'split', 'splitlines', 'startswith', 'strip', 'swapcase', 'title', 'translate', 'upper', 'zfill']\n"
     ]
    }
   ],
   "source": [
    "print(dir(s))"
   ]
  },
  {
   "cell_type": "code",
   "execution_count": 89,
   "metadata": {},
   "outputs": [
    {
     "data": {
      "text/plain": [
       "False"
      ]
     },
     "execution_count": 89,
     "metadata": {},
     "output_type": "execute_result"
    }
   ],
   "source": [
    "\"bACDED\".islower()"
   ]
  },
  {
   "cell_type": "code",
   "execution_count": 95,
   "metadata": {},
   "outputs": [
    {
     "data": {
      "text/plain": [
       "'r n'"
      ]
     },
     "execution_count": 95,
     "metadata": {},
     "output_type": "execute_result"
    }
   ],
   "source": [
    "#+/*/in/not\n",
    "\n",
    "#lower/upper/swapcase\n",
    "\n",
    "#strip/lstrip/rstrip\n",
    "\n",
    "s = \"   Northeastern      university  !   \\n\"\n",
    "s.strip(), s.rstrip(), s.lstrip()\n",
    "\n",
    "s = \"    NorNortheastern      university  !Nor   \\n\"\n",
    "s.strip().strip(\"Nor\")\n",
    "s = \"to be or not to be\"\n",
    "s.strip(\"to be\")"
   ]
  },
  {
   "cell_type": "code",
   "execution_count": 102,
   "metadata": {},
   "outputs": [
    {
     "data": {
      "text/plain": [
       "['hello.c', 'hello.h', 'main.c']"
      ]
     },
     "execution_count": 102,
     "metadata": {},
     "output_type": "execute_result"
    }
   ],
   "source": [
    "s = \"Northeastern university!\"\n",
    "\n",
    "s.startswith(\"Nor\"), s.endswith(\"!\")\n",
    "\n",
    "s = \"Northeastern university!\\n\"\n",
    "\n",
    "s.strip().endswith(\"!\")\n",
    "\n",
    "data = [\"hello.c\", \"hello.h\",\"main.c\", \"makefile\", \"hello.py\"]\n",
    "\n",
    "list(filter(lambda fn: fn.endswith((\".c\",\".h\")), data))"
   ]
  },
  {
   "cell_type": "code",
   "execution_count": 109,
   "metadata": {},
   "outputs": [
    {
     "name": "stdout",
     "output_type": "stream",
     "text": [
      "['N', 'o', 'r', 't', 'h', 'e', 'a', 's', 't', 'e', 'r', 'n', ' ', ' ', 'u', 'n', 'i', 'v', 'e', 'r', 's', 'i', 't', 'y', '!']\n",
      "['Northeastern', 'university!']\n",
      "Northeastern-university!\n"
     ]
    }
   ],
   "source": [
    "#split/join\n",
    "s = \"Northeastern  university!\"\n",
    "print(list(s))\n",
    "print(s.split())\n",
    "data = s.split()\n",
    "print(\"-\".join(data))"
   ]
  },
  {
   "cell_type": "code",
   "execution_count": 114,
   "metadata": {},
   "outputs": [
    {
     "data": {
      "text/plain": [
       "'North$ast$rn  univ$rsity!'"
      ]
     },
     "execution_count": 114,
     "metadata": {},
     "output_type": "execute_result"
    }
   ],
   "source": [
    "\"ER\".join(s.split(\"er\"))\n",
    "\"$\".join(s.split(\"e\"))\n",
    "\n",
    "# s.split((\"th\", \"er\"))"
   ]
  },
  {
   "cell_type": "code",
   "execution_count": null,
   "metadata": {},
   "outputs": [],
   "source": [
    "data = s.split()\n",
    "reduce(lambda x,y:x+\" \"+y, data)\n",
    "\"%\".join(data)\n",
    "\"\".join(\"-\".join(list(s)).split(\"-\"))\n",
    "\n",
    "\"$$\".join(s.split(\"er\"))"
   ]
  },
  {
   "cell_type": "code",
   "execution_count": 115,
   "metadata": {},
   "outputs": [
    {
     "name": "stdout",
     "output_type": "stream",
     "text": [
      "' \\n=============== Content ==============\\n+ 01--------Python Basis language PB +\\n+ 02-------Python Advanced topics PA +\\n+ 03------Python Standard Library PL +\\n+ 04-------Python GUI programming PG +\\n+ 05-------Python Web development PW +\\n+ 06--------Python Design pattern PD +\\n+ 07-----Python Science computing PS +\\n+ 08-------Python Text processing PT +\\n+ 09------Python Machine learning PM +\\n+ 10------Python Image processing PI +\\n+ 11------Python Project practice PP +\\n'\n"
     ]
    }
   ],
   "source": [
    "course = ''' \n",
    "=============== Content ==============\n",
    "+ 01--------Python Basis language PB +\n",
    "+ 02-------Python Advanced topics PA +\n",
    "+ 03------Python Standard Library PL +\n",
    "+ 04-------Python GUI programming PG +\n",
    "+ 05-------Python Web development PW +\n",
    "+ 06--------Python Design pattern PD +\n",
    "+ 07-----Python Science computing PS +\n",
    "+ 08-------Python Text processing PT +\n",
    "+ 09------Python Machine learning PM +\n",
    "+ 10------Python Image processing PI +\n",
    "+ 11------Python Project practice PP +\n",
    "'''\n",
    "print(repr(course))\n"
   ]
  },
  {
   "cell_type": "code",
   "execution_count": 121,
   "metadata": {},
   "outputs": [
    {
     "data": {
      "text/plain": [
       "'PA-PB-PD-PG-PI-PL-PM-PP-PS-PT-PW'"
      ]
     },
     "execution_count": 121,
     "metadata": {},
     "output_type": "execute_result"
    }
   ],
   "source": [
    "data = \"-\".join(sorted([s[-4:-2] for s in course.strip().split(\"\\n\")[1:]]))\n",
    "data"
   ]
  },
  {
   "cell_type": "code",
   "execution_count": 130,
   "metadata": {},
   "outputs": [
    {
     "name": "stdout",
     "output_type": "stream",
     "text": [
      "1+1=02 \n",
      "1+2=03 2+2=04 \n",
      "1+3=04 2+3=05 3+3=06 \n",
      "1+4=05 2+4=06 3+4=07 4+4=08 \n",
      "1+5=06 2+5=07 3+5=08 4+5=09 5+5=10 \n",
      "1+6=07 2+6=08 3+6=09 4+6=10 5+6=11 6+6=12 \n",
      "1+7=08 2+7=09 3+7=10 4+7=11 5+7=12 6+7=13 7+7=14 \n",
      "1+8=09 2+8=10 3+8=11 4+8=12 5+8=13 6+8=14 7+8=15 8+8=16 \n",
      "1+9=10 2+9=11 3+9=12 4+9=13 5+9=14 6+9=15 7+9=16 8+9=17 9+9=18 \n"
     ]
    }
   ],
   "source": [
    "for i in range(1,10):\n",
    "    for j in range(1,10):\n",
    "        if i>=j:\n",
    "            print(\"%d+%d=%02d\" % (j, i, i+j), end=\" \")\n",
    "    print()"
   ]
  },
  {
   "cell_type": "code",
   "execution_count": 136,
   "metadata": {},
   "outputs": [
    {
     "data": {
      "text/plain": [
       "1.34"
      ]
     },
     "execution_count": 136,
     "metadata": {},
     "output_type": "execute_result"
    }
   ],
   "source": [
    "\"%s, No. %.2f\" % (\"NEU\", 1.1262121)\n",
    "int(1.5)\n",
    "round(1.345, 2) #ceil, floor"
   ]
  },
  {
   "cell_type": "code",
   "execution_count": 155,
   "metadata": {},
   "outputs": [
    {
     "data": {
      "text/plain": [
       "'NEU, No.1'"
      ]
     },
     "execution_count": 155,
     "metadata": {},
     "output_type": "execute_result"
    }
   ],
   "source": [
    "\"{}, No.{}\".format(\"NEU\", 1)\n",
    "\n",
    "\"{1}, No.{0}\".format(\"NEU\", 1)\n",
    "\n",
    "\"{name}, No.{num}\".format(name=\"NEU\", num=1)\n",
    "\n",
    "\"{name[2]}, No.{num}\".format(name=\"NEU\", num=1)\n",
    "\n",
    "# \"{0[0][1]}, No.{0[1][1]}\".format({'name':\"NEU\", 'num':1}.items())\n",
    "\n",
    "\"{0[0]}, No.{0[1]}\".format([\"NEU\",1])"
   ]
  },
  {
   "cell_type": "code",
   "execution_count": 156,
   "metadata": {},
   "outputs": [
    {
     "data": {
      "text/plain": [
       "'\\n   <html>\\n       <h1>Hello NEU </h2>\\n       <h2>Welcome to NEU! 1 </h2>\\n   </html>\\n'"
      ]
     },
     "execution_count": 156,
     "metadata": {},
     "output_type": "execute_result"
    }
   ],
   "source": [
    "#template\n",
    "from string import Template\n",
    "\n",
    "t = Template(\"\"\"\n",
    "   <html>\n",
    "       <h1>Hello $name </h2>\n",
    "       <h2>Welcome to NEU! $num </h2>\n",
    "   </html>\n",
    "\"\"\")\n",
    "\n",
    "data = {\"name\": \"NEU\", \"num\": \"1\"}\n",
    "\n",
    "t.substitute(data)"
   ]
  },
  {
   "cell_type": "markdown",
   "metadata": {},
   "source": [
    "'\\n   <html>\\n       <h1>Hello NEU </h2>\\n       <h2>Welcome to NEU! 1 </h2>\\n   </html>\\n'"
   ]
  },
  {
   "cell_type": "markdown",
   "metadata": {},
   "source": [
    "##### 4.3 search/index"
   ]
  },
  {
   "cell_type": "code",
   "execution_count": 162,
   "metadata": {},
   "outputs": [
    {
     "name": "stdout",
     "output_type": "stream",
     "text": [
      "Northeastern  university!\n"
     ]
    },
    {
     "ename": "ValueError",
     "evalue": "substring not found",
     "output_type": "error",
     "traceback": [
      "\u001b[1;31m---------------------------------------------------------------------------\u001b[0m",
      "\u001b[1;31mValueError\u001b[0m                                Traceback (most recent call last)",
      "\u001b[1;32m~\\AppData\\Local\\Temp/ipykernel_17632/3985783274.py\u001b[0m in \u001b[0;36m<module>\u001b[1;34m\u001b[0m\n\u001b[0;32m      2\u001b[0m \u001b[0mprint\u001b[0m\u001b[1;33m(\u001b[0m\u001b[0ms\u001b[0m\u001b[1;33m)\u001b[0m\u001b[1;33m\u001b[0m\u001b[1;33m\u001b[0m\u001b[0m\n\u001b[0;32m      3\u001b[0m \u001b[0ms\u001b[0m\u001b[1;33m.\u001b[0m\u001b[0mindex\u001b[0m\u001b[1;33m(\u001b[0m\u001b[1;34m\"er\"\u001b[0m\u001b[1;33m)\u001b[0m\u001b[1;33m,\u001b[0m \u001b[0ms\u001b[0m\u001b[1;33m.\u001b[0m\u001b[0mindex\u001b[0m\u001b[1;33m(\u001b[0m\u001b[1;34m\"er\"\u001b[0m\u001b[1;33m,\u001b[0m \u001b[1;36m10\u001b[0m\u001b[1;33m)\u001b[0m\u001b[1;33m\u001b[0m\u001b[1;33m\u001b[0m\u001b[0m\n\u001b[1;32m----> 4\u001b[1;33m \u001b[0ms\u001b[0m\u001b[1;33m.\u001b[0m\u001b[0mindex\u001b[0m\u001b[1;33m(\u001b[0m\u001b[1;34m\"OR\"\u001b[0m\u001b[1;33m)\u001b[0m\u001b[1;33m\u001b[0m\u001b[1;33m\u001b[0m\u001b[0m\n\u001b[0m",
      "\u001b[1;31mValueError\u001b[0m: substring not found"
     ]
    }
   ],
   "source": [
    "#index\n",
    "print(s)\n",
    "s.index(\"er\"), s.index(\"er\", 10)\n",
    "s.index(\"OR\")"
   ]
  },
  {
   "cell_type": "code",
   "execution_count": 170,
   "metadata": {},
   "outputs": [
    {
     "name": "stdout",
     "output_type": "stream",
     "text": [
      "Northeastern  university!\n"
     ]
    },
    {
     "data": {
      "text/plain": [
       "(18, 18)"
      ]
     },
     "execution_count": 170,
     "metadata": {},
     "output_type": "execute_result"
    }
   ],
   "source": [
    "#find\n",
    "\n",
    "print(s)\n",
    "\n",
    "s.find(\"er\"), s.find(\"er\", 10), s.find(\"OR\")\n",
    "\n",
    "s.rindex(\"er\"), s.rfind(\"er\")\n"
   ]
  },
  {
   "cell_type": "code",
   "execution_count": 172,
   "metadata": {},
   "outputs": [
    {
     "data": {
      "text/plain": [
       "'3/template3/js/responsiveslides.js\"></script>\\r\\n<script src=\"/_upload/tpl/00/03/3/template3/js/smallslider.js\"></script>\\r\\n\\r\\n<link rel=\"stylesheet\" href=\"/_upload/tpl/00/03/3/template3/js/slick.css\">\\r\\n<script type=\"text/javascript\" src=\"/_upload/tpl/00/03/3/template3/js/slick.js\"></script>\\r\\n\\r\\n<!--[if lte IE 8]>\\r\\n\\t\\t<script>\\r\\n\\t\\t   (function() {\\r\\n\\t\\t     if (!\\r\\n\\t\\t     /*@cc_on!@*/\\r\\n\\t\\t     0) return;\\r\\n\\t\\t     var e = \"abbr, article, aside, audio, canvas, datalist, details, dialog, eventsource, figure, footer, header, hgroup, mark, menu, meter, nav, output, progress, section, time, video\".split(\\', \\');\\r\\n\\t\\t     var i= e.length;\\r\\n\\t\\t     while ( i ){\\r\\n\\t\\t         document.createElement(e[i]);\\r\\n\\t\\t         i = i-1;\\r\\n\\t\\t     }\\r\\n\\t\\t})()\\r\\n\\t\\t</script>\\r\\n\\t<![endif]-->\\r\\n</head>\\r\\n<body>\\r\\n<div class=\"container\"> <img src=\"/_upload/tpl/00/03/3/template3/htmlRes/logo.png\" class=\"f-logo\">\\r\\n  <div class=\"menu\">\\r\\n    <div frag=\"窗口1\" portletmode=\"simpleSudyNavi\">\\r\\n       \\r\\n        \\r\\n        <ul id=\"nav\">\\r\\n          \\r\\n'"
      ]
     },
     "execution_count": 172,
     "metadata": {},
     "output_type": "execute_result"
    }
   ],
   "source": [
    "import requests\n",
    "\n",
    "data = requests.get(\"http://www.neu.edu.cn\")\n",
    "data.encoding = \"utf-8\"\n",
    "data.text[2000:3000]"
   ]
  },
  {
   "cell_type": "code",
   "execution_count": null,
   "metadata": {},
   "outputs": [],
   "source": [
    "import re\n",
    "\n",
    "s = '''<img src=\"/_upload/tpl/00/03/3/template3/htmlRes/logo.png\"'''"
   ]
  },
  {
   "cell_type": "code",
   "execution_count": null,
   "metadata": {},
   "outputs": [],
   "source": [
    "#search/index\n",
    "# \n",
    "# \n",
    "# re\n",
    "# a-z A-Z 0-9 ,.\n",
    "# .\\d\\s\\w [] | *+?{n,m} ()  ^$\n",
    "\n",
    "\n",
    "#re.findall/split"
   ]
  },
  {
   "cell_type": "markdown",
   "metadata": {},
   "source": [
    "##### 4.4 中文处理"
   ]
  },
  {
   "cell_type": "code",
   "execution_count": null,
   "metadata": {},
   "outputs": [],
   "source": [
    "#jieba\n",
    "# pip install jieba\n"
   ]
  },
  {
   "cell_type": "markdown",
   "metadata": {},
   "source": [
    "##### 4.5 相似性比较"
   ]
  },
  {
   "cell_type": "code",
   "execution_count": null,
   "metadata": {},
   "outputs": [],
   "source": [
    "#difflib\n",
    "import difflib\n",
    "data = ['ape', 'apple', 'peach', 'puppy']\n",
    "res = difflib.get_close_matches('appel', data)\n",
    "print(res)"
   ]
  },
  {
   "cell_type": "code",
   "execution_count": null,
   "metadata": {},
   "outputs": [],
   "source": [
    "import difflib\n",
    "\n",
    "def str_sim(s1, s2):\n",
    "   return difflib.SequenceMatcher(None, s1, s2).quick_ratio()\n",
    " \n",
    "print(str_sim('爱尔眼科沈阳医院', '沈阳爱尔眼科医院'))\n",
    "print(str_sim('和平区妇幼保健站', '沈阳市和平区妇幼保健站'))\n",
    "print(str_sim('广州市医院', '广东省中医院'))"
   ]
  }
 ],
 "metadata": {
  "kernelspec": {
   "display_name": "Python 3.10.6 64-bit",
   "language": "python",
   "name": "python3"
  },
  "language_info": {
   "codemirror_mode": {
    "name": "ipython",
    "version": 3
   },
   "file_extension": ".py",
   "mimetype": "text/x-python",
   "name": "python",
   "nbconvert_exporter": "python",
   "pygments_lexer": "ipython3",
   "version": "3.10.6 (tags/v3.10.6:9c7b4bd, Aug  1 2022, 21:53:49) [MSC v.1932 64 bit (AMD64)]"
  },
  "orig_nbformat": 4,
  "vscode": {
   "interpreter": {
    "hash": "ed4cccc5cc02f3fdc2d6faa9ad2d9c225cf2e2cb7eda9eb3163a17a7f943c2e9"
   }
  }
 },
 "nbformat": 4,
 "nbformat_minor": 2
}
