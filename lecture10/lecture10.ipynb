{
 "cells": [
  {
   "cell_type": "markdown",
   "metadata": {},
   "source": [
    "#### 10) 模块"
   ]
  },
  {
   "cell_type": "markdown",
   "metadata": {},
   "source": [
    "##### 1. 再说模块加载"
   ]
  },
  {
   "cell_type": "code",
   "execution_count": null,
   "metadata": {},
   "source": [
    "import os\n",
    "import sys as s\n",
    "from os import listdir as listdir\n",
    "from os import *"
   ],
   "outputs": []
  },
  {
   "cell_type": "code",
   "execution_count": null,
   "metadata": {},
   "source": [
    "import sys\n",
    "sys.modules"
   ],
   "outputs": []
  },
  {
   "cell_type": "code",
   "execution_count": null,
   "metadata": {},
   "source": [
    "import sys\n",
    "# for m in sys.modules:\n",
    "#     print(m)\n",
    "sys.modules[\"builtins\"].__dict__  #BIF"
   ],
   "outputs": []
  },
  {
   "cell_type": "code",
   "execution_count": null,
   "metadata": {},
   "source": [
    "sys.modules[\"jieba\"]\n",
    "# import jieba\n"
   ],
   "outputs": []
  },
  {
   "cell_type": "code",
   "execution_count": null,
   "metadata": {},
   "source": [
    "import jieba\n",
    "import y"
   ],
   "outputs": []
  },
  {
   "cell_type": "code",
   "execution_count": null,
   "metadata": {},
   "source": [
    "#静态加载\n",
    "# import xyz\n",
    "# sys.modules\n",
    "# 0. 当前程序主目录\n",
    "# 1. PYTHONPATH dir\n",
    "# 2. 标准库安装目录 site-packages\n",
    "# 3. .pth\n",
    "\n",
    "import sys\n",
    "sys.path\n",
    "\n",
    "sys.path.append(\"C:\\\\abc\")\n",
    "sys.path"
   ],
   "outputs": []
  },
  {
   "cell_type": "code",
   "execution_count": 7,
   "metadata": {},
   "source": [
    "import x\n",
    "x.add(3,4), x.varx\n",
    "\n",
    "print(dir(x))"
   ],
   "outputs": []
  },
  {
   "cell_type": "code",
   "execution_count": 1,
   "metadata": {},
   "source": [
    "from m import mx\n",
    "mx.mul(3,4)"
   ],
   "outputs": []
  },
  {
   "cell_type": "code",
   "execution_count": 3,
   "metadata": {},
   "source": [
    "import m\n",
    "# print(dir(m),dir(m.mx))\n",
    "print(dir(m))\n",
    "# print(m.__dict__)"
   ],
   "outputs": []
  },
  {
   "cell_type": "code",
   "execution_count": 4,
   "metadata": {},
   "source": [
    "from m import mx\n",
    "print(dir(mx))"
   ],
   "outputs": []
  },
  {
   "cell_type": "code",
   "execution_count": 5,
   "metadata": {},
   "source": [
    "import m\n",
    "print(dir(m))\n",
    "m.add(3,4)"
   ],
   "outputs": []
  },
  {
   "cell_type": "code",
   "execution_count": null,
   "metadata": {},
   "source": [
    "m.__dict__"
   ],
   "outputs": []
  },
  {
   "cell_type": "code",
   "execution_count": 6,
   "metadata": {},
   "source": [
    "from m import mx\n",
    "mx.add(3,4)"
   ],
   "outputs": []
  },
  {
   "cell_type": "code",
   "execution_count": 7,
   "metadata": {},
   "source": [
    "sys.modules"
   ],
   "outputs": []
  },
  {
   "cell_type": "code",
   "execution_count": 11,
   "metadata": {},
   "source": [
    "# 动态加载\n",
    "\n",
    "#__import__()\n",
    "\n",
    "m = __import__(\"x\") #import x\n",
    "print(dir(m))\n",
    "print(m.add(1,2), m.varx)\n",
    "v = getattr(m, \"varx\")\n",
    "f = getattr(m, \"add\")\n",
    "print(v, f(3,4))\n",
    "\n",
    "print(hasattr(m, \"mul\"), hasattr(m, \"varx\"))"
   ],
   "outputs": []
  },
  {
   "cell_type": "code",
   "execution_count": 13,
   "metadata": {},
   "source": [
    "#importlib\n",
    "import importlib  #imp--depr\n",
    "\n",
    "m = importlib.import_module(\"m.mx\")\n",
    "print(m)\n",
    "print(dir(m))"
   ],
   "outputs": []
  },
  {
   "cell_type": "code",
   "execution_count": 14,
   "metadata": {},
   "source": [
    "#exec()\n",
    "exec(\"from m import mx as mymx\")\n",
    "\n",
    "print(dir(mymx))"
   ],
   "outputs": []
  },
  {
   "cell_type": "code",
   "execution_count": 20,
   "metadata": {},
   "source": [
    "sys.modules[\"m.mx\"]"
   ],
   "outputs": []
  },
  {
   "cell_type": "code",
   "execution_count": 22,
   "metadata": {},
   "source": [
    "from m import mx\n",
    "\n",
    "print(\"1:\", mx.add(3, 4))\n",
    "print(\"2:\", getattr(mx, \"add\")(3, 4))\n",
    "print(\"3:\", mx.__dict__[\"add\"](3, 4))\n",
    "print(\"4:\", sys.modules[\"m.mx\"].add(3, 4))"
   ],
   "outputs": []
  },
  {
   "cell_type": "code",
   "execution_count": 25,
   "metadata": {},
   "source": [
    "import x\n",
    "print(dir(x), x.__name__)"
   ],
   "outputs": []
  },
  {
   "cell_type": "code",
   "execution_count": 26,
   "metadata": {},
   "source": [
    "x = 100\n",
    "\n",
    "def add(x, y):\n",
    "    print(\"in add, \", __name__)\n",
    "    return x+y\n",
    "\n",
    "# print(add(x, x))\n",
    "# print(\"in main process\")\n",
    "\n",
    "if __name__ == \"__main__\":\n",
    "    print(add(x, x))\n",
    "    print(\"in main\")"
   ],
   "outputs": []
  },
  {
   "cell_type": "code",
   "execution_count": 27,
   "metadata": {},
   "source": [
    "import name\n",
    "name.add(2,3)"
   ],
   "outputs": []
  },
  {
   "cell_type": "markdown",
   "metadata": {},
   "source": [
    "##### 2. 模块打包"
   ]
  },
  {
   "cell_type": "code",
   "execution_count": null,
   "metadata": {},
   "source": [
    "# distutils   --->   setuptools  -----    easy_install(tools)\n",
    "#     |__________________|______________  pip /egg wheel/whl\n",
    "\n",
    "\n",
    "# python setup.py sdist\n",
    "from distutils.core import setup\n",
    "\n",
    "setup(name=\"mx\",\n",
    "      version=\"1.0\",\n",
    "      py_modules= [\"mx\"],\n",
    "     )"
   ],
   "outputs": []
  },
  {
   "cell_type": "code",
   "execution_count": 28,
   "metadata": {},
   "source": [
    "#setuptools\n",
    "\n",
    "import setuptools\n",
    "setuptools.__version__"
   ],
   "outputs": []
  },
  {
   "cell_type": "code",
   "execution_count": null,
   "metadata": {},
   "source": [
    "# python setup.py check\n",
    "# python setup.py bdist_egg"
   ],
   "outputs": []
  },
  {
   "cell_type": "code",
   "execution_count": null,
   "metadata": {},
   "source": [
    "#binary --cython\n",
    "\n",
    "#python setup.py build_ext --inplace/ --home=."
   ],
   "outputs": []
  },
  {
   "cell_type": "code",
   "execution_count": 31,
   "metadata": {},
   "source": [
    "import py_compile\n",
    "\n",
    "py_compile.compile(\"x.py\")\n",
    "\n",
    "import compileall\n",
    "\n",
    "compileall.compile_dir(\"./m\")\n",
    "\n",
    "# py, pyc, pyw, pyd\n",
    "\n",
    "# uncompyle6"
   ],
   "outputs": []
  },
  {
   "cell_type": "markdown",
   "metadata": {},
   "source": [
    "##### 3. 模块扩展"
   ]
  },
  {
   "cell_type": "code",
   "execution_count": null,
   "metadata": {},
   "source": [
    "#ctypes, python.h, swig, .... pybind....\n",
    "\n",
    "# dll/so\n",
    "\n",
    "# pyd"
   ],
   "outputs": []
  },
  {
   "cell_type": "code",
   "execution_count": 36,
   "metadata": {},
   "source": [
    "from ctypes import CDLL as cdll\n",
    "\n",
    "dll = cdll(\"ctype/add.dll\")\n",
    "print(dll.add(3,4))\n",
    "print(dir(dll))"
   ],
   "outputs": []
  },
  {
   "cell_type": "code",
   "execution_count": null,
   "metadata": {},
   "source": [
    "from distutils.core import setup, Extension\n",
    "\n",
    "mod = \"exttest\"\n",
    "\n",
    "module1 = Extension(mod, sources=[\"exttest.c\"])\n",
    "\n",
    "setup(\n",
    "    name=\"fib\",\n",
    "    version=\"1.0\",\n",
    "    description=\"test\",\n",
    "    author=\"wei\",\n",
    "    ext_modules= [module1]\n",
    ")"
   ],
   "outputs": []
  },
  {
   "cell_type": "code",
   "execution_count": null,
   "metadata": {},
   "source": [
    "## swig （simplified warpper and interfance generator) ---ruby perl tcl java c c++ /py_bind\n",
    "\n",
    "\n",
    "swig -python -py3 exttest.i"
   ],
   "outputs": []
  },
  {
   "cell_type": "markdown",
   "metadata": {},
   "source": [
    "##### 4. 模块共享(PyPI)"
   ]
  },
  {
   "cell_type": "code",
   "execution_count": null,
   "metadata": {},
   "source": [
    "#1. readme.md (markdown)\n",
    "\n",
    "#2. setup.py\n",
    "\n",
    "#3. upload pypi"
   ],
   "outputs": []
  }
 ],
 "metadata": {
  "kernelspec": {
   "display_name": "Python 3.9.7 64-bit",
   "language": "python",
   "name": "python3"
  },
  "language_info": {
   "codemirror_mode": {
    "name": "ipython",
    "version": 3
   },
   "file_extension": ".py",
   "mimetype": "text/x-python",
   "name": "python",
   "nbconvert_exporter": "python",
   "pygments_lexer": "ipython3",
   "version": "3.9.7"
  },
  "orig_nbformat": 4,
  "vscode": {
   "interpreter": {
    "hash": "2f1a0965c75aec8e4a2a9df4a3184abea607daea749e4ec45412662d9328f429"
   }
  }
 },
 "nbformat": 4,
 "nbformat_minor": 2
}
