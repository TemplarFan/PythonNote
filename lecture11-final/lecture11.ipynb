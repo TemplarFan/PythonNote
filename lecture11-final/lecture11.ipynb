{
 "cells": [
  {
   "cell_type": "markdown",
   "metadata": {},
   "source": [
    "#### 11）自动化测试"
   ]
  },
  {
   "cell_type": "markdown",
   "metadata": {},
   "source": [
    "##### 1. 单元测试"
   ]
  },
  {
   "cell_type": "code",
   "execution_count": 3,
   "metadata": {},
   "source": [
    "def add(x, y):\n",
    "    # if x is int and y is int:\n",
    "    # abc\n",
    "    return x+y\n",
    "\n",
    "# add(3,4), add(\"a\", \"b\"), add(3, \"a\")\n",
    "\n",
    "if __name__ == \"__main__\":\n",
    "    add(3,4)"
   ],
   "outputs": []
  },
  {
   "cell_type": "code",
   "execution_count": 6,
   "metadata": {},
   "source": [
    "import unittest\n",
    "\n",
    "# TDD (test driven development)/agile, devops\n",
    "\n",
    "from myfunc import add\n",
    "\n",
    "if add(3,4) == 7:\n",
    "    print(\"pass\")\n",
    "else:\n",
    "    print(\"fail\")\n",
    "\n",
    "\n",
    "if add(\"3\",\"4\") == \"34\":\n",
    "    print(\"pass\")\n",
    "else:\n",
    "    print(\"fail\")"
   ],
   "outputs": []
  },
  {
   "cell_type": "code",
   "execution_count": 8,
   "metadata": {},
   "source": [
    "assert(add(3,4) == 7)\n",
    "\n",
    "if debug == True:\n",
    "    pass"
   ],
   "outputs": []
  },
  {
   "cell_type": "code",
   "execution_count": null,
   "metadata": {},
   "source": [
    "import unittest\n",
    "\n",
    "#nose/pytest/mock ----> unittest"
   ],
   "outputs": []
  },
  {
   "cell_type": "code",
   "execution_count": null,
   "metadata": {},
   "source": [
    "#testadd.py\n",
    "\n",
    "from myfunc import add\n",
    "\n",
    "class TestAdd(unittest.TestCase):\n",
    "    def setUp(self):\n",
    "        print(\"test startup\")\n",
    "\n",
    "    def test_add_int(self):\n",
    "        s = add(2, 3)\n",
    "        print(s == 5)\n",
    "\n",
    "    def tearDown(self):\n",
    "        print(\"test finished.\")\n",
    "\n",
    "if __name__ == \"__main__\":\n",
    "    unittest.main()"
   ],
   "outputs": []
  },
  {
   "cell_type": "code",
   "execution_count": null,
   "metadata": {},
   "source": [
    "from testadd import TestAdd\n",
    "from testmul import TestMul\n",
    "\n",
    "suit = unittest.TestSuite()\n",
    "suit.addTest(TestAdd(\"test_add_int\"))\n",
    "suit.addTest(TestAdd(\"test_add_str\"))\n",
    "suit.addTest(TestMul(\"test_mul_int\"))\n",
    "suit.addTest(TestMul(\"test_mul_str\"))\n",
    "\n",
    "runner = unittest.TextTestRunner()\n",
    "runner.run(suit)"
   ],
   "outputs": []
  },
  {
   "cell_type": "code",
   "execution_count": 12,
   "metadata": {},
   "source": [
    "class Calc:\n",
    "    def add(self, a, b):\n",
    "        pass"
   ],
   "outputs": []
  },
  {
   "cell_type": "code",
   "execution_count": null,
   "metadata": {},
   "source": [
    "from unittest import mock\n",
    "import unittest\n",
    "# import Calc\n",
    "\n",
    "class TestAdd(unittest.TestCase):\n",
    "    def test_add(self):\n",
    "        calc = Calc()\n",
    "        calc.add = mock.Mock(return_value=8)\n",
    "        result = calc.add(5,3)\n",
    "        self.assertEqual(result, 8)\n",
    "\n",
    "\n",
    "if __name__ == \"__main__\":\n",
    "    unittest.main()"
   ],
   "outputs": []
  },
  {
   "cell_type": "markdown",
   "metadata": {},
   "source": [
    "##### 2. Web测试"
   ]
  },
  {
   "cell_type": "code",
   "execution_count": null,
   "metadata": {},
   "source": [
    "from selenium import webdriver\n",
    "import unittest\n",
    "import time\n",
    "\n",
    "class MyTest(unittest.TestCase):\n",
    "    def setUp(self):\n",
    "        option = webdriver.ChromeOptions()\n",
    "        option.add_argument('--User-Agent = Mozilla/5.0 (Windows NT 6.1; WOW64) AppleWebKit/537.36 (KHTML, like Gecko) Chrome/73.0.3683.86 Safari/537.36')\n",
    "        self.driver = webdriver.Chrome(options=option)\n",
    "        self.driver.maximize_window()\n",
    "        self.driver.implicitly_wait(10)\n",
    "        self.base_url = \"http://www.neu.edu.cn\"\n",
    "        \n",
    "    def test_cse(self):\n",
    "        driver = self.driver\n",
    "        driver.get(self.base_url)\n",
    "\n",
    "        time.sleep(2)\n",
    "        self.assertEqual(driver.title, \"东北大学 - Northeastern University\")\n",
    "        \n",
    "    def tearDown(self):\n",
    "        self.driver.quit()\n",
    "        \n",
    "if __name__ == \"__main__\":\n",
    "    unittest.main()\n"
   ],
   "outputs": []
  },
  {
   "cell_type": "code",
   "execution_count": null,
   "metadata": {},
   "source": [
    "#coverage"
   ],
   "outputs": []
  },
  {
   "cell_type": "markdown",
   "metadata": {},
   "source": [
    "##### 3. 文档测试"
   ]
  },
  {
   "cell_type": "code",
   "execution_count": null,
   "metadata": {},
   "source": [
    "#doctest\n"
   ],
   "outputs": []
  },
  {
   "cell_type": "markdown",
   "metadata": {},
   "source": [
    "##### 4.结构化文档"
   ]
  },
  {
   "cell_type": "code",
   "execution_count": null,
   "metadata": {},
   "source": [
    "# reStructuredText---md\n",
    "\n",
    "# Sphinx"
   ],
   "outputs": []
  }
 ],
 "metadata": {
  "kernelspec": {
   "display_name": "Python 3.9.7 64-bit",
   "language": "python",
   "name": "python3"
  },
  "language_info": {
   "codemirror_mode": {
    "name": "ipython",
    "version": 3
   },
   "file_extension": ".py",
   "mimetype": "text/x-python",
   "name": "python",
   "nbconvert_exporter": "python",
   "pygments_lexer": "ipython3",
   "version": "3.9.7"
  },
  "orig_nbformat": 4,
  "vscode": {
   "interpreter": {
    "hash": "2f1a0965c75aec8e4a2a9df4a3184abea607daea749e4ec45412662d9328f429"
   }
  }
 },
 "nbformat": 4,
 "nbformat_minor": 2
}
