{
 "cells": [
  {
   "cell_type": "markdown",
   "metadata": {},
   "source": [
    "# "
   ]
  },
  {
   "cell_type": "code",
   "execution_count": 16,
   "metadata": {},
   "source": [
    "from math import log as mylog\n",
    "\n",
    "mylog(2,3)"
   ],
   "outputs": []
  },
  {
   "cell_type": "markdown",
   "metadata": {},
   "source": [
    "# "
   ]
  },
  {
   "cell_type": "code",
   "execution_count": 2,
   "metadata": {},
   "source": [
    "l=[1,2,3]\n",
    "l.sort()\n",
    "print(l)"
   ],
   "outputs": []
  },
  {
   "cell_type": "markdown",
   "metadata": {},
   "source": [
    "sorted() #"
   ]
  },
  {
   "cell_type": "code",
   "execution_count": 4,
   "metadata": {},
   "source": [
    "def myabs(n):\n",
    "    return abs(n-100)\n",
    "l=[90,50,70,80]\n",
    "help(sorted)"
   ],
   "outputs": []
  },
  {
   "cell_type": "code",
   "execution_count": 9,
   "metadata": {},
   "source": [
    "#元组\n",
    " \n",
    "from collections import namedtuple\n",
    "from "
   ],
   "outputs": []
  },
  {
   "cell_type": "markdown",
   "metadata": {},
   "source": [
    "queue  队列"
   ]
  },
  {
   "cell_type": "code",
   "execution_count": null,
   "metadata": {},
   "source": [
    "from collections import deque\n",
    "d=deque([1,2,3,6])\n",
    "d.append(10)\n",
    "\n"
   ],
   "outputs": []
  },
  {
   "cell_type": "markdown",
   "metadata": {},
   "source": [
    "# 函数"
   ]
  },
  {
   "cell_type": "code",
   "execution_count": 5,
   "metadata": {},
   "source": [
    "def fun(name,age):\n",
    "    print(name,age)\n",
    "\n",
    "a=fun #a相当于函数名 a=fun()变成调用函数了\n",
    "a(1,2)#按位置传\n",
    "\n",
    "fun(age=2,name=1) #这样可以不按位置传，指定名字\n",
    "\n"
   ],
   "outputs": []
  },
  {
   "cell_type": "code",
   "execution_count": 6,
   "metadata": {},
   "source": [
    "def func(name,age=100): #默认形参 必须在定义的时候写上 写在最右边\n",
    "    print(name,age)\n",
    "\n",
    "func(\"neu\",100)\n",
    "func('neu') #age默认100 python没有数据类型 传什么就是什么"
   ],
   "outputs": []
  },
  {
   "cell_type": "code",
   "execution_count": 17,
   "metadata": {},
   "source": [
    "def func(name,age=90,*,addr,uni): #*起分割作用 从它后面起的参数必须传递，必须指定名字\n",
    "    print(name, age )\n",
    "    print(addr, uni)\n",
    "\n",
    "func=('neu',100,'HunNan','NUE')\n",
    "\n",
    "def func2(name,age=90,**agrc):#agrc不定个数的参数 变成字典，传参要\n",
    "    print(name, age) \n",
    "    print(agrc)\n",
    "\n",
    "func2('nue',100, addr='HunNan',number='NEU')#后面全放进agrc里了\n",
    "\n",
    "def func3(name,age=90,*args): #没有名字的参数，按照元组保留 \n",
    "    print(args)\n",
    "\n",
    "func3('nue',100,1,2,3,4)#这样参数不用指定名字，也不可以指定名字 用元组保留\n",
    "\n",
    "def func4(*args,**argv):#万能模板 没名字的放前面 有名字的放后面\n",
    "    print(args)\n",
    "    print(argv)\n",
    "\n",
    "#func3=fuc1 \n",
    "#fun3(\"neu\"...) 此时调用的是func1函数"
   ],
   "outputs": []
  },
  {
   "cell_type": "code",
   "execution_count": 19,
   "metadata": {},
   "source": [
    "# global s 声明后可以在函数内用函数外面的变量s （少用）\n",
    "# python讲究就近原则\n",
    "\n",
    "def add(a,b):\n",
    "    return a+b\n",
    "\n",
    "def muti(a,b):\n",
    "    return a*b\n",
    "\n",
    "def caculate(a,b,proc): #函数可以当参数传递 函数只有在调用的时候会传递参数\n",
    "    return proc(a,b)\n",
    "\n",
    "print(caculate(1,2,add))\n",
    "\n",
    "myc=caculate;#不能加（） 否则变成调用\n",
    "print(myc(2,3,muti))#myc也是函数caculate另一个名字"
   ],
   "outputs": []
  },
  {
   "cell_type": "markdown",
   "metadata": {},
   "source": [
    "函数式编程"
   ]
  },
  {
   "cell_type": "code",
   "execution_count": 26,
   "metadata": {},
   "source": [
    "f=lambda x,y=0:x**2+y #lambda参数不需要（）包起来，用‘，’隔开 也可以有默认值 只能写一行，：后面跟着返回值\n",
    "#lamada多用于一次性函数\n",
    "f(2,3)\n",
    "\n",
    "a=10\n",
    "f2=lambda x,y=0:a**2+y\n",
    "a=20\n",
    "\n",
    "f2(a,a) #函数只有在这个时候才会把a传过去 此处传的是20"
   ],
   "outputs": []
  },
  {
   "cell_type": "code",
   "execution_count": 33,
   "metadata": {},
   "source": [
    "data=[100,200,88,334]\n",
    "\n",
    "sorted(data,key=lambda x:abs(x-88))\n",
    "\n",
    "#map\n",
    "\n",
    "data2=list(range(10))\n",
    "dataNew=map(lambda x:x**2,data2) # map（操作，可迭代对象）生成一堆新数据返回\n",
    "list(dataNew)"
   ],
   "outputs": []
  },
  {
   "cell_type": "code",
   "execution_count": 34,
   "metadata": {},
   "source": [
    "dataNew=[i**2 for i in data]\n",
    "print(dataNew)"
   ],
   "outputs": []
  },
  {
   "cell_type": "code",
   "execution_count": 36,
   "metadata": {},
   "source": [
    "data = range(1000)\n",
    "import  time\n",
    "start = time.time()\n",
    "print(sum([i**2 for i in data]))  # sum（）求和函数\n",
    "\n",
    "print(sum(map(lambda x:x**2,range(1000)))) #map要快一些\n",
    "\n",
    "print(time.time()-start)"
   ],
   "outputs": []
  },
  {
   "cell_type": "code",
   "execution_count": 41,
   "metadata": {},
   "source": [
    "#filter过滤\n",
    "\n",
    "data=list(range(10))\n",
    "\n",
    "data.append(\"\")\n",
    "data.append(0) #非空即为真\n",
    "\n",
    "print(list(filter(None,data))) #filter(要去掉的值，对象)  去掉除了非真的值\n",
    "\n",
    "data2=list(range(10))\n",
    "datan= filter(lambda x:x%2,data2)#过滤掉偶数 x%2为真\n",
    "data2\n",
    "print(list(datan))\n"
   ],
   "outputs": []
  },
  {
   "cell_type": "code",
   "execution_count": 47,
   "metadata": {},
   "source": [
    "#reduce\n",
    "\n",
    "from functools import reduce\n",
    "\n",
    "data=list(range(10))\n",
    "reduce(lambda x,y:x+y,data)#第一个和第二个操作完返回的值继续跟第三个做运算 最后返回的是一个值\n",
    "\n",
    "s=\"12345\"\n",
    "list(s)#一个个切开 1,2,3,4,5\n",
    "#int(s)\n",
    "\n",
    "dmap=dict([(str(i),i)for i in range(10)])\n",
    "reduce(lambda x,y:x*10+dmap[y],list(s),0) #reduce(函数 操作对象 初始值)\n",
    "\n",
    "help(reduce)\n",
    "\n"
   ],
   "outputs": []
  },
  {
   "cell_type": "markdown",
   "metadata": {},
   "source": [
    " type(f)  返回f的类型\n",
    "函数里有调用函数的 func（）（） 第二个（）是里面调用的时候传的参\n",
    " 声明nonlocal 不是局部变量\n",
    " fun（a)(b)\n",
    " f=fun(a) 通过调用一次来确定参数\n",
    " f(b) 这样默认第一层调用的时候传的a"
   ]
  },
  {
   "cell_type": "code",
   "execution_count": 52,
   "metadata": {},
   "source": [
    "def total(count,price):\n",
    "    return count*price\n",
    "\n",
    "from functools import partial#偏函数\n",
    "\n",
    "apple= partial(total,price=3)#确定一部分参数 修饰total函数 可以继续再修饰\n",
    "apple(10)#price确定为3 apple变为只有一个参数的函数\n",
    "\n",
    "mymax=partial(max,100)#也可以修饰上下限\n",
    "max(101,12,13)\n",
    "mymax(99,100)\n",
    "\n"
   ],
   "outputs": []
  },
  {
   "cell_type": "markdown",
   "metadata": {},
   "source": [
    "迭代器\n",
    "\n",
    "\n"
   ]
  },
  {
   "cell_type": "code",
   "execution_count": 60,
   "metadata": {},
   "source": [
    "a=( i for i in range(10))#加（）变可迭代\n",
    "\n",
    "ai=next(a)\n",
    "next(a)#手动迭代"
   ],
   "outputs": []
  },
  {
   "cell_type": "code",
   "execution_count": null,
   "metadata": {},
   "source": [
    "#yield"
   ],
   "outputs": []
  },
  {
   "cell_type": "code",
   "execution_count": null,
   "metadata": {},
   "source": [
    "#wrapper 函数装饰器 \n",
    "#定义装饰器： @函数名 @fun"
   ],
   "outputs": []
  },
  {
   "cell_type": "markdown",
   "metadata": {},
   "source": [
    "文本处理\n",
    "\n",
    "1.字符串\n",
    "\n",
    "s=\".....\" 如果里面一定要双引号  s='....\"....' 或  s=\"...\\\"....\"转义字符  \n",
    "或用三引号 s=\"\"\"....\"....\"\"\" 里面都当是字符串 \\\"等转义仍然有效\n",
    "python没有字符只有字符串"
   ]
  },
  {
   "cell_type": "code",
   "execution_count": 11,
   "metadata": {},
   "source": [
    "s=\"Northeastern University\"#序列仍可以用下标索引[]  type()输出类型\n",
    "print(s[1:5],s[::2],s[::-1])#隔两个取  倒着输出\n",
    "\n",
    "for c in s:#字符串可迭代\n",
    "    print(c,end=\" \")\n",
    "print(list(s))#强制变成列表\n",
    "data=list(s)\n",
    "print(data)\n",
    "\n",
    "res=\"\"\n",
    "for c in data:#强制再转换回字符串\n",
    "    res+=c#res 不可变类型 每次都重新创建了一个res\n",
    "\n",
    "# print(\"\",join(data)) #第二种\n",
    "\n",
    "# from functools import reduce\n",
    "# reduce(lambda x,y: x+y,data) 第三种 "
   ],
   "outputs": []
  },
  {
   "cell_type": "markdown",
   "metadata": {},
   "source": [
    "unicode对英文存储太浪费 UTF-8变长 py3后默认都是UTF-8 英文一个字节"
   ]
  },
  {
   "cell_type": "code",
   "execution_count": 12,
   "metadata": {},
   "source": [
    "\n",
    "s=\"东北大学-NUE\"\n",
    "print(s,s.encode(\"utf-8\"))"
   ],
   "outputs": []
  },
  {
   "cell_type": "code",
   "execution_count": 15,
   "metadata": {},
   "source": [
    "import sys\n",
    "\n",
    "print(sys.stdout.encoding)#查看当前代码的编码\n",
    "print(sys.getdefaultencoding())#系统默认编码\n",
    "\n",
    "sys.argv#参数解析"
   ],
   "outputs": []
  },
  {
   "cell_type": "code",
   "execution_count": 18,
   "metadata": {},
   "source": [
    "import string\n",
    "\n",
    "print(string.ascii_letters,string.digits) #输出字母 数字\n",
    "data=[(c,ord(c)) for c in string.ascii_letters+string.digits]#字母对应asc码值\n",
    "data"
   ],
   "outputs": []
  },
  {
   "cell_type": "code",
   "execution_count": null,
   "metadata": {},
   "source": [
    "import random\n",
    "\n",
    "data=string.ascii_letters+string.digits\n",
    "random.sample(data,k=4)#无放回\n",
    "random.choice(data) \n",
    "for i in range(4):pass #有放回随机抓牌"
   ],
   "outputs": []
  },
  {
   "cell_type": "code",
   "execution_count": 20,
   "metadata": {},
   "source": [
    "for i in range(256):\n",
    "    print(chr(i),end=\" \")#数字转字符\n",
    "\n",
    "bin(100)#数字转二进制\n"
   ],
   "outputs": []
  },
  {
   "cell_type": "code",
   "execution_count": 30,
   "metadata": {},
   "source": [
    "s=\"东北大学-NEU\"\n",
    "s2=b'NEU'\n",
    "print(type(s))\n",
    "print(type(s2))#两种类型字符串\n",
    "\n",
    "sbin=s.encode(\"utf-8\")#字符串转bytes\n",
    "\n",
    "sbin=bytes(s,encoding=\"utf-8\")\n",
    "print(sbin)\n",
    "\n",
    "\n",
    "#bytes转字符串\n",
    "\n",
    "sbin=b'\\xe4\\xb8\\x9c\\xe5\\x8c\\x97\\xe5\\xa4\\xa7\\xe5\\xad\\xa6-NEU'\n",
    "sstr = sbin.decode(\"utf-8\")"
   ],
   "outputs": []
  },
  {
   "cell_type": "markdown",
   "metadata": {},
   "source": [
    "open(\"abc\",\"r\",encodin=\"utf-8\") 文件的编码方式\n",
    "\n",
    "字符串 列表 元组 序列结构都支持 + *"
   ]
  },
  {
   "cell_type": "code",
   "execution_count": 45,
   "metadata": {},
   "source": [
    "from functools import  reduce\n",
    "# \"*\"*100 #\n",
    "\n",
    "s=\"Northeastern University\"\n",
    "\n",
    "# \"nor\" in s #判断字串\n",
    "# s*2\n",
    "# s.upper(),s.lower(),s.swapcase()#大小写调个\n",
    "\n",
    "s[:12].lower()+s[12:].upper()#前一块小写 后一块大写\n",
    "\n",
    "#偶数位大写 变成列表操作\n",
    "slist=list(s)\n",
    "slist[::2]=list(s[::2].upper())\n",
    "print(slist)\n",
    "reduce(lambda x,y:x+y,slist)"
   ],
   "outputs": []
  },
  {
   "cell_type": "code",
   "execution_count": 52,
   "metadata": {},
   "source": [
    "# print(dir(s)) # dir查字典\n",
    "s=\"  !  Northeastern University  \\n   \"\n",
    "s.strip()#直接写 去掉所有前面和后面空格\n",
    "# s.rstrip() #去掉左边\n",
    "# s.lstrip()\n",
    "# s.strip().strip(\"Nor\")#从这开始\n",
    "\n",
    "s=\"to be or not to be\"\n",
    "s.strip(\"to be\")#从前面 后面 都开始匹配 匹配上的都删了\n",
    "\n"
   ],
   "outputs": []
  },
  {
   "cell_type": "code",
   "execution_count": 63,
   "metadata": {},
   "source": [
    "s=\"Northeastern University!\"\n",
    "\n",
    "s.startswith(\"Nor\"),s.endswith(\"!\")#判断是否以这个开始 结束\n",
    "\n",
    "s=\"Northeastern University!\\n\"\n",
    "s.strip().endswith(\"!\")\n",
    "\n",
    "#只留下后缀.c .h的文件\n",
    "data=[\"hello.h\",\"makefile\",\"main.c\"]\n",
    "\n",
    "list(filter(lambda fn: fn.endswith((\".c\",\".h\")),data ))\n"
   ],
   "outputs": []
  },
  {
   "cell_type": "code",
   "execution_count": 65,
   "metadata": {},
   "source": [
    "#split字符串转列表 join列表转字符串\n",
    "s=\"Northeastern University\"\n",
    "\n",
    "#\n",
    "\"ER\".join(s.split(\"er\"))# \"用什么连接\"\n",
    "\"@\".join(s.split(\"e\"))#字符串替换"
   ],
   "outputs": []
  },
  {
   "cell_type": "markdown",
   "metadata": {},
   "source": [
    "格式化\n",
    "repr（）"
   ]
  },
  {
   "cell_type": "code",
   "execution_count": 71,
   "metadata": {},
   "source": [
    "# print(\"%d+%d=%d\"%(i,j,i+j)) #输出i+j\n",
    "\n",
    "# s.center(40,\"*\")#s字符串居中处理 不够的两边填*\n",
    "# s.ljust(40,\"*\") s.ljust(40,\"*\")  zfill\n",
    "\n",
    "# \"%s, No.%d\"%(\"NEU\",1) #按位置赋值 %占位符，按位置\n",
    "# %02d占两位  %.2f 两位小数（四舍五入） int(1.5)不四舍五入  \n",
    "# round(1.345,2) #不四舍五入 取上下限函数  ceil,floor"
   ],
   "outputs": []
  },
  {
   "cell_type": "code",
   "execution_count": 82,
   "metadata": {},
   "source": [
    "# s=\"Northeastern University\"\n",
    "# s.format() #格式化\n",
    "\n",
    "# \"{},No.{}\".format(\"NEU\",1,2)#{}也是占位符， 按位置赋值 后面多了不管\n",
    "# \"{1},No.{0}\".format(\"NEU\",1,2)#不按位置赋值\n",
    "# \"{name},No.{num}\".format(name=\"NEU\",num=2) #类似参数\n",
    "\n",
    "\n",
    "# \"{name[2]},No.{num}\".format(name=\"NEU\",num=1)#可以索引不能切片\n",
    "\"{0[0]},No.{0[1]}\".format([\"NEU\",1])#列表 第0个元素第0个值\n",
    "#.items() \n"
   ],
   "outputs": []
  },
  {
   "cell_type": "code",
   "execution_count": null,
   "metadata": {},
   "source": [
    "#template\n",
    "from string import Template #web页面"
   ],
   "outputs": []
  },
  {
   "cell_type": "code",
   "execution_count": 86,
   "metadata": {},
   "source": [
    "#search index 查找\n",
    "s=\"Northeastern University\"\n",
    "# s.index(\"er\") # 索引第一个er位置\n",
    "# s.index(\"er\"),s.index(\"er\",10) #可用迭代接着查找下一个 当找不到会报错\n",
    "\n",
    "#find\n",
    "\n",
    "# s.find(\"er\"),s.find(\"er\",10),s.find(\"OR\")#找不到返回-1 当不会报错\n",
    "\n",
    "# s.rindex(\"er\"),s.rfind(\"er\") #从后面往前找 index会报错 find只会返回-1\n",
    "\n"
   ],
   "outputs": []
  },
  {
   "cell_type": "code",
   "execution_count": null,
   "metadata": {},
   "source": [
    "import requests\n",
    "\n",
    "data=requests.get(\"http://www.neu.edu.cn\")\n",
    "data.encoding=\"utf-8\""
   ],
   "outputs": []
  },
  {
   "cell_type": "markdown",
   "metadata": {},
   "source": [
    "正则表达式"
   ]
  },
  {
   "cell_type": "code",
   "execution_count": 8,
   "metadata": {},
   "source": [
    "#正则表达式\n",
    "import re \n",
    "s = '''<img src=\"/_upload/tpl/00/03/3/template3/htmlRes/logo.png\"'''\n",
    "\n",
    "rstr=r\"img\\ssrc=\\\"(.*\\.png)\"#抓取网页上所有图片 图片正则表达式\n",
    "\n",
    "res=re.findall(rstr,s)\n",
    "\n",
    "\n"
   ],
   "outputs": []
  },
  {
   "cell_type": "code",
   "execution_count": 9,
   "metadata": {},
   "source": [
    "img=\"http://www.neu.edu.cn\"+res[0]\n",
    "import requests\n",
    "data=requests.get(img).content\n",
    "with open(\"logo.png\",\"wb\") as fw:\n",
    "    fw.write(data)\n"
   ],
   "outputs": []
  },
  {
   "cell_type": "code",
   "execution_count": 12,
   "metadata": {},
   "source": [
    "s=\"Northeastern University\"\n",
    "\n",
    "# s.split(),s.split(\"er\")\n",
    "\n",
    "#re也有类似分割\n",
    "re.split(\"[er|or\\s]\",s)#可以有多个分割符 遇到这些都会分割"
   ],
   "outputs": []
  },
  {
   "cell_type": "markdown",
   "metadata": {},
   "source": [
    "中文处理"
   ]
  },
  {
   "cell_type": "code",
   "execution_count": 16,
   "metadata": {},
   "source": [
    "import jieba#按语义分割中文库\n",
    "\n",
    "s=\"中华人民共和国东北辽宁省沈阳市东北大学东北大马路浑南校区\"#中文不知道怎么分割 \n",
    "\n",
    "res=jieba.cut(s) #按语义分割中文字符串  最长最大匹配\n",
    "print(list(res))\n",
    "\n",
    "res=jieba.cut_for_search(s)#所有能分出词来的都分割出来 作为查询索引\n",
    "print(list(res))"
   ],
   "outputs": []
  },
  {
   "cell_type": "markdown",
   "metadata": {},
   "source": [
    "相似性比较"
   ]
  },
  {
   "cell_type": "code",
   "execution_count": 17,
   "metadata": {},
   "source": [
    "import difflib #字符串相似性比较的库\n",
    "\n",
    "data=['ape','apple','peach','puppy']\n",
    "res=difflib.get_close_matches('appel',data)#相似性匹配 打错了 匹配类似的\n",
    "print(res)\n",
    "\n",
    "# difflib.SequenceMatcher(None,s1,s2).quick_ratio() #s1和s2相似度 返回一个小数"
   ],
   "outputs": []
  },
  {
   "cell_type": "markdown",
   "metadata": {},
   "source": [
    "# L5 数据持久化"
   ]
  },
  {
   "cell_type": "code",
   "execution_count": 18,
   "metadata": {},
   "source": [
    "import pickle #对象序列化成进制流  或反序列化恢复 把对象序列化才好发送出去\n",
    "\n",
    "data=[1,2,3,4,\"Northeastern University\",{\"name\":\"NEU\",\"age\":100}]\n",
    "\n",
    "sdata=pickle.dumps(data)#序列化\n",
    "print(sdata)#byte类型 变成了字节编码\n",
    "#编码完传过去 再恢复数据\n"
   ],
   "outputs": []
  },
  {
   "cell_type": "code",
   "execution_count": 21,
   "metadata": {},
   "source": [
    "ddata=pickle.loads(sdata)#编码完传 接受后恢复数据\n",
    "print(ddata,type(ddata))"
   ],
   "outputs": []
  },
  {
   "cell_type": "code",
   "execution_count": 23,
   "metadata": {},
   "source": [
    "with open(\"pdata.pkl\",\"wb\") as fw:#pickle 写的文件.pkl后缀\n",
    "    pickle.dump(data,fw)#把打开的文件作参数传过去写 带s是string的意思 变成btye string类型\n",
    "    print(\"saved.\")\n"
   ],
   "outputs": []
  },
  {
   "cell_type": "code",
   "execution_count": 24,
   "metadata": {},
   "source": [
    "with open(\"pdata.pkl\",\"rb\") as fr:#读文件\n",
    "    pdata=pickle.load(fr)\n",
    "    print(pdata,type(pdata))"
   ],
   "outputs": []
  },
  {
   "cell_type": "code",
   "execution_count": 25,
   "metadata": {},
   "source": [
    "def myfun(s):\n",
    "    print(s)\n",
    "\n",
    "data=[12,34,myfun] \n",
    "\n",
    "fdata=pickle.dumps(data)\n",
    "print(fdata)"
   ],
   "outputs": []
  },
  {
   "cell_type": "code",
   "execution_count": 26,
   "metadata": {},
   "source": [
    "pdata=b'\\x80\\x04\\x95\\x1e\\x00\\x00\\x00\\x00\\x00\\x00\\x00]\\x94(K\\x0cK\"\\x8c\\x08__main__\\x94\\x8c\\x05myfun\\x94\\x93\\x94e.'\n",
    "\n",
    "dpdata=pickle.loads(pdata)#里面存了函数 能加载出来能运行 \n",
    "#但重启后函数myfun没有了内存找不到这个函数 下次就不能运行了 除非先加载一遍，内存里存了信息\n",
    "# 函数不方便序列化 序列化存的是地址\n",
    "print(dpdata,type(dpdata))"
   ],
   "outputs": []
  },
  {
   "cell_type": "code",
   "execution_count": 28,
   "metadata": {},
   "source": [
    "#json 网络传输数据效率高 HTML/XML不光要传数据还要传标签\n",
    "import json #对象序列化成字符串 或反序列化\n",
    "\n",
    "# data='[\"NEU\",100]'#这样只多传了几个[]\n",
    "data=[1,2,3,4,\"Northeastern University\",{\"name\":\"NEU\",\"age\":100}]\n",
    "\n",
    "jdata=json.dumps(data)#带s 变成string \n",
    "print(repr(jdata),jdata,type(jdata))#数据类型变成string \n",
    "jdata[::-1]#掉个\n",
    "\n"
   ],
   "outputs": []
  },
  {
   "cell_type": "code",
   "execution_count": 30,
   "metadata": {},
   "source": [
    "ojdata=json.loads(jdata)\n",
    "print(ojdata,type(ojdata))#已经变成列表\n",
    "\n",
    "print(ojdata[::-1])"
   ],
   "outputs": []
  },
  {
   "cell_type": "code",
   "execution_count": 31,
   "metadata": {},
   "source": [
    "#把这堆字符串存到文件里\n",
    "with open(\"data.json\",\"w\") as fw:#不是二进制流不用 wb\n",
    "    json.dump(data,fw)\n",
    "    print(\"saved.\")"
   ],
   "outputs": []
  },
  {
   "cell_type": "code",
   "execution_count": 32,
   "metadata": {},
   "source": [
    "#转回来\n",
    "with open(\"data.json\",\"r\") as fr:\n",
    "    d=fr.readlines()\n",
    "    print(d)\n",
    "    fr.seek(0)#读完了再读一边 重置指针\n",
    "    ojfdata=json.load(fr)\n",
    "    print(ojfdata,type(ojfdata))"
   ],
   "outputs": []
  },
  {
   "cell_type": "markdown",
   "metadata": {},
   "source": [
    "关系数据库存储"
   ]
  },
  {
   "cell_type": "code",
   "execution_count": 34,
   "metadata": {},
   "source": [
    "#sqlite: python迷你数据库  各种数据库:mysql sqlserver oracle db2 psql \n",
    "\n",
    "import sqlite3\n",
    "\n",
    "connect=sqlite3.connect(\"user.db\")#连接数据库\n",
    "cur=connect.cursor()#获取游标 （指针）\n",
    "\n",
    "sql=\"create table user(id int,name text)\"\n",
    "cur.execute(sql)\n",
    "connect.commit()\n",
    "cur.close()\n",
    "connect.close()\n"
   ],
   "outputs": []
  },
  {
   "cell_type": "code",
   "execution_count": null,
   "metadata": {},
   "source": [
    "#sqlalchemy\n",
    "from sqlalchemy import create_engine\n",
    "\n",
    "engine=create_engine()\n"
   ],
   "outputs": []
  },
  {
   "cell_type": "markdown",
   "metadata": {},
   "source": [
    "excel"
   ]
  },
  {
   "cell_type": "code",
   "execution_count": 1,
   "metadata": {},
   "source": [
    "import xlrd,xlwt\n",
    "\n",
    "wb = xlwt.Workbook()\n",
    "sheet = wb.add_sheet(\"hello\")\n",
    "sheet.write(1,1,\"hello world\")\n",
    "wb.save(\"hello.xls\")"
   ],
   "outputs": []
  },
  {
   "cell_type": "markdown",
   "metadata": {},
   "source": [
    "# L6 GUI"
   ]
  },
  {
   "cell_type": "markdown",
   "metadata": {},
   "source": [
    "tkinter"
   ]
  },
  {
   "cell_type": "code",
   "execution_count": 3,
   "metadata": {},
   "source": [
    "import tkinter as tk\n",
    "\n",
    "tk.Tk().mainloop()\n",
    "\n"
   ],
   "outputs": []
  },
  {
   "cell_type": "code",
   "execution_count": 10,
   "metadata": {},
   "source": [
    "root=tk.Tk()\n",
    "\n",
    "root.geometry(\"600x400\")\n",
    "\n",
    "labelfront = (\"times\",20,\"bold\")\n",
    "label = tk.Label(root,text=\"东北大学\")#指定父窗口root\n",
    "label.config(bg='yellow',fg='blue')\n",
    "label.config(font=labelfront)\n",
    "label.config(height=3,width=4)\n",
    "\n",
    "label.pack(expand=tk.YES,fill=tk.BOTH)#标签随窗口大小变动 颜色充满窗口  pack布局\n",
    "\n",
    "\n",
    "root.mainloop()#创建窗口"
   ],
   "outputs": []
  },
  {
   "cell_type": "markdown",
   "metadata": {},
   "source": [
    "颜色一定要转化成#开头的6位16进制\n"
   ]
  },
  {
   "cell_type": "code",
   "execution_count": null,
   "metadata": {},
   "source": [
    "#button\n",
    "\n"
   ],
   "outputs": []
  },
  {
   "cell_type": "markdown",
   "metadata": {},
   "source": [
    "Canvas 画图\n",
    "\n",
    "在画布上画图形\n",
    "create_image(坐标，坐标，图片，哪个角)\n",
    "create_line()画线"
   ]
  },
  {
   "cell_type": "markdown",
   "metadata": {},
   "source": [
    "# L7 网络数据获取"
   ]
  },
  {
   "cell_type": "markdown",
   "metadata": {},
   "source": [
    "Sockect网络数据读写\n",
    "\n",
    "sockect 传输层 TCP/IP 对操作系统的\n",
    "http协议 应用层\n",
    "层层往上传输 \n",
    "[IP,port] 每个机器IP唯一，通过IP找到 \n",
    "port：端口 程序运行在端口\n",
    "C/S通信 (client客户端（微信、browser浏览器…） 访问 server服务器 的某个固定端口) 多用c语言"
   ]
  },
  {
   "cell_type": "code",
   "execution_count": 1,
   "metadata": {},
   "source": [
    "import socket#服务端 py写的少 多用c语言\n",
    "\n",
    "server = socket.socket()\n",
    "\n",
    "server.bind((\"localhost\",50000))#绑定本机 端口号自己编 1万以上 小了怕被别的程序占用 \n",
    "#来了分配新端口和客户端对话 这个端口继续监听\n",
    "server.listen()# 死循环 监听端口\n",
    "print(\"waiting for client....\")\n",
    "\n",
    "#while True:\n",
    "\n",
    "conn, addr = server.accept()\n",
    "print(addr)\n",
    "data = conn.recv(1024)#字节流传输\n",
    "\n",
    "print(\"info:\",data)\n",
    "server.close()"
   ],
   "outputs": []
  },
  {
   "cell_type": "code",
   "execution_count": null,
   "metadata": {},
   "source": [
    "import socket\n",
    "#客户端 \n",
    "\n",
    "client = socket.socket()\n",
    "client.connect((\"localhost\",50000))#元组形式 \n",
    "client.send(b\"hello neu!\")# 必须传字节流 不能字符串\n",
    "client.close()"
   ],
   "outputs": []
  },
  {
   "cell_type": "markdown",
   "metadata": {},
   "source": [
    "HTTP网络数据读写  （应用层协议）\n",
    "python常用\n",
    "REST"
   ]
  },
  {
   "cell_type": "code",
   "execution_count": null,
   "metadata": {},
   "source": [
    "import urllib\n",
    "import requests\n",
    "\n",
    "# con = urllib.request.urlopen(\"http://www.neu.edu.cn:80\")#:80可以不用写 常用的应用有固定的端口\n",
    "#link = http://www.neu.edu.cn\n",
    "#con = urllib.request.urlopen(link)\n",
    "\n",
    "con = urllib.request.urlopen(\"http://www.neu.edu.cn/2019/0125/c14a1/page.htm\")\n",
    "\n",
    "data = con.read()\n",
    "\n",
    "# print(type(data),len(data))\n",
    "# print(data.decode(\"utf-8\"))\n",
    "\n",
    "datan = data.decode(\"utf-8\")"
   ],
   "outputs": []
  },
  {
   "cell_type": "code",
   "execution_count": 14,
   "metadata": {},
   "source": [
    "import requests\n",
    "\n",
    "link=\"http://www.neu.edu.cn/2019/0125/c14a1/page.htm\"\n",
    "req = requests.get(link)\n",
    "req.encoding = \"utf-8\"\n",
    "req.text\n",
    "\n",
    "with open(\"neu.txt\",\"w\",encoding=\"utf-8\") as fw:#有中文一定要encoding\n",
    "    fw.write(req.text)\n",
    "\n",
    "dataf = req.text\n",
    "start = dataf.find(\"meta content=\\\"\")\n",
    "end = dataf.find(\"name=\\\"description\\\"\")\n",
    "dataf[start+len(\"meta content=\\\"\"):end]\n"
   ],
   "outputs": []
  },
  {
   "cell_type": "markdown",
   "metadata": {},
   "source": [
    "字符串处理再认识"
   ]
  },
  {
   "cell_type": "code",
   "execution_count": null,
   "metadata": {},
   "source": [
    "from bs4 import BeautifulSoup as bs \n",
    "\n",
    "bsp = bs(data)\n",
    "all_a_tag = bsp.findAll('a')#找到所有a标签 （标题）\n",
    "atext = [l.text for l in all_a_tag]"
   ],
   "outputs": []
  },
  {
   "cell_type": "code",
   "execution_count": null,
   "metadata": {},
   "source": [
    "import jieba \n",
    "from bs4 import BeautifulSoup as bs \n",
    "\n",
    "bsp = bs(data)\n",
    "all_a_tag = bsp.findAll('a')#找到所有a标签 （标题）\n",
    "atext = [l.text for l in all_a_tag]\n",
    "\n",
    "word = [list(jieba.cut(t)) for t in atext]#统计词频\n",
    "\n",
    "words = [w for wl in word for w in wl if len(w)>=2]\n",
    "\n",
    "\n"
   ],
   "outputs": []
  },
  {
   "cell_type": "code",
   "execution_count": 23,
   "metadata": {},
   "source": [
    "from wordcloud import WordCloud as wordc#根据词频做云图\n",
    "\n"
   ],
   "outputs": []
  },
  {
   "cell_type": "markdown",
   "metadata": {},
   "source": [
    "网络数据抓取\n",
    "\n",
    "scrapy\n",
    "selenium (要下载对应浏览器的 webdriver)"
   ]
  },
  {
   "cell_type": "code",
   "execution_count": 26,
   "metadata": {},
   "source": [
    "from pyquery import PyQuery as pq\n",
    "import time"
   ],
   "outputs": []
  },
  {
   "cell_type": "markdown",
   "metadata": {},
   "source": [
    "# L8 对象\n",
    "\n",
    "python 一切都是对象"
   ]
  },
  {
   "cell_type": "code",
   "execution_count": 3,
   "metadata": {},
   "source": [
    "class MyClass:\n",
    "    pass\n",
    "\n",
    "c = MyClass()\n",
    "\n",
    "# print(type(MyClass))# MyClass 也是type源类（生产对象的对象）的一个对象 也是一个类名\n",
    "\n",
    "# isinstance(c,MyClass),isinstance(MyClass,type)#判断是否为示例的函数"
   ],
   "outputs": []
  },
  {
   "cell_type": "markdown",
   "metadata": {},
   "source": [
    "类定义"
   ]
  },
  {
   "cell_type": "code",
   "execution_count": 38,
   "metadata": {},
   "source": [
    "class MyClass(object):#继承类\n",
    "    s2 = 100 # 类属性 但所有对象共享这一个变量\n",
    "    def __init__(self,s=''):#构造函数 定义的时候自动调用  可以不写系统自动调用 但定义了后该传参的要传参\n",
    "        #只能有一个 不定个数的可以有默认参数 _..._魔术方法：系统会自动调用 但自己可以重写\n",
    "        self.s = s#对象属性 类没有 对象有\n",
    "    def say(self):\n",
    "        print(\"hello\",self.s)\n",
    "\n",
    "\n",
    "# MyClass.__dict__#能调用的方法放在这里\n",
    "# c = MyClass(\"NEU\")\n",
    "# c.say()\n",
    "# c.s = 100#在外面可以随意访问内部变量\n",
    "# c.say()\n",
    "\n",
    "# MyClass.s #类没有s 对象属性\n",
    "c1 = MyClass()\n",
    "c2 = MyClass()\n",
    "print(c1.s2,c2.s2)\n",
    "c1.s2 = 200#此时s2是c1新加的变量 而c2还是指类属性\n",
    "print(c1.s2,c2.s2)\n",
    "\n"
   ],
   "outputs": []
  },
  {
   "cell_type": "code",
   "execution_count": 25,
   "metadata": {},
   "source": [
    "class PClass:\n",
    "    def sayhello(self,s):\n",
    "        print(\"hello in parent,%s\",s)\n",
    "\n",
    "class CClass(PClass):\n",
    "    def sayhello2(self,s):\n",
    "        print(\"hello in child,%s\",s)\n",
    "        PClass.sayhello(self,s)#调用父类两种方法\n",
    "        # super().sayhello(s)\n",
    "\n",
    "def sayhelloWorld():\n",
    "    print(\"hello world\")\n",
    "\n",
    "c = CClass()\n",
    "c.sayhello2(\"neu\")\n",
    "# c.sayhello2 = sayhelloWorld\n",
    "# c.sayhello2()#对象的方法可以动态绑定外面的函数"
   ],
   "outputs": []
  },
  {
   "cell_type": "code",
   "execution_count": 6,
   "metadata": {},
   "source": [
    "\n",
    "class A:\n",
    "    def m(self):\n",
    "        print(\"hello world\")\n",
    "\n",
    "a=A()\n",
    "a.m()\n",
    "A.m(a)#把a传给self 方法绑定a 多个对象共有一个方法模板，实例化不会再复制一边方法\n",
    "#两种方法调用一样"
   ],
   "outputs": []
  },
  {
   "cell_type": "markdown",
   "metadata": {},
   "source": [
    "了解对象\n",
    "python 都是引用（可变对象 不可变对象）\n",
    "如果可变对象相互赋值 指向的是一块 \n",
    "不可变对象 指向的内容不能更改，则另起一块空间重新指向"
   ]
  },
  {
   "cell_type": "code",
   "execution_count": null,
   "metadata": {},
   "source": [
    "import copy\n",
    "\n",
    "# copy.deepcopy()\n",
    "\n",
    "# del c #如果把c删掉，但c所指向的区域还有别的指向 python则会继续让其它变量指这块区域，只是c不能再指了\n",
    "#python 会自动回收没有人指向的区域"
   ],
   "outputs": []
  },
  {
   "cell_type": "markdown",
   "metadata": {},
   "source": [
    "源类"
   ]
  },
  {
   "cell_type": "code",
   "execution_count": 1,
   "metadata": {},
   "source": [
    "# meta class\n",
    "\n",
    "class MyclasswithmetaClass(metaclass=type):\n",
    "    pass\n",
    "\n",
    "print(MyclasswithmetaClass)\n",
    "c = MyclasswithmetaClass()\n"
   ],
   "outputs": []
  },
  {
   "cell_type": "markdown",
   "metadata": {},
   "source": [
    "设计模式\n",
    "单例模式 全程就一个对象 没有就创建 有就返回原来有的实例"
   ]
  },
  {
   "cell_type": "code",
   "execution_count": null,
   "metadata": {},
   "source": [
    "def singleton(cls):#装饰器\n",
    "    isinstance = {}\n",
    "    def wrapper(*args,**kwargs):\n",
    "        if cls in isinstance:\n",
    "            return isinstance[cls]\n",
    "        else:\n",
    "            obj = cls(*args,**kwargs)\n",
    "            isinstance[cls] = obj\n",
    "            return obj\n",
    "    return wrapper\n",
    "\n",
    "@singleton\n",
    "class Teacher(object):\n",
    "    pass\n",
    "\n",
    "@singleton\n",
    "class Student(object):\n",
    "    pass"
   ],
   "outputs": []
  },
  {
   "cell_type": "markdown",
   "metadata": {},
   "source": [
    "# L9 Web服务\n",
    "project tornado更好/fastAPI\n"
   ]
  },
  {
   "cell_type": "markdown",
   "metadata": {},
   "source": [
    "Web开发基础\n",
    "    html骨架 标签\n",
    "    <...>   </...>每个标签有不同的意义\n",
    "\n",
    "    css衣服 样式\n",
    "\n",
    "\n",
    "    js-javascript行为 学好赚钱"
   ]
  },
  {
   "cell_type": "markdown",
   "metadata": {},
   "source": [
    "# L10 模块"
   ]
  },
  {
   "cell_type": "code",
   "execution_count": null,
   "metadata": {},
   "source": [],
   "outputs": []
  }
 ],
 "metadata": {
  "kernelspec": {
   "display_name": "Python 3.10.6 64-bit",
   "language": "python",
   "name": "python3"
  },
  "language_info": {
   "codemirror_mode": {
    "name": "ipython",
    "version": 3
   },
   "file_extension": ".py",
   "mimetype": "text/x-python",
   "name": "python",
   "nbconvert_exporter": "python",
   "pygments_lexer": "ipython3",
   "version": "3.10.6"
  },
  "orig_nbformat": 4,
  "vscode": {
   "interpreter": {
    "hash": "ed4cccc5cc02f3fdc2d6faa9ad2d9c225cf2e2cb7eda9eb3163a17a7f943c2e9"
   }
  }
 },
 "nbformat": 4,
 "nbformat_minor": 2
}
