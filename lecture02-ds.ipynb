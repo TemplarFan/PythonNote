{
 "cells": [
  {
   "cell_type": "markdown",
   "metadata": {},
   "source": [
    "### 3. Python数据结构"
   ]
  },
  {
   "cell_type": "markdown",
   "metadata": {},
   "source": [
    "#### 1.序列数据结构"
   ]
  },
  {
   "cell_type": "code",
   "execution_count": 3,
   "metadata": {},
   "outputs": [
    {
     "data": {
      "text/plain": [
       "(5, 1.0, [1, 2, 3], 2)"
      ]
     },
     "execution_count": 3,
     "metadata": {},
     "output_type": "execute_result"
    }
   ],
   "source": [
    "l = [1,2,3]\n",
    "l = list(\"NEU\")\n",
    "l\n",
    "l = [1,1.0,'neu',list,[1,2,3]]\n",
    "len(l), l[1], l[-1], l[-1][1]"
   ]
  },
  {
   "cell_type": "code",
   "execution_count": 4,
   "metadata": {},
   "outputs": [
    {
     "data": {
      "text/plain": [
       "([1, 2, 3, 4, 5, 6], [1, 2, 3, 4, 5, 6], [2, 4, 6])"
      ]
     },
     "execution_count": 4,
     "metadata": {},
     "output_type": "execute_result"
    }
   ],
   "source": [
    "l = [1,2,3,4,5,6,0]\n",
    "#slicing\n",
    "# l[start:end:step]\n",
    "l[0:-1:1], l[:-1], l[1::2]"
   ]
  },
  {
   "cell_type": "code",
   "execution_count": 5,
   "metadata": {},
   "outputs": [
    {
     "data": {
      "text/plain": [
       "[0, 6, 5, 4, 3, 2, 1]"
      ]
     },
     "execution_count": 5,
     "metadata": {},
     "output_type": "execute_result"
    }
   ],
   "source": [
    "l[::-1]"
   ]
  },
  {
   "cell_type": "code",
   "execution_count": 6,
   "metadata": {},
   "outputs": [
    {
     "data": {
      "text/plain": [
       "[100, 3, 4, 5, 5, 4, 5, 6, 0]"
      ]
     },
     "execution_count": 6,
     "metadata": {},
     "output_type": "execute_result"
    }
   ],
   "source": [
    "l[0] = 100\n",
    "l[1:3] = [4,5]\n",
    "l[1] = [3,4,5]\n",
    "l[1:2] = [3,4,5]\n",
    "l"
   ]
  },
  {
   "cell_type": "code",
   "execution_count": 7,
   "metadata": {},
   "outputs": [
    {
     "data": {
      "text/plain": [
       "[1, 3, 2, 5, 3, 4, 4, 6, 5]"
      ]
     },
     "execution_count": 7,
     "metadata": {},
     "output_type": "execute_result"
    }
   ],
   "source": [
    "l[::2] = [1,2,3,4,5]\n",
    "l"
   ]
  },
  {
   "cell_type": "code",
   "execution_count": 8,
   "metadata": {},
   "outputs": [
    {
     "data": {
      "text/plain": [
       "([100, 2, 3, 4], [100, 2, 3, 4])"
      ]
     },
     "execution_count": 8,
     "metadata": {},
     "output_type": "execute_result"
    }
   ],
   "source": [
    "l = [1,2,3,4]\n",
    "ln = l\n",
    "ln, l\n",
    "ln[0] = 100\n",
    "ln, l"
   ]
  },
  {
   "cell_type": "code",
   "execution_count": 9,
   "metadata": {},
   "outputs": [
    {
     "data": {
      "text/plain": [
       "([200, 2, 3, 4], [100, 2, 3, 4])"
      ]
     },
     "execution_count": 9,
     "metadata": {},
     "output_type": "execute_result"
    }
   ],
   "source": [
    "ln = l[:]\n",
    "ln[0] = 200\n",
    "ln, l"
   ]
  },
  {
   "cell_type": "code",
   "execution_count": 10,
   "metadata": {},
   "outputs": [
    {
     "data": {
      "text/plain": [
       "([300, 2, 3, 4], [100, 2, 3, 4])"
      ]
     },
     "execution_count": 10,
     "metadata": {},
     "output_type": "execute_result"
    }
   ],
   "source": [
    "ln = l.copy()\n",
    "ln[0] = 300\n",
    "ln, l"
   ]
  },
  {
   "cell_type": "code",
   "execution_count": 11,
   "metadata": {},
   "outputs": [
    {
     "data": {
      "text/plain": [
       "([100, 2, [300, 4]], [1, 2, [300, 4]])"
      ]
     },
     "execution_count": 11,
     "metadata": {},
     "output_type": "execute_result"
    }
   ],
   "source": [
    "l = [1,2,[3,4]]\n",
    "ln = l.copy()\n",
    "ln[-1][0] = 300\n",
    "ln[0] = 100\n",
    "ln, l"
   ]
  },
  {
   "cell_type": "code",
   "execution_count": 12,
   "metadata": {},
   "outputs": [
    {
     "data": {
      "text/plain": [
       "([100, 2, [300, 4]], [1, 2, [3, 4]])"
      ]
     },
     "execution_count": 12,
     "metadata": {},
     "output_type": "execute_result"
    }
   ],
   "source": [
    "import copy\n",
    "l = [1,2,[3,4]]\n",
    "ln = copy.deepcopy(l)\n",
    "ln[-1][0] = 300\n",
    "ln[0] = 100\n",
    "ln, l"
   ]
  },
  {
   "cell_type": "code",
   "execution_count": 13,
   "metadata": {},
   "outputs": [
    {
     "data": {
      "text/plain": [
       "[2, [3, 4]]"
      ]
     },
     "execution_count": 13,
     "metadata": {},
     "output_type": "execute_result"
    }
   ],
   "source": [
    "l = [1,2,[3,4]]\n",
    "del l[0]\n",
    "l"
   ]
  },
  {
   "cell_type": "code",
   "execution_count": 14,
   "metadata": {},
   "outputs": [
    {
     "data": {
      "text/plain": [
       "[1, 3, 5, 7, 9]"
      ]
     },
     "execution_count": 14,
     "metadata": {},
     "output_type": "execute_result"
    }
   ],
   "source": [
    "l = list(range(10))\n",
    "del l[::2]\n",
    "l"
   ]
  },
  {
   "cell_type": "code",
   "execution_count": 15,
   "metadata": {},
   "outputs": [
    {
     "name": "stdout",
     "output_type": "stream",
     "text": [
      "['__add__', '__class__', '__class_getitem__', '__contains__', '__delattr__', '__delitem__', '__dir__', '__doc__', '__eq__', '__format__', '__ge__', '__getattribute__', '__getitem__', '__gt__', '__hash__', '__iadd__', '__imul__', '__init__', '__init_subclass__', '__iter__', '__le__', '__len__', '__lt__', '__mul__', '__ne__', '__new__', '__reduce__', '__reduce_ex__', '__repr__', '__reversed__', '__rmul__', '__setattr__', '__setitem__', '__sizeof__', '__str__', '__subclasshook__', 'append', 'clear', 'copy', 'count', 'extend', 'index', 'insert', 'pop', 'remove', 'reverse', 'sort']\n"
     ]
    }
   ],
   "source": [
    "print(dir(l))"
   ]
  },
  {
   "cell_type": "code",
   "execution_count": 16,
   "metadata": {},
   "outputs": [
    {
     "data": {
      "text/plain": [
       "['NEU', 1, 2, 3, 4]"
      ]
     },
     "execution_count": 16,
     "metadata": {},
     "output_type": "execute_result"
    }
   ],
   "source": [
    "l = [1,2,3]\n",
    "l.append(4)\n",
    "l.append([1,2,3])\n",
    "l.insert(0,\"NEU\")\n",
    "l.pop()\n",
    "l"
   ]
  },
  {
   "cell_type": "code",
   "execution_count": 17,
   "metadata": {},
   "outputs": [
    {
     "data": {
      "text/plain": [
       "[1, 2, 3, 4, 1, 2, 3]"
      ]
     },
     "execution_count": 17,
     "metadata": {},
     "output_type": "execute_result"
    }
   ],
   "source": [
    "l = [1,2,3,4,4,1,2,3]\n",
    "\n",
    "l.count(4)\n",
    "l.remove(4)\n",
    "l"
   ]
  },
  {
   "cell_type": "code",
   "execution_count": 18,
   "metadata": {},
   "outputs": [
    {
     "data": {
      "text/plain": [
       "4"
      ]
     },
     "execution_count": 18,
     "metadata": {},
     "output_type": "execute_result"
    }
   ],
   "source": [
    "l = [1,2,3,4,4,1,2,3]\n",
    "\n",
    "l.count(4)\n",
    "l.index(4,4)\n",
    "# help(l.index)"
   ]
  },
  {
   "cell_type": "code",
   "execution_count": 19,
   "metadata": {},
   "outputs": [
    {
     "data": {
      "text/plain": [
       "[1, 2, 3, 4, 5, 6]"
      ]
     },
     "execution_count": 19,
     "metadata": {},
     "output_type": "execute_result"
    }
   ],
   "source": [
    "l = [1,2,3]\n",
    "l.extend([4,5,6])\n",
    "l"
   ]
  },
  {
   "cell_type": "code",
   "execution_count": 20,
   "metadata": {},
   "outputs": [
    {
     "data": {
      "text/plain": [
       "[1, 2, 3, 4, 5, 6]"
      ]
     },
     "execution_count": 20,
     "metadata": {},
     "output_type": "execute_result"
    }
   ],
   "source": [
    "l = [1,2,3]\n",
    "l = l + [4,5,6]\n",
    "l"
   ]
  },
  {
   "cell_type": "code",
   "execution_count": 21,
   "metadata": {},
   "outputs": [
    {
     "data": {
      "text/plain": [
       "[1, 2, 3, 1, 2, 3, 1, 2, 3]"
      ]
     },
     "execution_count": 21,
     "metadata": {},
     "output_type": "execute_result"
    }
   ],
   "source": [
    "l = [1,2,3]\n",
    "l*3"
   ]
  },
  {
   "cell_type": "code",
   "execution_count": 22,
   "metadata": {},
   "outputs": [
    {
     "name": "stdout",
     "output_type": "stream",
     "text": [
      "1 1\n",
      "2 4\n",
      "3 9\n"
     ]
    }
   ],
   "source": [
    "l = [1,2,3]\n",
    "for i in l:\n",
    "    print(i, i**2)"
   ]
  },
  {
   "cell_type": "code",
   "execution_count": 23,
   "metadata": {},
   "outputs": [
    {
     "data": {
      "text/plain": [
       "[1, 9]"
      ]
     },
     "execution_count": 23,
     "metadata": {},
     "output_type": "execute_result"
    }
   ],
   "source": [
    "[i**2 for i in l if i%2]"
   ]
  },
  {
   "cell_type": "code",
   "execution_count": 24,
   "metadata": {},
   "outputs": [],
   "source": [
    "a, b = 5,6"
   ]
  },
  {
   "cell_type": "code",
   "execution_count": 25,
   "metadata": {},
   "outputs": [
    {
     "name": "stdout",
     "output_type": "stream",
     "text": [
      "1 2\n",
      "3 4\n"
     ]
    }
   ],
   "source": [
    "l = [(1,2), (3,4)]\n",
    "for i,j in l:\n",
    "    print(i,j)"
   ]
  },
  {
   "cell_type": "code",
   "execution_count": 26,
   "metadata": {},
   "outputs": [
    {
     "data": {
      "text/plain": [
       "[(1, 4), (9, 16)]"
      ]
     },
     "execution_count": 26,
     "metadata": {},
     "output_type": "execute_result"
    }
   ],
   "source": [
    "[(i**2, j**2) for i,j  in l]"
   ]
  },
  {
   "cell_type": "code",
   "execution_count": 27,
   "metadata": {},
   "outputs": [
    {
     "name": "stdout",
     "output_type": "stream",
     "text": [
      "[0, 1, 2, 3, 4, 5, 6, 7, 8, 9, 1, 2, 3, 4, 5, 6, 7, 8, 9, 10, 2, 3, 4, 5, 6, 7, 8, 9, 10, 11, 3, 4, 5, 6, 7, 8, 9, 10, 11, 12, 4, 5, 6, 7, 8, 9, 10, 11, 12, 13, 5, 6, 7, 8, 9, 10, 11, 12, 13, 14, 6, 7, 8, 9, 10, 11, 12, 13, 14, 15, 7, 8, 9, 10, 11, 12, 13, 14, 15, 16, 8, 9, 10, 11, 12, 13, 14, 15, 16, 17, 9, 10, 11, 12, 13, 14, 15, 16, 17, 18]\n"
     ]
    }
   ],
   "source": [
    "a = [i+j for i in range(10) for j in range(10)]\n",
    "print(a)"
   ]
  },
  {
   "cell_type": "code",
   "execution_count": 28,
   "metadata": {},
   "outputs": [
    {
     "name": "stdout",
     "output_type": "stream",
     "text": [
      "1+1=2  \n",
      "2+1=3  2+2=4  \n",
      "3+1=4  3+2=5  3+3=6  \n",
      "4+1=5  4+2=6  4+3=7  4+4=8  \n",
      "5+1=6  5+2=7  5+3=8  5+4=9  5+5=10  \n",
      "6+1=7  6+2=8  6+3=9  6+4=10  6+5=11  6+6=12  \n",
      "7+1=8  7+2=9  7+3=10  7+4=11  7+5=12  7+6=13  7+7=14  \n",
      "8+1=9  8+2=10  8+3=11  8+4=12  8+5=13  8+6=14  8+7=15  8+8=16  \n",
      "9+1=10  9+2=11  9+3=12  9+4=13  9+5=14  9+6=15  9+7=16  9+8=17  9+9=18  \n"
     ]
    }
   ],
   "source": [
    "for i in range(1,10):\n",
    "    for j in range(1,10):\n",
    "        if i>=j:\n",
    "            print(\"%d+%d=%d\" % (i, j, i+j), end=\"  \")\n",
    "    print()"
   ]
  },
  {
   "cell_type": "code",
   "execution_count": 29,
   "metadata": {},
   "outputs": [
    {
     "data": {
      "text/plain": [
       "[6, 2, 7, 1]"
      ]
     },
     "execution_count": 29,
     "metadata": {},
     "output_type": "execute_result"
    }
   ],
   "source": [
    "import random\n",
    "random.random()\n",
    "random.randint(1,10)\n",
    "l = list(range(10))\n",
    "random.shuffle(l)\n",
    "\n",
    "random.choice(l)\n",
    "random.sample(l, k=4)"
   ]
  },
  {
   "cell_type": "code",
   "execution_count": 30,
   "metadata": {},
   "outputs": [
    {
     "name": "stdout",
     "output_type": "stream",
     "text": [
      "20\n",
      "19\n",
      "28\n",
      "24\n",
      "19\n",
      "28\n",
      "21\n",
      "28\n",
      "19\n",
      "19\n"
     ]
    }
   ],
   "source": [
    "weight = [random.randint(60, 100) for i in range(10)]\n",
    "weight\n",
    "height = [random.randint(160, 200)/100  for i in range(10)]\n",
    "height\n",
    "\n",
    "for w in weight:\n",
    "    index = weight.index(w)\n",
    "    h = height[index]\n",
    "    print(int(w/h**2))"
   ]
  },
  {
   "cell_type": "code",
   "execution_count": 64,
   "metadata": {},
   "outputs": [
    {
     "name": "stdout",
     "output_type": "stream",
     "text": [
      "20\n",
      "19\n",
      "28\n",
      "24\n",
      "18\n",
      "28\n",
      "21\n",
      "28\n",
      "19\n",
      "19\n",
      "Help on class enumerate in module builtins:\n",
      "\n",
      "class enumerate(object)\n",
      " |  enumerate(iterable, start=0)\n",
      " |  \n",
      " |  Return an enumerate object.\n",
      " |  \n",
      " |    iterable\n",
      " |      an object supporting iteration\n",
      " |  \n",
      " |  The enumerate object yields pairs containing a count (from start, which\n",
      " |  defaults to zero) and a value yielded by the iterable argument.\n",
      " |  \n",
      " |  enumerate is useful for obtaining an indexed list:\n",
      " |      (0, seq[0]), (1, seq[1]), (2, seq[2]), ...\n",
      " |  \n",
      " |  Methods defined here:\n",
      " |  \n",
      " |  __getattribute__(self, name, /)\n",
      " |      Return getattr(self, name).\n",
      " |  \n",
      " |  __iter__(self, /)\n",
      " |      Implement iter(self).\n",
      " |  \n",
      " |  __next__(self, /)\n",
      " |      Implement next(self).\n",
      " |  \n",
      " |  __reduce__(...)\n",
      " |      Return state information for pickling.\n",
      " |  \n",
      " |  ----------------------------------------------------------------------\n",
      " |  Class methods defined here:\n",
      " |  \n",
      " |  __class_getitem__(...) from builtins.type\n",
      " |      See PEP 585\n",
      " |  \n",
      " |  ----------------------------------------------------------------------\n",
      " |  Static methods defined here:\n",
      " |  \n",
      " |  __new__(*args, **kwargs) from builtins.type\n",
      " |      Create and return a new object.  See help(type) for accurate signature.\n",
      "\n"
     ]
    }
   ],
   "source": [
    "for index, w in enumerate(weight):\n",
    "    print(int(w/height[index]**2))\n",
    "\n"
   ]
  },
  {
   "cell_type": "code",
   "execution_count": 32,
   "metadata": {},
   "outputs": [
    {
     "name": "stdout",
     "output_type": "stream",
     "text": [
      "20\n",
      "19\n",
      "28\n",
      "24\n",
      "18\n",
      "28\n",
      "21\n",
      "28\n",
      "19\n",
      "19\n"
     ]
    }
   ],
   "source": [
    "for w, h in zip(weight, height):\n",
    "    print(int(w/h**2))"
   ]
  },
  {
   "cell_type": "code",
   "execution_count": 33,
   "metadata": {},
   "outputs": [
    {
     "name": "stdout",
     "output_type": "stream",
     "text": [
      "[28, 24, 28, 28]\n"
     ]
    }
   ],
   "source": [
    "bmi = [int(w/h**2) for w,h in zip(weight, height)]\n",
    "bmi = [b for b in bmi if not(b<24 or b>28)]\n",
    "print(bmi)"
   ]
  },
  {
   "cell_type": "code",
   "execution_count": null,
   "metadata": {},
   "outputs": [],
   "source": []
  },
  {
   "cell_type": "code",
   "execution_count": 34,
   "metadata": {},
   "outputs": [],
   "source": [
    "#列表 list\n",
    "#def\n",
    "#index\n",
    "#update\n",
    "#arithmetic\n",
    "#search"
   ]
  },
  {
   "cell_type": "code",
   "execution_count": 35,
   "metadata": {},
   "outputs": [],
   "source": [
    "#[for]/enumerate/zip/weight"
   ]
  },
  {
   "cell_type": "code",
   "execution_count": 36,
   "metadata": {},
   "outputs": [
    {
     "name": "stdout",
     "output_type": "stream",
     "text": [
      "['__add__', '__class__', '__class_getitem__', '__contains__', '__delattr__', '__dir__', '__doc__', '__eq__', '__format__', '__ge__', '__getattribute__', '__getitem__', '__getnewargs__', '__gt__', '__hash__', '__init__', '__init_subclass__', '__iter__', '__le__', '__len__', '__lt__', '__mul__', '__ne__', '__new__', '__reduce__', '__reduce_ex__', '__repr__', '__rmul__', '__setattr__', '__sizeof__', '__str__', '__subclasshook__', 'count', 'index']\n"
     ]
    }
   ],
   "source": [
    "#元组 tuple\n",
    "t = (1,2,3)\n",
    "t = tuple([1,2,3])\n",
    "\n",
    "print(dir(t))\n"
   ]
  },
  {
   "cell_type": "code",
   "execution_count": 37,
   "metadata": {},
   "outputs": [
    {
     "data": {
      "text/plain": [
       "[1, 2, 3, 4]"
      ]
     },
     "execution_count": 37,
     "metadata": {},
     "output_type": "execute_result"
    }
   ],
   "source": [
    "l = [4, 1,2,3]\n",
    "l.sort()\n",
    "l"
   ]
  },
  {
   "cell_type": "code",
   "execution_count": 38,
   "metadata": {},
   "outputs": [
    {
     "data": {
      "text/plain": [
       "[50, 70, 80, 90]"
      ]
     },
     "execution_count": 38,
     "metadata": {},
     "output_type": "execute_result"
    }
   ],
   "source": [
    "def myabs(n):\n",
    "    return abs(n-100)\n",
    "l = [90, 50, 70, 80]\n",
    "sorted(l, key=myabs, reverse=True)"
   ]
  },
  {
   "cell_type": "code",
   "execution_count": 39,
   "metadata": {},
   "outputs": [
    {
     "data": {
      "text/plain": [
       "[1, 3, 4]"
      ]
     },
     "execution_count": 39,
     "metadata": {},
     "output_type": "execute_result"
    }
   ],
   "source": [
    "l = (1,3,4)\n",
    "sorted(l)"
   ]
  },
  {
   "cell_type": "code",
   "execution_count": 40,
   "metadata": {},
   "outputs": [
    {
     "data": {
      "text/plain": [
       "('Wei', 'Li')"
      ]
     },
     "execution_count": 40,
     "metadata": {},
     "output_type": "execute_result"
    }
   ],
   "source": [
    "from collections import namedtuple\n",
    "from unicodedata import name\n",
    "nametag = namedtuple(\"nametag\", (\"first\", \"last\"))\n",
    "\n",
    "nt = nametag(\"Wei\", \"Li\")\n",
    "nt.first, nt.last"
   ]
  },
  {
   "cell_type": "code",
   "execution_count": 41,
   "metadata": {},
   "outputs": [
    {
     "data": {
      "text/plain": [
       "[Card(rank='2', suit='clubs'),\n",
       " Card(rank='2', suit='diamond'),\n",
       " Card(rank='2', suit='heart'),\n",
       " Card(rank='2', suit='spade'),\n",
       " Card(rank='3', suit='clubs'),\n",
       " Card(rank='3', suit='diamond'),\n",
       " Card(rank='3', suit='heart'),\n",
       " Card(rank='3', suit='spade'),\n",
       " Card(rank='4', suit='clubs'),\n",
       " Card(rank='4', suit='diamond'),\n",
       " Card(rank='4', suit='heart'),\n",
       " Card(rank='4', suit='spade'),\n",
       " Card(rank='5', suit='clubs'),\n",
       " Card(rank='5', suit='diamond'),\n",
       " Card(rank='5', suit='heart'),\n",
       " Card(rank='5', suit='spade'),\n",
       " Card(rank='6', suit='clubs'),\n",
       " Card(rank='6', suit='diamond'),\n",
       " Card(rank='6', suit='heart'),\n",
       " Card(rank='6', suit='spade'),\n",
       " Card(rank='7', suit='clubs'),\n",
       " Card(rank='7', suit='diamond'),\n",
       " Card(rank='7', suit='heart'),\n",
       " Card(rank='7', suit='spade'),\n",
       " Card(rank='8', suit='clubs'),\n",
       " Card(rank='8', suit='diamond'),\n",
       " Card(rank='8', suit='heart'),\n",
       " Card(rank='8', suit='spade'),\n",
       " Card(rank='9', suit='clubs'),\n",
       " Card(rank='9', suit='diamond'),\n",
       " Card(rank='9', suit='heart'),\n",
       " Card(rank='9', suit='spade'),\n",
       " Card(rank='10', suit='clubs'),\n",
       " Card(rank='10', suit='diamond'),\n",
       " Card(rank='10', suit='heart'),\n",
       " Card(rank='10', suit='spade'),\n",
       " Card(rank='J', suit='clubs'),\n",
       " Card(rank='J', suit='diamond'),\n",
       " Card(rank='J', suit='heart'),\n",
       " Card(rank='J', suit='spade'),\n",
       " Card(rank='Q', suit='clubs'),\n",
       " Card(rank='Q', suit='diamond'),\n",
       " Card(rank='Q', suit='heart'),\n",
       " Card(rank='Q', suit='spade'),\n",
       " Card(rank='K', suit='clubs'),\n",
       " Card(rank='K', suit='diamond'),\n",
       " Card(rank='K', suit='heart'),\n",
       " Card(rank='K', suit='spade'),\n",
       " Card(rank='A', suit='clubs'),\n",
       " Card(rank='A', suit='diamond'),\n",
       " Card(rank='A', suit='heart'),\n",
       " Card(rank='A', suit='spade')]"
      ]
     },
     "execution_count": 41,
     "metadata": {},
     "output_type": "execute_result"
    }
   ],
   "source": [
    "from collections import namedtuple\n",
    "\n",
    "Card = namedtuple(\"Card\", (\"rank\", \"suit\"))\n",
    "c = Card(\"2\", \"heart\")\n",
    "\n",
    "ranks = [str(i) for i in range(2, 11)] + list(\"JQKA\")\n",
    "ranks\n",
    "\n",
    "suits = [\"spade\", \"heart\", \"diamond\", \"clubs\"]\n",
    "suits = suits[::-1]\n",
    "\n",
    "poker = [Card(r, s) for r in ranks for s in suits]\n",
    "# print(poker)\n",
    "def pv(card):\n",
    "    return ranks.index(card.rank)*len(suits) + suits.index(card.suit)\n",
    "sorted(poker, key=pv)"
   ]
  },
  {
   "cell_type": "code",
   "execution_count": 42,
   "metadata": {},
   "outputs": [
    {
     "data": {
      "text/plain": [
       "[Card(rank='5', suit='clubs'),\n",
       " Card(rank='9', suit='clubs'),\n",
       " Card(rank='Q', suit='clubs'),\n",
       " Card(rank='A', suit='spade'),\n",
       " Card(rank='Q', suit='diamond'),\n",
       " Card(rank='9', suit='heart'),\n",
       " Card(rank='10', suit='heart'),\n",
       " Card(rank='J', suit='diamond'),\n",
       " Card(rank='2', suit='diamond'),\n",
       " Card(rank='4', suit='clubs'),\n",
       " Card(rank='10', suit='clubs'),\n",
       " Card(rank='7', suit='clubs'),\n",
       " Card(rank='4', suit='diamond'),\n",
       " Card(rank='4', suit='heart'),\n",
       " Card(rank='10', suit='diamond'),\n",
       " Card(rank='A', suit='heart'),\n",
       " Card(rank='10', suit='spade')]"
      ]
     },
     "execution_count": 42,
     "metadata": {},
     "output_type": "execute_result"
    }
   ],
   "source": [
    "random.shuffle(poker)\n",
    "poker\n",
    "random.sample(poker, k=17)"
   ]
  },
  {
   "cell_type": "code",
   "execution_count": 43,
   "metadata": {},
   "outputs": [
    {
     "name": "stdout",
     "output_type": "stream",
     "text": [
      "['__add__', '__bool__', '__class__', '__class_getitem__', '__contains__', '__copy__', '__delattr__', '__delitem__', '__dir__', '__doc__', '__eq__', '__format__', '__ge__', '__getattribute__', '__getitem__', '__gt__', '__hash__', '__iadd__', '__imul__', '__init__', '__init_subclass__', '__iter__', '__le__', '__len__', '__lt__', '__mul__', '__ne__', '__new__', '__reduce__', '__reduce_ex__', '__repr__', '__reversed__', '__rmul__', '__setattr__', '__setitem__', '__sizeof__', '__str__', '__subclasshook__', 'append', 'appendleft', 'clear', 'copy', 'count', 'extend', 'extendleft', 'index', 'insert', 'maxlen', 'pop', 'popleft', 'remove', 'reverse', 'rotate']\n"
     ]
    }
   ],
   "source": [
    "#队列 queue\n",
    "from collections import deque\n",
    "\n",
    "d = deque([1,2,3,5])\n",
    "d.append(10)\n",
    "d.appendleft(10)\n",
    "print(dir(d))"
   ]
  },
  {
   "cell_type": "code",
   "execution_count": 44,
   "metadata": {},
   "outputs": [
    {
     "data": {
      "text/plain": [
       "array('f', [1.401298464324817e-45, 2.802596928649634e-45, 4.203895392974451e-45, 7.006492321624085e-45])"
      ]
     },
     "execution_count": 44,
     "metadata": {},
     "output_type": "execute_result"
    }
   ],
   "source": [
    "#数组 array\n",
    "from array import array\n",
    "\n",
    "a = array(\"i\", [1,2,3,5])\n",
    "a.tobytes()\n",
    "b = array(\"f\")\n",
    "b.frombytes(a.tobytes())\n",
    "b"
   ]
  },
  {
   "cell_type": "markdown",
   "metadata": {},
   "source": [
    "#### 2.映射数据结构"
   ]
  },
  {
   "cell_type": "code",
   "execution_count": 45,
   "metadata": {},
   "outputs": [],
   "source": [
    "#字典  dict\n",
    "\n",
    "d = dict({1:2, 2:3})\n",
    "d = dict([(1,2), (3,4)])\n"
   ]
  },
  {
   "cell_type": "code",
   "execution_count": 46,
   "metadata": {},
   "outputs": [
    {
     "data": {
      "text/plain": [
       "{0: 10, 1: 11, 2: 12, 3: 13, 4: 14, 5: 15, 6: 16, 7: 17, 8: 18, 9: 19}"
      ]
     },
     "execution_count": 46,
     "metadata": {},
     "output_type": "execute_result"
    }
   ],
   "source": [
    "d.keys(),d.values(), d.items()\n",
    "d = dict(zip(range(10), range(10,20)))\n",
    "d"
   ]
  },
  {
   "cell_type": "code",
   "execution_count": 47,
   "metadata": {},
   "outputs": [],
   "source": [
    "d[2]\n",
    "del d[2]\n",
    "d[2] = 100"
   ]
  },
  {
   "cell_type": "code",
   "execution_count": 48,
   "metadata": {},
   "outputs": [],
   "source": [
    "if 100 in d.keys():\n",
    "    d[100]\n",
    "\n",
    "if 100 in d:\n",
    "    d[100]"
   ]
  },
  {
   "cell_type": "code",
   "execution_count": 49,
   "metadata": {},
   "outputs": [
    {
     "name": "stdout",
     "output_type": "stream",
     "text": [
      "0 10\n",
      "1 11\n",
      "3 13\n",
      "4 14\n",
      "5 15\n",
      "6 16\n",
      "7 17\n",
      "8 18\n",
      "9 19\n",
      "2 100\n"
     ]
    }
   ],
   "source": [
    "for key in d:\n",
    "    print(key, d[key])"
   ]
  },
  {
   "cell_type": "code",
   "execution_count": 50,
   "metadata": {},
   "outputs": [
    {
     "name": "stdout",
     "output_type": "stream",
     "text": [
      "0 10\n",
      "1 11\n",
      "3 13\n",
      "4 14\n",
      "5 15\n",
      "6 16\n",
      "7 17\n",
      "8 18\n",
      "9 19\n",
      "2 100\n"
     ]
    }
   ],
   "source": [
    "for k, v in d.items():\n",
    "    print(k, v)"
   ]
  },
  {
   "cell_type": "code",
   "execution_count": 51,
   "metadata": {},
   "outputs": [
    {
     "data": {
      "text/plain": [
       "[(2, 100),\n",
       " (9, 19),\n",
       " (8, 18),\n",
       " (7, 17),\n",
       " (6, 16),\n",
       " (5, 15),\n",
       " (4, 14),\n",
       " (3, 13),\n",
       " (1, 11),\n",
       " (0, 10)]"
      ]
     },
     "execution_count": 51,
     "metadata": {},
     "output_type": "execute_result"
    }
   ],
   "source": [
    "sorted(d.items())\n",
    "\n",
    "def val(t):\n",
    "    return t[1]\n",
    "\n",
    "sorted(d.items(), key=val, reverse=True)"
   ]
  },
  {
   "cell_type": "code",
   "execution_count": 52,
   "metadata": {},
   "outputs": [
    {
     "name": "stdout",
     "output_type": "stream",
     "text": [
      "['__class__', '__class_getitem__', '__contains__', '__delattr__', '__delitem__', '__dir__', '__doc__', '__eq__', '__format__', '__ge__', '__getattribute__', '__getitem__', '__gt__', '__hash__', '__init__', '__init_subclass__', '__ior__', '__iter__', '__le__', '__len__', '__lt__', '__ne__', '__new__', '__or__', '__reduce__', '__reduce_ex__', '__repr__', '__reversed__', '__ror__', '__setattr__', '__setitem__', '__sizeof__', '__str__', '__subclasshook__', 'clear', 'copy', 'fromkeys', 'get', 'items', 'keys', 'pop', 'popitem', 'setdefault', 'update', 'values']\n"
     ]
    }
   ],
   "source": [
    "print(dir(d))"
   ]
  },
  {
   "cell_type": "code",
   "execution_count": 53,
   "metadata": {},
   "outputs": [
    {
     "data": {
      "text/plain": [
       "False"
      ]
     },
     "execution_count": 53,
     "metadata": {},
     "output_type": "execute_result"
    }
   ],
   "source": [
    "#有序字典 ordereddict\n",
    "from collections import OrderedDict\n",
    "\n",
    "od = OrderedDict([(1,2), (3,4), (5,6)])\n",
    "od\n",
    "odn = OrderedDict([ (3,4), (1,2),(5,6)])\n",
    "odn\n",
    "\n",
    "od == odn\n"
   ]
  },
  {
   "cell_type": "code",
   "execution_count": 54,
   "metadata": {},
   "outputs": [
    {
     "data": {
      "text/plain": [
       "'N/A'"
      ]
     },
     "execution_count": 54,
     "metadata": {},
     "output_type": "execute_result"
    }
   ],
   "source": [
    "#默认字典 defaultdict\n",
    "from collections import defaultdict\n",
    "\n",
    "d = {1:100}\n",
    "# d[2]\n",
    "def genval():\n",
    "    return \"N/A\"\n",
    "\n",
    "d = defaultdict(genval)\n",
    "d[1] = 100\n",
    "d[2]"
   ]
  },
  {
   "cell_type": "code",
   "execution_count": 55,
   "metadata": {},
   "outputs": [
    {
     "data": {
      "text/plain": [
       "defaultdict(<function __main__.genval()>, {1: 100, 2: 'N/A'})"
      ]
     },
     "execution_count": 55,
     "metadata": {},
     "output_type": "execute_result"
    }
   ],
   "source": [
    "d\n"
   ]
  },
  {
   "cell_type": "code",
   "execution_count": 56,
   "metadata": {},
   "outputs": [
    {
     "data": {
      "text/plain": [
       "ChainMap({1: 2, 2: 3, 3: 100}, {3: 4, 4: 5})"
      ]
     },
     "execution_count": 56,
     "metadata": {},
     "output_type": "execute_result"
    }
   ],
   "source": [
    "#映射链 ChainMap\n",
    "from collections import ChainMap\n",
    "\n",
    "d1 = {1:2, 2:3}\n",
    "d2 = {3:4, 4:5}\n",
    "d1, d2\n",
    "\n",
    "d = ChainMap(d1,d2)\n",
    "d\n",
    "d[3]\n",
    "\n",
    "d[3] = 100\n",
    "d"
   ]
  },
  {
   "cell_type": "code",
   "execution_count": 57,
   "metadata": {},
   "outputs": [
    {
     "data": {
      "text/plain": [
       "1234"
      ]
     },
     "execution_count": 57,
     "metadata": {},
     "output_type": "execute_result"
    }
   ],
   "source": [
    "d = dict([(str(i), i) for i in range(10)])\n",
    "d\n",
    "n = \"1234\"\n",
    "int(n)\n",
    "\n",
    "res = 0\n",
    "for c in list(n):\n",
    "    res = res*10+d[c]\n",
    "res"
   ]
  },
  {
   "cell_type": "markdown",
   "metadata": {},
   "source": [
    "#### 3.集合数据结构"
   ]
  },
  {
   "cell_type": "code",
   "execution_count": 58,
   "metadata": {},
   "outputs": [
    {
     "data": {
      "text/plain": [
       "[1, 2, 3, 4, 6, 7, 7, 3, 2, 1, 2]"
      ]
     },
     "execution_count": 58,
     "metadata": {},
     "output_type": "execute_result"
    }
   ],
   "source": [
    "#集合 set\n",
    "\n",
    "s = {1,2,3,4,1,2,4,4}\n",
    "s\n",
    "l = [1,2,3,4,6,7,7,3,2,1,2]\n",
    "# l = list(set(l))\n",
    "l"
   ]
  },
  {
   "cell_type": "code",
   "execution_count": 59,
   "metadata": {},
   "outputs": [
    {
     "name": "stdout",
     "output_type": "stream",
     "text": [
      "1 2\n",
      "2 3\n",
      "3 2\n",
      "4 1\n",
      "6 1\n",
      "7 2\n"
     ]
    }
   ],
   "source": [
    "for i in set(l):\n",
    "    print(i, l.count(i))"
   ]
  },
  {
   "cell_type": "code",
   "execution_count": 60,
   "metadata": {},
   "outputs": [
    {
     "name": "stdout",
     "output_type": "stream",
     "text": [
      "['__and__', '__class__', '__class_getitem__', '__contains__', '__delattr__', '__dir__', '__doc__', '__eq__', '__format__', '__ge__', '__getattribute__', '__gt__', '__hash__', '__iand__', '__init__', '__init_subclass__', '__ior__', '__isub__', '__iter__', '__ixor__', '__le__', '__len__', '__lt__', '__ne__', '__new__', '__or__', '__rand__', '__reduce__', '__reduce_ex__', '__repr__', '__ror__', '__rsub__', '__rxor__', '__setattr__', '__sizeof__', '__str__', '__sub__', '__subclasshook__', '__xor__', 'add', 'clear', 'copy', 'difference', 'difference_update', 'discard', 'intersection', 'intersection_update', 'isdisjoint', 'issubset', 'issuperset', 'pop', 'remove', 'symmetric_difference', 'symmetric_difference_update', 'union', 'update']\n"
     ]
    }
   ],
   "source": [
    "print(dir(s))"
   ]
  },
  {
   "cell_type": "code",
   "execution_count": 61,
   "metadata": {},
   "outputs": [
    {
     "data": {
      "text/plain": [
       "{1, 2}"
      ]
     },
     "execution_count": 61,
     "metadata": {},
     "output_type": "execute_result"
    }
   ],
   "source": [
    "s1 = {1,2,3,4}\n",
    "s2 = {3,4,5,6}\n",
    "# s1.intersection(s2)\n",
    "s1 & s2, s2|s1\n",
    "\n",
    "s1|s2 - s1&s2\n",
    "\n",
    "s1 - s2"
   ]
  },
  {
   "cell_type": "code",
   "execution_count": 62,
   "metadata": {},
   "outputs": [
    {
     "data": {
      "text/plain": [
       "{frozenset({'a', 'b'}): 100}"
      ]
     },
     "execution_count": 62,
     "metadata": {},
     "output_type": "execute_result"
    }
   ],
   "source": [
    "#不可变集合 frozenset\n",
    "sn = frozenset({\"a\",\"b\"})\n",
    "# print(dir(sn))\n",
    "\n",
    "d = {sn:100}\n",
    "d"
   ]
  },
  {
   "cell_type": "code",
   "execution_count": 63,
   "metadata": {},
   "outputs": [
    {
     "data": {
      "text/plain": [
       "Counter({1: 2, 2: 2, 3: 2, 4: 1, 6: 1, 7: 1})"
      ]
     },
     "execution_count": 63,
     "metadata": {},
     "output_type": "execute_result"
    }
   ],
   "source": [
    "#多重集合 Counter\n",
    "from collections import Counter\n",
    "\n",
    "c = Counter([1,2,3,4,6,7,7,3,2,1,2])\n",
    "c\n",
    "\n",
    "c = Counter({1,2,3,4,6,7,7,3,2,1,2})\n",
    "c.update([1,2,3])\n",
    "c"
   ]
  }
 ],
 "metadata": {
  "kernelspec": {
   "display_name": "Python 3.10.6 64-bit",
   "language": "python",
   "name": "python3"
  },
  "language_info": {
   "codemirror_mode": {
    "name": "ipython",
    "version": 3
   },
   "file_extension": ".py",
   "mimetype": "text/x-python",
   "name": "python",
   "nbconvert_exporter": "python",
   "pygments_lexer": "ipython3",
   "version": "3.10.6 (tags/v3.10.6:9c7b4bd, Aug  1 2022, 21:53:49) [MSC v.1932 64 bit (AMD64)]"
  },
  "orig_nbformat": 4,
  "vscode": {
   "interpreter": {
    "hash": "ed4cccc5cc02f3fdc2d6faa9ad2d9c225cf2e2cb7eda9eb3163a17a7f943c2e9"
   }
  }
 },
 "nbformat": 4,
 "nbformat_minor": 2
}
